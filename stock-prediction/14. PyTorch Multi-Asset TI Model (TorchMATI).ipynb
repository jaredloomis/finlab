{
 "cells": [
  {
   "cell_type": "code",
   "execution_count": 1,
   "id": "74935c6b",
   "metadata": {},
   "outputs": [],
   "source": [
    "import numpy as np\n",
    "import pandas as pd\n",
    "import matplotlib.pyplot as plt\n",
    "import random\n",
    "\n",
    "# Suppress ta warnings\n",
    "import warnings\n",
    "warnings.filterwarnings(\"ignore\")\n",
    "\n",
    "# Auto reload local files\n",
    "%load_ext autoreload\n",
    "%reload_ext autoreload\n",
    "%autoreload 2\n",
    "# Make files in src/ available to notebook\n",
    "import sys\n",
    "if 'src' not in sys.path:\n",
    "    sys.path.insert(0, 'src')"
   ]
  },
  {
   "cell_type": "code",
   "execution_count": 2,
   "id": "f7e44208",
   "metadata": {},
   "outputs": [
    {
     "name": "stdout",
     "output_type": "stream",
     "text": [
      "Exception on XLNX:\n",
      "'high'\n",
      "Exception on WLTW:\n",
      "'high'\n",
      "Exception on VIAC:\n",
      "'high'\n",
      "Exception on OGN:\n",
      "Found array with 0 sample(s) (shape=(0, 58)) while a minimum of 1 is required by StandardScaler.\n",
      "Exception on BF.B:\n",
      "'high'\n",
      "Exception on BRK.B:\n",
      "'high'\n",
      "Exception on PBCT:\n",
      "'high'\n",
      "Exception on DISCA:\n",
      "'high'\n",
      "Exception on INFO:\n",
      "'high'\n",
      "Exception on KSU:\n",
      "'high'\n",
      "Exception on DISCK:\n",
      "'high'\n"
     ]
    }
   ],
   "source": [
    "# Load the data\n",
    "from sklearn.model_selection import train_test_split\n",
    "\n",
    "import datastore as ds\n",
    "from technical_signals import TechnicalSignalSet\n",
    "\n",
    "spy_constituents = list(pd.read_csv('../../data/spy_constituents.csv', header=0)['Symbol'])\n",
    "random.shuffle(spy_constituents)\n",
    "\n",
    "tickers = spy_constituents\n",
    "start_date = \"2000-01-01\"\n",
    "end_date = \"2025-01-01\"\n",
    "predict_window = 14\n",
    "\n",
    "#ds.download_daily_candlesticks(tickers, start_date, end_date)\n",
    "candlesticks = ds.get_daily_candlesticks(tickers, start_date, end_date)\n",
    "\n",
    "Xs = []\n",
    "ys = []\n",
    "\n",
    "for ticker in tickers:\n",
    "    try:\n",
    "        technical_sigs = TechnicalSignalSet(candlesticks[ticker], predict_window)\n",
    "        X, y, Xy_date = technical_sigs.to_xy()\n",
    "        Xs.append(X)\n",
    "        ys.append(y)\n",
    "    except Exception as ex:\n",
    "        print(f\"Exception on {ticker}:\")\n",
    "        print(ex)\n",
    "\n",
    "X = np.concatenate(Xs, axis=0)\n",
    "y = np.concatenate(ys, axis=0)\n",
    "\n",
    "X_train, X_test, y_train, y_test = train_test_split(X, y, test_size=0.1)"
   ]
  },
  {
   "cell_type": "code",
   "execution_count": 3,
   "id": "7c319093",
   "metadata": {},
   "outputs": [
    {
     "name": "stdout",
     "output_type": "stream",
     "text": [
      "torch.Size([2056208, 58])\n",
      "Batch size: 894\n"
     ]
    },
    {
     "data": {
      "text/plain": [
       "9"
      ]
     },
     "execution_count": 3,
     "metadata": {},
     "output_type": "execute_result"
    }
   ],
   "source": [
    "import torch\n",
    "import torch.nn as nn\n",
    "import torch.nn.functional as F\n",
    "from torch.utils.data import DataLoader, TensorDataset\n",
    "import gc\n",
    "\n",
    "\n",
    "def round_batch_size(sample_count, approximately, leeway=None):\n",
    "    \"\"\"\n",
    "    Round batch size to a more suitable value. This helps to avoid a\n",
    "    problem where the final batch has a lot of samples, but not enough for\n",
    "    a full batch, leading to many samples being thrown out.\n",
    "\n",
    "    approximately: int, leeway: int\n",
    "      decide on a chunk size around a number, with specified leeway\n",
    "      (leeway defaults to `approximately // 10`).\n",
    "    \"\"\"\n",
    "    if leeway is None:\n",
    "        leeway = approximately // 10\n",
    "    \n",
    "    # Get the number of leftover samples if we use the suggested batch size\n",
    "    best_leftover = sample_count - np.floor(sample_count / approximately) * approximately\n",
    "\n",
    "    # Brute-force search for the value that yeilds the fewest leftovers\n",
    "    # within the given leeway range.\n",
    "    best_chunk_count = approximately\n",
    "    for offset in range(-leeway, leeway):\n",
    "        chunk_size = approximately + offset\n",
    "        leftover = sample_count - np.floor(sample_count / chunk_size) * chunk_size\n",
    "        if leftover < best_leftover:\n",
    "            best_leftover = leftover\n",
    "            best_chunk_count = chunk_size\n",
    "    return best_chunk_count\n",
    "            \n",
    "\n",
    "batch_size = round_batch_size(X_train.shape[0], 1024, leeway=200)\n",
    "n_features = X_train.shape[1]\n",
    "\n",
    "# Convert X, y to torch tensors\n",
    "X_train_tensor = torch.from_numpy(X_train).float()\n",
    "X_test_tensor = torch.from_numpy(X_test).float()\n",
    "y_train_tensor = torch.from_numpy(y_train.reshape(y_train.shape[0], 1)).float()\n",
    "y_test_tensor = torch.from_numpy(y_test.reshape(y_test.shape[0], 1)).float()\n",
    "\n",
    "print(X_train_tensor.shape)\n",
    "print('Batch size:', batch_size)\n",
    "\n",
    "# Generators\n",
    "training_set = TensorDataset(X_train_tensor, y_train_tensor)\n",
    "dataloader_train = DataLoader(training_set, shuffle=True, batch_size=batch_size)\n",
    "\n",
    "validation_set = TensorDataset(X_test_tensor, y_test_tensor)\n",
    "dataloader_test = DataLoader(validation_set, shuffle=True, batch_size=batch_size)\n",
    "\n",
    "# Release duplicated memory\n",
    "try:\n",
    "    del X\n",
    "    del y\n",
    "    del Xs\n",
    "    del ys\n",
    "    #del X_train\n",
    "    #del X_test\n",
    "    #del y_train\n",
    "    #del y_test\n",
    "    del X_train_tensor\n",
    "    del X_test_tensor\n",
    "    del y_train_tensor\n",
    "    del y_test_tensor\n",
    "except:\n",
    "    pass\n",
    "gc.collect()"
   ]
  },
  {
   "cell_type": "code",
   "execution_count": 4,
   "id": "35154ad4",
   "metadata": {},
   "outputs": [],
   "source": [
    "n_outputs = 1\n",
    "\n",
    "net = nn.Sequential(\n",
    "    nn.Linear(n_features, 256),\n",
    "    nn.ReLU(),\n",
    "    nn.Linear(256, 128),\n",
    "    nn.ReLU(),\n",
    "    nn.Linear(128, 32),\n",
    "    nn.ReLU(),\n",
    "    nn.Linear(32, n_outputs),\n",
    ")\n",
    "\n",
    "net = nn.Sequential(\n",
    "    nn.Linear(n_features, 256),\n",
    "    nn.ReLU(),\n",
    "    nn.Linear(256, 128),\n",
    "    nn.ReLU(),\n",
    "    nn.Linear(128, 32),\n",
    "    nn.ReLU(),\n",
    "    nn.Linear(32, 16),\n",
    "    nn.ReLU(),\n",
    "    nn.Linear(16, n_outputs),\n",
    ")"
   ]
  },
  {
   "cell_type": "code",
   "execution_count": 5,
   "id": "9ce603e0",
   "metadata": {
    "scrolled": false
   },
   "outputs": [
    {
     "name": "stdout",
     "output_type": "stream",
     "text": [
      "Wrong train batch size. Skipping batch.\n",
      "Throwing away 8 samples.\n",
      "Epoch 1 \t\t Training Loss: 0.9270472286163025 \t\t Validation Loss: 0.903795407153666\n",
      "Wrong train batch size. Skipping batch.\n",
      "Throwing away 8 samples.\n",
      "Epoch 2 \t\t Training Loss: 0.882083985583775 \t\t Validation Loss: 0.8803346916101873\n",
      "Wrong train batch size. Skipping batch.\n",
      "Throwing away 8 samples.\n",
      "Epoch 3 \t\t Training Loss: 0.8595853082929575 \t\t Validation Loss: 0.8608372155576944\n",
      "Wrong train batch size. Skipping batch.\n",
      "Throwing away 8 samples.\n",
      "Epoch 4 \t\t Training Loss: 0.8427855540803597 \t\t Validation Loss: 0.8477314482443035\n",
      "Wrong train batch size. Skipping batch.\n",
      "Throwing away 8 samples.\n",
      "Epoch 5 \t\t Training Loss: 0.8286942817086191 \t\t Validation Loss: 0.8357432812917978\n",
      "Wrong train batch size. Skipping batch.\n",
      "Throwing away 8 samples.\n",
      "Epoch 6 \t\t Training Loss: 0.8162025558280199 \t\t Validation Loss: 0.8262388051953167\n",
      "Wrong train batch size. Skipping batch.\n",
      "Throwing away 8 samples.\n",
      "Epoch 7 \t\t Training Loss: 0.8061185177384849 \t\t Validation Loss: 0.8229887627530843\n",
      "Wrong train batch size. Skipping batch.\n",
      "Throwing away 8 samples.\n",
      "Epoch 8 \t\t Training Loss: 0.7962073082770539 \t\t Validation Loss: 0.8103535105474293\n",
      "Wrong train batch size. Skipping batch.\n",
      "Throwing away 8 samples.\n",
      "Epoch 9 \t\t Training Loss: 0.7870436916917057 \t\t Validation Loss: 0.804237816715613\n",
      "Wrong train batch size. Skipping batch.\n",
      "Throwing away 8 samples.\n",
      "Epoch 10 \t\t Training Loss: 0.7788475614845727 \t\t Validation Loss: 0.8012846533674747\n"
     ]
    }
   ],
   "source": [
    "device = \"cuda\"\n",
    "\n",
    "# Set device for model\n",
    "net = net.to(device)\n",
    "\n",
    "# Select optimizerand loss criteria\n",
    "criterion = torch.nn.MSELoss() \n",
    "optimizer = torch.optim.Adam(net.parameters(), lr=0.001) \n",
    "\n",
    "# Training the model\n",
    "for epoch in range(100):\n",
    "    train_loss = 0.0\n",
    "    \n",
    "    # Training\n",
    "    net.train()\n",
    "    for local_batch, local_labels in dataloader_train:\n",
    "        if local_batch.shape[0] != batch_size:\n",
    "            print(f\"Wrong train batch size. Skipping batch.\\nThrowing away {local_batch.shape[0]} samples.\")\n",
    "            continue\n",
    "        local_batch, local_labels = local_batch.to(device), local_labels.to(device)\n",
    "        \n",
    "        # Forward pass: Compute predicted y by passing x to the model \n",
    "        y_pred = net(local_batch)\n",
    "        # Compute and print loss \n",
    "        loss = criterion(y_pred, local_labels)\n",
    "        # Zero gradients, perform a backward pass, update the weights. \n",
    "        optimizer.zero_grad() \n",
    "        loss.backward() \n",
    "        optimizer.step() \n",
    "        # Update loss\n",
    "        train_loss += loss.item()\n",
    "\n",
    "    # Validation\n",
    "    net.eval()\n",
    "    valid_loss = 0.0\n",
    "    for data, labels in dataloader_test:\n",
    "        if data.shape[0] != batch_size:\n",
    "            continue\n",
    "        data, labels = data.to(device), labels.to(device)\n",
    "        \n",
    "        target = net(data)\n",
    "        loss = criterion(target,labels)\n",
    "        valid_loss += loss.item()\n",
    "\n",
    "    print(f'Epoch {epoch+1} \\t\\t Training Loss: {train_loss / len(dataloader_train)} \\t\\t Validation Loss: {valid_loss / len(dataloader_test)}')"
   ]
  },
  {
   "cell_type": "code",
   "execution_count": 10,
   "id": "2b1efc51",
   "metadata": {
    "scrolled": false
   },
   "outputs": [
    {
     "name": "stdout",
     "output_type": "stream",
     "text": [
      "Ticker: T\n",
      "135 buy/sells performed - 2.3696682464454977% of the time\n",
      "Stock price change: -29.15129021521944%\n",
      "Total gain/loss: -0.4927335739135742%\n",
      "ROI: -2.6552148248521212%\n",
      "{'cash': 8954.676609039307, 'assets': 55, 'latest_price': 18.110000610351562, 'total_value': 9950.726642608643, 'roi': -0.02655214824852121}\n"
     ]
    },
    {
     "data": {
      "image/png": "[encoded data removed]",
      "text/plain": [
       "<Figure size 432x288 with 1 Axes>"
      ]
     },
     "metadata": {
      "needs_background": "light"
     },
     "output_type": "display_data"
    },
    {
     "data": {
      "image/png": "[encoded data removed]",
      "text/plain": [
       "<Figure size 432x288 with 1 Axes>"
      ]
     },
     "metadata": {
      "needs_background": "light"
     },
     "output_type": "display_data"
    },
    {
     "data": {
      "image/png": "[encoded data removed]",
      "text/plain": [
       "<Figure size 432x288 with 1 Axes>"
      ]
     },
     "metadata": {
      "needs_background": "light"
     },
     "output_type": "display_data"
    },
    {
     "data": {
      "text/plain": [
       "{'average_gainloss': -49.27335739135742,\n",
       " 'results': {'T': {'cash': 8954.676609039307,\n",
       "   'assets': 55,\n",
       "   'latest_price': 18.110000610351562,\n",
       "   'total_value': 9950.726642608643,\n",
       "   'roi': -0.02655214824852121}}}"
      ]
     },
     "execution_count": 10,
     "metadata": {},
     "output_type": "execute_result"
    }
   ],
   "source": [
    "import backtest as bt\n",
    "from strategy import PretrainedModelStrategy, SignalModelStrategy\n",
    "from technical_signals import TechnicalSignalSet\n",
    "from sklearn.svm import SVR\n",
    "\n",
    "random.shuffle(spy_constituents)\n",
    "\n",
    "# XXX temporary - need to rework concurrency to be suitable for PyTorch\n",
    "net = net.to('cpu')\n",
    "\n",
    "def predict(X):\n",
    "    return net(torch.from_numpy(X).float()).detach().numpy()\n",
    "def df_to_signal_set(df):\n",
    "    return TechnicalSignalSet(df, predict_window=predict_window)\n",
    "strategy = PretrainedModelStrategy(predict, df_to_signal_set, cutoff=0.8, bias=0.2)\n",
    "#strategy = SignalModelStrategy(SVR(), lambda df: TechnicalSignalSet(df, predict_window=14), cutoff=1., bias=0.1)\n",
    "bt.comprehensive_backtest(strategy, spy_constituents[-1:], \"2000-01-01\", \"2025-01-01\", plot=True, train_test_ratio=0.3)"
   ]
  },
  {
   "cell_type": "code",
   "execution_count": 7,
   "id": "ba68d7f0",
   "metadata": {},
   "outputs": [
    {
     "data": {
      "text/plain": [
       "319"
      ]
     },
     "execution_count": 7,
     "metadata": {},
     "output_type": "execute_result"
    }
   ],
   "source": [
    "import gc\n",
    "gc.collect()"
   ]
  },
  {
   "cell_type": "code",
   "execution_count": null,
   "id": "43ec647c",
   "metadata": {},
   "outputs": [],
   "source": []
  }
 ],
 "metadata": {
  "kernelspec": {
   "display_name": "Python 3 (ipykernel)",
   "language": "python",
   "name": "python3"
  },
  "language_info": {
   "codemirror_mode": {
    "name": "ipython",
    "version": 3
   },
   "file_extension": ".py",
   "mimetype": "text/x-python",
   "name": "python",
   "nbconvert_exporter": "python",
   "pygments_lexer": "ipython3",
   "version": "3.10.5"
  }
 },
 "nbformat": 4,
 "nbformat_minor": 5
}
