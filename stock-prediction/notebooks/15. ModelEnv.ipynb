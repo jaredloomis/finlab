{
 "cells": [
  {
   "cell_type": "code",
   "execution_count": 4,
   "id": "361f4b22",
   "metadata": {},
   "outputs": [
    {
     "name": "stdout",
     "output_type": "stream",
     "text": [
      "The autoreload extension is already loaded. To reload it, use:\n",
      "  %reload_ext autoreload\n"
     ]
    },
    {
     "ename": "TypeError",
     "evalue": "ModelEnv.from_model() missing 2 required positional arguments: 'X_scaler' and 'y_scaler'",
     "output_type": "error",
     "traceback": [
      "\u001b[0;31m---------------------------------------------------------------------------\u001b[0m",
      "\u001b[0;31mTypeError\u001b[0m                                 Traceback (most recent call last)",
      "Input \u001b[0;32mIn [4]\u001b[0m, in \u001b[0;36m<cell line: 50>\u001b[0;34m()\u001b[0m\n\u001b[1;32m     47\u001b[0m model \u001b[38;5;241m=\u001b[39m PredictiveModel(net, \u001b[38;5;124m\"\u001b[39m\u001b[38;5;124mTorchMATI-300epoch-standardscaler\u001b[39m\u001b[38;5;124m\"\u001b[39m, predict_window, datetime\u001b[38;5;241m.\u001b[39mnow())\n\u001b[1;32m     48\u001b[0m model\u001b[38;5;241m.\u001b[39msave()\n\u001b[0;32m---> 50\u001b[0m model_env \u001b[38;5;241m=\u001b[39m \u001b[43mModelEnv\u001b[49m\u001b[38;5;241;43m.\u001b[39;49m\u001b[43mfrom_model\u001b[49m\u001b[43m(\u001b[49m\u001b[43mmodel\u001b[49m\u001b[43m,\u001b[49m\u001b[43m \u001b[49m\u001b[38;5;124;43m'\u001b[39;49m\u001b[38;5;124;43mMy First Test\u001b[39;49m\u001b[38;5;124;43m'\u001b[39;49m\u001b[43m,\u001b[49m\u001b[43m \u001b[49m\u001b[43m[\u001b[49m\u001b[43m{\u001b[49m\u001b[38;5;124;43m'\u001b[39;49m\u001b[38;5;124;43mid\u001b[39;49m\u001b[38;5;124;43m'\u001b[39;49m\u001b[43m:\u001b[49m\u001b[43m \u001b[49m\u001b[38;5;124;43m'\u001b[39;49m\u001b[38;5;124;43mrsi\u001b[39;49m\u001b[38;5;124;43m'\u001b[39;49m\u001b[43m}\u001b[49m\u001b[43m]\u001b[49m\u001b[43m,\u001b[49m\u001b[43m \u001b[49m\u001b[43mmodel_code\u001b[49m\u001b[38;5;241;43m=\u001b[39;49m\u001b[38;5;124;43mf\u001b[39;49m\u001b[38;5;124;43m\"\"\"\u001b[39;49m\n\u001b[1;32m     51\u001b[0m \u001b[38;5;124;43mimport torch.nn as nn\u001b[39;49m\n\u001b[1;32m     52\u001b[0m \n\u001b[1;32m     53\u001b[0m \u001b[38;5;124;43mmodel = nn.Sequential(\u001b[39;49m\n\u001b[1;32m     54\u001b[0m \u001b[38;5;124;43m    nn.Linear(\u001b[39;49m\u001b[38;5;132;43;01m{\u001b[39;49;00m\u001b[43mn_features\u001b[49m\u001b[38;5;132;43;01m}\u001b[39;49;00m\u001b[38;5;124;43m, 256),\u001b[39;49m\n\u001b[1;32m     55\u001b[0m \u001b[38;5;124;43m    nn.ReLU(),\u001b[39;49m\n\u001b[1;32m     56\u001b[0m \u001b[38;5;124;43m    nn.Linear(256, 128),\u001b[39;49m\n\u001b[1;32m     57\u001b[0m \u001b[38;5;124;43m    nn.ReLU(),\u001b[39;49m\n\u001b[1;32m     58\u001b[0m \u001b[38;5;124;43m    nn.Linear(128, 32),\u001b[39;49m\n\u001b[1;32m     59\u001b[0m \u001b[38;5;124;43m    nn.ReLU(),\u001b[39;49m\n\u001b[1;32m     60\u001b[0m \u001b[38;5;124;43m    nn.Linear(32, 16),\u001b[39;49m\n\u001b[1;32m     61\u001b[0m \u001b[38;5;124;43m    nn.ReLU(),\u001b[39;49m\n\u001b[1;32m     62\u001b[0m \u001b[38;5;124;43m    nn.Linear(16, 8),\u001b[39;49m\n\u001b[1;32m     63\u001b[0m \u001b[38;5;124;43m    nn.ReLU(),\u001b[39;49m\n\u001b[1;32m     64\u001b[0m \u001b[38;5;124;43m    nn.Linear(8, 1),\u001b[39;49m\n\u001b[1;32m     65\u001b[0m \u001b[38;5;124;43m)\u001b[39;49m\n\u001b[1;32m     66\u001b[0m \u001b[38;5;124;43m\"\"\"\u001b[39;49m\u001b[43m)\u001b[49m\n\u001b[1;32m     68\u001b[0m ds\u001b[38;5;241m.\u001b[39msave_model_envs([model_env])\n",
      "\u001b[0;31mTypeError\u001b[0m: ModelEnv.from_model() missing 2 required positional arguments: 'X_scaler' and 'y_scaler'"
     ]
    }
   ],
   "source": [
    "import numpy as np\n",
    "import pandas as pd\n",
    "import matplotlib.pyplot as plt\n",
    "import random\n",
    "import torch\n",
    "import torch.nn as nn\n",
    "import torch.nn.functional as F\n",
    "from torch.utils.data import DataLoader, TensorDataset\n",
    "\n",
    "# Auto reload local files\n",
    "%load_ext autoreload\n",
    "%reload_ext autoreload\n",
    "%autoreload 2\n",
    "# Make files in src/ available to notebook\n",
    "import sys\n",
    "if 'src' not in sys.path:\n",
    "    sys.path.insert(0, '../src')\n",
    "\n",
    "from predictive_model import PredictiveModel\n",
    "from datetime import datetime\n",
    "from model_env import ModelEnv\n",
    "\n",
    "predict_window = 14\n",
    "\n",
    "n_features = 58\n",
    "n_outputs = 1\n",
    "\n",
    "net = nn.Sequential(\n",
    "    nn.Linear(n_features, 256),\n",
    "    nn.ReLU(),\n",
    "    nn.Linear(256, 128),\n",
    "    nn.ReLU(),\n",
    "    nn.Linear(128, 32),\n",
    "    nn.ReLU(),\n",
    "    nn.Linear(32, 16),\n",
    "    nn.ReLU(),\n",
    "    nn.Linear(16, 8),\n",
    "    nn.ReLU(),\n",
    "    nn.Linear(8, n_outputs),\n",
    ")\n",
    "\n",
    "# Train\n",
    "\n",
    "net = net.to(torch.device('cpu'))\n",
    "\n",
    "def df_to_signal_set(df):\n",
    "    return TechnicalSignalSet(df, predict_window=predict_window)\n",
    "\n",
    "model = PredictiveModel(net, \"dummy\", predict_window, datetime.now())\n",
    "model.save()\n",
    "\n",
    "model_env = ModelEnv.from_model(model, 'My First Test', [{'id': 'rsi'}], model_code=f\"\"\"\n",
    "import torch.nn as nn\n",
    "\n",
    "model = nn.Sequential(\n",
    "    nn.Linear({n_features}, 256),\n",
    "    nn.ReLU(),\n",
    "    nn.Linear(256, 128),\n",
    "    nn.ReLU(),\n",
    "    nn.Linear(128, 32),\n",
    "    nn.ReLU(),\n",
    "    nn.Linear(32, 16),\n",
    "    nn.ReLU(),\n",
    "    nn.Linear(16, 8),\n",
    "    nn.ReLU(),\n",
    "    nn.Linear(8, 1),\n",
    ")\n",
    "\"\"\")\n",
    "\n",
    "ds.save_model_envs([model_env])"
   ]
  },
  {
   "cell_type": "code",
   "execution_count": null,
   "id": "cb968873",
   "metadata": {},
   "outputs": [],
   "source": []
  }
 ],
 "metadata": {
  "kernelspec": {
   "display_name": "Python 3 (ipykernel)",
   "language": "python",
   "name": "python3"
  },
  "language_info": {
   "codemirror_mode": {
    "name": "ipython",
    "version": 3
   },
   "file_extension": ".py",
   "mimetype": "text/x-python",
   "name": "python",
   "nbconvert_exporter": "python",
   "pygments_lexer": "ipython3",
   "version": "3.10.5"
  }
 },
 "nbformat": 4,
 "nbformat_minor": 5
}
