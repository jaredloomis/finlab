{
 "cells": [
  {
   "cell_type": "code",
   "execution_count": 1,
   "id": "13e7e1e7",
   "metadata": {},
   "outputs": [],
   "source": [
    "# Auto reload local files\n",
    "%load_ext autoreload\n",
    "%reload_ext autoreload\n",
    "%autoreload 2\n",
    "# Make files in src/ available to notebook\n",
    "import sys\n",
    "if '../src' not in sys.path:\n",
    "    sys.path.insert(0, '../src')\n",
    "\n",
    "import numpy as np\n",
    "import pandas as pd\n",
    "import matplotlib.pyplot as plt\n",
    "import random\n",
    "\n",
    "from sklearn.model_selection import train_test_split\n",
    "\n",
    "# Suppress ta warnings\n",
    "import warnings\n",
    "warnings.filterwarnings(\"ignore\")\n",
    "\n",
    "import datastore as ds\n",
    "from technical_signals import TechnicalSignalSet\n",
    "import util"
   ]
  },
  {
   "cell_type": "markdown",
   "id": "8e85221c",
   "metadata": {},
   "source": [
    "## Configuration"
   ]
  },
  {
   "cell_type": "code",
   "execution_count": 2,
   "id": "7071e910",
   "metadata": {},
   "outputs": [],
   "source": [
    "# Read SPY csv, define config\n",
    "watchlist = list(pd.read_csv('../data/watchlist.csv', header=0)['symbol'])\n",
    "spy_constituents = list(pd.read_csv('../../data/spy_constituents.csv', header=0)['Symbol'])\n",
    "all_known_tickers = list(pd.read_csv('../../data/all_known_tickers.csv', header=None)[0])\n",
    "random.shuffle(all_known_tickers)\n",
    "\n",
    "tickers = watchlist + spy_constituents + all_known_tickers[:1000]\n",
    "start_date = \"2000-01-01\"\n",
    "end_date = \"2025-01-01\"\n",
    "predict_window = 14"
   ]
  },
  {
   "cell_type": "markdown",
   "id": "4d341b04",
   "metadata": {},
   "source": [
    "## Download Candlesticks"
   ]
  },
  {
   "cell_type": "code",
   "execution_count": 3,
   "id": "4f0041b5",
   "metadata": {},
   "outputs": [
    {
     "name": "stderr",
     "output_type": "stream",
     "text": [
      "Traceback (most recent call last):\n",
      "  File \"/home/jared/.local/share/virtualenvs/stock-prediction-MOS0QyR2/lib/python3.10/site-packages/pandas_datareader/yahoo/daily.py\", line 153, in _read_one_data\n",
      "    data = j[\"context\"][\"dispatcher\"][\"stores\"][\"HistoricalPriceStore\"]\n",
      "KeyError: 'HistoricalPriceStore'\n",
      "\n",
      "During handling of the above exception, another exception occurred:\n",
      "\n",
      "Traceback (most recent call last):\n",
      "  File \"/home/jared/workspace/market-diff/stock-prediction/notebooks/../src/datastore.py\", line 106, in download_daily_candlesticks\n",
      "    data = pdr.DataReader(\n",
      "  File \"/home/jared/.local/share/virtualenvs/stock-prediction-MOS0QyR2/lib/python3.10/site-packages/pandas/util/_decorators.py\", line 207, in wrapper\n",
      "    return func(*args, **kwargs)\n",
      "  File \"/home/jared/.local/share/virtualenvs/stock-prediction-MOS0QyR2/lib/python3.10/site-packages/pandas_datareader/data.py\", line 379, in DataReader\n",
      "    ).read()\n",
      "  File \"/home/jared/.local/share/virtualenvs/stock-prediction-MOS0QyR2/lib/python3.10/site-packages/pandas_datareader/base.py\", line 253, in read\n",
      "    df = self._read_one_data(self.url, params=self._get_params(self.symbols))\n",
      "  File \"/home/jared/.local/share/virtualenvs/stock-prediction-MOS0QyR2/lib/python3.10/site-packages/pandas_datareader/yahoo/daily.py\", line 156, in _read_one_data\n",
      "    raise RemoteDataError(msg.format(symbol, self.__class__.__name__))\n",
      "pandas_datareader._utils.RemoteDataError: No data fetched for symbol ANTM using YahooDailyReader\n"
     ]
    },
    {
     "name": "stdout",
     "output_type": "stream",
     "text": [
      "Error downloading daily candlesticks for ANTM\n"
     ]
    },
    {
     "name": "stderr",
     "output_type": "stream",
     "text": [
      "Traceback (most recent call last):\n",
      "  File \"/home/jared/.local/share/virtualenvs/stock-prediction-MOS0QyR2/lib/python3.10/site-packages/pandas_datareader/yahoo/daily.py\", line 153, in _read_one_data\n",
      "    data = j[\"context\"][\"dispatcher\"][\"stores\"][\"HistoricalPriceStore\"]\n",
      "KeyError: 'HistoricalPriceStore'\n",
      "\n",
      "During handling of the above exception, another exception occurred:\n",
      "\n",
      "Traceback (most recent call last):\n",
      "  File \"/home/jared/workspace/market-diff/stock-prediction/notebooks/../src/datastore.py\", line 106, in download_daily_candlesticks\n",
      "    data = pdr.DataReader(\n",
      "  File \"/home/jared/.local/share/virtualenvs/stock-prediction-MOS0QyR2/lib/python3.10/site-packages/pandas/util/_decorators.py\", line 207, in wrapper\n",
      "    return func(*args, **kwargs)\n",
      "  File \"/home/jared/.local/share/virtualenvs/stock-prediction-MOS0QyR2/lib/python3.10/site-packages/pandas_datareader/data.py\", line 379, in DataReader\n",
      "    ).read()\n",
      "  File \"/home/jared/.local/share/virtualenvs/stock-prediction-MOS0QyR2/lib/python3.10/site-packages/pandas_datareader/base.py\", line 253, in read\n",
      "    df = self._read_one_data(self.url, params=self._get_params(self.symbols))\n",
      "  File \"/home/jared/.local/share/virtualenvs/stock-prediction-MOS0QyR2/lib/python3.10/site-packages/pandas_datareader/yahoo/daily.py\", line 156, in _read_one_data\n",
      "    raise RemoteDataError(msg.format(symbol, self.__class__.__name__))\n",
      "pandas_datareader._utils.RemoteDataError: No data fetched for symbol BLL using YahooDailyReader\n"
     ]
    },
    {
     "name": "stdout",
     "output_type": "stream",
     "text": [
      "Error downloading daily candlesticks for BLL\n"
     ]
    },
    {
     "name": "stderr",
     "output_type": "stream",
     "text": [
      "Traceback (most recent call last):\n",
      "  File \"/home/jared/.local/share/virtualenvs/stock-prediction-MOS0QyR2/lib/python3.10/site-packages/pandas/core/indexes/base.py\", line 3621, in get_loc\n",
      "    return self._engine.get_loc(casted_key)\n",
      "  File \"pandas/_libs/index.pyx\", line 136, in pandas._libs.index.IndexEngine.get_loc\n",
      "  File \"pandas/_libs/index.pyx\", line 163, in pandas._libs.index.IndexEngine.get_loc\n",
      "  File \"pandas/_libs/hashtable_class_helper.pxi\", line 5198, in pandas._libs.hashtable.PyObjectHashTable.get_item\n",
      "  File \"pandas/_libs/hashtable_class_helper.pxi\", line 5206, in pandas._libs.hashtable.PyObjectHashTable.get_item\n",
      "KeyError: 'Date'\n",
      "\n",
      "The above exception was the direct cause of the following exception:\n",
      "\n",
      "Traceback (most recent call last):\n",
      "  File \"/home/jared/workspace/market-diff/stock-prediction/notebooks/../src/datastore.py\", line 106, in download_daily_candlesticks\n",
      "    data = pdr.DataReader(\n",
      "  File \"/home/jared/.local/share/virtualenvs/stock-prediction-MOS0QyR2/lib/python3.10/site-packages/pandas/util/_decorators.py\", line 207, in wrapper\n",
      "    return func(*args, **kwargs)\n",
      "  File \"/home/jared/.local/share/virtualenvs/stock-prediction-MOS0QyR2/lib/python3.10/site-packages/pandas_datareader/data.py\", line 379, in DataReader\n",
      "    ).read()\n",
      "  File \"/home/jared/.local/share/virtualenvs/stock-prediction-MOS0QyR2/lib/python3.10/site-packages/pandas_datareader/base.py\", line 253, in read\n",
      "    df = self._read_one_data(self.url, params=self._get_params(self.symbols))\n",
      "  File \"/home/jared/.local/share/virtualenvs/stock-prediction-MOS0QyR2/lib/python3.10/site-packages/pandas_datareader/yahoo/daily.py\", line 161, in _read_one_data\n",
      "    prices[\"Date\"] = to_datetime(to_datetime(prices[\"Date\"], unit=\"s\").dt.date)\n",
      "  File \"/home/jared/.local/share/virtualenvs/stock-prediction-MOS0QyR2/lib/python3.10/site-packages/pandas/core/frame.py\", line 3505, in __getitem__\n",
      "    indexer = self.columns.get_loc(key)\n",
      "  File \"/home/jared/.local/share/virtualenvs/stock-prediction-MOS0QyR2/lib/python3.10/site-packages/pandas/core/indexes/base.py\", line 3623, in get_loc\n",
      "    raise KeyError(key) from err\n",
      "KeyError: 'Date'\n"
     ]
    },
    {
     "name": "stdout",
     "output_type": "stream",
     "text": [
      "Error downloading daily candlesticks for BRK.B\n"
     ]
    },
    {
     "name": "stderr",
     "output_type": "stream",
     "text": [
      "Traceback (most recent call last):\n",
      "  File \"/home/jared/.local/share/virtualenvs/stock-prediction-MOS0QyR2/lib/python3.10/site-packages/pandas/core/indexes/base.py\", line 3621, in get_loc\n",
      "    return self._engine.get_loc(casted_key)\n",
      "  File \"pandas/_libs/index.pyx\", line 136, in pandas._libs.index.IndexEngine.get_loc\n",
      "  File \"pandas/_libs/index.pyx\", line 163, in pandas._libs.index.IndexEngine.get_loc\n",
      "  File \"pandas/_libs/hashtable_class_helper.pxi\", line 5198, in pandas._libs.hashtable.PyObjectHashTable.get_item\n",
      "  File \"pandas/_libs/hashtable_class_helper.pxi\", line 5206, in pandas._libs.hashtable.PyObjectHashTable.get_item\n",
      "KeyError: 'Date'\n",
      "\n",
      "The above exception was the direct cause of the following exception:\n",
      "\n",
      "Traceback (most recent call last):\n",
      "  File \"/home/jared/workspace/market-diff/stock-prediction/notebooks/../src/datastore.py\", line 106, in download_daily_candlesticks\n",
      "    data = pdr.DataReader(\n",
      "  File \"/home/jared/.local/share/virtualenvs/stock-prediction-MOS0QyR2/lib/python3.10/site-packages/pandas/util/_decorators.py\", line 207, in wrapper\n",
      "    return func(*args, **kwargs)\n",
      "  File \"/home/jared/.local/share/virtualenvs/stock-prediction-MOS0QyR2/lib/python3.10/site-packages/pandas_datareader/data.py\", line 379, in DataReader\n",
      "    ).read()\n",
      "  File \"/home/jared/.local/share/virtualenvs/stock-prediction-MOS0QyR2/lib/python3.10/site-packages/pandas_datareader/base.py\", line 253, in read\n",
      "    df = self._read_one_data(self.url, params=self._get_params(self.symbols))\n",
      "  File \"/home/jared/.local/share/virtualenvs/stock-prediction-MOS0QyR2/lib/python3.10/site-packages/pandas_datareader/yahoo/daily.py\", line 161, in _read_one_data\n",
      "    prices[\"Date\"] = to_datetime(to_datetime(prices[\"Date\"], unit=\"s\").dt.date)\n",
      "  File \"/home/jared/.local/share/virtualenvs/stock-prediction-MOS0QyR2/lib/python3.10/site-packages/pandas/core/frame.py\", line 3505, in __getitem__\n",
      "    indexer = self.columns.get_loc(key)\n",
      "  File \"/home/jared/.local/share/virtualenvs/stock-prediction-MOS0QyR2/lib/python3.10/site-packages/pandas/core/indexes/base.py\", line 3623, in get_loc\n",
      "    raise KeyError(key) from err\n",
      "KeyError: 'Date'\n"
     ]
    },
    {
     "name": "stdout",
     "output_type": "stream",
     "text": [
      "Error downloading daily candlesticks for BF.B\n"
     ]
    },
    {
     "name": "stderr",
     "output_type": "stream",
     "text": [
      "Traceback (most recent call last):\n",
      "  File \"/home/jared/.local/share/virtualenvs/stock-prediction-MOS0QyR2/lib/python3.10/site-packages/pandas_datareader/yahoo/daily.py\", line 153, in _read_one_data\n",
      "    data = j[\"context\"][\"dispatcher\"][\"stores\"][\"HistoricalPriceStore\"]\n",
      "KeyError: 'HistoricalPriceStore'\n",
      "\n",
      "During handling of the above exception, another exception occurred:\n",
      "\n",
      "Traceback (most recent call last):\n",
      "  File \"/home/jared/workspace/market-diff/stock-prediction/notebooks/../src/datastore.py\", line 106, in download_daily_candlesticks\n",
      "    data = pdr.DataReader(\n",
      "  File \"/home/jared/.local/share/virtualenvs/stock-prediction-MOS0QyR2/lib/python3.10/site-packages/pandas/util/_decorators.py\", line 207, in wrapper\n",
      "    return func(*args, **kwargs)\n",
      "  File \"/home/jared/.local/share/virtualenvs/stock-prediction-MOS0QyR2/lib/python3.10/site-packages/pandas_datareader/data.py\", line 379, in DataReader\n",
      "    ).read()\n",
      "  File \"/home/jared/.local/share/virtualenvs/stock-prediction-MOS0QyR2/lib/python3.10/site-packages/pandas_datareader/base.py\", line 253, in read\n",
      "    df = self._read_one_data(self.url, params=self._get_params(self.symbols))\n",
      "  File \"/home/jared/.local/share/virtualenvs/stock-prediction-MOS0QyR2/lib/python3.10/site-packages/pandas_datareader/yahoo/daily.py\", line 156, in _read_one_data\n",
      "    raise RemoteDataError(msg.format(symbol, self.__class__.__name__))\n",
      "pandas_datareader._utils.RemoteDataError: No data fetched for symbol CERN using YahooDailyReader\n"
     ]
    },
    {
     "name": "stdout",
     "output_type": "stream",
     "text": [
      "Error downloading daily candlesticks for CERN\n"
     ]
    },
    {
     "name": "stderr",
     "output_type": "stream",
     "text": [
      "Traceback (most recent call last):\n",
      "  File \"/home/jared/.local/share/virtualenvs/stock-prediction-MOS0QyR2/lib/python3.10/site-packages/pandas_datareader/yahoo/daily.py\", line 153, in _read_one_data\n",
      "    data = j[\"context\"][\"dispatcher\"][\"stores\"][\"HistoricalPriceStore\"]\n",
      "KeyError: 'HistoricalPriceStore'\n",
      "\n",
      "During handling of the above exception, another exception occurred:\n",
      "\n",
      "Traceback (most recent call last):\n",
      "  File \"/home/jared/workspace/market-diff/stock-prediction/notebooks/../src/datastore.py\", line 106, in download_daily_candlesticks\n",
      "    data = pdr.DataReader(\n",
      "  File \"/home/jared/.local/share/virtualenvs/stock-prediction-MOS0QyR2/lib/python3.10/site-packages/pandas/util/_decorators.py\", line 207, in wrapper\n",
      "    return func(*args, **kwargs)\n",
      "  File \"/home/jared/.local/share/virtualenvs/stock-prediction-MOS0QyR2/lib/python3.10/site-packages/pandas_datareader/data.py\", line 379, in DataReader\n",
      "    ).read()\n",
      "  File \"/home/jared/.local/share/virtualenvs/stock-prediction-MOS0QyR2/lib/python3.10/site-packages/pandas_datareader/base.py\", line 253, in read\n",
      "    df = self._read_one_data(self.url, params=self._get_params(self.symbols))\n",
      "  File \"/home/jared/.local/share/virtualenvs/stock-prediction-MOS0QyR2/lib/python3.10/site-packages/pandas_datareader/yahoo/daily.py\", line 156, in _read_one_data\n",
      "    raise RemoteDataError(msg.format(symbol, self.__class__.__name__))\n",
      "pandas_datareader._utils.RemoteDataError: No data fetched for symbol DISCA using YahooDailyReader\n"
     ]
    },
    {
     "name": "stdout",
     "output_type": "stream",
     "text": [
      "Error downloading daily candlesticks for DISCA\n"
     ]
    },
    {
     "name": "stderr",
     "output_type": "stream",
     "text": [
      "Traceback (most recent call last):\n",
      "  File \"/home/jared/.local/share/virtualenvs/stock-prediction-MOS0QyR2/lib/python3.10/site-packages/pandas_datareader/yahoo/daily.py\", line 153, in _read_one_data\n",
      "    data = j[\"context\"][\"dispatcher\"][\"stores\"][\"HistoricalPriceStore\"]\n",
      "KeyError: 'HistoricalPriceStore'\n",
      "\n",
      "During handling of the above exception, another exception occurred:\n",
      "\n",
      "Traceback (most recent call last):\n",
      "  File \"/home/jared/workspace/market-diff/stock-prediction/notebooks/../src/datastore.py\", line 106, in download_daily_candlesticks\n",
      "    data = pdr.DataReader(\n",
      "  File \"/home/jared/.local/share/virtualenvs/stock-prediction-MOS0QyR2/lib/python3.10/site-packages/pandas/util/_decorators.py\", line 207, in wrapper\n",
      "    return func(*args, **kwargs)\n",
      "  File \"/home/jared/.local/share/virtualenvs/stock-prediction-MOS0QyR2/lib/python3.10/site-packages/pandas_datareader/data.py\", line 379, in DataReader\n",
      "    ).read()\n",
      "  File \"/home/jared/.local/share/virtualenvs/stock-prediction-MOS0QyR2/lib/python3.10/site-packages/pandas_datareader/base.py\", line 253, in read\n",
      "    df = self._read_one_data(self.url, params=self._get_params(self.symbols))\n",
      "  File \"/home/jared/.local/share/virtualenvs/stock-prediction-MOS0QyR2/lib/python3.10/site-packages/pandas_datareader/yahoo/daily.py\", line 156, in _read_one_data\n",
      "    raise RemoteDataError(msg.format(symbol, self.__class__.__name__))\n",
      "pandas_datareader._utils.RemoteDataError: No data fetched for symbol DISCK using YahooDailyReader\n"
     ]
    },
    {
     "name": "stdout",
     "output_type": "stream",
     "text": [
      "Error downloading daily candlesticks for DISCK\n"
     ]
    },
    {
     "name": "stderr",
     "output_type": "stream",
     "text": [
      "Traceback (most recent call last):\n",
      "  File \"/home/jared/.local/share/virtualenvs/stock-prediction-MOS0QyR2/lib/python3.10/site-packages/pandas_datareader/yahoo/daily.py\", line 153, in _read_one_data\n",
      "    data = j[\"context\"][\"dispatcher\"][\"stores\"][\"HistoricalPriceStore\"]\n",
      "KeyError: 'HistoricalPriceStore'\n",
      "\n",
      "During handling of the above exception, another exception occurred:\n",
      "\n",
      "Traceback (most recent call last):\n",
      "  File \"/home/jared/workspace/market-diff/stock-prediction/notebooks/../src/datastore.py\", line 106, in download_daily_candlesticks\n",
      "    data = pdr.DataReader(\n",
      "  File \"/home/jared/.local/share/virtualenvs/stock-prediction-MOS0QyR2/lib/python3.10/site-packages/pandas/util/_decorators.py\", line 207, in wrapper\n",
      "    return func(*args, **kwargs)\n",
      "  File \"/home/jared/.local/share/virtualenvs/stock-prediction-MOS0QyR2/lib/python3.10/site-packages/pandas_datareader/data.py\", line 379, in DataReader\n",
      "    ).read()\n",
      "  File \"/home/jared/.local/share/virtualenvs/stock-prediction-MOS0QyR2/lib/python3.10/site-packages/pandas_datareader/base.py\", line 253, in read\n",
      "    df = self._read_one_data(self.url, params=self._get_params(self.symbols))\n",
      "  File \"/home/jared/.local/share/virtualenvs/stock-prediction-MOS0QyR2/lib/python3.10/site-packages/pandas_datareader/yahoo/daily.py\", line 156, in _read_one_data\n",
      "    raise RemoteDataError(msg.format(symbol, self.__class__.__name__))\n",
      "pandas_datareader._utils.RemoteDataError: No data fetched for symbol INFO using YahooDailyReader\n"
     ]
    },
    {
     "name": "stdout",
     "output_type": "stream",
     "text": [
      "Error downloading daily candlesticks for INFO\n"
     ]
    },
    {
     "name": "stderr",
     "output_type": "stream",
     "text": [
      "Traceback (most recent call last):\n",
      "  File \"/home/jared/.local/share/virtualenvs/stock-prediction-MOS0QyR2/lib/python3.10/site-packages/pandas_datareader/yahoo/daily.py\", line 153, in _read_one_data\n",
      "    data = j[\"context\"][\"dispatcher\"][\"stores\"][\"HistoricalPriceStore\"]\n",
      "KeyError: 'HistoricalPriceStore'\n",
      "\n",
      "During handling of the above exception, another exception occurred:\n",
      "\n",
      "Traceback (most recent call last):\n",
      "  File \"/home/jared/workspace/market-diff/stock-prediction/notebooks/../src/datastore.py\", line 106, in download_daily_candlesticks\n",
      "    data = pdr.DataReader(\n",
      "  File \"/home/jared/.local/share/virtualenvs/stock-prediction-MOS0QyR2/lib/python3.10/site-packages/pandas/util/_decorators.py\", line 207, in wrapper\n",
      "    return func(*args, **kwargs)\n",
      "  File \"/home/jared/.local/share/virtualenvs/stock-prediction-MOS0QyR2/lib/python3.10/site-packages/pandas_datareader/data.py\", line 379, in DataReader\n",
      "    ).read()\n",
      "  File \"/home/jared/.local/share/virtualenvs/stock-prediction-MOS0QyR2/lib/python3.10/site-packages/pandas_datareader/base.py\", line 253, in read\n",
      "    df = self._read_one_data(self.url, params=self._get_params(self.symbols))\n",
      "  File \"/home/jared/.local/share/virtualenvs/stock-prediction-MOS0QyR2/lib/python3.10/site-packages/pandas_datareader/yahoo/daily.py\", line 156, in _read_one_data\n",
      "    raise RemoteDataError(msg.format(symbol, self.__class__.__name__))\n",
      "pandas_datareader._utils.RemoteDataError: No data fetched for symbol KSU using YahooDailyReader\n"
     ]
    },
    {
     "name": "stdout",
     "output_type": "stream",
     "text": [
      "Error downloading daily candlesticks for KSU\n"
     ]
    },
    {
     "name": "stderr",
     "output_type": "stream",
     "text": [
      "Traceback (most recent call last):\n",
      "  File \"/home/jared/.local/share/virtualenvs/stock-prediction-MOS0QyR2/lib/python3.10/site-packages/pandas_datareader/yahoo/daily.py\", line 153, in _read_one_data\n",
      "    data = j[\"context\"][\"dispatcher\"][\"stores\"][\"HistoricalPriceStore\"]\n",
      "KeyError: 'HistoricalPriceStore'\n",
      "\n",
      "During handling of the above exception, another exception occurred:\n",
      "\n",
      "Traceback (most recent call last):\n",
      "  File \"/home/jared/workspace/market-diff/stock-prediction/notebooks/../src/datastore.py\", line 106, in download_daily_candlesticks\n",
      "    data = pdr.DataReader(\n",
      "  File \"/home/jared/.local/share/virtualenvs/stock-prediction-MOS0QyR2/lib/python3.10/site-packages/pandas/util/_decorators.py\", line 207, in wrapper\n",
      "    return func(*args, **kwargs)\n",
      "  File \"/home/jared/.local/share/virtualenvs/stock-prediction-MOS0QyR2/lib/python3.10/site-packages/pandas_datareader/data.py\", line 379, in DataReader\n",
      "    ).read()\n",
      "  File \"/home/jared/.local/share/virtualenvs/stock-prediction-MOS0QyR2/lib/python3.10/site-packages/pandas_datareader/base.py\", line 253, in read\n",
      "    df = self._read_one_data(self.url, params=self._get_params(self.symbols))\n",
      "  File \"/home/jared/.local/share/virtualenvs/stock-prediction-MOS0QyR2/lib/python3.10/site-packages/pandas_datareader/yahoo/daily.py\", line 156, in _read_one_data\n",
      "    raise RemoteDataError(msg.format(symbol, self.__class__.__name__))\n",
      "pandas_datareader._utils.RemoteDataError: No data fetched for symbol PBCT using YahooDailyReader\n"
     ]
    },
    {
     "name": "stdout",
     "output_type": "stream",
     "text": [
      "Error downloading daily candlesticks for PBCT\n"
     ]
    },
    {
     "name": "stderr",
     "output_type": "stream",
     "text": [
      "Traceback (most recent call last):\n",
      "  File \"/home/jared/.local/share/virtualenvs/stock-prediction-MOS0QyR2/lib/python3.10/site-packages/pandas_datareader/yahoo/daily.py\", line 153, in _read_one_data\n",
      "    data = j[\"context\"][\"dispatcher\"][\"stores\"][\"HistoricalPriceStore\"]\n",
      "KeyError: 'HistoricalPriceStore'\n",
      "\n",
      "During handling of the above exception, another exception occurred:\n",
      "\n",
      "Traceback (most recent call last):\n",
      "  File \"/home/jared/workspace/market-diff/stock-prediction/notebooks/../src/datastore.py\", line 106, in download_daily_candlesticks\n",
      "    data = pdr.DataReader(\n",
      "  File \"/home/jared/.local/share/virtualenvs/stock-prediction-MOS0QyR2/lib/python3.10/site-packages/pandas/util/_decorators.py\", line 207, in wrapper\n",
      "    return func(*args, **kwargs)\n",
      "  File \"/home/jared/.local/share/virtualenvs/stock-prediction-MOS0QyR2/lib/python3.10/site-packages/pandas_datareader/data.py\", line 379, in DataReader\n",
      "    ).read()\n",
      "  File \"/home/jared/.local/share/virtualenvs/stock-prediction-MOS0QyR2/lib/python3.10/site-packages/pandas_datareader/base.py\", line 253, in read\n",
      "    df = self._read_one_data(self.url, params=self._get_params(self.symbols))\n",
      "  File \"/home/jared/.local/share/virtualenvs/stock-prediction-MOS0QyR2/lib/python3.10/site-packages/pandas_datareader/yahoo/daily.py\", line 156, in _read_one_data\n",
      "    raise RemoteDataError(msg.format(symbol, self.__class__.__name__))\n",
      "pandas_datareader._utils.RemoteDataError: No data fetched for symbol VIAC using YahooDailyReader\n"
     ]
    },
    {
     "name": "stdout",
     "output_type": "stream",
     "text": [
      "Error downloading daily candlesticks for VIAC\n"
     ]
    },
    {
     "name": "stderr",
     "output_type": "stream",
     "text": [
      "Traceback (most recent call last):\n",
      "  File \"/home/jared/.local/share/virtualenvs/stock-prediction-MOS0QyR2/lib/python3.10/site-packages/pandas_datareader/yahoo/daily.py\", line 153, in _read_one_data\n",
      "    data = j[\"context\"][\"dispatcher\"][\"stores\"][\"HistoricalPriceStore\"]\n",
      "KeyError: 'HistoricalPriceStore'\n",
      "\n",
      "During handling of the above exception, another exception occurred:\n",
      "\n",
      "Traceback (most recent call last):\n",
      "  File \"/home/jared/workspace/market-diff/stock-prediction/notebooks/../src/datastore.py\", line 106, in download_daily_candlesticks\n",
      "    data = pdr.DataReader(\n",
      "  File \"/home/jared/.local/share/virtualenvs/stock-prediction-MOS0QyR2/lib/python3.10/site-packages/pandas/util/_decorators.py\", line 207, in wrapper\n",
      "    return func(*args, **kwargs)\n",
      "  File \"/home/jared/.local/share/virtualenvs/stock-prediction-MOS0QyR2/lib/python3.10/site-packages/pandas_datareader/data.py\", line 379, in DataReader\n",
      "    ).read()\n",
      "  File \"/home/jared/.local/share/virtualenvs/stock-prediction-MOS0QyR2/lib/python3.10/site-packages/pandas_datareader/base.py\", line 253, in read\n",
      "    df = self._read_one_data(self.url, params=self._get_params(self.symbols))\n",
      "  File \"/home/jared/.local/share/virtualenvs/stock-prediction-MOS0QyR2/lib/python3.10/site-packages/pandas_datareader/yahoo/daily.py\", line 156, in _read_one_data\n",
      "    raise RemoteDataError(msg.format(symbol, self.__class__.__name__))\n",
      "pandas_datareader._utils.RemoteDataError: No data fetched for symbol WLTW using YahooDailyReader\n"
     ]
    },
    {
     "name": "stdout",
     "output_type": "stream",
     "text": [
      "Error downloading daily candlesticks for WLTW\n"
     ]
    },
    {
     "name": "stderr",
     "output_type": "stream",
     "text": [
      "Traceback (most recent call last):\n",
      "  File \"/home/jared/.local/share/virtualenvs/stock-prediction-MOS0QyR2/lib/python3.10/site-packages/pandas_datareader/yahoo/daily.py\", line 153, in _read_one_data\n",
      "    data = j[\"context\"][\"dispatcher\"][\"stores\"][\"HistoricalPriceStore\"]\n",
      "KeyError: 'HistoricalPriceStore'\n",
      "\n",
      "During handling of the above exception, another exception occurred:\n",
      "\n",
      "Traceback (most recent call last):\n",
      "  File \"/home/jared/workspace/market-diff/stock-prediction/notebooks/../src/datastore.py\", line 106, in download_daily_candlesticks\n",
      "    data = pdr.DataReader(\n",
      "  File \"/home/jared/.local/share/virtualenvs/stock-prediction-MOS0QyR2/lib/python3.10/site-packages/pandas/util/_decorators.py\", line 207, in wrapper\n",
      "    return func(*args, **kwargs)\n",
      "  File \"/home/jared/.local/share/virtualenvs/stock-prediction-MOS0QyR2/lib/python3.10/site-packages/pandas_datareader/data.py\", line 379, in DataReader\n",
      "    ).read()\n",
      "  File \"/home/jared/.local/share/virtualenvs/stock-prediction-MOS0QyR2/lib/python3.10/site-packages/pandas_datareader/base.py\", line 253, in read\n",
      "    df = self._read_one_data(self.url, params=self._get_params(self.symbols))\n",
      "  File \"/home/jared/.local/share/virtualenvs/stock-prediction-MOS0QyR2/lib/python3.10/site-packages/pandas_datareader/yahoo/daily.py\", line 156, in _read_one_data\n",
      "    raise RemoteDataError(msg.format(symbol, self.__class__.__name__))\n",
      "pandas_datareader._utils.RemoteDataError: No data fetched for symbol XLNX using YahooDailyReader\n"
     ]
    },
    {
     "name": "stdout",
     "output_type": "stream",
     "text": [
      "Error downloading daily candlesticks for XLNX\n"
     ]
    },
    {
     "name": "stderr",
     "output_type": "stream",
     "text": [
      "Traceback (most recent call last):\n",
      "  File \"/home/jared/.local/share/virtualenvs/stock-prediction-MOS0QyR2/lib/python3.10/site-packages/pandas_datareader/yahoo/daily.py\", line 153, in _read_one_data\n",
      "    data = j[\"context\"][\"dispatcher\"][\"stores\"][\"HistoricalPriceStore\"]\n",
      "KeyError: 'HistoricalPriceStore'\n",
      "\n",
      "During handling of the above exception, another exception occurred:\n",
      "\n",
      "Traceback (most recent call last):\n",
      "  File \"/home/jared/workspace/market-diff/stock-prediction/notebooks/../src/datastore.py\", line 106, in download_daily_candlesticks\n",
      "    data = pdr.DataReader(\n",
      "  File \"/home/jared/.local/share/virtualenvs/stock-prediction-MOS0QyR2/lib/python3.10/site-packages/pandas/util/_decorators.py\", line 207, in wrapper\n",
      "    return func(*args, **kwargs)\n",
      "  File \"/home/jared/.local/share/virtualenvs/stock-prediction-MOS0QyR2/lib/python3.10/site-packages/pandas_datareader/data.py\", line 379, in DataReader\n",
      "    ).read()\n",
      "  File \"/home/jared/.local/share/virtualenvs/stock-prediction-MOS0QyR2/lib/python3.10/site-packages/pandas_datareader/base.py\", line 253, in read\n",
      "    df = self._read_one_data(self.url, params=self._get_params(self.symbols))\n",
      "  File \"/home/jared/.local/share/virtualenvs/stock-prediction-MOS0QyR2/lib/python3.10/site-packages/pandas_datareader/yahoo/daily.py\", line 156, in _read_one_data\n",
      "    raise RemoteDataError(msg.format(symbol, self.__class__.__name__))\n",
      "pandas_datareader._utils.RemoteDataError: No data fetched for symbol FTSI using YahooDailyReader\n"
     ]
    },
    {
     "name": "stdout",
     "output_type": "stream",
     "text": [
      "Error downloading daily candlesticks for FTSI\n"
     ]
    },
    {
     "name": "stderr",
     "output_type": "stream",
     "text": [
      "Traceback (most recent call last):\n",
      "  File \"/home/jared/.local/share/virtualenvs/stock-prediction-MOS0QyR2/lib/python3.10/site-packages/pandas_datareader/yahoo/daily.py\", line 153, in _read_one_data\n",
      "    data = j[\"context\"][\"dispatcher\"][\"stores\"][\"HistoricalPriceStore\"]\n",
      "KeyError: 'HistoricalPriceStore'\n",
      "\n",
      "During handling of the above exception, another exception occurred:\n",
      "\n",
      "Traceback (most recent call last):\n",
      "  File \"/home/jared/workspace/market-diff/stock-prediction/notebooks/../src/datastore.py\", line 106, in download_daily_candlesticks\n",
      "    data = pdr.DataReader(\n",
      "  File \"/home/jared/.local/share/virtualenvs/stock-prediction-MOS0QyR2/lib/python3.10/site-packages/pandas/util/_decorators.py\", line 207, in wrapper\n",
      "    return func(*args, **kwargs)\n",
      "  File \"/home/jared/.local/share/virtualenvs/stock-prediction-MOS0QyR2/lib/python3.10/site-packages/pandas_datareader/data.py\", line 379, in DataReader\n",
      "    ).read()\n",
      "  File \"/home/jared/.local/share/virtualenvs/stock-prediction-MOS0QyR2/lib/python3.10/site-packages/pandas_datareader/base.py\", line 253, in read\n",
      "    df = self._read_one_data(self.url, params=self._get_params(self.symbols))\n",
      "  File \"/home/jared/.local/share/virtualenvs/stock-prediction-MOS0QyR2/lib/python3.10/site-packages/pandas_datareader/yahoo/daily.py\", line 156, in _read_one_data\n",
      "    raise RemoteDataError(msg.format(symbol, self.__class__.__name__))\n",
      "pandas_datareader._utils.RemoteDataError: No data fetched for symbol TOT using YahooDailyReader\n"
     ]
    },
    {
     "name": "stdout",
     "output_type": "stream",
     "text": [
      "Error downloading daily candlesticks for TOT\n"
     ]
    },
    {
     "name": "stderr",
     "output_type": "stream",
     "text": [
      "Traceback (most recent call last):\n",
      "  File \"/home/jared/.local/share/virtualenvs/stock-prediction-MOS0QyR2/lib/python3.10/site-packages/pandas_datareader/yahoo/daily.py\", line 153, in _read_one_data\n",
      "    data = j[\"context\"][\"dispatcher\"][\"stores\"][\"HistoricalPriceStore\"]\n",
      "KeyError: 'HistoricalPriceStore'\n",
      "\n",
      "During handling of the above exception, another exception occurred:\n",
      "\n",
      "Traceback (most recent call last):\n",
      "  File \"/home/jared/workspace/market-diff/stock-prediction/notebooks/../src/datastore.py\", line 106, in download_daily_candlesticks\n",
      "    data = pdr.DataReader(\n",
      "  File \"/home/jared/.local/share/virtualenvs/stock-prediction-MOS0QyR2/lib/python3.10/site-packages/pandas/util/_decorators.py\", line 207, in wrapper\n",
      "    return func(*args, **kwargs)\n",
      "  File \"/home/jared/.local/share/virtualenvs/stock-prediction-MOS0QyR2/lib/python3.10/site-packages/pandas_datareader/data.py\", line 379, in DataReader\n",
      "    ).read()\n",
      "  File \"/home/jared/.local/share/virtualenvs/stock-prediction-MOS0QyR2/lib/python3.10/site-packages/pandas_datareader/base.py\", line 253, in read\n",
      "    df = self._read_one_data(self.url, params=self._get_params(self.symbols))\n",
      "  File \"/home/jared/.local/share/virtualenvs/stock-prediction-MOS0QyR2/lib/python3.10/site-packages/pandas_datareader/yahoo/daily.py\", line 156, in _read_one_data\n",
      "    raise RemoteDataError(msg.format(symbol, self.__class__.__name__))\n",
      "pandas_datareader._utils.RemoteDataError: No data fetched for symbol TSU using YahooDailyReader\n"
     ]
    },
    {
     "name": "stdout",
     "output_type": "stream",
     "text": [
      "Error downloading daily candlesticks for TSU\n"
     ]
    },
    {
     "name": "stderr",
     "output_type": "stream",
     "text": [
      "Traceback (most recent call last):\n",
      "  File \"/home/jared/.local/share/virtualenvs/stock-prediction-MOS0QyR2/lib/python3.10/site-packages/pandas_datareader/yahoo/daily.py\", line 153, in _read_one_data\n",
      "    data = j[\"context\"][\"dispatcher\"][\"stores\"][\"HistoricalPriceStore\"]\n",
      "KeyError: 'HistoricalPriceStore'\n",
      "\n",
      "During handling of the above exception, another exception occurred:\n",
      "\n",
      "Traceback (most recent call last):\n",
      "  File \"/home/jared/workspace/market-diff/stock-prediction/notebooks/../src/datastore.py\", line 106, in download_daily_candlesticks\n",
      "    data = pdr.DataReader(\n",
      "  File \"/home/jared/.local/share/virtualenvs/stock-prediction-MOS0QyR2/lib/python3.10/site-packages/pandas/util/_decorators.py\", line 207, in wrapper\n",
      "    return func(*args, **kwargs)\n",
      "  File \"/home/jared/.local/share/virtualenvs/stock-prediction-MOS0QyR2/lib/python3.10/site-packages/pandas_datareader/data.py\", line 379, in DataReader\n",
      "    ).read()\n",
      "  File \"/home/jared/.local/share/virtualenvs/stock-prediction-MOS0QyR2/lib/python3.10/site-packages/pandas_datareader/base.py\", line 253, in read\n",
      "    df = self._read_one_data(self.url, params=self._get_params(self.symbols))\n",
      "  File \"/home/jared/.local/share/virtualenvs/stock-prediction-MOS0QyR2/lib/python3.10/site-packages/pandas_datareader/yahoo/daily.py\", line 156, in _read_one_data\n",
      "    raise RemoteDataError(msg.format(symbol, self.__class__.__name__))\n",
      "pandas_datareader._utils.RemoteDataError: No data fetched for symbol VMM using YahooDailyReader\n"
     ]
    },
    {
     "name": "stdout",
     "output_type": "stream",
     "text": [
      "Error downloading daily candlesticks for VMM\n"
     ]
    },
    {
     "name": "stderr",
     "output_type": "stream",
     "text": [
      "Traceback (most recent call last):\n",
      "  File \"/home/jared/.local/share/virtualenvs/stock-prediction-MOS0QyR2/lib/python3.10/site-packages/pandas_datareader/yahoo/daily.py\", line 153, in _read_one_data\n",
      "    data = j[\"context\"][\"dispatcher\"][\"stores\"][\"HistoricalPriceStore\"]\n",
      "KeyError: 'HistoricalPriceStore'\n",
      "\n",
      "During handling of the above exception, another exception occurred:\n",
      "\n",
      "Traceback (most recent call last):\n",
      "  File \"/home/jared/workspace/market-diff/stock-prediction/notebooks/../src/datastore.py\", line 106, in download_daily_candlesticks\n",
      "    data = pdr.DataReader(\n",
      "  File \"/home/jared/.local/share/virtualenvs/stock-prediction-MOS0QyR2/lib/python3.10/site-packages/pandas/util/_decorators.py\", line 207, in wrapper\n",
      "    return func(*args, **kwargs)\n",
      "  File \"/home/jared/.local/share/virtualenvs/stock-prediction-MOS0QyR2/lib/python3.10/site-packages/pandas_datareader/data.py\", line 379, in DataReader\n",
      "    ).read()\n",
      "  File \"/home/jared/.local/share/virtualenvs/stock-prediction-MOS0QyR2/lib/python3.10/site-packages/pandas_datareader/base.py\", line 253, in read\n",
      "    df = self._read_one_data(self.url, params=self._get_params(self.symbols))\n",
      "  File \"/home/jared/.local/share/virtualenvs/stock-prediction-MOS0QyR2/lib/python3.10/site-packages/pandas_datareader/yahoo/daily.py\", line 156, in _read_one_data\n",
      "    raise RemoteDataError(msg.format(symbol, self.__class__.__name__))\n",
      "pandas_datareader._utils.RemoteDataError: No data fetched for symbol FI using YahooDailyReader\n"
     ]
    },
    {
     "name": "stdout",
     "output_type": "stream",
     "text": [
      "Error downloading daily candlesticks for FI\n"
     ]
    },
    {
     "name": "stderr",
     "output_type": "stream",
     "text": [
      "Traceback (most recent call last):\n",
      "  File \"/home/jared/.local/share/virtualenvs/stock-prediction-MOS0QyR2/lib/python3.10/site-packages/pandas_datareader/yahoo/daily.py\", line 153, in _read_one_data\n",
      "    data = j[\"context\"][\"dispatcher\"][\"stores\"][\"HistoricalPriceStore\"]\n",
      "KeyError: 'HistoricalPriceStore'\n",
      "\n",
      "During handling of the above exception, another exception occurred:\n",
      "\n",
      "Traceback (most recent call last):\n",
      "  File \"/home/jared/workspace/market-diff/stock-prediction/notebooks/../src/datastore.py\", line 106, in download_daily_candlesticks\n",
      "    data = pdr.DataReader(\n",
      "  File \"/home/jared/.local/share/virtualenvs/stock-prediction-MOS0QyR2/lib/python3.10/site-packages/pandas/util/_decorators.py\", line 207, in wrapper\n",
      "    return func(*args, **kwargs)\n",
      "  File \"/home/jared/.local/share/virtualenvs/stock-prediction-MOS0QyR2/lib/python3.10/site-packages/pandas_datareader/data.py\", line 379, in DataReader\n",
      "    ).read()\n",
      "  File \"/home/jared/.local/share/virtualenvs/stock-prediction-MOS0QyR2/lib/python3.10/site-packages/pandas_datareader/base.py\", line 253, in read\n",
      "    df = self._read_one_data(self.url, params=self._get_params(self.symbols))\n",
      "  File \"/home/jared/.local/share/virtualenvs/stock-prediction-MOS0QyR2/lib/python3.10/site-packages/pandas_datareader/yahoo/daily.py\", line 156, in _read_one_data\n",
      "    raise RemoteDataError(msg.format(symbol, self.__class__.__name__))\n",
      "pandas_datareader._utils.RemoteDataError: No data fetched for symbol CAI using YahooDailyReader\n"
     ]
    },
    {
     "name": "stdout",
     "output_type": "stream",
     "text": [
      "Error downloading daily candlesticks for CAI\n"
     ]
    },
    {
     "name": "stderr",
     "output_type": "stream",
     "text": [
      "Traceback (most recent call last):\n",
      "  File \"/home/jared/.local/share/virtualenvs/stock-prediction-MOS0QyR2/lib/python3.10/site-packages/pandas_datareader/yahoo/daily.py\", line 153, in _read_one_data\n",
      "    data = j[\"context\"][\"dispatcher\"][\"stores\"][\"HistoricalPriceStore\"]\n",
      "KeyError: 'HistoricalPriceStore'\n",
      "\n",
      "During handling of the above exception, another exception occurred:\n",
      "\n",
      "Traceback (most recent call last):\n",
      "  File \"/home/jared/workspace/market-diff/stock-prediction/notebooks/../src/datastore.py\", line 106, in download_daily_candlesticks\n",
      "    data = pdr.DataReader(\n",
      "  File \"/home/jared/.local/share/virtualenvs/stock-prediction-MOS0QyR2/lib/python3.10/site-packages/pandas/util/_decorators.py\", line 207, in wrapper\n",
      "    return func(*args, **kwargs)\n",
      "  File \"/home/jared/.local/share/virtualenvs/stock-prediction-MOS0QyR2/lib/python3.10/site-packages/pandas_datareader/data.py\", line 379, in DataReader\n",
      "    ).read()\n",
      "  File \"/home/jared/.local/share/virtualenvs/stock-prediction-MOS0QyR2/lib/python3.10/site-packages/pandas_datareader/base.py\", line 253, in read\n",
      "    df = self._read_one_data(self.url, params=self._get_params(self.symbols))\n",
      "  File \"/home/jared/.local/share/virtualenvs/stock-prediction-MOS0QyR2/lib/python3.10/site-packages/pandas_datareader/yahoo/daily.py\", line 156, in _read_one_data\n",
      "    raise RemoteDataError(msg.format(symbol, self.__class__.__name__))\n",
      "pandas_datareader._utils.RemoteDataError: No data fetched for symbol RST using YahooDailyReader\n"
     ]
    },
    {
     "name": "stdout",
     "output_type": "stream",
     "text": [
      "Error downloading daily candlesticks for RST\n"
     ]
    },
    {
     "name": "stderr",
     "output_type": "stream",
     "text": [
      "Traceback (most recent call last):\n",
      "  File \"/home/jared/.local/share/virtualenvs/stock-prediction-MOS0QyR2/lib/python3.10/site-packages/pandas_datareader/yahoo/daily.py\", line 153, in _read_one_data\n",
      "    data = j[\"context\"][\"dispatcher\"][\"stores\"][\"HistoricalPriceStore\"]\n",
      "KeyError: 'HistoricalPriceStore'\n",
      "\n",
      "During handling of the above exception, another exception occurred:\n",
      "\n",
      "Traceback (most recent call last):\n",
      "  File \"/home/jared/workspace/market-diff/stock-prediction/notebooks/../src/datastore.py\", line 106, in download_daily_candlesticks\n",
      "    data = pdr.DataReader(\n",
      "  File \"/home/jared/.local/share/virtualenvs/stock-prediction-MOS0QyR2/lib/python3.10/site-packages/pandas/util/_decorators.py\", line 207, in wrapper\n",
      "    return func(*args, **kwargs)\n",
      "  File \"/home/jared/.local/share/virtualenvs/stock-prediction-MOS0QyR2/lib/python3.10/site-packages/pandas_datareader/data.py\", line 379, in DataReader\n",
      "    ).read()\n",
      "  File \"/home/jared/.local/share/virtualenvs/stock-prediction-MOS0QyR2/lib/python3.10/site-packages/pandas_datareader/base.py\", line 253, in read\n",
      "    df = self._read_one_data(self.url, params=self._get_params(self.symbols))\n",
      "  File \"/home/jared/.local/share/virtualenvs/stock-prediction-MOS0QyR2/lib/python3.10/site-packages/pandas_datareader/yahoo/daily.py\", line 156, in _read_one_data\n",
      "    raise RemoteDataError(msg.format(symbol, self.__class__.__name__))\n",
      "pandas_datareader._utils.RemoteDataError: No data fetched for symbol TPRE using YahooDailyReader\n"
     ]
    },
    {
     "name": "stdout",
     "output_type": "stream",
     "text": [
      "Error downloading daily candlesticks for TPRE\n"
     ]
    },
    {
     "name": "stderr",
     "output_type": "stream",
     "text": [
      "Traceback (most recent call last):\n",
      "  File \"/home/jared/.local/share/virtualenvs/stock-prediction-MOS0QyR2/lib/python3.10/site-packages/pandas_datareader/yahoo/daily.py\", line 153, in _read_one_data\n",
      "    data = j[\"context\"][\"dispatcher\"][\"stores\"][\"HistoricalPriceStore\"]\n",
      "KeyError: 'HistoricalPriceStore'\n",
      "\n",
      "During handling of the above exception, another exception occurred:\n",
      "\n",
      "Traceback (most recent call last):\n",
      "  File \"/home/jared/workspace/market-diff/stock-prediction/notebooks/../src/datastore.py\", line 106, in download_daily_candlesticks\n",
      "    data = pdr.DataReader(\n",
      "  File \"/home/jared/.local/share/virtualenvs/stock-prediction-MOS0QyR2/lib/python3.10/site-packages/pandas/util/_decorators.py\", line 207, in wrapper\n",
      "    return func(*args, **kwargs)\n",
      "  File \"/home/jared/.local/share/virtualenvs/stock-prediction-MOS0QyR2/lib/python3.10/site-packages/pandas_datareader/data.py\", line 379, in DataReader\n",
      "    ).read()\n",
      "  File \"/home/jared/.local/share/virtualenvs/stock-prediction-MOS0QyR2/lib/python3.10/site-packages/pandas_datareader/base.py\", line 253, in read\n",
      "    df = self._read_one_data(self.url, params=self._get_params(self.symbols))\n",
      "  File \"/home/jared/.local/share/virtualenvs/stock-prediction-MOS0QyR2/lib/python3.10/site-packages/pandas_datareader/yahoo/daily.py\", line 156, in _read_one_data\n",
      "    raise RemoteDataError(msg.format(symbol, self.__class__.__name__))\n",
      "pandas_datareader._utils.RemoteDataError: No data fetched for symbol CZZ using YahooDailyReader\n"
     ]
    },
    {
     "name": "stdout",
     "output_type": "stream",
     "text": [
      "Error downloading daily candlesticks for CZZ\n"
     ]
    },
    {
     "name": "stderr",
     "output_type": "stream",
     "text": [
      "Traceback (most recent call last):\n",
      "  File \"/home/jared/workspace/market-diff/stock-prediction/notebooks/../src/datastore.py\", line 128, in download_daily_candlesticks\n",
      "    db.daily_samples.insert_many(data.to_dict(\"records\"), ordered=False)\n",
      "  File \"/home/jared/.local/share/virtualenvs/stock-prediction-MOS0QyR2/lib/python3.10/site-packages/pymongo/_csot.py\", line 105, in csot_wrapper\n",
      "    return func(self, *args, **kwargs)\n",
      "  File \"/home/jared/.local/share/virtualenvs/stock-prediction-MOS0QyR2/lib/python3.10/site-packages/pymongo/collection.py\", line 707, in insert_many\n",
      "    blk.execute(write_concern, session=session)\n",
      "  File \"/home/jared/.local/share/virtualenvs/stock-prediction-MOS0QyR2/lib/python3.10/site-packages/pymongo/bulk.py\", line 513, in execute\n",
      "    return self.execute_command(generator, write_concern, session)\n",
      "  File \"/home/jared/.local/share/virtualenvs/stock-prediction-MOS0QyR2/lib/python3.10/site-packages/pymongo/bulk.py\", line 391, in execute_command\n",
      "    client._retry_with_session(self.is_retryable, retryable_bulk, s, self)\n",
      "  File \"/home/jared/.local/share/virtualenvs/stock-prediction-MOS0QyR2/lib/python3.10/site-packages/pymongo/mongo_client.py\", line 1321, in _retry_with_session\n",
      "    return self._retry_internal(retryable, func, session, bulk)\n",
      "  File \"/home/jared/.local/share/virtualenvs/stock-prediction-MOS0QyR2/lib/python3.10/site-packages/pymongo/_csot.py\", line 105, in csot_wrapper\n",
      "    return func(self, *args, **kwargs)\n",
      "  File \"/home/jared/.local/share/virtualenvs/stock-prediction-MOS0QyR2/lib/python3.10/site-packages/pymongo/mongo_client.py\", line 1362, in _retry_internal\n",
      "    return func(session, sock_info, retryable)\n",
      "  File \"/home/jared/.local/share/virtualenvs/stock-prediction-MOS0QyR2/lib/python3.10/site-packages/pymongo/bulk.py\", line 385, in retryable_bulk\n",
      "    self._execute_command(\n",
      "  File \"/home/jared/.local/share/virtualenvs/stock-prediction-MOS0QyR2/lib/python3.10/site-packages/pymongo/bulk.py\", line 338, in _execute_command\n",
      "    result, to_send = bwc.execute(cmd, ops, client)\n",
      "  File \"/home/jared/.local/share/virtualenvs/stock-prediction-MOS0QyR2/lib/python3.10/site-packages/pymongo/message.py\", line 836, in execute\n",
      "    request_id, msg, to_send = self._batch_command(cmd, docs)\n",
      "  File \"/home/jared/.local/share/virtualenvs/stock-prediction-MOS0QyR2/lib/python3.10/site-packages/pymongo/message.py\", line 828, in _batch_command\n",
      "    request_id, msg, to_send = _do_batched_op_msg(\n",
      "  File \"/home/jared/.local/share/virtualenvs/stock-prediction-MOS0QyR2/lib/python3.10/site-packages/pymongo/message.py\", line 1162, in _do_batched_op_msg\n",
      "    return _batched_op_msg(operation, command, docs, ack, opts, ctx)\n",
      "OverflowError: MongoDB can only handle up to 8-byte ints\n"
     ]
    },
    {
     "name": "stdout",
     "output_type": "stream",
     "text": [
      "Error downloading daily candlesticks for JE\n"
     ]
    },
    {
     "name": "stderr",
     "output_type": "stream",
     "text": [
      "Traceback (most recent call last):\n",
      "  File \"/home/jared/.local/share/virtualenvs/stock-prediction-MOS0QyR2/lib/python3.10/site-packages/pandas_datareader/yahoo/daily.py\", line 153, in _read_one_data\n",
      "    data = j[\"context\"][\"dispatcher\"][\"stores\"][\"HistoricalPriceStore\"]\n",
      "KeyError: 'HistoricalPriceStore'\n",
      "\n",
      "During handling of the above exception, another exception occurred:\n",
      "\n",
      "Traceback (most recent call last):\n",
      "  File \"/home/jared/workspace/market-diff/stock-prediction/notebooks/../src/datastore.py\", line 106, in download_daily_candlesticks\n",
      "    data = pdr.DataReader(\n",
      "  File \"/home/jared/.local/share/virtualenvs/stock-prediction-MOS0QyR2/lib/python3.10/site-packages/pandas/util/_decorators.py\", line 207, in wrapper\n",
      "    return func(*args, **kwargs)\n",
      "  File \"/home/jared/.local/share/virtualenvs/stock-prediction-MOS0QyR2/lib/python3.10/site-packages/pandas_datareader/data.py\", line 379, in DataReader\n",
      "    ).read()\n",
      "  File \"/home/jared/.local/share/virtualenvs/stock-prediction-MOS0QyR2/lib/python3.10/site-packages/pandas_datareader/base.py\", line 253, in read\n",
      "    df = self._read_one_data(self.url, params=self._get_params(self.symbols))\n",
      "  File \"/home/jared/.local/share/virtualenvs/stock-prediction-MOS0QyR2/lib/python3.10/site-packages/pandas_datareader/yahoo/daily.py\", line 156, in _read_one_data\n",
      "    raise RemoteDataError(msg.format(symbol, self.__class__.__name__))\n",
      "pandas_datareader._utils.RemoteDataError: No data fetched for symbol FCAU using YahooDailyReader\n"
     ]
    },
    {
     "name": "stdout",
     "output_type": "stream",
     "text": [
      "Error downloading daily candlesticks for FCAU\n"
     ]
    },
    {
     "name": "stderr",
     "output_type": "stream",
     "text": [
      "Traceback (most recent call last):\n",
      "  File \"/home/jared/.local/share/virtualenvs/stock-prediction-MOS0QyR2/lib/python3.10/site-packages/pandas_datareader/yahoo/daily.py\", line 153, in _read_one_data\n",
      "    data = j[\"context\"][\"dispatcher\"][\"stores\"][\"HistoricalPriceStore\"]\n",
      "KeyError: 'HistoricalPriceStore'\n",
      "\n",
      "During handling of the above exception, another exception occurred:\n",
      "\n",
      "Traceback (most recent call last):\n",
      "  File \"/home/jared/workspace/market-diff/stock-prediction/notebooks/../src/datastore.py\", line 106, in download_daily_candlesticks\n",
      "    data = pdr.DataReader(\n",
      "  File \"/home/jared/.local/share/virtualenvs/stock-prediction-MOS0QyR2/lib/python3.10/site-packages/pandas/util/_decorators.py\", line 207, in wrapper\n",
      "    return func(*args, **kwargs)\n",
      "  File \"/home/jared/.local/share/virtualenvs/stock-prediction-MOS0QyR2/lib/python3.10/site-packages/pandas_datareader/data.py\", line 379, in DataReader\n",
      "    ).read()\n",
      "  File \"/home/jared/.local/share/virtualenvs/stock-prediction-MOS0QyR2/lib/python3.10/site-packages/pandas_datareader/base.py\", line 253, in read\n",
      "    df = self._read_one_data(self.url, params=self._get_params(self.symbols))\n",
      "  File \"/home/jared/.local/share/virtualenvs/stock-prediction-MOS0QyR2/lib/python3.10/site-packages/pandas_datareader/yahoo/daily.py\", line 156, in _read_one_data\n",
      "    raise RemoteDataError(msg.format(symbol, self.__class__.__name__))\n",
      "pandas_datareader._utils.RemoteDataError: No data fetched for symbol FVAC using YahooDailyReader\n"
     ]
    },
    {
     "name": "stdout",
     "output_type": "stream",
     "text": [
      "Error downloading daily candlesticks for FVAC\n"
     ]
    },
    {
     "name": "stderr",
     "output_type": "stream",
     "text": [
      "Traceback (most recent call last):\n",
      "  File \"/home/jared/.local/share/virtualenvs/stock-prediction-MOS0QyR2/lib/python3.10/site-packages/pandas_datareader/yahoo/daily.py\", line 153, in _read_one_data\n",
      "    data = j[\"context\"][\"dispatcher\"][\"stores\"][\"HistoricalPriceStore\"]\n",
      "KeyError: 'HistoricalPriceStore'\n",
      "\n",
      "During handling of the above exception, another exception occurred:\n",
      "\n",
      "Traceback (most recent call last):\n",
      "  File \"/home/jared/workspace/market-diff/stock-prediction/notebooks/../src/datastore.py\", line 106, in download_daily_candlesticks\n",
      "    data = pdr.DataReader(\n",
      "  File \"/home/jared/.local/share/virtualenvs/stock-prediction-MOS0QyR2/lib/python3.10/site-packages/pandas/util/_decorators.py\", line 207, in wrapper\n",
      "    return func(*args, **kwargs)\n",
      "  File \"/home/jared/.local/share/virtualenvs/stock-prediction-MOS0QyR2/lib/python3.10/site-packages/pandas_datareader/data.py\", line 379, in DataReader\n",
      "    ).read()\n",
      "  File \"/home/jared/.local/share/virtualenvs/stock-prediction-MOS0QyR2/lib/python3.10/site-packages/pandas_datareader/base.py\", line 253, in read\n",
      "    df = self._read_one_data(self.url, params=self._get_params(self.symbols))\n",
      "  File \"/home/jared/.local/share/virtualenvs/stock-prediction-MOS0QyR2/lib/python3.10/site-packages/pandas_datareader/yahoo/daily.py\", line 156, in _read_one_data\n",
      "    raise RemoteDataError(msg.format(symbol, self.__class__.__name__))\n",
      "pandas_datareader._utils.RemoteDataError: No data fetched for symbol GRAM using YahooDailyReader\n"
     ]
    },
    {
     "name": "stdout",
     "output_type": "stream",
     "text": [
      "Error downloading daily candlesticks for GRAM\n"
     ]
    },
    {
     "name": "stderr",
     "output_type": "stream",
     "text": [
      "Traceback (most recent call last):\n",
      "  File \"/home/jared/.local/share/virtualenvs/stock-prediction-MOS0QyR2/lib/python3.10/site-packages/pandas_datareader/yahoo/daily.py\", line 153, in _read_one_data\n",
      "    data = j[\"context\"][\"dispatcher\"][\"stores\"][\"HistoricalPriceStore\"]\n",
      "KeyError: 'HistoricalPriceStore'\n",
      "\n",
      "During handling of the above exception, another exception occurred:\n",
      "\n",
      "Traceback (most recent call last):\n",
      "  File \"/home/jared/workspace/market-diff/stock-prediction/notebooks/../src/datastore.py\", line 106, in download_daily_candlesticks\n",
      "    data = pdr.DataReader(\n",
      "  File \"/home/jared/.local/share/virtualenvs/stock-prediction-MOS0QyR2/lib/python3.10/site-packages/pandas/util/_decorators.py\", line 207, in wrapper\n",
      "    return func(*args, **kwargs)\n",
      "  File \"/home/jared/.local/share/virtualenvs/stock-prediction-MOS0QyR2/lib/python3.10/site-packages/pandas_datareader/data.py\", line 379, in DataReader\n",
      "    ).read()\n",
      "  File \"/home/jared/.local/share/virtualenvs/stock-prediction-MOS0QyR2/lib/python3.10/site-packages/pandas_datareader/base.py\", line 253, in read\n",
      "    df = self._read_one_data(self.url, params=self._get_params(self.symbols))\n",
      "  File \"/home/jared/.local/share/virtualenvs/stock-prediction-MOS0QyR2/lib/python3.10/site-packages/pandas_datareader/yahoo/daily.py\", line 156, in _read_one_data\n",
      "    raise RemoteDataError(msg.format(symbol, self.__class__.__name__))\n",
      "pandas_datareader._utils.RemoteDataError: No data fetched for symbol CRHM using YahooDailyReader\n"
     ]
    },
    {
     "name": "stdout",
     "output_type": "stream",
     "text": [
      "Error downloading daily candlesticks for CRHM\n"
     ]
    },
    {
     "name": "stderr",
     "output_type": "stream",
     "text": [
      "Traceback (most recent call last):\n",
      "  File \"/home/jared/.local/share/virtualenvs/stock-prediction-MOS0QyR2/lib/python3.10/site-packages/pandas_datareader/yahoo/daily.py\", line 153, in _read_one_data\n",
      "    data = j[\"context\"][\"dispatcher\"][\"stores\"][\"HistoricalPriceStore\"]\n",
      "KeyError: 'HistoricalPriceStore'\n",
      "\n",
      "During handling of the above exception, another exception occurred:\n",
      "\n",
      "Traceback (most recent call last):\n",
      "  File \"/home/jared/workspace/market-diff/stock-prediction/notebooks/../src/datastore.py\", line 106, in download_daily_candlesticks\n",
      "    data = pdr.DataReader(\n",
      "  File \"/home/jared/.local/share/virtualenvs/stock-prediction-MOS0QyR2/lib/python3.10/site-packages/pandas/util/_decorators.py\", line 207, in wrapper\n",
      "    return func(*args, **kwargs)\n",
      "  File \"/home/jared/.local/share/virtualenvs/stock-prediction-MOS0QyR2/lib/python3.10/site-packages/pandas_datareader/data.py\", line 379, in DataReader\n",
      "    ).read()\n",
      "  File \"/home/jared/.local/share/virtualenvs/stock-prediction-MOS0QyR2/lib/python3.10/site-packages/pandas_datareader/base.py\", line 253, in read\n",
      "    df = self._read_one_data(self.url, params=self._get_params(self.symbols))\n",
      "  File \"/home/jared/.local/share/virtualenvs/stock-prediction-MOS0QyR2/lib/python3.10/site-packages/pandas_datareader/yahoo/daily.py\", line 156, in _read_one_data\n",
      "    raise RemoteDataError(msg.format(symbol, self.__class__.__name__))\n",
      "pandas_datareader._utils.RemoteDataError: No data fetched for symbol AT using YahooDailyReader\n"
     ]
    },
    {
     "name": "stdout",
     "output_type": "stream",
     "text": [
      "Error downloading daily candlesticks for AT\n"
     ]
    },
    {
     "name": "stderr",
     "output_type": "stream",
     "text": [
      "Traceback (most recent call last):\n",
      "  File \"/home/jared/.local/share/virtualenvs/stock-prediction-MOS0QyR2/lib/python3.10/site-packages/pandas_datareader/yahoo/daily.py\", line 153, in _read_one_data\n",
      "    data = j[\"context\"][\"dispatcher\"][\"stores\"][\"HistoricalPriceStore\"]\n",
      "KeyError: 'HistoricalPriceStore'\n",
      "\n",
      "During handling of the above exception, another exception occurred:\n",
      "\n",
      "Traceback (most recent call last):\n",
      "  File \"/home/jared/workspace/market-diff/stock-prediction/notebooks/../src/datastore.py\", line 106, in download_daily_candlesticks\n",
      "    data = pdr.DataReader(\n",
      "  File \"/home/jared/.local/share/virtualenvs/stock-prediction-MOS0QyR2/lib/python3.10/site-packages/pandas/util/_decorators.py\", line 207, in wrapper\n",
      "    return func(*args, **kwargs)\n",
      "  File \"/home/jared/.local/share/virtualenvs/stock-prediction-MOS0QyR2/lib/python3.10/site-packages/pandas_datareader/data.py\", line 379, in DataReader\n",
      "    ).read()\n",
      "  File \"/home/jared/.local/share/virtualenvs/stock-prediction-MOS0QyR2/lib/python3.10/site-packages/pandas_datareader/base.py\", line 253, in read\n",
      "    df = self._read_one_data(self.url, params=self._get_params(self.symbols))\n",
      "  File \"/home/jared/.local/share/virtualenvs/stock-prediction-MOS0QyR2/lib/python3.10/site-packages/pandas_datareader/yahoo/daily.py\", line 156, in _read_one_data\n",
      "    raise RemoteDataError(msg.format(symbol, self.__class__.__name__))\n",
      "pandas_datareader._utils.RemoteDataError: No data fetched for symbol AXO using YahooDailyReader\n"
     ]
    },
    {
     "name": "stdout",
     "output_type": "stream",
     "text": [
      "Error downloading daily candlesticks for AXO\n"
     ]
    },
    {
     "name": "stderr",
     "output_type": "stream",
     "text": [
      "Traceback (most recent call last):\n",
      "  File \"/home/jared/.local/share/virtualenvs/stock-prediction-MOS0QyR2/lib/python3.10/site-packages/pandas_datareader/yahoo/daily.py\", line 153, in _read_one_data\n",
      "    data = j[\"context\"][\"dispatcher\"][\"stores\"][\"HistoricalPriceStore\"]\n",
      "KeyError: 'HistoricalPriceStore'\n",
      "\n",
      "During handling of the above exception, another exception occurred:\n",
      "\n",
      "Traceback (most recent call last):\n",
      "  File \"/home/jared/workspace/market-diff/stock-prediction/notebooks/../src/datastore.py\", line 106, in download_daily_candlesticks\n",
      "    data = pdr.DataReader(\n",
      "  File \"/home/jared/.local/share/virtualenvs/stock-prediction-MOS0QyR2/lib/python3.10/site-packages/pandas/util/_decorators.py\", line 207, in wrapper\n",
      "    return func(*args, **kwargs)\n",
      "  File \"/home/jared/.local/share/virtualenvs/stock-prediction-MOS0QyR2/lib/python3.10/site-packages/pandas_datareader/data.py\", line 379, in DataReader\n",
      "    ).read()\n",
      "  File \"/home/jared/.local/share/virtualenvs/stock-prediction-MOS0QyR2/lib/python3.10/site-packages/pandas_datareader/base.py\", line 253, in read\n",
      "    df = self._read_one_data(self.url, params=self._get_params(self.symbols))\n",
      "  File \"/home/jared/.local/share/virtualenvs/stock-prediction-MOS0QyR2/lib/python3.10/site-packages/pandas_datareader/yahoo/daily.py\", line 156, in _read_one_data\n",
      "    raise RemoteDataError(msg.format(symbol, self.__class__.__name__))\n",
      "pandas_datareader._utils.RemoteDataError: No data fetched for symbol ADSW using YahooDailyReader\n"
     ]
    },
    {
     "name": "stdout",
     "output_type": "stream",
     "text": [
      "Error downloading daily candlesticks for ADSW\n"
     ]
    },
    {
     "name": "stderr",
     "output_type": "stream",
     "text": [
      "Traceback (most recent call last):\n",
      "  File \"/home/jared/.local/share/virtualenvs/stock-prediction-MOS0QyR2/lib/python3.10/site-packages/pandas_datareader/yahoo/daily.py\", line 153, in _read_one_data\n",
      "    data = j[\"context\"][\"dispatcher\"][\"stores\"][\"HistoricalPriceStore\"]\n",
      "KeyError: 'HistoricalPriceStore'\n",
      "\n",
      "During handling of the above exception, another exception occurred:\n",
      "\n",
      "Traceback (most recent call last):\n",
      "  File \"/home/jared/workspace/market-diff/stock-prediction/notebooks/../src/datastore.py\", line 106, in download_daily_candlesticks\n",
      "    data = pdr.DataReader(\n",
      "  File \"/home/jared/.local/share/virtualenvs/stock-prediction-MOS0QyR2/lib/python3.10/site-packages/pandas/util/_decorators.py\", line 207, in wrapper\n",
      "    return func(*args, **kwargs)\n",
      "  File \"/home/jared/.local/share/virtualenvs/stock-prediction-MOS0QyR2/lib/python3.10/site-packages/pandas_datareader/data.py\", line 379, in DataReader\n",
      "    ).read()\n",
      "  File \"/home/jared/.local/share/virtualenvs/stock-prediction-MOS0QyR2/lib/python3.10/site-packages/pandas_datareader/base.py\", line 253, in read\n",
      "    df = self._read_one_data(self.url, params=self._get_params(self.symbols))\n",
      "  File \"/home/jared/.local/share/virtualenvs/stock-prediction-MOS0QyR2/lib/python3.10/site-packages/pandas_datareader/yahoo/daily.py\", line 156, in _read_one_data\n",
      "    raise RemoteDataError(msg.format(symbol, self.__class__.__name__))\n",
      "pandas_datareader._utils.RemoteDataError: No data fetched for symbol IHC using YahooDailyReader\n"
     ]
    },
    {
     "name": "stdout",
     "output_type": "stream",
     "text": [
      "Error downloading daily candlesticks for IHC\n"
     ]
    },
    {
     "name": "stderr",
     "output_type": "stream",
     "text": [
      "Traceback (most recent call last):\n",
      "  File \"/home/jared/.local/share/virtualenvs/stock-prediction-MOS0QyR2/lib/python3.10/site-packages/pandas_datareader/yahoo/daily.py\", line 153, in _read_one_data\n",
      "    data = j[\"context\"][\"dispatcher\"][\"stores\"][\"HistoricalPriceStore\"]\n",
      "KeyError: 'HistoricalPriceStore'\n",
      "\n",
      "During handling of the above exception, another exception occurred:\n",
      "\n",
      "Traceback (most recent call last):\n",
      "  File \"/home/jared/workspace/market-diff/stock-prediction/notebooks/../src/datastore.py\", line 106, in download_daily_candlesticks\n",
      "    data = pdr.DataReader(\n",
      "  File \"/home/jared/.local/share/virtualenvs/stock-prediction-MOS0QyR2/lib/python3.10/site-packages/pandas/util/_decorators.py\", line 207, in wrapper\n",
      "    return func(*args, **kwargs)\n",
      "  File \"/home/jared/.local/share/virtualenvs/stock-prediction-MOS0QyR2/lib/python3.10/site-packages/pandas_datareader/data.py\", line 379, in DataReader\n",
      "    ).read()\n",
      "  File \"/home/jared/.local/share/virtualenvs/stock-prediction-MOS0QyR2/lib/python3.10/site-packages/pandas_datareader/base.py\", line 253, in read\n",
      "    df = self._read_one_data(self.url, params=self._get_params(self.symbols))\n",
      "  File \"/home/jared/.local/share/virtualenvs/stock-prediction-MOS0QyR2/lib/python3.10/site-packages/pandas_datareader/yahoo/daily.py\", line 156, in _read_one_data\n",
      "    raise RemoteDataError(msg.format(symbol, self.__class__.__name__))\n",
      "pandas_datareader._utils.RemoteDataError: No data fetched for symbol DSE using YahooDailyReader\n"
     ]
    },
    {
     "name": "stdout",
     "output_type": "stream",
     "text": [
      "Error downloading daily candlesticks for DSE\n"
     ]
    },
    {
     "name": "stderr",
     "output_type": "stream",
     "text": [
      "Traceback (most recent call last):\n",
      "  File \"/home/jared/.local/share/virtualenvs/stock-prediction-MOS0QyR2/lib/python3.10/site-packages/pandas_datareader/yahoo/daily.py\", line 153, in _read_one_data\n",
      "    data = j[\"context\"][\"dispatcher\"][\"stores\"][\"HistoricalPriceStore\"]\n",
      "KeyError: 'HistoricalPriceStore'\n",
      "\n",
      "During handling of the above exception, another exception occurred:\n",
      "\n",
      "Traceback (most recent call last):\n",
      "  File \"/home/jared/workspace/market-diff/stock-prediction/notebooks/../src/datastore.py\", line 106, in download_daily_candlesticks\n",
      "    data = pdr.DataReader(\n",
      "  File \"/home/jared/.local/share/virtualenvs/stock-prediction-MOS0QyR2/lib/python3.10/site-packages/pandas/util/_decorators.py\", line 207, in wrapper\n",
      "    return func(*args, **kwargs)\n",
      "  File \"/home/jared/.local/share/virtualenvs/stock-prediction-MOS0QyR2/lib/python3.10/site-packages/pandas_datareader/data.py\", line 379, in DataReader\n",
      "    ).read()\n",
      "  File \"/home/jared/.local/share/virtualenvs/stock-prediction-MOS0QyR2/lib/python3.10/site-packages/pandas_datareader/base.py\", line 253, in read\n",
      "    df = self._read_one_data(self.url, params=self._get_params(self.symbols))\n",
      "  File \"/home/jared/.local/share/virtualenvs/stock-prediction-MOS0QyR2/lib/python3.10/site-packages/pandas_datareader/yahoo/daily.py\", line 156, in _read_one_data\n",
      "    raise RemoteDataError(msg.format(symbol, self.__class__.__name__))\n",
      "pandas_datareader._utils.RemoteDataError: No data fetched for symbol NYV using YahooDailyReader\n"
     ]
    },
    {
     "name": "stdout",
     "output_type": "stream",
     "text": [
      "Error downloading daily candlesticks for NYV\n"
     ]
    },
    {
     "name": "stderr",
     "output_type": "stream",
     "text": [
      "Traceback (most recent call last):\n",
      "  File \"/home/jared/.local/share/virtualenvs/stock-prediction-MOS0QyR2/lib/python3.10/site-packages/pandas_datareader/yahoo/daily.py\", line 153, in _read_one_data\n",
      "    data = j[\"context\"][\"dispatcher\"][\"stores\"][\"HistoricalPriceStore\"]\n",
      "KeyError: 'HistoricalPriceStore'\n",
      "\n",
      "During handling of the above exception, another exception occurred:\n",
      "\n",
      "Traceback (most recent call last):\n",
      "  File \"/home/jared/workspace/market-diff/stock-prediction/notebooks/../src/datastore.py\", line 106, in download_daily_candlesticks\n",
      "    data = pdr.DataReader(\n",
      "  File \"/home/jared/.local/share/virtualenvs/stock-prediction-MOS0QyR2/lib/python3.10/site-packages/pandas/util/_decorators.py\", line 207, in wrapper\n",
      "    return func(*args, **kwargs)\n",
      "  File \"/home/jared/.local/share/virtualenvs/stock-prediction-MOS0QyR2/lib/python3.10/site-packages/pandas_datareader/data.py\", line 379, in DataReader\n",
      "    ).read()\n",
      "  File \"/home/jared/.local/share/virtualenvs/stock-prediction-MOS0QyR2/lib/python3.10/site-packages/pandas_datareader/base.py\", line 253, in read\n",
      "    df = self._read_one_data(self.url, params=self._get_params(self.symbols))\n",
      "  File \"/home/jared/.local/share/virtualenvs/stock-prediction-MOS0QyR2/lib/python3.10/site-packages/pandas_datareader/yahoo/daily.py\", line 156, in _read_one_data\n",
      "    raise RemoteDataError(msg.format(symbol, self.__class__.__name__))\n",
      "pandas_datareader._utils.RemoteDataError: No data fetched for symbol GRUB using YahooDailyReader\n"
     ]
    },
    {
     "name": "stdout",
     "output_type": "stream",
     "text": [
      "Error downloading daily candlesticks for GRUB\n"
     ]
    },
    {
     "name": "stderr",
     "output_type": "stream",
     "text": [
      "Traceback (most recent call last):\n",
      "  File \"/home/jared/.local/share/virtualenvs/stock-prediction-MOS0QyR2/lib/python3.10/site-packages/pandas_datareader/yahoo/daily.py\", line 153, in _read_one_data\n",
      "    data = j[\"context\"][\"dispatcher\"][\"stores\"][\"HistoricalPriceStore\"]\n",
      "KeyError: 'HistoricalPriceStore'\n",
      "\n",
      "During handling of the above exception, another exception occurred:\n",
      "\n",
      "Traceback (most recent call last):\n",
      "  File \"/home/jared/workspace/market-diff/stock-prediction/notebooks/../src/datastore.py\", line 106, in download_daily_candlesticks\n",
      "    data = pdr.DataReader(\n",
      "  File \"/home/jared/.local/share/virtualenvs/stock-prediction-MOS0QyR2/lib/python3.10/site-packages/pandas/util/_decorators.py\", line 207, in wrapper\n",
      "    return func(*args, **kwargs)\n",
      "  File \"/home/jared/.local/share/virtualenvs/stock-prediction-MOS0QyR2/lib/python3.10/site-packages/pandas_datareader/data.py\", line 379, in DataReader\n",
      "    ).read()\n",
      "  File \"/home/jared/.local/share/virtualenvs/stock-prediction-MOS0QyR2/lib/python3.10/site-packages/pandas_datareader/base.py\", line 253, in read\n",
      "    df = self._read_one_data(self.url, params=self._get_params(self.symbols))\n",
      "  File \"/home/jared/.local/share/virtualenvs/stock-prediction-MOS0QyR2/lib/python3.10/site-packages/pandas_datareader/yahoo/daily.py\", line 156, in _read_one_data\n",
      "    raise RemoteDataError(msg.format(symbol, self.__class__.__name__))\n",
      "pandas_datareader._utils.RemoteDataError: No data fetched for symbol HKIB using YahooDailyReader\n"
     ]
    },
    {
     "name": "stdout",
     "output_type": "stream",
     "text": [
      "Error downloading daily candlesticks for HKIB\n"
     ]
    },
    {
     "name": "stderr",
     "output_type": "stream",
     "text": [
      "Traceback (most recent call last):\n",
      "  File \"/home/jared/.local/share/virtualenvs/stock-prediction-MOS0QyR2/lib/python3.10/site-packages/pandas_datareader/yahoo/daily.py\", line 153, in _read_one_data\n",
      "    data = j[\"context\"][\"dispatcher\"][\"stores\"][\"HistoricalPriceStore\"]\n",
      "KeyError: 'HistoricalPriceStore'\n",
      "\n",
      "During handling of the above exception, another exception occurred:\n",
      "\n",
      "Traceback (most recent call last):\n",
      "  File \"/home/jared/workspace/market-diff/stock-prediction/notebooks/../src/datastore.py\", line 106, in download_daily_candlesticks\n",
      "    data = pdr.DataReader(\n",
      "  File \"/home/jared/.local/share/virtualenvs/stock-prediction-MOS0QyR2/lib/python3.10/site-packages/pandas/util/_decorators.py\", line 207, in wrapper\n",
      "    return func(*args, **kwargs)\n",
      "  File \"/home/jared/.local/share/virtualenvs/stock-prediction-MOS0QyR2/lib/python3.10/site-packages/pandas_datareader/data.py\", line 379, in DataReader\n",
      "    ).read()\n",
      "  File \"/home/jared/.local/share/virtualenvs/stock-prediction-MOS0QyR2/lib/python3.10/site-packages/pandas_datareader/base.py\", line 253, in read\n",
      "    df = self._read_one_data(self.url, params=self._get_params(self.symbols))\n",
      "  File \"/home/jared/.local/share/virtualenvs/stock-prediction-MOS0QyR2/lib/python3.10/site-packages/pandas_datareader/yahoo/daily.py\", line 156, in _read_one_data\n",
      "    raise RemoteDataError(msg.format(symbol, self.__class__.__name__))\n",
      "pandas_datareader._utils.RemoteDataError: No data fetched for symbol WPF using YahooDailyReader\n"
     ]
    },
    {
     "name": "stdout",
     "output_type": "stream",
     "text": [
      "Error downloading daily candlesticks for WPF\n"
     ]
    },
    {
     "name": "stderr",
     "output_type": "stream",
     "text": [
      "Traceback (most recent call last):\n",
      "  File \"/home/jared/.local/share/virtualenvs/stock-prediction-MOS0QyR2/lib/python3.10/site-packages/pandas_datareader/yahoo/daily.py\", line 153, in _read_one_data\n",
      "    data = j[\"context\"][\"dispatcher\"][\"stores\"][\"HistoricalPriceStore\"]\n",
      "KeyError: 'HistoricalPriceStore'\n",
      "\n",
      "During handling of the above exception, another exception occurred:\n",
      "\n",
      "Traceback (most recent call last):\n",
      "  File \"/home/jared/workspace/market-diff/stock-prediction/notebooks/../src/datastore.py\", line 106, in download_daily_candlesticks\n",
      "    data = pdr.DataReader(\n",
      "  File \"/home/jared/.local/share/virtualenvs/stock-prediction-MOS0QyR2/lib/python3.10/site-packages/pandas/util/_decorators.py\", line 207, in wrapper\n",
      "    return func(*args, **kwargs)\n",
      "  File \"/home/jared/.local/share/virtualenvs/stock-prediction-MOS0QyR2/lib/python3.10/site-packages/pandas_datareader/data.py\", line 379, in DataReader\n",
      "    ).read()\n",
      "  File \"/home/jared/.local/share/virtualenvs/stock-prediction-MOS0QyR2/lib/python3.10/site-packages/pandas_datareader/base.py\", line 253, in read\n",
      "    df = self._read_one_data(self.url, params=self._get_params(self.symbols))\n",
      "  File \"/home/jared/.local/share/virtualenvs/stock-prediction-MOS0QyR2/lib/python3.10/site-packages/pandas_datareader/yahoo/daily.py\", line 156, in _read_one_data\n",
      "    raise RemoteDataError(msg.format(symbol, self.__class__.__name__))\n",
      "pandas_datareader._utils.RemoteDataError: No data fetched for symbol XAN using YahooDailyReader\n"
     ]
    },
    {
     "name": "stdout",
     "output_type": "stream",
     "text": [
      "Error downloading daily candlesticks for XAN\n"
     ]
    },
    {
     "name": "stderr",
     "output_type": "stream",
     "text": [
      "Traceback (most recent call last):\n",
      "  File \"/home/jared/.local/share/virtualenvs/stock-prediction-MOS0QyR2/lib/python3.10/site-packages/pandas_datareader/yahoo/daily.py\", line 153, in _read_one_data\n",
      "    data = j[\"context\"][\"dispatcher\"][\"stores\"][\"HistoricalPriceStore\"]\n",
      "KeyError: 'HistoricalPriceStore'\n",
      "\n",
      "During handling of the above exception, another exception occurred:\n",
      "\n",
      "Traceback (most recent call last):\n",
      "  File \"/home/jared/workspace/market-diff/stock-prediction/notebooks/../src/datastore.py\", line 106, in download_daily_candlesticks\n",
      "    data = pdr.DataReader(\n",
      "  File \"/home/jared/.local/share/virtualenvs/stock-prediction-MOS0QyR2/lib/python3.10/site-packages/pandas/util/_decorators.py\", line 207, in wrapper\n",
      "    return func(*args, **kwargs)\n",
      "  File \"/home/jared/.local/share/virtualenvs/stock-prediction-MOS0QyR2/lib/python3.10/site-packages/pandas_datareader/data.py\", line 379, in DataReader\n",
      "    ).read()\n",
      "  File \"/home/jared/.local/share/virtualenvs/stock-prediction-MOS0QyR2/lib/python3.10/site-packages/pandas_datareader/base.py\", line 253, in read\n",
      "    df = self._read_one_data(self.url, params=self._get_params(self.symbols))\n",
      "  File \"/home/jared/.local/share/virtualenvs/stock-prediction-MOS0QyR2/lib/python3.10/site-packages/pandas_datareader/yahoo/daily.py\", line 156, in _read_one_data\n",
      "    raise RemoteDataError(msg.format(symbol, self.__class__.__name__))\n",
      "pandas_datareader._utils.RemoteDataError: No data fetched for symbol KNL using YahooDailyReader\n"
     ]
    },
    {
     "name": "stdout",
     "output_type": "stream",
     "text": [
      "Error downloading daily candlesticks for KNL\n"
     ]
    },
    {
     "name": "stderr",
     "output_type": "stream",
     "text": [
      "Traceback (most recent call last):\n",
      "  File \"/home/jared/.local/share/virtualenvs/stock-prediction-MOS0QyR2/lib/python3.10/site-packages/pandas_datareader/yahoo/daily.py\", line 153, in _read_one_data\n",
      "    data = j[\"context\"][\"dispatcher\"][\"stores\"][\"HistoricalPriceStore\"]\n",
      "KeyError: 'HistoricalPriceStore'\n",
      "\n",
      "During handling of the above exception, another exception occurred:\n",
      "\n",
      "Traceback (most recent call last):\n",
      "  File \"/home/jared/workspace/market-diff/stock-prediction/notebooks/../src/datastore.py\", line 106, in download_daily_candlesticks\n",
      "    data = pdr.DataReader(\n",
      "  File \"/home/jared/.local/share/virtualenvs/stock-prediction-MOS0QyR2/lib/python3.10/site-packages/pandas/util/_decorators.py\", line 207, in wrapper\n",
      "    return func(*args, **kwargs)\n",
      "  File \"/home/jared/.local/share/virtualenvs/stock-prediction-MOS0QyR2/lib/python3.10/site-packages/pandas_datareader/data.py\", line 379, in DataReader\n",
      "    ).read()\n",
      "  File \"/home/jared/.local/share/virtualenvs/stock-prediction-MOS0QyR2/lib/python3.10/site-packages/pandas_datareader/base.py\", line 253, in read\n",
      "    df = self._read_one_data(self.url, params=self._get_params(self.symbols))\n",
      "  File \"/home/jared/.local/share/virtualenvs/stock-prediction-MOS0QyR2/lib/python3.10/site-packages/pandas_datareader/yahoo/daily.py\", line 156, in _read_one_data\n",
      "    raise RemoteDataError(msg.format(symbol, self.__class__.__name__))\n",
      "pandas_datareader._utils.RemoteDataError: No data fetched for symbol MNK using YahooDailyReader\n"
     ]
    },
    {
     "name": "stdout",
     "output_type": "stream",
     "text": [
      "Error downloading daily candlesticks for MNK\n"
     ]
    },
    {
     "name": "stderr",
     "output_type": "stream",
     "text": [
      "Traceback (most recent call last):\n",
      "  File \"/home/jared/.local/share/virtualenvs/stock-prediction-MOS0QyR2/lib/python3.10/site-packages/pandas_datareader/yahoo/daily.py\", line 153, in _read_one_data\n",
      "    data = j[\"context\"][\"dispatcher\"][\"stores\"][\"HistoricalPriceStore\"]\n",
      "KeyError: 'HistoricalPriceStore'\n",
      "\n",
      "During handling of the above exception, another exception occurred:\n",
      "\n",
      "Traceback (most recent call last):\n",
      "  File \"/home/jared/workspace/market-diff/stock-prediction/notebooks/../src/datastore.py\", line 106, in download_daily_candlesticks\n",
      "    data = pdr.DataReader(\n",
      "  File \"/home/jared/.local/share/virtualenvs/stock-prediction-MOS0QyR2/lib/python3.10/site-packages/pandas/util/_decorators.py\", line 207, in wrapper\n",
      "    return func(*args, **kwargs)\n",
      "  File \"/home/jared/.local/share/virtualenvs/stock-prediction-MOS0QyR2/lib/python3.10/site-packages/pandas_datareader/data.py\", line 379, in DataReader\n",
      "    ).read()\n",
      "  File \"/home/jared/.local/share/virtualenvs/stock-prediction-MOS0QyR2/lib/python3.10/site-packages/pandas_datareader/base.py\", line 253, in read\n",
      "    df = self._read_one_data(self.url, params=self._get_params(self.symbols))\n",
      "  File \"/home/jared/.local/share/virtualenvs/stock-prediction-MOS0QyR2/lib/python3.10/site-packages/pandas_datareader/yahoo/daily.py\", line 156, in _read_one_data\n",
      "    raise RemoteDataError(msg.format(symbol, self.__class__.__name__))\n",
      "pandas_datareader._utils.RemoteDataError: No data fetched for symbol GV using YahooDailyReader\n"
     ]
    },
    {
     "name": "stdout",
     "output_type": "stream",
     "text": [
      "Error downloading daily candlesticks for GV\n"
     ]
    },
    {
     "name": "stderr",
     "output_type": "stream",
     "text": [
      "Traceback (most recent call last):\n",
      "  File \"/home/jared/.local/share/virtualenvs/stock-prediction-MOS0QyR2/lib/python3.10/site-packages/pandas_datareader/yahoo/daily.py\", line 153, in _read_one_data\n",
      "    data = j[\"context\"][\"dispatcher\"][\"stores\"][\"HistoricalPriceStore\"]\n",
      "KeyError: 'HistoricalPriceStore'\n",
      "\n",
      "During handling of the above exception, another exception occurred:\n",
      "\n",
      "Traceback (most recent call last):\n",
      "  File \"/home/jared/workspace/market-diff/stock-prediction/notebooks/../src/datastore.py\", line 106, in download_daily_candlesticks\n",
      "    data = pdr.DataReader(\n",
      "  File \"/home/jared/.local/share/virtualenvs/stock-prediction-MOS0QyR2/lib/python3.10/site-packages/pandas/util/_decorators.py\", line 207, in wrapper\n",
      "    return func(*args, **kwargs)\n",
      "  File \"/home/jared/.local/share/virtualenvs/stock-prediction-MOS0QyR2/lib/python3.10/site-packages/pandas_datareader/data.py\", line 379, in DataReader\n",
      "    ).read()\n",
      "  File \"/home/jared/.local/share/virtualenvs/stock-prediction-MOS0QyR2/lib/python3.10/site-packages/pandas_datareader/base.py\", line 253, in read\n",
      "    df = self._read_one_data(self.url, params=self._get_params(self.symbols))\n",
      "  File \"/home/jared/.local/share/virtualenvs/stock-prediction-MOS0QyR2/lib/python3.10/site-packages/pandas_datareader/yahoo/daily.py\", line 156, in _read_one_data\n",
      "    raise RemoteDataError(msg.format(symbol, self.__class__.__name__))\n",
      "pandas_datareader._utils.RemoteDataError: No data fetched for symbol GTT using YahooDailyReader\n"
     ]
    },
    {
     "name": "stdout",
     "output_type": "stream",
     "text": [
      "Error downloading daily candlesticks for GTT\n"
     ]
    },
    {
     "name": "stderr",
     "output_type": "stream",
     "text": [
      "Traceback (most recent call last):\n",
      "  File \"/home/jared/.local/share/virtualenvs/stock-prediction-MOS0QyR2/lib/python3.10/site-packages/pandas_datareader/yahoo/daily.py\", line 153, in _read_one_data\n",
      "    data = j[\"context\"][\"dispatcher\"][\"stores\"][\"HistoricalPriceStore\"]\n",
      "KeyError: 'HistoricalPriceStore'\n",
      "\n",
      "During handling of the above exception, another exception occurred:\n",
      "\n",
      "Traceback (most recent call last):\n",
      "  File \"/home/jared/workspace/market-diff/stock-prediction/notebooks/../src/datastore.py\", line 106, in download_daily_candlesticks\n",
      "    data = pdr.DataReader(\n",
      "  File \"/home/jared/.local/share/virtualenvs/stock-prediction-MOS0QyR2/lib/python3.10/site-packages/pandas/util/_decorators.py\", line 207, in wrapper\n",
      "    return func(*args, **kwargs)\n",
      "  File \"/home/jared/.local/share/virtualenvs/stock-prediction-MOS0QyR2/lib/python3.10/site-packages/pandas_datareader/data.py\", line 379, in DataReader\n",
      "    ).read()\n",
      "  File \"/home/jared/.local/share/virtualenvs/stock-prediction-MOS0QyR2/lib/python3.10/site-packages/pandas_datareader/base.py\", line 253, in read\n",
      "    df = self._read_one_data(self.url, params=self._get_params(self.symbols))\n",
      "  File \"/home/jared/.local/share/virtualenvs/stock-prediction-MOS0QyR2/lib/python3.10/site-packages/pandas_datareader/yahoo/daily.py\", line 156, in _read_one_data\n",
      "    raise RemoteDataError(msg.format(symbol, self.__class__.__name__))\n",
      "pandas_datareader._utils.RemoteDataError: No data fetched for symbol CTK using YahooDailyReader\n"
     ]
    },
    {
     "name": "stdout",
     "output_type": "stream",
     "text": [
      "Error downloading daily candlesticks for CTK\n"
     ]
    },
    {
     "name": "stderr",
     "output_type": "stream",
     "text": [
      "Traceback (most recent call last):\n",
      "  File \"/home/jared/.local/share/virtualenvs/stock-prediction-MOS0QyR2/lib/python3.10/site-packages/pandas_datareader/yahoo/daily.py\", line 153, in _read_one_data\n",
      "    data = j[\"context\"][\"dispatcher\"][\"stores\"][\"HistoricalPriceStore\"]\n",
      "KeyError: 'HistoricalPriceStore'\n",
      "\n",
      "During handling of the above exception, another exception occurred:\n",
      "\n",
      "Traceback (most recent call last):\n",
      "  File \"/home/jared/workspace/market-diff/stock-prediction/notebooks/../src/datastore.py\", line 106, in download_daily_candlesticks\n",
      "    data = pdr.DataReader(\n",
      "  File \"/home/jared/.local/share/virtualenvs/stock-prediction-MOS0QyR2/lib/python3.10/site-packages/pandas/util/_decorators.py\", line 207, in wrapper\n",
      "    return func(*args, **kwargs)\n",
      "  File \"/home/jared/.local/share/virtualenvs/stock-prediction-MOS0QyR2/lib/python3.10/site-packages/pandas_datareader/data.py\", line 379, in DataReader\n",
      "    ).read()\n",
      "  File \"/home/jared/.local/share/virtualenvs/stock-prediction-MOS0QyR2/lib/python3.10/site-packages/pandas_datareader/base.py\", line 253, in read\n",
      "    df = self._read_one_data(self.url, params=self._get_params(self.symbols))\n",
      "  File \"/home/jared/.local/share/virtualenvs/stock-prediction-MOS0QyR2/lib/python3.10/site-packages/pandas_datareader/yahoo/daily.py\", line 156, in _read_one_data\n",
      "    raise RemoteDataError(msg.format(symbol, self.__class__.__name__))\n",
      "pandas_datareader._utils.RemoteDataError: No data fetched for symbol CFXA using YahooDailyReader\n"
     ]
    },
    {
     "name": "stdout",
     "output_type": "stream",
     "text": [
      "Error downloading daily candlesticks for CFXA\n"
     ]
    },
    {
     "name": "stderr",
     "output_type": "stream",
     "text": [
      "Traceback (most recent call last):\n",
      "  File \"/home/jared/.local/share/virtualenvs/stock-prediction-MOS0QyR2/lib/python3.10/site-packages/pandas_datareader/yahoo/daily.py\", line 153, in _read_one_data\n",
      "    data = j[\"context\"][\"dispatcher\"][\"stores\"][\"HistoricalPriceStore\"]\n",
      "KeyError: 'HistoricalPriceStore'\n",
      "\n",
      "During handling of the above exception, another exception occurred:\n",
      "\n",
      "Traceback (most recent call last):\n",
      "  File \"/home/jared/workspace/market-diff/stock-prediction/notebooks/../src/datastore.py\", line 106, in download_daily_candlesticks\n",
      "    data = pdr.DataReader(\n",
      "  File \"/home/jared/.local/share/virtualenvs/stock-prediction-MOS0QyR2/lib/python3.10/site-packages/pandas/util/_decorators.py\", line 207, in wrapper\n",
      "    return func(*args, **kwargs)\n",
      "  File \"/home/jared/.local/share/virtualenvs/stock-prediction-MOS0QyR2/lib/python3.10/site-packages/pandas_datareader/data.py\", line 379, in DataReader\n",
      "    ).read()\n",
      "  File \"/home/jared/.local/share/virtualenvs/stock-prediction-MOS0QyR2/lib/python3.10/site-packages/pandas_datareader/base.py\", line 253, in read\n",
      "    df = self._read_one_data(self.url, params=self._get_params(self.symbols))\n",
      "  File \"/home/jared/.local/share/virtualenvs/stock-prediction-MOS0QyR2/lib/python3.10/site-packages/pandas_datareader/yahoo/daily.py\", line 156, in _read_one_data\n",
      "    raise RemoteDataError(msg.format(symbol, self.__class__.__name__))\n",
      "pandas_datareader._utils.RemoteDataError: No data fetched for symbol BAF using YahooDailyReader\n"
     ]
    },
    {
     "name": "stdout",
     "output_type": "stream",
     "text": [
      "Error downloading daily candlesticks for BAF\n"
     ]
    },
    {
     "name": "stderr",
     "output_type": "stream",
     "text": [
      "Traceback (most recent call last):\n",
      "  File \"/home/jared/.local/share/virtualenvs/stock-prediction-MOS0QyR2/lib/python3.10/site-packages/pandas_datareader/yahoo/daily.py\", line 153, in _read_one_data\n",
      "    data = j[\"context\"][\"dispatcher\"][\"stores\"][\"HistoricalPriceStore\"]\n",
      "KeyError: 'HistoricalPriceStore'\n",
      "\n",
      "During handling of the above exception, another exception occurred:\n",
      "\n",
      "Traceback (most recent call last):\n",
      "  File \"/home/jared/workspace/market-diff/stock-prediction/notebooks/../src/datastore.py\", line 106, in download_daily_candlesticks\n",
      "    data = pdr.DataReader(\n",
      "  File \"/home/jared/.local/share/virtualenvs/stock-prediction-MOS0QyR2/lib/python3.10/site-packages/pandas/util/_decorators.py\", line 207, in wrapper\n",
      "    return func(*args, **kwargs)\n",
      "  File \"/home/jared/.local/share/virtualenvs/stock-prediction-MOS0QyR2/lib/python3.10/site-packages/pandas_datareader/data.py\", line 379, in DataReader\n",
      "    ).read()\n",
      "  File \"/home/jared/.local/share/virtualenvs/stock-prediction-MOS0QyR2/lib/python3.10/site-packages/pandas_datareader/base.py\", line 253, in read\n",
      "    df = self._read_one_data(self.url, params=self._get_params(self.symbols))\n",
      "  File \"/home/jared/.local/share/virtualenvs/stock-prediction-MOS0QyR2/lib/python3.10/site-packages/pandas_datareader/yahoo/daily.py\", line 156, in _read_one_data\n",
      "    raise RemoteDataError(msg.format(symbol, self.__class__.__name__))\n",
      "pandas_datareader._utils.RemoteDataError: No data fetched for symbol PCI using YahooDailyReader\n"
     ]
    },
    {
     "name": "stdout",
     "output_type": "stream",
     "text": [
      "Error downloading daily candlesticks for PCI\n"
     ]
    },
    {
     "name": "stderr",
     "output_type": "stream",
     "text": [
      "Traceback (most recent call last):\n",
      "  File \"/home/jared/.local/share/virtualenvs/stock-prediction-MOS0QyR2/lib/python3.10/site-packages/pandas_datareader/yahoo/daily.py\", line 153, in _read_one_data\n",
      "    data = j[\"context\"][\"dispatcher\"][\"stores\"][\"HistoricalPriceStore\"]\n",
      "KeyError: 'HistoricalPriceStore'\n",
      "\n",
      "During handling of the above exception, another exception occurred:\n",
      "\n",
      "Traceback (most recent call last):\n",
      "  File \"/home/jared/workspace/market-diff/stock-prediction/notebooks/../src/datastore.py\", line 106, in download_daily_candlesticks\n",
      "    data = pdr.DataReader(\n",
      "  File \"/home/jared/.local/share/virtualenvs/stock-prediction-MOS0QyR2/lib/python3.10/site-packages/pandas/util/_decorators.py\", line 207, in wrapper\n",
      "    return func(*args, **kwargs)\n",
      "  File \"/home/jared/.local/share/virtualenvs/stock-prediction-MOS0QyR2/lib/python3.10/site-packages/pandas_datareader/data.py\", line 379, in DataReader\n",
      "    ).read()\n",
      "  File \"/home/jared/.local/share/virtualenvs/stock-prediction-MOS0QyR2/lib/python3.10/site-packages/pandas_datareader/base.py\", line 253, in read\n",
      "    df = self._read_one_data(self.url, params=self._get_params(self.symbols))\n",
      "  File \"/home/jared/.local/share/virtualenvs/stock-prediction-MOS0QyR2/lib/python3.10/site-packages/pandas_datareader/yahoo/daily.py\", line 156, in _read_one_data\n",
      "    raise RemoteDataError(msg.format(symbol, self.__class__.__name__))\n",
      "pandas_datareader._utils.RemoteDataError: No data fetched for symbol NWHM using YahooDailyReader\n"
     ]
    },
    {
     "name": "stdout",
     "output_type": "stream",
     "text": [
      "Error downloading daily candlesticks for NWHM\n"
     ]
    },
    {
     "name": "stderr",
     "output_type": "stream",
     "text": [
      "Traceback (most recent call last):\n",
      "  File \"/home/jared/.local/share/virtualenvs/stock-prediction-MOS0QyR2/lib/python3.10/site-packages/pandas_datareader/yahoo/daily.py\", line 153, in _read_one_data\n",
      "    data = j[\"context\"][\"dispatcher\"][\"stores\"][\"HistoricalPriceStore\"]\n",
      "KeyError: 'HistoricalPriceStore'\n",
      "\n",
      "During handling of the above exception, another exception occurred:\n",
      "\n",
      "Traceback (most recent call last):\n",
      "  File \"/home/jared/workspace/market-diff/stock-prediction/notebooks/../src/datastore.py\", line 106, in download_daily_candlesticks\n",
      "    data = pdr.DataReader(\n",
      "  File \"/home/jared/.local/share/virtualenvs/stock-prediction-MOS0QyR2/lib/python3.10/site-packages/pandas/util/_decorators.py\", line 207, in wrapper\n",
      "    return func(*args, **kwargs)\n",
      "  File \"/home/jared/.local/share/virtualenvs/stock-prediction-MOS0QyR2/lib/python3.10/site-packages/pandas_datareader/data.py\", line 379, in DataReader\n",
      "    ).read()\n",
      "  File \"/home/jared/.local/share/virtualenvs/stock-prediction-MOS0QyR2/lib/python3.10/site-packages/pandas_datareader/base.py\", line 253, in read\n",
      "    df = self._read_one_data(self.url, params=self._get_params(self.symbols))\n",
      "  File \"/home/jared/.local/share/virtualenvs/stock-prediction-MOS0QyR2/lib/python3.10/site-packages/pandas_datareader/yahoo/daily.py\", line 156, in _read_one_data\n",
      "    raise RemoteDataError(msg.format(symbol, self.__class__.__name__))\n",
      "pandas_datareader._utils.RemoteDataError: No data fetched for symbol EROS using YahooDailyReader\n"
     ]
    },
    {
     "name": "stdout",
     "output_type": "stream",
     "text": [
      "Error downloading daily candlesticks for EROS\n"
     ]
    },
    {
     "name": "stderr",
     "output_type": "stream",
     "text": [
      "Traceback (most recent call last):\n",
      "  File \"/home/jared/.local/share/virtualenvs/stock-prediction-MOS0QyR2/lib/python3.10/site-packages/pandas_datareader/yahoo/daily.py\", line 153, in _read_one_data\n",
      "    data = j[\"context\"][\"dispatcher\"][\"stores\"][\"HistoricalPriceStore\"]\n",
      "KeyError: 'HistoricalPriceStore'\n",
      "\n",
      "During handling of the above exception, another exception occurred:\n",
      "\n",
      "Traceback (most recent call last):\n",
      "  File \"/home/jared/workspace/market-diff/stock-prediction/notebooks/../src/datastore.py\", line 106, in download_daily_candlesticks\n",
      "    data = pdr.DataReader(\n",
      "  File \"/home/jared/.local/share/virtualenvs/stock-prediction-MOS0QyR2/lib/python3.10/site-packages/pandas/util/_decorators.py\", line 207, in wrapper\n",
      "    return func(*args, **kwargs)\n",
      "  File \"/home/jared/.local/share/virtualenvs/stock-prediction-MOS0QyR2/lib/python3.10/site-packages/pandas_datareader/data.py\", line 379, in DataReader\n",
      "    ).read()\n",
      "  File \"/home/jared/.local/share/virtualenvs/stock-prediction-MOS0QyR2/lib/python3.10/site-packages/pandas_datareader/base.py\", line 253, in read\n",
      "    df = self._read_one_data(self.url, params=self._get_params(self.symbols))\n",
      "  File \"/home/jared/.local/share/virtualenvs/stock-prediction-MOS0QyR2/lib/python3.10/site-packages/pandas_datareader/yahoo/daily.py\", line 156, in _read_one_data\n",
      "    raise RemoteDataError(msg.format(symbol, self.__class__.__name__))\n",
      "pandas_datareader._utils.RemoteDataError: No data fetched for symbol PIC using YahooDailyReader\n"
     ]
    },
    {
     "name": "stdout",
     "output_type": "stream",
     "text": [
      "Error downloading daily candlesticks for PIC\n"
     ]
    },
    {
     "name": "stderr",
     "output_type": "stream",
     "text": [
      "Traceback (most recent call last):\n",
      "  File \"/home/jared/.local/share/virtualenvs/stock-prediction-MOS0QyR2/lib/python3.10/site-packages/pandas_datareader/yahoo/daily.py\", line 153, in _read_one_data\n",
      "    data = j[\"context\"][\"dispatcher\"][\"stores\"][\"HistoricalPriceStore\"]\n",
      "KeyError: 'HistoricalPriceStore'\n",
      "\n",
      "During handling of the above exception, another exception occurred:\n",
      "\n",
      "Traceback (most recent call last):\n",
      "  File \"/home/jared/workspace/market-diff/stock-prediction/notebooks/../src/datastore.py\", line 106, in download_daily_candlesticks\n",
      "    data = pdr.DataReader(\n",
      "  File \"/home/jared/.local/share/virtualenvs/stock-prediction-MOS0QyR2/lib/python3.10/site-packages/pandas/util/_decorators.py\", line 207, in wrapper\n",
      "    return func(*args, **kwargs)\n",
      "  File \"/home/jared/.local/share/virtualenvs/stock-prediction-MOS0QyR2/lib/python3.10/site-packages/pandas_datareader/data.py\", line 379, in DataReader\n",
      "    ).read()\n",
      "  File \"/home/jared/.local/share/virtualenvs/stock-prediction-MOS0QyR2/lib/python3.10/site-packages/pandas_datareader/base.py\", line 253, in read\n",
      "    df = self._read_one_data(self.url, params=self._get_params(self.symbols))\n",
      "  File \"/home/jared/.local/share/virtualenvs/stock-prediction-MOS0QyR2/lib/python3.10/site-packages/pandas_datareader/yahoo/daily.py\", line 156, in _read_one_data\n",
      "    raise RemoteDataError(msg.format(symbol, self.__class__.__name__))\n",
      "pandas_datareader._utils.RemoteDataError: No data fetched for symbol LGVW using YahooDailyReader\n"
     ]
    },
    {
     "name": "stdout",
     "output_type": "stream",
     "text": [
      "Error downloading daily candlesticks for LGVW\n"
     ]
    },
    {
     "name": "stderr",
     "output_type": "stream",
     "text": [
      "Traceback (most recent call last):\n",
      "  File \"/home/jared/.local/share/virtualenvs/stock-prediction-MOS0QyR2/lib/python3.10/site-packages/pandas_datareader/yahoo/daily.py\", line 153, in _read_one_data\n",
      "    data = j[\"context\"][\"dispatcher\"][\"stores\"][\"HistoricalPriceStore\"]\n",
      "KeyError: 'HistoricalPriceStore'\n",
      "\n",
      "During handling of the above exception, another exception occurred:\n",
      "\n",
      "Traceback (most recent call last):\n",
      "  File \"/home/jared/workspace/market-diff/stock-prediction/notebooks/../src/datastore.py\", line 106, in download_daily_candlesticks\n",
      "    data = pdr.DataReader(\n",
      "  File \"/home/jared/.local/share/virtualenvs/stock-prediction-MOS0QyR2/lib/python3.10/site-packages/pandas/util/_decorators.py\", line 207, in wrapper\n",
      "    return func(*args, **kwargs)\n",
      "  File \"/home/jared/.local/share/virtualenvs/stock-prediction-MOS0QyR2/lib/python3.10/site-packages/pandas_datareader/data.py\", line 379, in DataReader\n",
      "    ).read()\n",
      "  File \"/home/jared/.local/share/virtualenvs/stock-prediction-MOS0QyR2/lib/python3.10/site-packages/pandas_datareader/base.py\", line 253, in read\n",
      "    df = self._read_one_data(self.url, params=self._get_params(self.symbols))\n",
      "  File \"/home/jared/.local/share/virtualenvs/stock-prediction-MOS0QyR2/lib/python3.10/site-packages/pandas_datareader/yahoo/daily.py\", line 156, in _read_one_data\n",
      "    raise RemoteDataError(msg.format(symbol, self.__class__.__name__))\n",
      "pandas_datareader._utils.RemoteDataError: No data fetched for symbol GTS using YahooDailyReader\n"
     ]
    },
    {
     "name": "stdout",
     "output_type": "stream",
     "text": [
      "Error downloading daily candlesticks for GTS\n"
     ]
    },
    {
     "name": "stderr",
     "output_type": "stream",
     "text": [
      "Traceback (most recent call last):\n",
      "  File \"/home/jared/.local/share/virtualenvs/stock-prediction-MOS0QyR2/lib/python3.10/site-packages/pandas_datareader/yahoo/daily.py\", line 153, in _read_one_data\n",
      "    data = j[\"context\"][\"dispatcher\"][\"stores\"][\"HistoricalPriceStore\"]\n",
      "KeyError: 'HistoricalPriceStore'\n",
      "\n",
      "During handling of the above exception, another exception occurred:\n",
      "\n",
      "Traceback (most recent call last):\n",
      "  File \"/home/jared/workspace/market-diff/stock-prediction/notebooks/../src/datastore.py\", line 106, in download_daily_candlesticks\n",
      "    data = pdr.DataReader(\n",
      "  File \"/home/jared/.local/share/virtualenvs/stock-prediction-MOS0QyR2/lib/python3.10/site-packages/pandas/util/_decorators.py\", line 207, in wrapper\n",
      "    return func(*args, **kwargs)\n",
      "  File \"/home/jared/.local/share/virtualenvs/stock-prediction-MOS0QyR2/lib/python3.10/site-packages/pandas_datareader/data.py\", line 379, in DataReader\n",
      "    ).read()\n",
      "  File \"/home/jared/.local/share/virtualenvs/stock-prediction-MOS0QyR2/lib/python3.10/site-packages/pandas_datareader/base.py\", line 253, in read\n",
      "    df = self._read_one_data(self.url, params=self._get_params(self.symbols))\n",
      "  File \"/home/jared/.local/share/virtualenvs/stock-prediction-MOS0QyR2/lib/python3.10/site-packages/pandas_datareader/yahoo/daily.py\", line 156, in _read_one_data\n",
      "    raise RemoteDataError(msg.format(symbol, self.__class__.__name__))\n",
      "pandas_datareader._utils.RemoteDataError: No data fetched for symbol DL using YahooDailyReader\n"
     ]
    },
    {
     "name": "stdout",
     "output_type": "stream",
     "text": [
      "Error downloading daily candlesticks for DL\n"
     ]
    },
    {
     "name": "stderr",
     "output_type": "stream",
     "text": [
      "Traceback (most recent call last):\n",
      "  File \"/home/jared/.local/share/virtualenvs/stock-prediction-MOS0QyR2/lib/python3.10/site-packages/pandas_datareader/yahoo/daily.py\", line 153, in _read_one_data\n",
      "    data = j[\"context\"][\"dispatcher\"][\"stores\"][\"HistoricalPriceStore\"]\n",
      "KeyError: 'HistoricalPriceStore'\n",
      "\n",
      "During handling of the above exception, another exception occurred:\n",
      "\n",
      "Traceback (most recent call last):\n",
      "  File \"/home/jared/workspace/market-diff/stock-prediction/notebooks/../src/datastore.py\", line 106, in download_daily_candlesticks\n",
      "    data = pdr.DataReader(\n",
      "  File \"/home/jared/.local/share/virtualenvs/stock-prediction-MOS0QyR2/lib/python3.10/site-packages/pandas/util/_decorators.py\", line 207, in wrapper\n",
      "    return func(*args, **kwargs)\n",
      "  File \"/home/jared/.local/share/virtualenvs/stock-prediction-MOS0QyR2/lib/python3.10/site-packages/pandas_datareader/data.py\", line 379, in DataReader\n",
      "    ).read()\n",
      "  File \"/home/jared/.local/share/virtualenvs/stock-prediction-MOS0QyR2/lib/python3.10/site-packages/pandas_datareader/base.py\", line 253, in read\n",
      "    df = self._read_one_data(self.url, params=self._get_params(self.symbols))\n",
      "  File \"/home/jared/.local/share/virtualenvs/stock-prediction-MOS0QyR2/lib/python3.10/site-packages/pandas_datareader/yahoo/daily.py\", line 156, in _read_one_data\n",
      "    raise RemoteDataError(msg.format(symbol, self.__class__.__name__))\n",
      "pandas_datareader._utils.RemoteDataError: No data fetched for symbol CVU using YahooDailyReader\n"
     ]
    },
    {
     "name": "stdout",
     "output_type": "stream",
     "text": [
      "Error downloading daily candlesticks for CVU\n"
     ]
    },
    {
     "name": "stderr",
     "output_type": "stream",
     "text": [
      "Traceback (most recent call last):\n",
      "  File \"/home/jared/.local/share/virtualenvs/stock-prediction-MOS0QyR2/lib/python3.10/site-packages/pandas_datareader/yahoo/daily.py\", line 153, in _read_one_data\n",
      "    data = j[\"context\"][\"dispatcher\"][\"stores\"][\"HistoricalPriceStore\"]\n",
      "KeyError: 'HistoricalPriceStore'\n",
      "\n",
      "During handling of the above exception, another exception occurred:\n",
      "\n",
      "Traceback (most recent call last):\n",
      "  File \"/home/jared/workspace/market-diff/stock-prediction/notebooks/../src/datastore.py\", line 106, in download_daily_candlesticks\n",
      "    data = pdr.DataReader(\n",
      "  File \"/home/jared/.local/share/virtualenvs/stock-prediction-MOS0QyR2/lib/python3.10/site-packages/pandas/util/_decorators.py\", line 207, in wrapper\n",
      "    return func(*args, **kwargs)\n",
      "  File \"/home/jared/.local/share/virtualenvs/stock-prediction-MOS0QyR2/lib/python3.10/site-packages/pandas_datareader/data.py\", line 379, in DataReader\n",
      "    ).read()\n",
      "  File \"/home/jared/.local/share/virtualenvs/stock-prediction-MOS0QyR2/lib/python3.10/site-packages/pandas_datareader/base.py\", line 253, in read\n",
      "    df = self._read_one_data(self.url, params=self._get_params(self.symbols))\n",
      "  File \"/home/jared/.local/share/virtualenvs/stock-prediction-MOS0QyR2/lib/python3.10/site-packages/pandas_datareader/yahoo/daily.py\", line 156, in _read_one_data\n",
      "    raise RemoteDataError(msg.format(symbol, self.__class__.__name__))\n",
      "pandas_datareader._utils.RemoteDataError: No data fetched for symbol TLI using YahooDailyReader\n"
     ]
    },
    {
     "name": "stdout",
     "output_type": "stream",
     "text": [
      "Error downloading daily candlesticks for TLI\n"
     ]
    },
    {
     "name": "stderr",
     "output_type": "stream",
     "text": [
      "Traceback (most recent call last):\n",
      "  File \"/home/jared/.local/share/virtualenvs/stock-prediction-MOS0QyR2/lib/python3.10/site-packages/pandas_datareader/yahoo/daily.py\", line 153, in _read_one_data\n",
      "    data = j[\"context\"][\"dispatcher\"][\"stores\"][\"HistoricalPriceStore\"]\n",
      "KeyError: 'HistoricalPriceStore'\n",
      "\n",
      "During handling of the above exception, another exception occurred:\n",
      "\n",
      "Traceback (most recent call last):\n",
      "  File \"/home/jared/workspace/market-diff/stock-prediction/notebooks/../src/datastore.py\", line 106, in download_daily_candlesticks\n",
      "    data = pdr.DataReader(\n",
      "  File \"/home/jared/.local/share/virtualenvs/stock-prediction-MOS0QyR2/lib/python3.10/site-packages/pandas/util/_decorators.py\", line 207, in wrapper\n",
      "    return func(*args, **kwargs)\n",
      "  File \"/home/jared/.local/share/virtualenvs/stock-prediction-MOS0QyR2/lib/python3.10/site-packages/pandas_datareader/data.py\", line 379, in DataReader\n",
      "    ).read()\n",
      "  File \"/home/jared/.local/share/virtualenvs/stock-prediction-MOS0QyR2/lib/python3.10/site-packages/pandas_datareader/base.py\", line 253, in read\n",
      "    df = self._read_one_data(self.url, params=self._get_params(self.symbols))\n",
      "  File \"/home/jared/.local/share/virtualenvs/stock-prediction-MOS0QyR2/lib/python3.10/site-packages/pandas_datareader/yahoo/daily.py\", line 156, in _read_one_data\n",
      "    raise RemoteDataError(msg.format(symbol, self.__class__.__name__))\n",
      "pandas_datareader._utils.RemoteDataError: No data fetched for symbol SFUN using YahooDailyReader\n"
     ]
    },
    {
     "name": "stdout",
     "output_type": "stream",
     "text": [
      "Error downloading daily candlesticks for SFUN\n"
     ]
    },
    {
     "name": "stderr",
     "output_type": "stream",
     "text": [
      "Traceback (most recent call last):\n",
      "  File \"/home/jared/.local/share/virtualenvs/stock-prediction-MOS0QyR2/lib/python3.10/site-packages/pandas_datareader/yahoo/daily.py\", line 153, in _read_one_data\n",
      "    data = j[\"context\"][\"dispatcher\"][\"stores\"][\"HistoricalPriceStore\"]\n",
      "KeyError: 'HistoricalPriceStore'\n",
      "\n",
      "During handling of the above exception, another exception occurred:\n",
      "\n",
      "Traceback (most recent call last):\n",
      "  File \"/home/jared/workspace/market-diff/stock-prediction/notebooks/../src/datastore.py\", line 106, in download_daily_candlesticks\n",
      "    data = pdr.DataReader(\n",
      "  File \"/home/jared/.local/share/virtualenvs/stock-prediction-MOS0QyR2/lib/python3.10/site-packages/pandas/util/_decorators.py\", line 207, in wrapper\n",
      "    return func(*args, **kwargs)\n",
      "  File \"/home/jared/.local/share/virtualenvs/stock-prediction-MOS0QyR2/lib/python3.10/site-packages/pandas_datareader/data.py\", line 379, in DataReader\n",
      "    ).read()\n",
      "  File \"/home/jared/.local/share/virtualenvs/stock-prediction-MOS0QyR2/lib/python3.10/site-packages/pandas_datareader/base.py\", line 253, in read\n",
      "    df = self._read_one_data(self.url, params=self._get_params(self.symbols))\n",
      "  File \"/home/jared/.local/share/virtualenvs/stock-prediction-MOS0QyR2/lib/python3.10/site-packages/pandas_datareader/yahoo/daily.py\", line 156, in _read_one_data\n",
      "    raise RemoteDataError(msg.format(symbol, self.__class__.__name__))\n",
      "pandas_datareader._utils.RemoteDataError: No data fetched for symbol PFNX using YahooDailyReader\n"
     ]
    },
    {
     "name": "stdout",
     "output_type": "stream",
     "text": [
      "Error downloading daily candlesticks for PFNX\n"
     ]
    },
    {
     "name": "stderr",
     "output_type": "stream",
     "text": [
      "Traceback (most recent call last):\n",
      "  File \"/home/jared/.local/share/virtualenvs/stock-prediction-MOS0QyR2/lib/python3.10/site-packages/pandas_datareader/yahoo/daily.py\", line 153, in _read_one_data\n",
      "    data = j[\"context\"][\"dispatcher\"][\"stores\"][\"HistoricalPriceStore\"]\n",
      "KeyError: 'HistoricalPriceStore'\n",
      "\n",
      "During handling of the above exception, another exception occurred:\n",
      "\n",
      "Traceback (most recent call last):\n",
      "  File \"/home/jared/workspace/market-diff/stock-prediction/notebooks/../src/datastore.py\", line 106, in download_daily_candlesticks\n",
      "    data = pdr.DataReader(\n",
      "  File \"/home/jared/.local/share/virtualenvs/stock-prediction-MOS0QyR2/lib/python3.10/site-packages/pandas/util/_decorators.py\", line 207, in wrapper\n",
      "    return func(*args, **kwargs)\n",
      "  File \"/home/jared/.local/share/virtualenvs/stock-prediction-MOS0QyR2/lib/python3.10/site-packages/pandas_datareader/data.py\", line 379, in DataReader\n",
      "    ).read()\n",
      "  File \"/home/jared/.local/share/virtualenvs/stock-prediction-MOS0QyR2/lib/python3.10/site-packages/pandas_datareader/base.py\", line 253, in read\n",
      "    df = self._read_one_data(self.url, params=self._get_params(self.symbols))\n",
      "  File \"/home/jared/.local/share/virtualenvs/stock-prediction-MOS0QyR2/lib/python3.10/site-packages/pandas_datareader/yahoo/daily.py\", line 156, in _read_one_data\n",
      "    raise RemoteDataError(msg.format(symbol, self.__class__.__name__))\n",
      "pandas_datareader._utils.RemoteDataError: No data fetched for symbol ARD using YahooDailyReader\n"
     ]
    },
    {
     "name": "stdout",
     "output_type": "stream",
     "text": [
      "Error downloading daily candlesticks for ARD\n"
     ]
    },
    {
     "name": "stderr",
     "output_type": "stream",
     "text": [
      "Traceback (most recent call last):\n",
      "  File \"/home/jared/.local/share/virtualenvs/stock-prediction-MOS0QyR2/lib/python3.10/site-packages/pandas_datareader/yahoo/daily.py\", line 153, in _read_one_data\n",
      "    data = j[\"context\"][\"dispatcher\"][\"stores\"][\"HistoricalPriceStore\"]\n",
      "KeyError: 'HistoricalPriceStore'\n",
      "\n",
      "During handling of the above exception, another exception occurred:\n",
      "\n",
      "Traceback (most recent call last):\n",
      "  File \"/home/jared/workspace/market-diff/stock-prediction/notebooks/../src/datastore.py\", line 106, in download_daily_candlesticks\n",
      "    data = pdr.DataReader(\n",
      "  File \"/home/jared/.local/share/virtualenvs/stock-prediction-MOS0QyR2/lib/python3.10/site-packages/pandas/util/_decorators.py\", line 207, in wrapper\n",
      "    return func(*args, **kwargs)\n",
      "  File \"/home/jared/.local/share/virtualenvs/stock-prediction-MOS0QyR2/lib/python3.10/site-packages/pandas_datareader/data.py\", line 379, in DataReader\n",
      "    ).read()\n",
      "  File \"/home/jared/.local/share/virtualenvs/stock-prediction-MOS0QyR2/lib/python3.10/site-packages/pandas_datareader/base.py\", line 253, in read\n",
      "    df = self._read_one_data(self.url, params=self._get_params(self.symbols))\n",
      "  File \"/home/jared/.local/share/virtualenvs/stock-prediction-MOS0QyR2/lib/python3.10/site-packages/pandas_datareader/yahoo/daily.py\", line 156, in _read_one_data\n",
      "    raise RemoteDataError(msg.format(symbol, self.__class__.__name__))\n",
      "pandas_datareader._utils.RemoteDataError: No data fetched for symbol TREC using YahooDailyReader\n"
     ]
    },
    {
     "name": "stdout",
     "output_type": "stream",
     "text": [
      "Error downloading daily candlesticks for TREC\n"
     ]
    },
    {
     "name": "stderr",
     "output_type": "stream",
     "text": [
      "Traceback (most recent call last):\n",
      "  File \"/home/jared/.local/share/virtualenvs/stock-prediction-MOS0QyR2/lib/python3.10/site-packages/pandas_datareader/yahoo/daily.py\", line 153, in _read_one_data\n",
      "    data = j[\"context\"][\"dispatcher\"][\"stores\"][\"HistoricalPriceStore\"]\n",
      "KeyError: 'HistoricalPriceStore'\n",
      "\n",
      "During handling of the above exception, another exception occurred:\n",
      "\n",
      "Traceback (most recent call last):\n",
      "  File \"/home/jared/workspace/market-diff/stock-prediction/notebooks/../src/datastore.py\", line 106, in download_daily_candlesticks\n",
      "    data = pdr.DataReader(\n",
      "  File \"/home/jared/.local/share/virtualenvs/stock-prediction-MOS0QyR2/lib/python3.10/site-packages/pandas/util/_decorators.py\", line 207, in wrapper\n",
      "    return func(*args, **kwargs)\n",
      "  File \"/home/jared/.local/share/virtualenvs/stock-prediction-MOS0QyR2/lib/python3.10/site-packages/pandas_datareader/data.py\", line 379, in DataReader\n",
      "    ).read()\n",
      "  File \"/home/jared/.local/share/virtualenvs/stock-prediction-MOS0QyR2/lib/python3.10/site-packages/pandas_datareader/base.py\", line 253, in read\n",
      "    df = self._read_one_data(self.url, params=self._get_params(self.symbols))\n",
      "  File \"/home/jared/.local/share/virtualenvs/stock-prediction-MOS0QyR2/lib/python3.10/site-packages/pandas_datareader/yahoo/daily.py\", line 156, in _read_one_data\n",
      "    raise RemoteDataError(msg.format(symbol, self.__class__.__name__))\n",
      "pandas_datareader._utils.RemoteDataError: No data fetched for symbol BCEI using YahooDailyReader\n"
     ]
    },
    {
     "name": "stdout",
     "output_type": "stream",
     "text": [
      "Error downloading daily candlesticks for BCEI\n"
     ]
    },
    {
     "name": "stderr",
     "output_type": "stream",
     "text": [
      "Traceback (most recent call last):\n",
      "  File \"/home/jared/.local/share/virtualenvs/stock-prediction-MOS0QyR2/lib/python3.10/site-packages/pandas_datareader/yahoo/daily.py\", line 153, in _read_one_data\n",
      "    data = j[\"context\"][\"dispatcher\"][\"stores\"][\"HistoricalPriceStore\"]\n",
      "KeyError: 'HistoricalPriceStore'\n",
      "\n",
      "During handling of the above exception, another exception occurred:\n",
      "\n",
      "Traceback (most recent call last):\n",
      "  File \"/home/jared/workspace/market-diff/stock-prediction/notebooks/../src/datastore.py\", line 106, in download_daily_candlesticks\n",
      "    data = pdr.DataReader(\n",
      "  File \"/home/jared/.local/share/virtualenvs/stock-prediction-MOS0QyR2/lib/python3.10/site-packages/pandas/util/_decorators.py\", line 207, in wrapper\n",
      "    return func(*args, **kwargs)\n",
      "  File \"/home/jared/.local/share/virtualenvs/stock-prediction-MOS0QyR2/lib/python3.10/site-packages/pandas_datareader/data.py\", line 379, in DataReader\n",
      "    ).read()\n",
      "  File \"/home/jared/.local/share/virtualenvs/stock-prediction-MOS0QyR2/lib/python3.10/site-packages/pandas_datareader/base.py\", line 253, in read\n",
      "    df = self._read_one_data(self.url, params=self._get_params(self.symbols))\n",
      "  File \"/home/jared/.local/share/virtualenvs/stock-prediction-MOS0QyR2/lib/python3.10/site-packages/pandas_datareader/yahoo/daily.py\", line 156, in _read_one_data\n",
      "    raise RemoteDataError(msg.format(symbol, self.__class__.__name__))\n",
      "pandas_datareader._utils.RemoteDataError: No data fetched for symbol GIX~ using YahooDailyReader\n"
     ]
    },
    {
     "name": "stdout",
     "output_type": "stream",
     "text": [
      "Error downloading daily candlesticks for GIX~\n"
     ]
    },
    {
     "name": "stderr",
     "output_type": "stream",
     "text": [
      "Traceback (most recent call last):\n",
      "  File \"/home/jared/.local/share/virtualenvs/stock-prediction-MOS0QyR2/lib/python3.10/site-packages/pandas_datareader/yahoo/daily.py\", line 153, in _read_one_data\n",
      "    data = j[\"context\"][\"dispatcher\"][\"stores\"][\"HistoricalPriceStore\"]\n",
      "KeyError: 'HistoricalPriceStore'\n",
      "\n",
      "During handling of the above exception, another exception occurred:\n",
      "\n",
      "Traceback (most recent call last):\n",
      "  File \"/home/jared/workspace/market-diff/stock-prediction/notebooks/../src/datastore.py\", line 106, in download_daily_candlesticks\n",
      "    data = pdr.DataReader(\n",
      "  File \"/home/jared/.local/share/virtualenvs/stock-prediction-MOS0QyR2/lib/python3.10/site-packages/pandas/util/_decorators.py\", line 207, in wrapper\n",
      "    return func(*args, **kwargs)\n",
      "  File \"/home/jared/.local/share/virtualenvs/stock-prediction-MOS0QyR2/lib/python3.10/site-packages/pandas_datareader/data.py\", line 379, in DataReader\n",
      "    ).read()\n",
      "  File \"/home/jared/.local/share/virtualenvs/stock-prediction-MOS0QyR2/lib/python3.10/site-packages/pandas_datareader/base.py\", line 253, in read\n",
      "    df = self._read_one_data(self.url, params=self._get_params(self.symbols))\n",
      "  File \"/home/jared/.local/share/virtualenvs/stock-prediction-MOS0QyR2/lib/python3.10/site-packages/pandas_datareader/yahoo/daily.py\", line 156, in _read_one_data\n",
      "    raise RemoteDataError(msg.format(symbol, self.__class__.__name__))\n",
      "pandas_datareader._utils.RemoteDataError: No data fetched for symbol IID using YahooDailyReader\n"
     ]
    },
    {
     "name": "stdout",
     "output_type": "stream",
     "text": [
      "Error downloading daily candlesticks for IID\n"
     ]
    },
    {
     "name": "stderr",
     "output_type": "stream",
     "text": [
      "Traceback (most recent call last):\n",
      "  File \"/home/jared/.local/share/virtualenvs/stock-prediction-MOS0QyR2/lib/python3.10/site-packages/pandas_datareader/yahoo/daily.py\", line 153, in _read_one_data\n",
      "    data = j[\"context\"][\"dispatcher\"][\"stores\"][\"HistoricalPriceStore\"]\n",
      "KeyError: 'HistoricalPriceStore'\n",
      "\n",
      "During handling of the above exception, another exception occurred:\n",
      "\n",
      "Traceback (most recent call last):\n",
      "  File \"/home/jared/workspace/market-diff/stock-prediction/notebooks/../src/datastore.py\", line 106, in download_daily_candlesticks\n",
      "    data = pdr.DataReader(\n",
      "  File \"/home/jared/.local/share/virtualenvs/stock-prediction-MOS0QyR2/lib/python3.10/site-packages/pandas/util/_decorators.py\", line 207, in wrapper\n",
      "    return func(*args, **kwargs)\n",
      "  File \"/home/jared/.local/share/virtualenvs/stock-prediction-MOS0QyR2/lib/python3.10/site-packages/pandas_datareader/data.py\", line 379, in DataReader\n",
      "    ).read()\n",
      "  File \"/home/jared/.local/share/virtualenvs/stock-prediction-MOS0QyR2/lib/python3.10/site-packages/pandas_datareader/base.py\", line 253, in read\n",
      "    df = self._read_one_data(self.url, params=self._get_params(self.symbols))\n",
      "  File \"/home/jared/.local/share/virtualenvs/stock-prediction-MOS0QyR2/lib/python3.10/site-packages/pandas_datareader/yahoo/daily.py\", line 156, in _read_one_data\n",
      "    raise RemoteDataError(msg.format(symbol, self.__class__.__name__))\n",
      "pandas_datareader._utils.RemoteDataError: No data fetched for symbol COG using YahooDailyReader\n"
     ]
    },
    {
     "name": "stdout",
     "output_type": "stream",
     "text": [
      "Error downloading daily candlesticks for COG\n"
     ]
    },
    {
     "name": "stderr",
     "output_type": "stream",
     "text": [
      "Traceback (most recent call last):\n",
      "  File \"/home/jared/.local/share/virtualenvs/stock-prediction-MOS0QyR2/lib/python3.10/site-packages/pandas_datareader/yahoo/daily.py\", line 153, in _read_one_data\n",
      "    data = j[\"context\"][\"dispatcher\"][\"stores\"][\"HistoricalPriceStore\"]\n",
      "KeyError: 'HistoricalPriceStore'\n",
      "\n",
      "During handling of the above exception, another exception occurred:\n",
      "\n",
      "Traceback (most recent call last):\n",
      "  File \"/home/jared/workspace/market-diff/stock-prediction/notebooks/../src/datastore.py\", line 106, in download_daily_candlesticks\n",
      "    data = pdr.DataReader(\n",
      "  File \"/home/jared/.local/share/virtualenvs/stock-prediction-MOS0QyR2/lib/python3.10/site-packages/pandas/util/_decorators.py\", line 207, in wrapper\n",
      "    return func(*args, **kwargs)\n",
      "  File \"/home/jared/.local/share/virtualenvs/stock-prediction-MOS0QyR2/lib/python3.10/site-packages/pandas_datareader/data.py\", line 379, in DataReader\n",
      "    ).read()\n",
      "  File \"/home/jared/.local/share/virtualenvs/stock-prediction-MOS0QyR2/lib/python3.10/site-packages/pandas_datareader/base.py\", line 253, in read\n",
      "    df = self._read_one_data(self.url, params=self._get_params(self.symbols))\n",
      "  File \"/home/jared/.local/share/virtualenvs/stock-prediction-MOS0QyR2/lib/python3.10/site-packages/pandas_datareader/yahoo/daily.py\", line 156, in _read_one_data\n",
      "    raise RemoteDataError(msg.format(symbol, self.__class__.__name__))\n",
      "pandas_datareader._utils.RemoteDataError: No data fetched for symbol BDR using YahooDailyReader\n"
     ]
    },
    {
     "name": "stdout",
     "output_type": "stream",
     "text": [
      "Error downloading daily candlesticks for BDR\n"
     ]
    },
    {
     "name": "stderr",
     "output_type": "stream",
     "text": [
      "Traceback (most recent call last):\n",
      "  File \"/home/jared/.local/share/virtualenvs/stock-prediction-MOS0QyR2/lib/python3.10/site-packages/pandas_datareader/yahoo/daily.py\", line 153, in _read_one_data\n",
      "    data = j[\"context\"][\"dispatcher\"][\"stores\"][\"HistoricalPriceStore\"]\n",
      "KeyError: 'HistoricalPriceStore'\n",
      "\n",
      "During handling of the above exception, another exception occurred:\n",
      "\n",
      "Traceback (most recent call last):\n",
      "  File \"/home/jared/workspace/market-diff/stock-prediction/notebooks/../src/datastore.py\", line 106, in download_daily_candlesticks\n",
      "    data = pdr.DataReader(\n",
      "  File \"/home/jared/.local/share/virtualenvs/stock-prediction-MOS0QyR2/lib/python3.10/site-packages/pandas/util/_decorators.py\", line 207, in wrapper\n",
      "    return func(*args, **kwargs)\n",
      "  File \"/home/jared/.local/share/virtualenvs/stock-prediction-MOS0QyR2/lib/python3.10/site-packages/pandas_datareader/data.py\", line 379, in DataReader\n",
      "    ).read()\n",
      "  File \"/home/jared/.local/share/virtualenvs/stock-prediction-MOS0QyR2/lib/python3.10/site-packages/pandas_datareader/base.py\", line 253, in read\n",
      "    df = self._read_one_data(self.url, params=self._get_params(self.symbols))\n",
      "  File \"/home/jared/.local/share/virtualenvs/stock-prediction-MOS0QyR2/lib/python3.10/site-packages/pandas_datareader/yahoo/daily.py\", line 156, in _read_one_data\n",
      "    raise RemoteDataError(msg.format(symbol, self.__class__.__name__))\n",
      "pandas_datareader._utils.RemoteDataError: No data fetched for symbol ELJ using YahooDailyReader\n"
     ]
    },
    {
     "name": "stdout",
     "output_type": "stream",
     "text": [
      "Error downloading daily candlesticks for ELJ\n"
     ]
    },
    {
     "name": "stderr",
     "output_type": "stream",
     "text": [
      "Traceback (most recent call last):\n",
      "  File \"/home/jared/.local/share/virtualenvs/stock-prediction-MOS0QyR2/lib/python3.10/site-packages/pandas_datareader/yahoo/daily.py\", line 153, in _read_one_data\n",
      "    data = j[\"context\"][\"dispatcher\"][\"stores\"][\"HistoricalPriceStore\"]\n",
      "KeyError: 'HistoricalPriceStore'\n",
      "\n",
      "During handling of the above exception, another exception occurred:\n",
      "\n",
      "Traceback (most recent call last):\n",
      "  File \"/home/jared/workspace/market-diff/stock-prediction/notebooks/../src/datastore.py\", line 106, in download_daily_candlesticks\n",
      "    data = pdr.DataReader(\n",
      "  File \"/home/jared/.local/share/virtualenvs/stock-prediction-MOS0QyR2/lib/python3.10/site-packages/pandas/util/_decorators.py\", line 207, in wrapper\n",
      "    return func(*args, **kwargs)\n",
      "  File \"/home/jared/.local/share/virtualenvs/stock-prediction-MOS0QyR2/lib/python3.10/site-packages/pandas_datareader/data.py\", line 379, in DataReader\n",
      "    ).read()\n",
      "  File \"/home/jared/.local/share/virtualenvs/stock-prediction-MOS0QyR2/lib/python3.10/site-packages/pandas_datareader/base.py\", line 253, in read\n",
      "    df = self._read_one_data(self.url, params=self._get_params(self.symbols))\n",
      "  File \"/home/jared/.local/share/virtualenvs/stock-prediction-MOS0QyR2/lib/python3.10/site-packages/pandas_datareader/yahoo/daily.py\", line 156, in _read_one_data\n",
      "    raise RemoteDataError(msg.format(symbol, self.__class__.__name__))\n",
      "pandas_datareader._utils.RemoteDataError: No data fetched for symbol CCXX using YahooDailyReader\n"
     ]
    },
    {
     "name": "stdout",
     "output_type": "stream",
     "text": [
      "Error downloading daily candlesticks for CCXX\n"
     ]
    },
    {
     "name": "stderr",
     "output_type": "stream",
     "text": [
      "Traceback (most recent call last):\n",
      "  File \"/home/jared/.local/share/virtualenvs/stock-prediction-MOS0QyR2/lib/python3.10/site-packages/pandas_datareader/yahoo/daily.py\", line 153, in _read_one_data\n",
      "    data = j[\"context\"][\"dispatcher\"][\"stores\"][\"HistoricalPriceStore\"]\n",
      "KeyError: 'HistoricalPriceStore'\n",
      "\n",
      "During handling of the above exception, another exception occurred:\n",
      "\n",
      "Traceback (most recent call last):\n",
      "  File \"/home/jared/workspace/market-diff/stock-prediction/notebooks/../src/datastore.py\", line 106, in download_daily_candlesticks\n",
      "    data = pdr.DataReader(\n",
      "  File \"/home/jared/.local/share/virtualenvs/stock-prediction-MOS0QyR2/lib/python3.10/site-packages/pandas/util/_decorators.py\", line 207, in wrapper\n",
      "    return func(*args, **kwargs)\n",
      "  File \"/home/jared/.local/share/virtualenvs/stock-prediction-MOS0QyR2/lib/python3.10/site-packages/pandas_datareader/data.py\", line 379, in DataReader\n",
      "    ).read()\n",
      "  File \"/home/jared/.local/share/virtualenvs/stock-prediction-MOS0QyR2/lib/python3.10/site-packages/pandas_datareader/base.py\", line 253, in read\n",
      "    df = self._read_one_data(self.url, params=self._get_params(self.symbols))\n",
      "  File \"/home/jared/.local/share/virtualenvs/stock-prediction-MOS0QyR2/lib/python3.10/site-packages/pandas_datareader/yahoo/daily.py\", line 156, in _read_one_data\n",
      "    raise RemoteDataError(msg.format(symbol, self.__class__.__name__))\n",
      "pandas_datareader._utils.RemoteDataError: No data fetched for symbol GIX using YahooDailyReader\n"
     ]
    },
    {
     "name": "stdout",
     "output_type": "stream",
     "text": [
      "Error downloading daily candlesticks for GIX\n"
     ]
    },
    {
     "name": "stderr",
     "output_type": "stream",
     "text": [
      "Traceback (most recent call last):\n",
      "  File \"/home/jared/.local/share/virtualenvs/stock-prediction-MOS0QyR2/lib/python3.10/site-packages/pandas_datareader/yahoo/daily.py\", line 153, in _read_one_data\n",
      "    data = j[\"context\"][\"dispatcher\"][\"stores\"][\"HistoricalPriceStore\"]\n",
      "KeyError: 'HistoricalPriceStore'\n",
      "\n",
      "During handling of the above exception, another exception occurred:\n",
      "\n",
      "Traceback (most recent call last):\n",
      "  File \"/home/jared/workspace/market-diff/stock-prediction/notebooks/../src/datastore.py\", line 106, in download_daily_candlesticks\n",
      "    data = pdr.DataReader(\n",
      "  File \"/home/jared/.local/share/virtualenvs/stock-prediction-MOS0QyR2/lib/python3.10/site-packages/pandas/util/_decorators.py\", line 207, in wrapper\n",
      "    return func(*args, **kwargs)\n",
      "  File \"/home/jared/.local/share/virtualenvs/stock-prediction-MOS0QyR2/lib/python3.10/site-packages/pandas_datareader/data.py\", line 379, in DataReader\n",
      "    ).read()\n",
      "  File \"/home/jared/.local/share/virtualenvs/stock-prediction-MOS0QyR2/lib/python3.10/site-packages/pandas_datareader/base.py\", line 253, in read\n",
      "    df = self._read_one_data(self.url, params=self._get_params(self.symbols))\n",
      "  File \"/home/jared/.local/share/virtualenvs/stock-prediction-MOS0QyR2/lib/python3.10/site-packages/pandas_datareader/yahoo/daily.py\", line 156, in _read_one_data\n",
      "    raise RemoteDataError(msg.format(symbol, self.__class__.__name__))\n",
      "pandas_datareader._utils.RemoteDataError: No data fetched for symbol MSGN using YahooDailyReader\n"
     ]
    },
    {
     "name": "stdout",
     "output_type": "stream",
     "text": [
      "Error downloading daily candlesticks for MSGN\n"
     ]
    },
    {
     "name": "stderr",
     "output_type": "stream",
     "text": [
      "Traceback (most recent call last):\n",
      "  File \"/home/jared/.local/share/virtualenvs/stock-prediction-MOS0QyR2/lib/python3.10/site-packages/pandas_datareader/yahoo/daily.py\", line 153, in _read_one_data\n",
      "    data = j[\"context\"][\"dispatcher\"][\"stores\"][\"HistoricalPriceStore\"]\n",
      "KeyError: 'HistoricalPriceStore'\n",
      "\n",
      "During handling of the above exception, another exception occurred:\n",
      "\n",
      "Traceback (most recent call last):\n",
      "  File \"/home/jared/workspace/market-diff/stock-prediction/notebooks/../src/datastore.py\", line 106, in download_daily_candlesticks\n",
      "    data = pdr.DataReader(\n",
      "  File \"/home/jared/.local/share/virtualenvs/stock-prediction-MOS0QyR2/lib/python3.10/site-packages/pandas/util/_decorators.py\", line 207, in wrapper\n",
      "    return func(*args, **kwargs)\n",
      "  File \"/home/jared/.local/share/virtualenvs/stock-prediction-MOS0QyR2/lib/python3.10/site-packages/pandas_datareader/data.py\", line 379, in DataReader\n",
      "    ).read()\n",
      "  File \"/home/jared/.local/share/virtualenvs/stock-prediction-MOS0QyR2/lib/python3.10/site-packages/pandas_datareader/base.py\", line 253, in read\n",
      "    df = self._read_one_data(self.url, params=self._get_params(self.symbols))\n",
      "  File \"/home/jared/.local/share/virtualenvs/stock-prediction-MOS0QyR2/lib/python3.10/site-packages/pandas_datareader/yahoo/daily.py\", line 156, in _read_one_data\n",
      "    raise RemoteDataError(msg.format(symbol, self.__class__.__name__))\n",
      "pandas_datareader._utils.RemoteDataError: No data fetched for symbol CSPR using YahooDailyReader\n"
     ]
    },
    {
     "name": "stdout",
     "output_type": "stream",
     "text": [
      "Error downloading daily candlesticks for CSPR\n"
     ]
    },
    {
     "name": "stderr",
     "output_type": "stream",
     "text": [
      "Traceback (most recent call last):\n",
      "  File \"/home/jared/.local/share/virtualenvs/stock-prediction-MOS0QyR2/lib/python3.10/site-packages/pandas_datareader/yahoo/daily.py\", line 153, in _read_one_data\n",
      "    data = j[\"context\"][\"dispatcher\"][\"stores\"][\"HistoricalPriceStore\"]\n",
      "KeyError: 'HistoricalPriceStore'\n",
      "\n",
      "During handling of the above exception, another exception occurred:\n",
      "\n",
      "Traceback (most recent call last):\n",
      "  File \"/home/jared/workspace/market-diff/stock-prediction/notebooks/../src/datastore.py\", line 106, in download_daily_candlesticks\n",
      "    data = pdr.DataReader(\n",
      "  File \"/home/jared/.local/share/virtualenvs/stock-prediction-MOS0QyR2/lib/python3.10/site-packages/pandas/util/_decorators.py\", line 207, in wrapper\n",
      "    return func(*args, **kwargs)\n",
      "  File \"/home/jared/.local/share/virtualenvs/stock-prediction-MOS0QyR2/lib/python3.10/site-packages/pandas_datareader/data.py\", line 379, in DataReader\n",
      "    ).read()\n",
      "  File \"/home/jared/.local/share/virtualenvs/stock-prediction-MOS0QyR2/lib/python3.10/site-packages/pandas_datareader/base.py\", line 253, in read\n",
      "    df = self._read_one_data(self.url, params=self._get_params(self.symbols))\n",
      "  File \"/home/jared/.local/share/virtualenvs/stock-prediction-MOS0QyR2/lib/python3.10/site-packages/pandas_datareader/yahoo/daily.py\", line 156, in _read_one_data\n",
      "    raise RemoteDataError(msg.format(symbol, self.__class__.__name__))\n",
      "pandas_datareader._utils.RemoteDataError: No data fetched for symbol BSA using YahooDailyReader\n"
     ]
    },
    {
     "name": "stdout",
     "output_type": "stream",
     "text": [
      "Error downloading daily candlesticks for BSA\n"
     ]
    },
    {
     "name": "stderr",
     "output_type": "stream",
     "text": [
      "Traceback (most recent call last):\n",
      "  File \"/home/jared/.local/share/virtualenvs/stock-prediction-MOS0QyR2/lib/python3.10/site-packages/pandas_datareader/yahoo/daily.py\", line 153, in _read_one_data\n",
      "    data = j[\"context\"][\"dispatcher\"][\"stores\"][\"HistoricalPriceStore\"]\n",
      "KeyError: 'HistoricalPriceStore'\n",
      "\n",
      "During handling of the above exception, another exception occurred:\n",
      "\n",
      "Traceback (most recent call last):\n",
      "  File \"/home/jared/workspace/market-diff/stock-prediction/notebooks/../src/datastore.py\", line 106, in download_daily_candlesticks\n",
      "    data = pdr.DataReader(\n",
      "  File \"/home/jared/.local/share/virtualenvs/stock-prediction-MOS0QyR2/lib/python3.10/site-packages/pandas/util/_decorators.py\", line 207, in wrapper\n",
      "    return func(*args, **kwargs)\n",
      "  File \"/home/jared/.local/share/virtualenvs/stock-prediction-MOS0QyR2/lib/python3.10/site-packages/pandas_datareader/data.py\", line 379, in DataReader\n",
      "    ).read()\n",
      "  File \"/home/jared/.local/share/virtualenvs/stock-prediction-MOS0QyR2/lib/python3.10/site-packages/pandas_datareader/base.py\", line 253, in read\n",
      "    df = self._read_one_data(self.url, params=self._get_params(self.symbols))\n",
      "  File \"/home/jared/.local/share/virtualenvs/stock-prediction-MOS0QyR2/lib/python3.10/site-packages/pandas_datareader/yahoo/daily.py\", line 156, in _read_one_data\n",
      "    raise RemoteDataError(msg.format(symbol, self.__class__.__name__))\n",
      "pandas_datareader._utils.RemoteDataError: No data fetched for symbol HFC using YahooDailyReader\n"
     ]
    },
    {
     "name": "stdout",
     "output_type": "stream",
     "text": [
      "Error downloading daily candlesticks for HFC\n"
     ]
    },
    {
     "name": "stderr",
     "output_type": "stream",
     "text": [
      "Traceback (most recent call last):\n",
      "  File \"/home/jared/.local/share/virtualenvs/stock-prediction-MOS0QyR2/lib/python3.10/site-packages/pandas_datareader/yahoo/daily.py\", line 153, in _read_one_data\n",
      "    data = j[\"context\"][\"dispatcher\"][\"stores\"][\"HistoricalPriceStore\"]\n",
      "KeyError: 'HistoricalPriceStore'\n",
      "\n",
      "During handling of the above exception, another exception occurred:\n",
      "\n",
      "Traceback (most recent call last):\n",
      "  File \"/home/jared/workspace/market-diff/stock-prediction/notebooks/../src/datastore.py\", line 106, in download_daily_candlesticks\n",
      "    data = pdr.DataReader(\n",
      "  File \"/home/jared/.local/share/virtualenvs/stock-prediction-MOS0QyR2/lib/python3.10/site-packages/pandas/util/_decorators.py\", line 207, in wrapper\n",
      "    return func(*args, **kwargs)\n",
      "  File \"/home/jared/.local/share/virtualenvs/stock-prediction-MOS0QyR2/lib/python3.10/site-packages/pandas_datareader/data.py\", line 379, in DataReader\n",
      "    ).read()\n",
      "  File \"/home/jared/.local/share/virtualenvs/stock-prediction-MOS0QyR2/lib/python3.10/site-packages/pandas_datareader/base.py\", line 253, in read\n",
      "    df = self._read_one_data(self.url, params=self._get_params(self.symbols))\n",
      "  File \"/home/jared/.local/share/virtualenvs/stock-prediction-MOS0QyR2/lib/python3.10/site-packages/pandas_datareader/yahoo/daily.py\", line 156, in _read_one_data\n",
      "    raise RemoteDataError(msg.format(symbol, self.__class__.__name__))\n",
      "pandas_datareader._utils.RemoteDataError: No data fetched for symbol RLH using YahooDailyReader\n"
     ]
    },
    {
     "name": "stdout",
     "output_type": "stream",
     "text": [
      "Error downloading daily candlesticks for RLH\n"
     ]
    },
    {
     "name": "stderr",
     "output_type": "stream",
     "text": [
      "Traceback (most recent call last):\n",
      "  File \"/home/jared/.local/share/virtualenvs/stock-prediction-MOS0QyR2/lib/python3.10/site-packages/pandas_datareader/yahoo/daily.py\", line 153, in _read_one_data\n",
      "    data = j[\"context\"][\"dispatcher\"][\"stores\"][\"HistoricalPriceStore\"]\n",
      "KeyError: 'HistoricalPriceStore'\n",
      "\n",
      "During handling of the above exception, another exception occurred:\n",
      "\n",
      "Traceback (most recent call last):\n",
      "  File \"/home/jared/workspace/market-diff/stock-prediction/notebooks/../src/datastore.py\", line 106, in download_daily_candlesticks\n",
      "    data = pdr.DataReader(\n",
      "  File \"/home/jared/.local/share/virtualenvs/stock-prediction-MOS0QyR2/lib/python3.10/site-packages/pandas/util/_decorators.py\", line 207, in wrapper\n",
      "    return func(*args, **kwargs)\n",
      "  File \"/home/jared/.local/share/virtualenvs/stock-prediction-MOS0QyR2/lib/python3.10/site-packages/pandas_datareader/data.py\", line 379, in DataReader\n",
      "    ).read()\n",
      "  File \"/home/jared/.local/share/virtualenvs/stock-prediction-MOS0QyR2/lib/python3.10/site-packages/pandas_datareader/base.py\", line 253, in read\n",
      "    df = self._read_one_data(self.url, params=self._get_params(self.symbols))\n",
      "  File \"/home/jared/.local/share/virtualenvs/stock-prediction-MOS0QyR2/lib/python3.10/site-packages/pandas_datareader/yahoo/daily.py\", line 156, in _read_one_data\n",
      "    raise RemoteDataError(msg.format(symbol, self.__class__.__name__))\n",
      "pandas_datareader._utils.RemoteDataError: No data fetched for symbol RVI using YahooDailyReader\n"
     ]
    },
    {
     "name": "stdout",
     "output_type": "stream",
     "text": [
      "Error downloading daily candlesticks for RVI\n"
     ]
    },
    {
     "name": "stderr",
     "output_type": "stream",
     "text": [
      "Traceback (most recent call last):\n",
      "  File \"/home/jared/.local/share/virtualenvs/stock-prediction-MOS0QyR2/lib/python3.10/site-packages/pandas_datareader/yahoo/daily.py\", line 153, in _read_one_data\n",
      "    data = j[\"context\"][\"dispatcher\"][\"stores\"][\"HistoricalPriceStore\"]\n",
      "KeyError: 'HistoricalPriceStore'\n",
      "\n",
      "During handling of the above exception, another exception occurred:\n",
      "\n",
      "Traceback (most recent call last):\n",
      "  File \"/home/jared/workspace/market-diff/stock-prediction/notebooks/../src/datastore.py\", line 106, in download_daily_candlesticks\n",
      "    data = pdr.DataReader(\n",
      "  File \"/home/jared/.local/share/virtualenvs/stock-prediction-MOS0QyR2/lib/python3.10/site-packages/pandas/util/_decorators.py\", line 207, in wrapper\n",
      "    return func(*args, **kwargs)\n",
      "  File \"/home/jared/.local/share/virtualenvs/stock-prediction-MOS0QyR2/lib/python3.10/site-packages/pandas_datareader/data.py\", line 379, in DataReader\n",
      "    ).read()\n",
      "  File \"/home/jared/.local/share/virtualenvs/stock-prediction-MOS0QyR2/lib/python3.10/site-packages/pandas_datareader/base.py\", line 253, in read\n",
      "    df = self._read_one_data(self.url, params=self._get_params(self.symbols))\n",
      "  File \"/home/jared/.local/share/virtualenvs/stock-prediction-MOS0QyR2/lib/python3.10/site-packages/pandas_datareader/yahoo/daily.py\", line 156, in _read_one_data\n",
      "    raise RemoteDataError(msg.format(symbol, self.__class__.__name__))\n",
      "pandas_datareader._utils.RemoteDataError: No data fetched for symbol LB using YahooDailyReader\n"
     ]
    },
    {
     "name": "stdout",
     "output_type": "stream",
     "text": [
      "Error downloading daily candlesticks for LB\n"
     ]
    },
    {
     "name": "stderr",
     "output_type": "stream",
     "text": [
      "Traceback (most recent call last):\n",
      "  File \"/home/jared/.local/share/virtualenvs/stock-prediction-MOS0QyR2/lib/python3.10/site-packages/pandas_datareader/yahoo/daily.py\", line 153, in _read_one_data\n",
      "    data = j[\"context\"][\"dispatcher\"][\"stores\"][\"HistoricalPriceStore\"]\n",
      "KeyError: 'HistoricalPriceStore'\n",
      "\n",
      "During handling of the above exception, another exception occurred:\n",
      "\n",
      "Traceback (most recent call last):\n",
      "  File \"/home/jared/workspace/market-diff/stock-prediction/notebooks/../src/datastore.py\", line 106, in download_daily_candlesticks\n",
      "    data = pdr.DataReader(\n",
      "  File \"/home/jared/.local/share/virtualenvs/stock-prediction-MOS0QyR2/lib/python3.10/site-packages/pandas/util/_decorators.py\", line 207, in wrapper\n",
      "    return func(*args, **kwargs)\n",
      "  File \"/home/jared/.local/share/virtualenvs/stock-prediction-MOS0QyR2/lib/python3.10/site-packages/pandas_datareader/data.py\", line 379, in DataReader\n",
      "    ).read()\n",
      "  File \"/home/jared/.local/share/virtualenvs/stock-prediction-MOS0QyR2/lib/python3.10/site-packages/pandas_datareader/base.py\", line 253, in read\n",
      "    df = self._read_one_data(self.url, params=self._get_params(self.symbols))\n",
      "  File \"/home/jared/.local/share/virtualenvs/stock-prediction-MOS0QyR2/lib/python3.10/site-packages/pandas_datareader/yahoo/daily.py\", line 156, in _read_one_data\n",
      "    raise RemoteDataError(msg.format(symbol, self.__class__.__name__))\n",
      "pandas_datareader._utils.RemoteDataError: No data fetched for symbol IRR using YahooDailyReader\n"
     ]
    },
    {
     "name": "stdout",
     "output_type": "stream",
     "text": [
      "Error downloading daily candlesticks for IRR\n"
     ]
    },
    {
     "name": "stderr",
     "output_type": "stream",
     "text": [
      "Traceback (most recent call last):\n",
      "  File \"/home/jared/.local/share/virtualenvs/stock-prediction-MOS0QyR2/lib/python3.10/site-packages/pandas_datareader/yahoo/daily.py\", line 153, in _read_one_data\n",
      "    data = j[\"context\"][\"dispatcher\"][\"stores\"][\"HistoricalPriceStore\"]\n",
      "KeyError: 'HistoricalPriceStore'\n",
      "\n",
      "During handling of the above exception, another exception occurred:\n",
      "\n",
      "Traceback (most recent call last):\n",
      "  File \"/home/jared/workspace/market-diff/stock-prediction/notebooks/../src/datastore.py\", line 106, in download_daily_candlesticks\n",
      "    data = pdr.DataReader(\n",
      "  File \"/home/jared/.local/share/virtualenvs/stock-prediction-MOS0QyR2/lib/python3.10/site-packages/pandas/util/_decorators.py\", line 207, in wrapper\n",
      "    return func(*args, **kwargs)\n",
      "  File \"/home/jared/.local/share/virtualenvs/stock-prediction-MOS0QyR2/lib/python3.10/site-packages/pandas_datareader/data.py\", line 379, in DataReader\n",
      "    ).read()\n",
      "  File \"/home/jared/.local/share/virtualenvs/stock-prediction-MOS0QyR2/lib/python3.10/site-packages/pandas_datareader/base.py\", line 253, in read\n",
      "    df = self._read_one_data(self.url, params=self._get_params(self.symbols))\n",
      "  File \"/home/jared/.local/share/virtualenvs/stock-prediction-MOS0QyR2/lib/python3.10/site-packages/pandas_datareader/yahoo/daily.py\", line 156, in _read_one_data\n",
      "    raise RemoteDataError(msg.format(symbol, self.__class__.__name__))\n",
      "pandas_datareader._utils.RemoteDataError: No data fetched for symbol COR using YahooDailyReader\n"
     ]
    },
    {
     "name": "stdout",
     "output_type": "stream",
     "text": [
      "Error downloading daily candlesticks for COR\n"
     ]
    },
    {
     "name": "stderr",
     "output_type": "stream",
     "text": [
      "Traceback (most recent call last):\n",
      "  File \"/home/jared/.local/share/virtualenvs/stock-prediction-MOS0QyR2/lib/python3.10/site-packages/pandas_datareader/yahoo/daily.py\", line 153, in _read_one_data\n",
      "    data = j[\"context\"][\"dispatcher\"][\"stores\"][\"HistoricalPriceStore\"]\n",
      "KeyError: 'HistoricalPriceStore'\n",
      "\n",
      "During handling of the above exception, another exception occurred:\n",
      "\n",
      "Traceback (most recent call last):\n",
      "  File \"/home/jared/workspace/market-diff/stock-prediction/notebooks/../src/datastore.py\", line 106, in download_daily_candlesticks\n",
      "    data = pdr.DataReader(\n",
      "  File \"/home/jared/.local/share/virtualenvs/stock-prediction-MOS0QyR2/lib/python3.10/site-packages/pandas/util/_decorators.py\", line 207, in wrapper\n",
      "    return func(*args, **kwargs)\n",
      "  File \"/home/jared/.local/share/virtualenvs/stock-prediction-MOS0QyR2/lib/python3.10/site-packages/pandas_datareader/data.py\", line 379, in DataReader\n",
      "    ).read()\n",
      "  File \"/home/jared/.local/share/virtualenvs/stock-prediction-MOS0QyR2/lib/python3.10/site-packages/pandas_datareader/base.py\", line 253, in read\n",
      "    df = self._read_one_data(self.url, params=self._get_params(self.symbols))\n",
      "  File \"/home/jared/.local/share/virtualenvs/stock-prediction-MOS0QyR2/lib/python3.10/site-packages/pandas_datareader/yahoo/daily.py\", line 156, in _read_one_data\n",
      "    raise RemoteDataError(msg.format(symbol, self.__class__.__name__))\n",
      "pandas_datareader._utils.RemoteDataError: No data fetched for symbol BBX using YahooDailyReader\n"
     ]
    },
    {
     "name": "stdout",
     "output_type": "stream",
     "text": [
      "Error downloading daily candlesticks for BBX\n"
     ]
    },
    {
     "name": "stderr",
     "output_type": "stream",
     "text": [
      "Traceback (most recent call last):\n",
      "  File \"/home/jared/.local/share/virtualenvs/stock-prediction-MOS0QyR2/lib/python3.10/site-packages/pandas_datareader/yahoo/daily.py\", line 153, in _read_one_data\n",
      "    data = j[\"context\"][\"dispatcher\"][\"stores\"][\"HistoricalPriceStore\"]\n",
      "KeyError: 'HistoricalPriceStore'\n",
      "\n",
      "During handling of the above exception, another exception occurred:\n",
      "\n",
      "Traceback (most recent call last):\n",
      "  File \"/home/jared/workspace/market-diff/stock-prediction/notebooks/../src/datastore.py\", line 106, in download_daily_candlesticks\n",
      "    data = pdr.DataReader(\n",
      "  File \"/home/jared/.local/share/virtualenvs/stock-prediction-MOS0QyR2/lib/python3.10/site-packages/pandas/util/_decorators.py\", line 207, in wrapper\n",
      "    return func(*args, **kwargs)\n",
      "  File \"/home/jared/.local/share/virtualenvs/stock-prediction-MOS0QyR2/lib/python3.10/site-packages/pandas_datareader/data.py\", line 379, in DataReader\n",
      "    ).read()\n",
      "  File \"/home/jared/.local/share/virtualenvs/stock-prediction-MOS0QyR2/lib/python3.10/site-packages/pandas_datareader/base.py\", line 253, in read\n",
      "    df = self._read_one_data(self.url, params=self._get_params(self.symbols))\n",
      "  File \"/home/jared/.local/share/virtualenvs/stock-prediction-MOS0QyR2/lib/python3.10/site-packages/pandas_datareader/yahoo/daily.py\", line 156, in _read_one_data\n",
      "    raise RemoteDataError(msg.format(symbol, self.__class__.__name__))\n",
      "pandas_datareader._utils.RemoteDataError: No data fetched for symbol SHLL using YahooDailyReader\n"
     ]
    },
    {
     "name": "stdout",
     "output_type": "stream",
     "text": [
      "Error downloading daily candlesticks for SHLL\n"
     ]
    },
    {
     "name": "stderr",
     "output_type": "stream",
     "text": [
      "Traceback (most recent call last):\n",
      "  File \"/home/jared/.local/share/virtualenvs/stock-prediction-MOS0QyR2/lib/python3.10/site-packages/pandas_datareader/yahoo/daily.py\", line 153, in _read_one_data\n",
      "    data = j[\"context\"][\"dispatcher\"][\"stores\"][\"HistoricalPriceStore\"]\n",
      "KeyError: 'HistoricalPriceStore'\n",
      "\n",
      "During handling of the above exception, another exception occurred:\n",
      "\n",
      "Traceback (most recent call last):\n",
      "  File \"/home/jared/workspace/market-diff/stock-prediction/notebooks/../src/datastore.py\", line 106, in download_daily_candlesticks\n",
      "    data = pdr.DataReader(\n",
      "  File \"/home/jared/.local/share/virtualenvs/stock-prediction-MOS0QyR2/lib/python3.10/site-packages/pandas/util/_decorators.py\", line 207, in wrapper\n",
      "    return func(*args, **kwargs)\n",
      "  File \"/home/jared/.local/share/virtualenvs/stock-prediction-MOS0QyR2/lib/python3.10/site-packages/pandas_datareader/data.py\", line 379, in DataReader\n",
      "    ).read()\n",
      "  File \"/home/jared/.local/share/virtualenvs/stock-prediction-MOS0QyR2/lib/python3.10/site-packages/pandas_datareader/base.py\", line 253, in read\n",
      "    df = self._read_one_data(self.url, params=self._get_params(self.symbols))\n",
      "  File \"/home/jared/.local/share/virtualenvs/stock-prediction-MOS0QyR2/lib/python3.10/site-packages/pandas_datareader/yahoo/daily.py\", line 156, in _read_one_data\n",
      "    raise RemoteDataError(msg.format(symbol, self.__class__.__name__))\n",
      "pandas_datareader._utils.RemoteDataError: No data fetched for symbol SNR using YahooDailyReader\n"
     ]
    },
    {
     "name": "stdout",
     "output_type": "stream",
     "text": [
      "Error downloading daily candlesticks for SNR\n"
     ]
    },
    {
     "name": "stderr",
     "output_type": "stream",
     "text": [
      "Traceback (most recent call last):\n",
      "  File \"/home/jared/.local/share/virtualenvs/stock-prediction-MOS0QyR2/lib/python3.10/site-packages/pandas_datareader/yahoo/daily.py\", line 153, in _read_one_data\n",
      "    data = j[\"context\"][\"dispatcher\"][\"stores\"][\"HistoricalPriceStore\"]\n",
      "KeyError: 'HistoricalPriceStore'\n",
      "\n",
      "During handling of the above exception, another exception occurred:\n",
      "\n",
      "Traceback (most recent call last):\n",
      "  File \"/home/jared/workspace/market-diff/stock-prediction/notebooks/../src/datastore.py\", line 106, in download_daily_candlesticks\n",
      "    data = pdr.DataReader(\n",
      "  File \"/home/jared/.local/share/virtualenvs/stock-prediction-MOS0QyR2/lib/python3.10/site-packages/pandas/util/_decorators.py\", line 207, in wrapper\n",
      "    return func(*args, **kwargs)\n",
      "  File \"/home/jared/.local/share/virtualenvs/stock-prediction-MOS0QyR2/lib/python3.10/site-packages/pandas_datareader/data.py\", line 379, in DataReader\n",
      "    ).read()\n",
      "  File \"/home/jared/.local/share/virtualenvs/stock-prediction-MOS0QyR2/lib/python3.10/site-packages/pandas_datareader/base.py\", line 253, in read\n",
      "    df = self._read_one_data(self.url, params=self._get_params(self.symbols))\n",
      "  File \"/home/jared/.local/share/virtualenvs/stock-prediction-MOS0QyR2/lib/python3.10/site-packages/pandas_datareader/yahoo/daily.py\", line 156, in _read_one_data\n",
      "    raise RemoteDataError(msg.format(symbol, self.__class__.__name__))\n",
      "pandas_datareader._utils.RemoteDataError: No data fetched for symbol GSB using YahooDailyReader\n"
     ]
    },
    {
     "name": "stdout",
     "output_type": "stream",
     "text": [
      "Error downloading daily candlesticks for GSB\n"
     ]
    },
    {
     "name": "stderr",
     "output_type": "stream",
     "text": [
      "Traceback (most recent call last):\n",
      "  File \"/home/jared/.local/share/virtualenvs/stock-prediction-MOS0QyR2/lib/python3.10/site-packages/pandas_datareader/yahoo/daily.py\", line 153, in _read_one_data\n",
      "    data = j[\"context\"][\"dispatcher\"][\"stores\"][\"HistoricalPriceStore\"]\n",
      "KeyError: 'HistoricalPriceStore'\n",
      "\n",
      "During handling of the above exception, another exception occurred:\n",
      "\n",
      "Traceback (most recent call last):\n",
      "  File \"/home/jared/workspace/market-diff/stock-prediction/notebooks/../src/datastore.py\", line 106, in download_daily_candlesticks\n",
      "    data = pdr.DataReader(\n",
      "  File \"/home/jared/.local/share/virtualenvs/stock-prediction-MOS0QyR2/lib/python3.10/site-packages/pandas/util/_decorators.py\", line 207, in wrapper\n",
      "    return func(*args, **kwargs)\n",
      "  File \"/home/jared/.local/share/virtualenvs/stock-prediction-MOS0QyR2/lib/python3.10/site-packages/pandas_datareader/data.py\", line 379, in DataReader\n",
      "    ).read()\n",
      "  File \"/home/jared/.local/share/virtualenvs/stock-prediction-MOS0QyR2/lib/python3.10/site-packages/pandas_datareader/base.py\", line 253, in read\n",
      "    df = self._read_one_data(self.url, params=self._get_params(self.symbols))\n",
      "  File \"/home/jared/.local/share/virtualenvs/stock-prediction-MOS0QyR2/lib/python3.10/site-packages/pandas_datareader/yahoo/daily.py\", line 156, in _read_one_data\n",
      "    raise RemoteDataError(msg.format(symbol, self.__class__.__name__))\n",
      "pandas_datareader._utils.RemoteDataError: No data fetched for symbol LDL using YahooDailyReader\n"
     ]
    },
    {
     "name": "stdout",
     "output_type": "stream",
     "text": [
      "Error downloading daily candlesticks for LDL\n"
     ]
    },
    {
     "name": "stderr",
     "output_type": "stream",
     "text": [
      "Traceback (most recent call last):\n",
      "  File \"/home/jared/.local/share/virtualenvs/stock-prediction-MOS0QyR2/lib/python3.10/site-packages/pandas_datareader/yahoo/daily.py\", line 153, in _read_one_data\n",
      "    data = j[\"context\"][\"dispatcher\"][\"stores\"][\"HistoricalPriceStore\"]\n",
      "KeyError: 'HistoricalPriceStore'\n",
      "\n",
      "During handling of the above exception, another exception occurred:\n",
      "\n",
      "Traceback (most recent call last):\n",
      "  File \"/home/jared/workspace/market-diff/stock-prediction/notebooks/../src/datastore.py\", line 106, in download_daily_candlesticks\n",
      "    data = pdr.DataReader(\n",
      "  File \"/home/jared/.local/share/virtualenvs/stock-prediction-MOS0QyR2/lib/python3.10/site-packages/pandas/util/_decorators.py\", line 207, in wrapper\n",
      "    return func(*args, **kwargs)\n",
      "  File \"/home/jared/.local/share/virtualenvs/stock-prediction-MOS0QyR2/lib/python3.10/site-packages/pandas_datareader/data.py\", line 379, in DataReader\n",
      "    ).read()\n",
      "  File \"/home/jared/.local/share/virtualenvs/stock-prediction-MOS0QyR2/lib/python3.10/site-packages/pandas_datareader/base.py\", line 253, in read\n",
      "    df = self._read_one_data(self.url, params=self._get_params(self.symbols))\n",
      "  File \"/home/jared/.local/share/virtualenvs/stock-prediction-MOS0QyR2/lib/python3.10/site-packages/pandas_datareader/yahoo/daily.py\", line 156, in _read_one_data\n",
      "    raise RemoteDataError(msg.format(symbol, self.__class__.__name__))\n",
      "pandas_datareader._utils.RemoteDataError: No data fetched for symbol OSB using YahooDailyReader\n"
     ]
    },
    {
     "name": "stdout",
     "output_type": "stream",
     "text": [
      "Error downloading daily candlesticks for OSB\n"
     ]
    },
    {
     "name": "stderr",
     "output_type": "stream",
     "text": [
      "Traceback (most recent call last):\n",
      "  File \"/home/jared/.local/share/virtualenvs/stock-prediction-MOS0QyR2/lib/python3.10/site-packages/pandas_datareader/yahoo/daily.py\", line 153, in _read_one_data\n",
      "    data = j[\"context\"][\"dispatcher\"][\"stores\"][\"HistoricalPriceStore\"]\n",
      "KeyError: 'HistoricalPriceStore'\n",
      "\n",
      "During handling of the above exception, another exception occurred:\n",
      "\n",
      "Traceback (most recent call last):\n",
      "  File \"/home/jared/workspace/market-diff/stock-prediction/notebooks/../src/datastore.py\", line 106, in download_daily_candlesticks\n",
      "    data = pdr.DataReader(\n",
      "  File \"/home/jared/.local/share/virtualenvs/stock-prediction-MOS0QyR2/lib/python3.10/site-packages/pandas/util/_decorators.py\", line 207, in wrapper\n",
      "    return func(*args, **kwargs)\n",
      "  File \"/home/jared/.local/share/virtualenvs/stock-prediction-MOS0QyR2/lib/python3.10/site-packages/pandas_datareader/data.py\", line 379, in DataReader\n",
      "    ).read()\n",
      "  File \"/home/jared/.local/share/virtualenvs/stock-prediction-MOS0QyR2/lib/python3.10/site-packages/pandas_datareader/base.py\", line 253, in read\n",
      "    df = self._read_one_data(self.url, params=self._get_params(self.symbols))\n",
      "  File \"/home/jared/.local/share/virtualenvs/stock-prediction-MOS0QyR2/lib/python3.10/site-packages/pandas_datareader/yahoo/daily.py\", line 156, in _read_one_data\n",
      "    raise RemoteDataError(msg.format(symbol, self.__class__.__name__))\n",
      "pandas_datareader._utils.RemoteDataError: No data fetched for symbol RYB using YahooDailyReader\n"
     ]
    },
    {
     "name": "stdout",
     "output_type": "stream",
     "text": [
      "Error downloading daily candlesticks for RYB\n"
     ]
    },
    {
     "name": "stderr",
     "output_type": "stream",
     "text": [
      "Traceback (most recent call last):\n",
      "  File \"/home/jared/.local/share/virtualenvs/stock-prediction-MOS0QyR2/lib/python3.10/site-packages/pandas_datareader/yahoo/daily.py\", line 153, in _read_one_data\n",
      "    data = j[\"context\"][\"dispatcher\"][\"stores\"][\"HistoricalPriceStore\"]\n",
      "KeyError: 'HistoricalPriceStore'\n",
      "\n",
      "During handling of the above exception, another exception occurred:\n",
      "\n",
      "Traceback (most recent call last):\n",
      "  File \"/home/jared/workspace/market-diff/stock-prediction/notebooks/../src/datastore.py\", line 106, in download_daily_candlesticks\n",
      "    data = pdr.DataReader(\n",
      "  File \"/home/jared/.local/share/virtualenvs/stock-prediction-MOS0QyR2/lib/python3.10/site-packages/pandas/util/_decorators.py\", line 207, in wrapper\n",
      "    return func(*args, **kwargs)\n",
      "  File \"/home/jared/.local/share/virtualenvs/stock-prediction-MOS0QyR2/lib/python3.10/site-packages/pandas_datareader/data.py\", line 379, in DataReader\n",
      "    ).read()\n",
      "  File \"/home/jared/.local/share/virtualenvs/stock-prediction-MOS0QyR2/lib/python3.10/site-packages/pandas_datareader/base.py\", line 253, in read\n",
      "    df = self._read_one_data(self.url, params=self._get_params(self.symbols))\n",
      "  File \"/home/jared/.local/share/virtualenvs/stock-prediction-MOS0QyR2/lib/python3.10/site-packages/pandas_datareader/yahoo/daily.py\", line 156, in _read_one_data\n",
      "    raise RemoteDataError(msg.format(symbol, self.__class__.__name__))\n",
      "pandas_datareader._utils.RemoteDataError: No data fetched for symbol CHA using YahooDailyReader\n"
     ]
    },
    {
     "name": "stdout",
     "output_type": "stream",
     "text": [
      "Error downloading daily candlesticks for CHA\n"
     ]
    },
    {
     "name": "stderr",
     "output_type": "stream",
     "text": [
      "Traceback (most recent call last):\n",
      "  File \"/home/jared/.local/share/virtualenvs/stock-prediction-MOS0QyR2/lib/python3.10/site-packages/pandas_datareader/yahoo/daily.py\", line 153, in _read_one_data\n",
      "    data = j[\"context\"][\"dispatcher\"][\"stores\"][\"HistoricalPriceStore\"]\n",
      "KeyError: 'HistoricalPriceStore'\n",
      "\n",
      "During handling of the above exception, another exception occurred:\n",
      "\n",
      "Traceback (most recent call last):\n",
      "  File \"/home/jared/workspace/market-diff/stock-prediction/notebooks/../src/datastore.py\", line 106, in download_daily_candlesticks\n",
      "    data = pdr.DataReader(\n",
      "  File \"/home/jared/.local/share/virtualenvs/stock-prediction-MOS0QyR2/lib/python3.10/site-packages/pandas/util/_decorators.py\", line 207, in wrapper\n",
      "    return func(*args, **kwargs)\n",
      "  File \"/home/jared/.local/share/virtualenvs/stock-prediction-MOS0QyR2/lib/python3.10/site-packages/pandas_datareader/data.py\", line 379, in DataReader\n",
      "    ).read()\n",
      "  File \"/home/jared/.local/share/virtualenvs/stock-prediction-MOS0QyR2/lib/python3.10/site-packages/pandas_datareader/base.py\", line 253, in read\n",
      "    df = self._read_one_data(self.url, params=self._get_params(self.symbols))\n",
      "  File \"/home/jared/.local/share/virtualenvs/stock-prediction-MOS0QyR2/lib/python3.10/site-packages/pandas_datareader/yahoo/daily.py\", line 156, in _read_one_data\n",
      "    raise RemoteDataError(msg.format(symbol, self.__class__.__name__))\n",
      "pandas_datareader._utils.RemoteDataError: No data fetched for symbol FIT using YahooDailyReader\n"
     ]
    },
    {
     "name": "stdout",
     "output_type": "stream",
     "text": [
      "Error downloading daily candlesticks for FIT\n"
     ]
    },
    {
     "name": "stderr",
     "output_type": "stream",
     "text": [
      "Traceback (most recent call last):\n",
      "  File \"/home/jared/.local/share/virtualenvs/stock-prediction-MOS0QyR2/lib/python3.10/site-packages/pandas_datareader/yahoo/daily.py\", line 153, in _read_one_data\n",
      "    data = j[\"context\"][\"dispatcher\"][\"stores\"][\"HistoricalPriceStore\"]\n",
      "KeyError: 'HistoricalPriceStore'\n",
      "\n",
      "During handling of the above exception, another exception occurred:\n",
      "\n",
      "Traceback (most recent call last):\n",
      "  File \"/home/jared/workspace/market-diff/stock-prediction/notebooks/../src/datastore.py\", line 106, in download_daily_candlesticks\n",
      "    data = pdr.DataReader(\n",
      "  File \"/home/jared/.local/share/virtualenvs/stock-prediction-MOS0QyR2/lib/python3.10/site-packages/pandas/util/_decorators.py\", line 207, in wrapper\n",
      "    return func(*args, **kwargs)\n",
      "  File \"/home/jared/.local/share/virtualenvs/stock-prediction-MOS0QyR2/lib/python3.10/site-packages/pandas_datareader/data.py\", line 379, in DataReader\n",
      "    ).read()\n",
      "  File \"/home/jared/.local/share/virtualenvs/stock-prediction-MOS0QyR2/lib/python3.10/site-packages/pandas_datareader/base.py\", line 253, in read\n",
      "    df = self._read_one_data(self.url, params=self._get_params(self.symbols))\n",
      "  File \"/home/jared/.local/share/virtualenvs/stock-prediction-MOS0QyR2/lib/python3.10/site-packages/pandas_datareader/yahoo/daily.py\", line 156, in _read_one_data\n",
      "    raise RemoteDataError(msg.format(symbol, self.__class__.__name__))\n",
      "pandas_datareader._utils.RemoteDataError: No data fetched for symbol DTQ using YahooDailyReader\n"
     ]
    },
    {
     "name": "stdout",
     "output_type": "stream",
     "text": [
      "Error downloading daily candlesticks for DTQ\n"
     ]
    },
    {
     "name": "stderr",
     "output_type": "stream",
     "text": [
      "Traceback (most recent call last):\n",
      "  File \"/home/jared/.local/share/virtualenvs/stock-prediction-MOS0QyR2/lib/python3.10/site-packages/pandas_datareader/yahoo/daily.py\", line 153, in _read_one_data\n",
      "    data = j[\"context\"][\"dispatcher\"][\"stores\"][\"HistoricalPriceStore\"]\n",
      "KeyError: 'HistoricalPriceStore'\n",
      "\n",
      "During handling of the above exception, another exception occurred:\n",
      "\n",
      "Traceback (most recent call last):\n",
      "  File \"/home/jared/workspace/market-diff/stock-prediction/notebooks/../src/datastore.py\", line 106, in download_daily_candlesticks\n",
      "    data = pdr.DataReader(\n",
      "  File \"/home/jared/.local/share/virtualenvs/stock-prediction-MOS0QyR2/lib/python3.10/site-packages/pandas/util/_decorators.py\", line 207, in wrapper\n",
      "    return func(*args, **kwargs)\n",
      "  File \"/home/jared/.local/share/virtualenvs/stock-prediction-MOS0QyR2/lib/python3.10/site-packages/pandas_datareader/data.py\", line 379, in DataReader\n",
      "    ).read()\n",
      "  File \"/home/jared/.local/share/virtualenvs/stock-prediction-MOS0QyR2/lib/python3.10/site-packages/pandas_datareader/base.py\", line 253, in read\n",
      "    df = self._read_one_data(self.url, params=self._get_params(self.symbols))\n",
      "  File \"/home/jared/.local/share/virtualenvs/stock-prediction-MOS0QyR2/lib/python3.10/site-packages/pandas_datareader/yahoo/daily.py\", line 156, in _read_one_data\n",
      "    raise RemoteDataError(msg.format(symbol, self.__class__.__name__))\n",
      "pandas_datareader._utils.RemoteDataError: No data fetched for symbol SAND           using YahooDailyReader\n"
     ]
    },
    {
     "name": "stdout",
     "output_type": "stream",
     "text": [
      "Error downloading daily candlesticks for SAND          \n"
     ]
    },
    {
     "name": "stderr",
     "output_type": "stream",
     "text": [
      "Traceback (most recent call last):\n",
      "  File \"/home/jared/.local/share/virtualenvs/stock-prediction-MOS0QyR2/lib/python3.10/site-packages/pandas_datareader/yahoo/daily.py\", line 153, in _read_one_data\n",
      "    data = j[\"context\"][\"dispatcher\"][\"stores\"][\"HistoricalPriceStore\"]\n",
      "KeyError: 'HistoricalPriceStore'\n",
      "\n",
      "During handling of the above exception, another exception occurred:\n",
      "\n",
      "Traceback (most recent call last):\n",
      "  File \"/home/jared/workspace/market-diff/stock-prediction/notebooks/../src/datastore.py\", line 106, in download_daily_candlesticks\n",
      "    data = pdr.DataReader(\n",
      "  File \"/home/jared/.local/share/virtualenvs/stock-prediction-MOS0QyR2/lib/python3.10/site-packages/pandas/util/_decorators.py\", line 207, in wrapper\n",
      "    return func(*args, **kwargs)\n",
      "  File \"/home/jared/.local/share/virtualenvs/stock-prediction-MOS0QyR2/lib/python3.10/site-packages/pandas_datareader/data.py\", line 379, in DataReader\n",
      "    ).read()\n",
      "  File \"/home/jared/.local/share/virtualenvs/stock-prediction-MOS0QyR2/lib/python3.10/site-packages/pandas_datareader/base.py\", line 253, in read\n",
      "    df = self._read_one_data(self.url, params=self._get_params(self.symbols))\n",
      "  File \"/home/jared/.local/share/virtualenvs/stock-prediction-MOS0QyR2/lib/python3.10/site-packages/pandas_datareader/yahoo/daily.py\", line 156, in _read_one_data\n",
      "    raise RemoteDataError(msg.format(symbol, self.__class__.__name__))\n",
      "pandas_datareader._utils.RemoteDataError: No data fetched for symbol SOGO using YahooDailyReader\n"
     ]
    },
    {
     "name": "stdout",
     "output_type": "stream",
     "text": [
      "Error downloading daily candlesticks for SOGO\n"
     ]
    },
    {
     "name": "stderr",
     "output_type": "stream",
     "text": [
      "Traceback (most recent call last):\n",
      "  File \"/home/jared/.local/share/virtualenvs/stock-prediction-MOS0QyR2/lib/python3.10/site-packages/pandas_datareader/yahoo/daily.py\", line 153, in _read_one_data\n",
      "    data = j[\"context\"][\"dispatcher\"][\"stores\"][\"HistoricalPriceStore\"]\n",
      "KeyError: 'HistoricalPriceStore'\n",
      "\n",
      "During handling of the above exception, another exception occurred:\n",
      "\n",
      "Traceback (most recent call last):\n",
      "  File \"/home/jared/workspace/market-diff/stock-prediction/notebooks/../src/datastore.py\", line 106, in download_daily_candlesticks\n",
      "    data = pdr.DataReader(\n",
      "  File \"/home/jared/.local/share/virtualenvs/stock-prediction-MOS0QyR2/lib/python3.10/site-packages/pandas/util/_decorators.py\", line 207, in wrapper\n",
      "    return func(*args, **kwargs)\n",
      "  File \"/home/jared/.local/share/virtualenvs/stock-prediction-MOS0QyR2/lib/python3.10/site-packages/pandas_datareader/data.py\", line 379, in DataReader\n",
      "    ).read()\n",
      "  File \"/home/jared/.local/share/virtualenvs/stock-prediction-MOS0QyR2/lib/python3.10/site-packages/pandas_datareader/base.py\", line 253, in read\n",
      "    df = self._read_one_data(self.url, params=self._get_params(self.symbols))\n",
      "  File \"/home/jared/.local/share/virtualenvs/stock-prediction-MOS0QyR2/lib/python3.10/site-packages/pandas_datareader/yahoo/daily.py\", line 156, in _read_one_data\n",
      "    raise RemoteDataError(msg.format(symbol, self.__class__.__name__))\n",
      "pandas_datareader._utils.RemoteDataError: No data fetched for symbol CPLG using YahooDailyReader\n"
     ]
    },
    {
     "name": "stdout",
     "output_type": "stream",
     "text": [
      "Error downloading daily candlesticks for CPLG\n"
     ]
    },
    {
     "name": "stderr",
     "output_type": "stream",
     "text": [
      "Traceback (most recent call last):\n",
      "  File \"/home/jared/.local/share/virtualenvs/stock-prediction-MOS0QyR2/lib/python3.10/site-packages/pandas_datareader/yahoo/daily.py\", line 153, in _read_one_data\n",
      "    data = j[\"context\"][\"dispatcher\"][\"stores\"][\"HistoricalPriceStore\"]\n",
      "KeyError: 'HistoricalPriceStore'\n",
      "\n",
      "During handling of the above exception, another exception occurred:\n",
      "\n",
      "Traceback (most recent call last):\n",
      "  File \"/home/jared/workspace/market-diff/stock-prediction/notebooks/../src/datastore.py\", line 106, in download_daily_candlesticks\n",
      "    data = pdr.DataReader(\n",
      "  File \"/home/jared/.local/share/virtualenvs/stock-prediction-MOS0QyR2/lib/python3.10/site-packages/pandas/util/_decorators.py\", line 207, in wrapper\n",
      "    return func(*args, **kwargs)\n",
      "  File \"/home/jared/.local/share/virtualenvs/stock-prediction-MOS0QyR2/lib/python3.10/site-packages/pandas_datareader/data.py\", line 379, in DataReader\n",
      "    ).read()\n",
      "  File \"/home/jared/.local/share/virtualenvs/stock-prediction-MOS0QyR2/lib/python3.10/site-packages/pandas_datareader/base.py\", line 253, in read\n",
      "    df = self._read_one_data(self.url, params=self._get_params(self.symbols))\n",
      "  File \"/home/jared/.local/share/virtualenvs/stock-prediction-MOS0QyR2/lib/python3.10/site-packages/pandas_datareader/yahoo/daily.py\", line 156, in _read_one_data\n",
      "    raise RemoteDataError(msg.format(symbol, self.__class__.__name__))\n",
      "pandas_datareader._utils.RemoteDataError: No data fetched for symbol CCC using YahooDailyReader\n"
     ]
    },
    {
     "name": "stdout",
     "output_type": "stream",
     "text": [
      "Error downloading daily candlesticks for CCC\n"
     ]
    },
    {
     "name": "stderr",
     "output_type": "stream",
     "text": [
      "Traceback (most recent call last):\n",
      "  File \"/home/jared/.local/share/virtualenvs/stock-prediction-MOS0QyR2/lib/python3.10/site-packages/pandas_datareader/yahoo/daily.py\", line 153, in _read_one_data\n",
      "    data = j[\"context\"][\"dispatcher\"][\"stores\"][\"HistoricalPriceStore\"]\n",
      "KeyError: 'HistoricalPriceStore'\n",
      "\n",
      "During handling of the above exception, another exception occurred:\n",
      "\n",
      "Traceback (most recent call last):\n",
      "  File \"/home/jared/workspace/market-diff/stock-prediction/notebooks/../src/datastore.py\", line 106, in download_daily_candlesticks\n",
      "    data = pdr.DataReader(\n",
      "  File \"/home/jared/.local/share/virtualenvs/stock-prediction-MOS0QyR2/lib/python3.10/site-packages/pandas/util/_decorators.py\", line 207, in wrapper\n",
      "    return func(*args, **kwargs)\n",
      "  File \"/home/jared/.local/share/virtualenvs/stock-prediction-MOS0QyR2/lib/python3.10/site-packages/pandas_datareader/data.py\", line 379, in DataReader\n",
      "    ).read()\n",
      "  File \"/home/jared/.local/share/virtualenvs/stock-prediction-MOS0QyR2/lib/python3.10/site-packages/pandas_datareader/base.py\", line 253, in read\n",
      "    df = self._read_one_data(self.url, params=self._get_params(self.symbols))\n",
      "  File \"/home/jared/.local/share/virtualenvs/stock-prediction-MOS0QyR2/lib/python3.10/site-packages/pandas_datareader/yahoo/daily.py\", line 156, in _read_one_data\n",
      "    raise RemoteDataError(msg.format(symbol, self.__class__.__name__))\n",
      "pandas_datareader._utils.RemoteDataError: No data fetched for symbol SPB            using YahooDailyReader\n"
     ]
    },
    {
     "name": "stdout",
     "output_type": "stream",
     "text": [
      "Error downloading daily candlesticks for SPB           \n"
     ]
    },
    {
     "name": "stderr",
     "output_type": "stream",
     "text": [
      "Traceback (most recent call last):\n",
      "  File \"/home/jared/.local/share/virtualenvs/stock-prediction-MOS0QyR2/lib/python3.10/site-packages/pandas_datareader/yahoo/daily.py\", line 153, in _read_one_data\n",
      "    data = j[\"context\"][\"dispatcher\"][\"stores\"][\"HistoricalPriceStore\"]\n",
      "KeyError: 'HistoricalPriceStore'\n",
      "\n",
      "During handling of the above exception, another exception occurred:\n",
      "\n",
      "Traceback (most recent call last):\n",
      "  File \"/home/jared/workspace/market-diff/stock-prediction/notebooks/../src/datastore.py\", line 106, in download_daily_candlesticks\n",
      "    data = pdr.DataReader(\n",
      "  File \"/home/jared/.local/share/virtualenvs/stock-prediction-MOS0QyR2/lib/python3.10/site-packages/pandas/util/_decorators.py\", line 207, in wrapper\n",
      "    return func(*args, **kwargs)\n",
      "  File \"/home/jared/.local/share/virtualenvs/stock-prediction-MOS0QyR2/lib/python3.10/site-packages/pandas_datareader/data.py\", line 379, in DataReader\n",
      "    ).read()\n",
      "  File \"/home/jared/.local/share/virtualenvs/stock-prediction-MOS0QyR2/lib/python3.10/site-packages/pandas_datareader/base.py\", line 253, in read\n",
      "    df = self._read_one_data(self.url, params=self._get_params(self.symbols))\n",
      "  File \"/home/jared/.local/share/virtualenvs/stock-prediction-MOS0QyR2/lib/python3.10/site-packages/pandas_datareader/yahoo/daily.py\", line 156, in _read_one_data\n",
      "    raise RemoteDataError(msg.format(symbol, self.__class__.__name__))\n",
      "pandas_datareader._utils.RemoteDataError: No data fetched for symbol IPOB using YahooDailyReader\n"
     ]
    },
    {
     "name": "stdout",
     "output_type": "stream",
     "text": [
      "Error downloading daily candlesticks for IPOB\n"
     ]
    },
    {
     "name": "stderr",
     "output_type": "stream",
     "text": [
      "Traceback (most recent call last):\n",
      "  File \"/home/jared/.local/share/virtualenvs/stock-prediction-MOS0QyR2/lib/python3.10/site-packages/pandas_datareader/yahoo/daily.py\", line 153, in _read_one_data\n",
      "    data = j[\"context\"][\"dispatcher\"][\"stores\"][\"HistoricalPriceStore\"]\n",
      "KeyError: 'HistoricalPriceStore'\n",
      "\n",
      "During handling of the above exception, another exception occurred:\n",
      "\n",
      "Traceback (most recent call last):\n",
      "  File \"/home/jared/workspace/market-diff/stock-prediction/notebooks/../src/datastore.py\", line 106, in download_daily_candlesticks\n",
      "    data = pdr.DataReader(\n",
      "  File \"/home/jared/.local/share/virtualenvs/stock-prediction-MOS0QyR2/lib/python3.10/site-packages/pandas/util/_decorators.py\", line 207, in wrapper\n",
      "    return func(*args, **kwargs)\n",
      "  File \"/home/jared/.local/share/virtualenvs/stock-prediction-MOS0QyR2/lib/python3.10/site-packages/pandas_datareader/data.py\", line 379, in DataReader\n",
      "    ).read()\n",
      "  File \"/home/jared/.local/share/virtualenvs/stock-prediction-MOS0QyR2/lib/python3.10/site-packages/pandas_datareader/base.py\", line 253, in read\n",
      "    df = self._read_one_data(self.url, params=self._get_params(self.symbols))\n",
      "  File \"/home/jared/.local/share/virtualenvs/stock-prediction-MOS0QyR2/lib/python3.10/site-packages/pandas_datareader/yahoo/daily.py\", line 156, in _read_one_data\n",
      "    raise RemoteDataError(msg.format(symbol, self.__class__.__name__))\n",
      "pandas_datareader._utils.RemoteDataError: No data fetched for symbol THGA using YahooDailyReader\n"
     ]
    },
    {
     "name": "stdout",
     "output_type": "stream",
     "text": [
      "Error downloading daily candlesticks for THGA\n"
     ]
    },
    {
     "name": "stderr",
     "output_type": "stream",
     "text": [
      "Traceback (most recent call last):\n",
      "  File \"/home/jared/.local/share/virtualenvs/stock-prediction-MOS0QyR2/lib/python3.10/site-packages/pandas_datareader/yahoo/daily.py\", line 153, in _read_one_data\n",
      "    data = j[\"context\"][\"dispatcher\"][\"stores\"][\"HistoricalPriceStore\"]\n",
      "KeyError: 'HistoricalPriceStore'\n",
      "\n",
      "During handling of the above exception, another exception occurred:\n",
      "\n",
      "Traceback (most recent call last):\n",
      "  File \"/home/jared/workspace/market-diff/stock-prediction/notebooks/../src/datastore.py\", line 106, in download_daily_candlesticks\n",
      "    data = pdr.DataReader(\n",
      "  File \"/home/jared/.local/share/virtualenvs/stock-prediction-MOS0QyR2/lib/python3.10/site-packages/pandas/util/_decorators.py\", line 207, in wrapper\n",
      "    return func(*args, **kwargs)\n",
      "  File \"/home/jared/.local/share/virtualenvs/stock-prediction-MOS0QyR2/lib/python3.10/site-packages/pandas_datareader/data.py\", line 379, in DataReader\n",
      "    ).read()\n",
      "  File \"/home/jared/.local/share/virtualenvs/stock-prediction-MOS0QyR2/lib/python3.10/site-packages/pandas_datareader/base.py\", line 253, in read\n",
      "    df = self._read_one_data(self.url, params=self._get_params(self.symbols))\n",
      "  File \"/home/jared/.local/share/virtualenvs/stock-prediction-MOS0QyR2/lib/python3.10/site-packages/pandas_datareader/yahoo/daily.py\", line 156, in _read_one_data\n",
      "    raise RemoteDataError(msg.format(symbol, self.__class__.__name__))\n",
      "pandas_datareader._utils.RemoteDataError: No data fetched for symbol DPW using YahooDailyReader\n"
     ]
    },
    {
     "name": "stdout",
     "output_type": "stream",
     "text": [
      "Error downloading daily candlesticks for DPW\n"
     ]
    },
    {
     "name": "stderr",
     "output_type": "stream",
     "text": [
      "Traceback (most recent call last):\n",
      "  File \"/home/jared/.local/share/virtualenvs/stock-prediction-MOS0QyR2/lib/python3.10/site-packages/pandas_datareader/yahoo/daily.py\", line 153, in _read_one_data\n",
      "    data = j[\"context\"][\"dispatcher\"][\"stores\"][\"HistoricalPriceStore\"]\n",
      "KeyError: 'HistoricalPriceStore'\n",
      "\n",
      "During handling of the above exception, another exception occurred:\n",
      "\n",
      "Traceback (most recent call last):\n",
      "  File \"/home/jared/workspace/market-diff/stock-prediction/notebooks/../src/datastore.py\", line 106, in download_daily_candlesticks\n",
      "    data = pdr.DataReader(\n",
      "  File \"/home/jared/.local/share/virtualenvs/stock-prediction-MOS0QyR2/lib/python3.10/site-packages/pandas/util/_decorators.py\", line 207, in wrapper\n",
      "    return func(*args, **kwargs)\n",
      "  File \"/home/jared/.local/share/virtualenvs/stock-prediction-MOS0QyR2/lib/python3.10/site-packages/pandas_datareader/data.py\", line 379, in DataReader\n",
      "    ).read()\n",
      "  File \"/home/jared/.local/share/virtualenvs/stock-prediction-MOS0QyR2/lib/python3.10/site-packages/pandas_datareader/base.py\", line 253, in read\n",
      "    df = self._read_one_data(self.url, params=self._get_params(self.symbols))\n",
      "  File \"/home/jared/.local/share/virtualenvs/stock-prediction-MOS0QyR2/lib/python3.10/site-packages/pandas_datareader/yahoo/daily.py\", line 156, in _read_one_data\n",
      "    raise RemoteDataError(msg.format(symbol, self.__class__.__name__))\n",
      "pandas_datareader._utils.RemoteDataError: No data fetched for symbol SPAQ using YahooDailyReader\n"
     ]
    },
    {
     "name": "stdout",
     "output_type": "stream",
     "text": [
      "Error downloading daily candlesticks for SPAQ\n"
     ]
    },
    {
     "name": "stderr",
     "output_type": "stream",
     "text": [
      "Traceback (most recent call last):\n",
      "  File \"/home/jared/.local/share/virtualenvs/stock-prediction-MOS0QyR2/lib/python3.10/site-packages/pandas_datareader/yahoo/daily.py\", line 153, in _read_one_data\n",
      "    data = j[\"context\"][\"dispatcher\"][\"stores\"][\"HistoricalPriceStore\"]\n",
      "KeyError: 'HistoricalPriceStore'\n",
      "\n",
      "During handling of the above exception, another exception occurred:\n",
      "\n",
      "Traceback (most recent call last):\n",
      "  File \"/home/jared/workspace/market-diff/stock-prediction/notebooks/../src/datastore.py\", line 106, in download_daily_candlesticks\n",
      "    data = pdr.DataReader(\n",
      "  File \"/home/jared/.local/share/virtualenvs/stock-prediction-MOS0QyR2/lib/python3.10/site-packages/pandas/util/_decorators.py\", line 207, in wrapper\n",
      "    return func(*args, **kwargs)\n",
      "  File \"/home/jared/.local/share/virtualenvs/stock-prediction-MOS0QyR2/lib/python3.10/site-packages/pandas_datareader/data.py\", line 379, in DataReader\n",
      "    ).read()\n",
      "  File \"/home/jared/.local/share/virtualenvs/stock-prediction-MOS0QyR2/lib/python3.10/site-packages/pandas_datareader/base.py\", line 253, in read\n",
      "    df = self._read_one_data(self.url, params=self._get_params(self.symbols))\n",
      "  File \"/home/jared/.local/share/virtualenvs/stock-prediction-MOS0QyR2/lib/python3.10/site-packages/pandas_datareader/yahoo/daily.py\", line 156, in _read_one_data\n",
      "    raise RemoteDataError(msg.format(symbol, self.__class__.__name__))\n",
      "pandas_datareader._utils.RemoteDataError: No data fetched for symbol LGC using YahooDailyReader\n"
     ]
    },
    {
     "name": "stdout",
     "output_type": "stream",
     "text": [
      "Error downloading daily candlesticks for LGC\n"
     ]
    },
    {
     "name": "stderr",
     "output_type": "stream",
     "text": [
      "Traceback (most recent call last):\n",
      "  File \"/home/jared/.local/share/virtualenvs/stock-prediction-MOS0QyR2/lib/python3.10/site-packages/pandas_datareader/yahoo/daily.py\", line 153, in _read_one_data\n",
      "    data = j[\"context\"][\"dispatcher\"][\"stores\"][\"HistoricalPriceStore\"]\n",
      "KeyError: 'HistoricalPriceStore'\n",
      "\n",
      "During handling of the above exception, another exception occurred:\n",
      "\n",
      "Traceback (most recent call last):\n",
      "  File \"/home/jared/workspace/market-diff/stock-prediction/notebooks/../src/datastore.py\", line 106, in download_daily_candlesticks\n",
      "    data = pdr.DataReader(\n",
      "  File \"/home/jared/.local/share/virtualenvs/stock-prediction-MOS0QyR2/lib/python3.10/site-packages/pandas/util/_decorators.py\", line 207, in wrapper\n",
      "    return func(*args, **kwargs)\n",
      "  File \"/home/jared/.local/share/virtualenvs/stock-prediction-MOS0QyR2/lib/python3.10/site-packages/pandas_datareader/data.py\", line 379, in DataReader\n",
      "    ).read()\n",
      "  File \"/home/jared/.local/share/virtualenvs/stock-prediction-MOS0QyR2/lib/python3.10/site-packages/pandas_datareader/base.py\", line 253, in read\n",
      "    df = self._read_one_data(self.url, params=self._get_params(self.symbols))\n",
      "  File \"/home/jared/.local/share/virtualenvs/stock-prediction-MOS0QyR2/lib/python3.10/site-packages/pandas_datareader/yahoo/daily.py\", line 156, in _read_one_data\n",
      "    raise RemoteDataError(msg.format(symbol, self.__class__.__name__))\n",
      "pandas_datareader._utils.RemoteDataError: No data fetched for symbol ANH using YahooDailyReader\n"
     ]
    },
    {
     "name": "stdout",
     "output_type": "stream",
     "text": [
      "Error downloading daily candlesticks for ANH\n"
     ]
    },
    {
     "name": "stderr",
     "output_type": "stream",
     "text": [
      "Traceback (most recent call last):\n",
      "  File \"/home/jared/.local/share/virtualenvs/stock-prediction-MOS0QyR2/lib/python3.10/site-packages/pandas_datareader/yahoo/daily.py\", line 153, in _read_one_data\n",
      "    data = j[\"context\"][\"dispatcher\"][\"stores\"][\"HistoricalPriceStore\"]\n",
      "KeyError: 'HistoricalPriceStore'\n",
      "\n",
      "During handling of the above exception, another exception occurred:\n",
      "\n",
      "Traceback (most recent call last):\n",
      "  File \"/home/jared/workspace/market-diff/stock-prediction/notebooks/../src/datastore.py\", line 106, in download_daily_candlesticks\n",
      "    data = pdr.DataReader(\n",
      "  File \"/home/jared/.local/share/virtualenvs/stock-prediction-MOS0QyR2/lib/python3.10/site-packages/pandas/util/_decorators.py\", line 207, in wrapper\n",
      "    return func(*args, **kwargs)\n",
      "  File \"/home/jared/.local/share/virtualenvs/stock-prediction-MOS0QyR2/lib/python3.10/site-packages/pandas_datareader/data.py\", line 379, in DataReader\n",
      "    ).read()\n",
      "  File \"/home/jared/.local/share/virtualenvs/stock-prediction-MOS0QyR2/lib/python3.10/site-packages/pandas_datareader/base.py\", line 253, in read\n",
      "    df = self._read_one_data(self.url, params=self._get_params(self.symbols))\n",
      "  File \"/home/jared/.local/share/virtualenvs/stock-prediction-MOS0QyR2/lib/python3.10/site-packages/pandas_datareader/yahoo/daily.py\", line 156, in _read_one_data\n",
      "    raise RemoteDataError(msg.format(symbol, self.__class__.__name__))\n",
      "pandas_datareader._utils.RemoteDataError: No data fetched for symbol FLY using YahooDailyReader\n"
     ]
    },
    {
     "name": "stdout",
     "output_type": "stream",
     "text": [
      "Error downloading daily candlesticks for FLY\n"
     ]
    },
    {
     "name": "stderr",
     "output_type": "stream",
     "text": [
      "Traceback (most recent call last):\n",
      "  File \"/home/jared/.local/share/virtualenvs/stock-prediction-MOS0QyR2/lib/python3.10/site-packages/pandas_datareader/yahoo/daily.py\", line 153, in _read_one_data\n",
      "    data = j[\"context\"][\"dispatcher\"][\"stores\"][\"HistoricalPriceStore\"]\n",
      "KeyError: 'HistoricalPriceStore'\n",
      "\n",
      "During handling of the above exception, another exception occurred:\n",
      "\n",
      "Traceback (most recent call last):\n",
      "  File \"/home/jared/workspace/market-diff/stock-prediction/notebooks/../src/datastore.py\", line 106, in download_daily_candlesticks\n",
      "    data = pdr.DataReader(\n",
      "  File \"/home/jared/.local/share/virtualenvs/stock-prediction-MOS0QyR2/lib/python3.10/site-packages/pandas/util/_decorators.py\", line 207, in wrapper\n",
      "    return func(*args, **kwargs)\n",
      "  File \"/home/jared/.local/share/virtualenvs/stock-prediction-MOS0QyR2/lib/python3.10/site-packages/pandas_datareader/data.py\", line 379, in DataReader\n",
      "    ).read()\n",
      "  File \"/home/jared/.local/share/virtualenvs/stock-prediction-MOS0QyR2/lib/python3.10/site-packages/pandas_datareader/base.py\", line 253, in read\n",
      "    df = self._read_one_data(self.url, params=self._get_params(self.symbols))\n",
      "  File \"/home/jared/.local/share/virtualenvs/stock-prediction-MOS0QyR2/lib/python3.10/site-packages/pandas_datareader/yahoo/daily.py\", line 156, in _read_one_data\n",
      "    raise RemoteDataError(msg.format(symbol, self.__class__.__name__))\n",
      "pandas_datareader._utils.RemoteDataError: No data fetched for symbol CLI using YahooDailyReader\n"
     ]
    },
    {
     "name": "stdout",
     "output_type": "stream",
     "text": [
      "Error downloading daily candlesticks for CLI\n"
     ]
    },
    {
     "name": "stderr",
     "output_type": "stream",
     "text": [
      "Traceback (most recent call last):\n",
      "  File \"/home/jared/.local/share/virtualenvs/stock-prediction-MOS0QyR2/lib/python3.10/site-packages/pandas_datareader/yahoo/daily.py\", line 153, in _read_one_data\n",
      "    data = j[\"context\"][\"dispatcher\"][\"stores\"][\"HistoricalPriceStore\"]\n",
      "KeyError: 'HistoricalPriceStore'\n",
      "\n",
      "During handling of the above exception, another exception occurred:\n",
      "\n",
      "Traceback (most recent call last):\n",
      "  File \"/home/jared/workspace/market-diff/stock-prediction/notebooks/../src/datastore.py\", line 106, in download_daily_candlesticks\n",
      "    data = pdr.DataReader(\n",
      "  File \"/home/jared/.local/share/virtualenvs/stock-prediction-MOS0QyR2/lib/python3.10/site-packages/pandas/util/_decorators.py\", line 207, in wrapper\n",
      "    return func(*args, **kwargs)\n",
      "  File \"/home/jared/.local/share/virtualenvs/stock-prediction-MOS0QyR2/lib/python3.10/site-packages/pandas_datareader/data.py\", line 379, in DataReader\n",
      "    ).read()\n",
      "  File \"/home/jared/.local/share/virtualenvs/stock-prediction-MOS0QyR2/lib/python3.10/site-packages/pandas_datareader/base.py\", line 253, in read\n",
      "    df = self._read_one_data(self.url, params=self._get_params(self.symbols))\n",
      "  File \"/home/jared/.local/share/virtualenvs/stock-prediction-MOS0QyR2/lib/python3.10/site-packages/pandas_datareader/yahoo/daily.py\", line 156, in _read_one_data\n",
      "    raise RemoteDataError(msg.format(symbol, self.__class__.__name__))\n",
      "pandas_datareader._utils.RemoteDataError: No data fetched for symbol MFL using YahooDailyReader\n"
     ]
    },
    {
     "name": "stdout",
     "output_type": "stream",
     "text": [
      "Error downloading daily candlesticks for MFL\n"
     ]
    },
    {
     "name": "stderr",
     "output_type": "stream",
     "text": [
      "Traceback (most recent call last):\n",
      "  File \"/home/jared/.local/share/virtualenvs/stock-prediction-MOS0QyR2/lib/python3.10/site-packages/pandas_datareader/yahoo/daily.py\", line 153, in _read_one_data\n",
      "    data = j[\"context\"][\"dispatcher\"][\"stores\"][\"HistoricalPriceStore\"]\n",
      "KeyError: 'HistoricalPriceStore'\n",
      "\n",
      "During handling of the above exception, another exception occurred:\n",
      "\n",
      "Traceback (most recent call last):\n",
      "  File \"/home/jared/workspace/market-diff/stock-prediction/notebooks/../src/datastore.py\", line 106, in download_daily_candlesticks\n",
      "    data = pdr.DataReader(\n",
      "  File \"/home/jared/.local/share/virtualenvs/stock-prediction-MOS0QyR2/lib/python3.10/site-packages/pandas/util/_decorators.py\", line 207, in wrapper\n",
      "    return func(*args, **kwargs)\n",
      "  File \"/home/jared/.local/share/virtualenvs/stock-prediction-MOS0QyR2/lib/python3.10/site-packages/pandas_datareader/data.py\", line 379, in DataReader\n",
      "    ).read()\n",
      "  File \"/home/jared/.local/share/virtualenvs/stock-prediction-MOS0QyR2/lib/python3.10/site-packages/pandas_datareader/base.py\", line 253, in read\n",
      "    df = self._read_one_data(self.url, params=self._get_params(self.symbols))\n",
      "  File \"/home/jared/.local/share/virtualenvs/stock-prediction-MOS0QyR2/lib/python3.10/site-packages/pandas_datareader/yahoo/daily.py\", line 156, in _read_one_data\n",
      "    raise RemoteDataError(msg.format(symbol, self.__class__.__name__))\n",
      "pandas_datareader._utils.RemoteDataError: No data fetched for symbol CIT using YahooDailyReader\n"
     ]
    },
    {
     "name": "stdout",
     "output_type": "stream",
     "text": [
      "Error downloading daily candlesticks for CIT\n"
     ]
    },
    {
     "name": "stderr",
     "output_type": "stream",
     "text": [
      "Traceback (most recent call last):\n",
      "  File \"/home/jared/.local/share/virtualenvs/stock-prediction-MOS0QyR2/lib/python3.10/site-packages/pandas_datareader/yahoo/daily.py\", line 153, in _read_one_data\n",
      "    data = j[\"context\"][\"dispatcher\"][\"stores\"][\"HistoricalPriceStore\"]\n",
      "KeyError: 'HistoricalPriceStore'\n",
      "\n",
      "During handling of the above exception, another exception occurred:\n",
      "\n",
      "Traceback (most recent call last):\n",
      "  File \"/home/jared/workspace/market-diff/stock-prediction/notebooks/../src/datastore.py\", line 106, in download_daily_candlesticks\n",
      "    data = pdr.DataReader(\n",
      "  File \"/home/jared/.local/share/virtualenvs/stock-prediction-MOS0QyR2/lib/python3.10/site-packages/pandas/util/_decorators.py\", line 207, in wrapper\n",
      "    return func(*args, **kwargs)\n",
      "  File \"/home/jared/.local/share/virtualenvs/stock-prediction-MOS0QyR2/lib/python3.10/site-packages/pandas_datareader/data.py\", line 379, in DataReader\n",
      "    ).read()\n",
      "  File \"/home/jared/.local/share/virtualenvs/stock-prediction-MOS0QyR2/lib/python3.10/site-packages/pandas_datareader/base.py\", line 253, in read\n",
      "    df = self._read_one_data(self.url, params=self._get_params(self.symbols))\n",
      "  File \"/home/jared/.local/share/virtualenvs/stock-prediction-MOS0QyR2/lib/python3.10/site-packages/pandas_datareader/yahoo/daily.py\", line 156, in _read_one_data\n",
      "    raise RemoteDataError(msg.format(symbol, self.__class__.__name__))\n",
      "pandas_datareader._utils.RemoteDataError: No data fetched for symbol VEDL using YahooDailyReader\n"
     ]
    },
    {
     "name": "stdout",
     "output_type": "stream",
     "text": [
      "Error downloading daily candlesticks for VEDL\n"
     ]
    },
    {
     "name": "stderr",
     "output_type": "stream",
     "text": [
      "Traceback (most recent call last):\n",
      "  File \"/home/jared/.local/share/virtualenvs/stock-prediction-MOS0QyR2/lib/python3.10/site-packages/pandas_datareader/yahoo/daily.py\", line 153, in _read_one_data\n",
      "    data = j[\"context\"][\"dispatcher\"][\"stores\"][\"HistoricalPriceStore\"]\n",
      "KeyError: 'HistoricalPriceStore'\n",
      "\n",
      "During handling of the above exception, another exception occurred:\n",
      "\n",
      "Traceback (most recent call last):\n",
      "  File \"/home/jared/workspace/market-diff/stock-prediction/notebooks/../src/datastore.py\", line 106, in download_daily_candlesticks\n",
      "    data = pdr.DataReader(\n",
      "  File \"/home/jared/.local/share/virtualenvs/stock-prediction-MOS0QyR2/lib/python3.10/site-packages/pandas/util/_decorators.py\", line 207, in wrapper\n",
      "    return func(*args, **kwargs)\n",
      "  File \"/home/jared/.local/share/virtualenvs/stock-prediction-MOS0QyR2/lib/python3.10/site-packages/pandas_datareader/data.py\", line 379, in DataReader\n",
      "    ).read()\n",
      "  File \"/home/jared/.local/share/virtualenvs/stock-prediction-MOS0QyR2/lib/python3.10/site-packages/pandas_datareader/base.py\", line 253, in read\n",
      "    df = self._read_one_data(self.url, params=self._get_params(self.symbols))\n",
      "  File \"/home/jared/.local/share/virtualenvs/stock-prediction-MOS0QyR2/lib/python3.10/site-packages/pandas_datareader/yahoo/daily.py\", line 156, in _read_one_data\n",
      "    raise RemoteDataError(msg.format(symbol, self.__class__.__name__))\n",
      "pandas_datareader._utils.RemoteDataError: No data fetched for symbol FFG using YahooDailyReader\n"
     ]
    },
    {
     "name": "stdout",
     "output_type": "stream",
     "text": [
      "Error downloading daily candlesticks for FFG\n"
     ]
    },
    {
     "name": "stderr",
     "output_type": "stream",
     "text": [
      "Traceback (most recent call last):\n",
      "  File \"/home/jared/.local/share/virtualenvs/stock-prediction-MOS0QyR2/lib/python3.10/site-packages/pandas_datareader/yahoo/daily.py\", line 153, in _read_one_data\n",
      "    data = j[\"context\"][\"dispatcher\"][\"stores\"][\"HistoricalPriceStore\"]\n",
      "KeyError: 'HistoricalPriceStore'\n",
      "\n",
      "During handling of the above exception, another exception occurred:\n",
      "\n",
      "Traceback (most recent call last):\n",
      "  File \"/home/jared/workspace/market-diff/stock-prediction/notebooks/../src/datastore.py\", line 106, in download_daily_candlesticks\n",
      "    data = pdr.DataReader(\n",
      "  File \"/home/jared/.local/share/virtualenvs/stock-prediction-MOS0QyR2/lib/python3.10/site-packages/pandas/util/_decorators.py\", line 207, in wrapper\n",
      "    return func(*args, **kwargs)\n",
      "  File \"/home/jared/.local/share/virtualenvs/stock-prediction-MOS0QyR2/lib/python3.10/site-packages/pandas_datareader/data.py\", line 379, in DataReader\n",
      "    ).read()\n",
      "  File \"/home/jared/.local/share/virtualenvs/stock-prediction-MOS0QyR2/lib/python3.10/site-packages/pandas_datareader/base.py\", line 253, in read\n",
      "    df = self._read_one_data(self.url, params=self._get_params(self.symbols))\n",
      "  File \"/home/jared/.local/share/virtualenvs/stock-prediction-MOS0QyR2/lib/python3.10/site-packages/pandas_datareader/yahoo/daily.py\", line 156, in _read_one_data\n",
      "    raise RemoteDataError(msg.format(symbol, self.__class__.__name__))\n",
      "pandas_datareader._utils.RemoteDataError: No data fetched for symbol CNXM using YahooDailyReader\n"
     ]
    },
    {
     "name": "stdout",
     "output_type": "stream",
     "text": [
      "Error downloading daily candlesticks for CNXM\n"
     ]
    },
    {
     "name": "stderr",
     "output_type": "stream",
     "text": [
      "Traceback (most recent call last):\n",
      "  File \"/home/jared/.local/share/virtualenvs/stock-prediction-MOS0QyR2/lib/python3.10/site-packages/pandas_datareader/yahoo/daily.py\", line 153, in _read_one_data\n",
      "    data = j[\"context\"][\"dispatcher\"][\"stores\"][\"HistoricalPriceStore\"]\n",
      "KeyError: 'HistoricalPriceStore'\n",
      "\n",
      "During handling of the above exception, another exception occurred:\n",
      "\n",
      "Traceback (most recent call last):\n",
      "  File \"/home/jared/workspace/market-diff/stock-prediction/notebooks/../src/datastore.py\", line 106, in download_daily_candlesticks\n",
      "    data = pdr.DataReader(\n",
      "  File \"/home/jared/.local/share/virtualenvs/stock-prediction-MOS0QyR2/lib/python3.10/site-packages/pandas/util/_decorators.py\", line 207, in wrapper\n",
      "    return func(*args, **kwargs)\n",
      "  File \"/home/jared/.local/share/virtualenvs/stock-prediction-MOS0QyR2/lib/python3.10/site-packages/pandas_datareader/data.py\", line 379, in DataReader\n",
      "    ).read()\n",
      "  File \"/home/jared/.local/share/virtualenvs/stock-prediction-MOS0QyR2/lib/python3.10/site-packages/pandas_datareader/base.py\", line 253, in read\n",
      "    df = self._read_one_data(self.url, params=self._get_params(self.symbols))\n",
      "  File \"/home/jared/.local/share/virtualenvs/stock-prediction-MOS0QyR2/lib/python3.10/site-packages/pandas_datareader/yahoo/daily.py\", line 156, in _read_one_data\n",
      "    raise RemoteDataError(msg.format(symbol, self.__class__.__name__))\n",
      "pandas_datareader._utils.RemoteDataError: No data fetched for symbol PER using YahooDailyReader\n"
     ]
    },
    {
     "name": "stdout",
     "output_type": "stream",
     "text": [
      "Error downloading daily candlesticks for PER\n"
     ]
    },
    {
     "name": "stderr",
     "output_type": "stream",
     "text": [
      "Traceback (most recent call last):\n",
      "  File \"/home/jared/.local/share/virtualenvs/stock-prediction-MOS0QyR2/lib/python3.10/site-packages/pandas_datareader/yahoo/daily.py\", line 153, in _read_one_data\n",
      "    data = j[\"context\"][\"dispatcher\"][\"stores\"][\"HistoricalPriceStore\"]\n",
      "KeyError: 'HistoricalPriceStore'\n",
      "\n",
      "During handling of the above exception, another exception occurred:\n",
      "\n",
      "Traceback (most recent call last):\n",
      "  File \"/home/jared/workspace/market-diff/stock-prediction/notebooks/../src/datastore.py\", line 106, in download_daily_candlesticks\n",
      "    data = pdr.DataReader(\n",
      "  File \"/home/jared/.local/share/virtualenvs/stock-prediction-MOS0QyR2/lib/python3.10/site-packages/pandas/util/_decorators.py\", line 207, in wrapper\n",
      "    return func(*args, **kwargs)\n",
      "  File \"/home/jared/.local/share/virtualenvs/stock-prediction-MOS0QyR2/lib/python3.10/site-packages/pandas_datareader/data.py\", line 379, in DataReader\n",
      "    ).read()\n",
      "  File \"/home/jared/.local/share/virtualenvs/stock-prediction-MOS0QyR2/lib/python3.10/site-packages/pandas_datareader/base.py\", line 253, in read\n",
      "    df = self._read_one_data(self.url, params=self._get_params(self.symbols))\n",
      "  File \"/home/jared/.local/share/virtualenvs/stock-prediction-MOS0QyR2/lib/python3.10/site-packages/pandas_datareader/yahoo/daily.py\", line 156, in _read_one_data\n",
      "    raise RemoteDataError(msg.format(symbol, self.__class__.__name__))\n",
      "pandas_datareader._utils.RemoteDataError: No data fetched for symbol DNI using YahooDailyReader\n"
     ]
    },
    {
     "name": "stdout",
     "output_type": "stream",
     "text": [
      "Error downloading daily candlesticks for DNI\n"
     ]
    },
    {
     "name": "stderr",
     "output_type": "stream",
     "text": [
      "Traceback (most recent call last):\n",
      "  File \"/home/jared/.local/share/virtualenvs/stock-prediction-MOS0QyR2/lib/python3.10/site-packages/pandas_datareader/yahoo/daily.py\", line 153, in _read_one_data\n",
      "    data = j[\"context\"][\"dispatcher\"][\"stores\"][\"HistoricalPriceStore\"]\n",
      "KeyError: 'HistoricalPriceStore'\n",
      "\n",
      "During handling of the above exception, another exception occurred:\n",
      "\n",
      "Traceback (most recent call last):\n",
      "  File \"/home/jared/workspace/market-diff/stock-prediction/notebooks/../src/datastore.py\", line 106, in download_daily_candlesticks\n",
      "    data = pdr.DataReader(\n",
      "  File \"/home/jared/.local/share/virtualenvs/stock-prediction-MOS0QyR2/lib/python3.10/site-packages/pandas/util/_decorators.py\", line 207, in wrapper\n",
      "    return func(*args, **kwargs)\n",
      "  File \"/home/jared/.local/share/virtualenvs/stock-prediction-MOS0QyR2/lib/python3.10/site-packages/pandas_datareader/data.py\", line 379, in DataReader\n",
      "    ).read()\n",
      "  File \"/home/jared/.local/share/virtualenvs/stock-prediction-MOS0QyR2/lib/python3.10/site-packages/pandas_datareader/base.py\", line 253, in read\n",
      "    df = self._read_one_data(self.url, params=self._get_params(self.symbols))\n",
      "  File \"/home/jared/.local/share/virtualenvs/stock-prediction-MOS0QyR2/lib/python3.10/site-packages/pandas_datareader/yahoo/daily.py\", line 156, in _read_one_data\n",
      "    raise RemoteDataError(msg.format(symbol, self.__class__.__name__))\n",
      "pandas_datareader._utils.RemoteDataError: No data fetched for symbol RPLA using YahooDailyReader\n"
     ]
    },
    {
     "name": "stdout",
     "output_type": "stream",
     "text": [
      "Error downloading daily candlesticks for RPLA\n"
     ]
    },
    {
     "name": "stderr",
     "output_type": "stream",
     "text": [
      "Traceback (most recent call last):\n",
      "  File \"/home/jared/.local/share/virtualenvs/stock-prediction-MOS0QyR2/lib/python3.10/site-packages/pandas_datareader/yahoo/daily.py\", line 153, in _read_one_data\n",
      "    data = j[\"context\"][\"dispatcher\"][\"stores\"][\"HistoricalPriceStore\"]\n",
      "KeyError: 'HistoricalPriceStore'\n",
      "\n",
      "During handling of the above exception, another exception occurred:\n",
      "\n",
      "Traceback (most recent call last):\n",
      "  File \"/home/jared/workspace/market-diff/stock-prediction/notebooks/../src/datastore.py\", line 106, in download_daily_candlesticks\n",
      "    data = pdr.DataReader(\n",
      "  File \"/home/jared/.local/share/virtualenvs/stock-prediction-MOS0QyR2/lib/python3.10/site-packages/pandas/util/_decorators.py\", line 207, in wrapper\n",
      "    return func(*args, **kwargs)\n",
      "  File \"/home/jared/.local/share/virtualenvs/stock-prediction-MOS0QyR2/lib/python3.10/site-packages/pandas_datareader/data.py\", line 379, in DataReader\n",
      "    ).read()\n",
      "  File \"/home/jared/.local/share/virtualenvs/stock-prediction-MOS0QyR2/lib/python3.10/site-packages/pandas_datareader/base.py\", line 253, in read\n",
      "    df = self._read_one_data(self.url, params=self._get_params(self.symbols))\n",
      "  File \"/home/jared/.local/share/virtualenvs/stock-prediction-MOS0QyR2/lib/python3.10/site-packages/pandas_datareader/yahoo/daily.py\", line 156, in _read_one_data\n",
      "    raise RemoteDataError(msg.format(symbol, self.__class__.__name__))\n",
      "pandas_datareader._utils.RemoteDataError: No data fetched for symbol WRI using YahooDailyReader\n"
     ]
    },
    {
     "name": "stdout",
     "output_type": "stream",
     "text": [
      "Error downloading daily candlesticks for WRI\n"
     ]
    },
    {
     "name": "stderr",
     "output_type": "stream",
     "text": [
      "Traceback (most recent call last):\n",
      "  File \"/home/jared/.local/share/virtualenvs/stock-prediction-MOS0QyR2/lib/python3.10/site-packages/pandas_datareader/yahoo/daily.py\", line 153, in _read_one_data\n",
      "    data = j[\"context\"][\"dispatcher\"][\"stores\"][\"HistoricalPriceStore\"]\n",
      "KeyError: 'HistoricalPriceStore'\n",
      "\n",
      "During handling of the above exception, another exception occurred:\n",
      "\n",
      "Traceback (most recent call last):\n",
      "  File \"/home/jared/workspace/market-diff/stock-prediction/notebooks/../src/datastore.py\", line 106, in download_daily_candlesticks\n",
      "    data = pdr.DataReader(\n",
      "  File \"/home/jared/.local/share/virtualenvs/stock-prediction-MOS0QyR2/lib/python3.10/site-packages/pandas/util/_decorators.py\", line 207, in wrapper\n",
      "    return func(*args, **kwargs)\n",
      "  File \"/home/jared/.local/share/virtualenvs/stock-prediction-MOS0QyR2/lib/python3.10/site-packages/pandas_datareader/data.py\", line 379, in DataReader\n",
      "    ).read()\n",
      "  File \"/home/jared/.local/share/virtualenvs/stock-prediction-MOS0QyR2/lib/python3.10/site-packages/pandas_datareader/base.py\", line 253, in read\n",
      "    df = self._read_one_data(self.url, params=self._get_params(self.symbols))\n",
      "  File \"/home/jared/.local/share/virtualenvs/stock-prediction-MOS0QyR2/lib/python3.10/site-packages/pandas_datareader/yahoo/daily.py\", line 156, in _read_one_data\n",
      "    raise RemoteDataError(msg.format(symbol, self.__class__.__name__))\n",
      "pandas_datareader._utils.RemoteDataError: No data fetched for symbol JWS using YahooDailyReader\n"
     ]
    },
    {
     "name": "stdout",
     "output_type": "stream",
     "text": [
      "Error downloading daily candlesticks for JWS\n"
     ]
    },
    {
     "name": "stderr",
     "output_type": "stream",
     "text": [
      "Traceback (most recent call last):\n",
      "  File \"/home/jared/.local/share/virtualenvs/stock-prediction-MOS0QyR2/lib/python3.10/site-packages/pandas_datareader/yahoo/daily.py\", line 153, in _read_one_data\n",
      "    data = j[\"context\"][\"dispatcher\"][\"stores\"][\"HistoricalPriceStore\"]\n",
      "KeyError: 'HistoricalPriceStore'\n",
      "\n",
      "During handling of the above exception, another exception occurred:\n",
      "\n",
      "Traceback (most recent call last):\n",
      "  File \"/home/jared/workspace/market-diff/stock-prediction/notebooks/../src/datastore.py\", line 106, in download_daily_candlesticks\n",
      "    data = pdr.DataReader(\n",
      "  File \"/home/jared/.local/share/virtualenvs/stock-prediction-MOS0QyR2/lib/python3.10/site-packages/pandas/util/_decorators.py\", line 207, in wrapper\n",
      "    return func(*args, **kwargs)\n",
      "  File \"/home/jared/.local/share/virtualenvs/stock-prediction-MOS0QyR2/lib/python3.10/site-packages/pandas_datareader/data.py\", line 379, in DataReader\n",
      "    ).read()\n",
      "  File \"/home/jared/.local/share/virtualenvs/stock-prediction-MOS0QyR2/lib/python3.10/site-packages/pandas_datareader/base.py\", line 253, in read\n",
      "    df = self._read_one_data(self.url, params=self._get_params(self.symbols))\n",
      "  File \"/home/jared/.local/share/virtualenvs/stock-prediction-MOS0QyR2/lib/python3.10/site-packages/pandas_datareader/yahoo/daily.py\", line 156, in _read_one_data\n",
      "    raise RemoteDataError(msg.format(symbol, self.__class__.__name__))\n",
      "pandas_datareader._utils.RemoteDataError: No data fetched for symbol MCF using YahooDailyReader\n"
     ]
    },
    {
     "name": "stdout",
     "output_type": "stream",
     "text": [
      "Error downloading daily candlesticks for MCF\n"
     ]
    },
    {
     "name": "stderr",
     "output_type": "stream",
     "text": [
      "Traceback (most recent call last):\n",
      "  File \"/home/jared/.local/share/virtualenvs/stock-prediction-MOS0QyR2/lib/python3.10/site-packages/pandas_datareader/yahoo/daily.py\", line 153, in _read_one_data\n",
      "    data = j[\"context\"][\"dispatcher\"][\"stores\"][\"HistoricalPriceStore\"]\n",
      "KeyError: 'HistoricalPriceStore'\n",
      "\n",
      "During handling of the above exception, another exception occurred:\n",
      "\n",
      "Traceback (most recent call last):\n",
      "  File \"/home/jared/workspace/market-diff/stock-prediction/notebooks/../src/datastore.py\", line 106, in download_daily_candlesticks\n",
      "    data = pdr.DataReader(\n",
      "  File \"/home/jared/.local/share/virtualenvs/stock-prediction-MOS0QyR2/lib/python3.10/site-packages/pandas/util/_decorators.py\", line 207, in wrapper\n",
      "    return func(*args, **kwargs)\n",
      "  File \"/home/jared/.local/share/virtualenvs/stock-prediction-MOS0QyR2/lib/python3.10/site-packages/pandas_datareader/data.py\", line 379, in DataReader\n",
      "    ).read()\n",
      "  File \"/home/jared/.local/share/virtualenvs/stock-prediction-MOS0QyR2/lib/python3.10/site-packages/pandas_datareader/base.py\", line 253, in read\n",
      "    df = self._read_one_data(self.url, params=self._get_params(self.symbols))\n",
      "  File \"/home/jared/.local/share/virtualenvs/stock-prediction-MOS0QyR2/lib/python3.10/site-packages/pandas_datareader/yahoo/daily.py\", line 156, in _read_one_data\n",
      "    raise RemoteDataError(msg.format(symbol, self.__class__.__name__))\n",
      "pandas_datareader._utils.RemoteDataError: No data fetched for symbol ETX            using YahooDailyReader\n"
     ]
    },
    {
     "name": "stdout",
     "output_type": "stream",
     "text": [
      "Error downloading daily candlesticks for ETX           \n"
     ]
    },
    {
     "name": "stderr",
     "output_type": "stream",
     "text": [
      "Traceback (most recent call last):\n",
      "  File \"/home/jared/.local/share/virtualenvs/stock-prediction-MOS0QyR2/lib/python3.10/site-packages/pandas_datareader/yahoo/daily.py\", line 153, in _read_one_data\n",
      "    data = j[\"context\"][\"dispatcher\"][\"stores\"][\"HistoricalPriceStore\"]\n",
      "KeyError: 'HistoricalPriceStore'\n",
      "\n",
      "During handling of the above exception, another exception occurred:\n",
      "\n",
      "Traceback (most recent call last):\n",
      "  File \"/home/jared/workspace/market-diff/stock-prediction/notebooks/../src/datastore.py\", line 106, in download_daily_candlesticks\n",
      "    data = pdr.DataReader(\n",
      "  File \"/home/jared/.local/share/virtualenvs/stock-prediction-MOS0QyR2/lib/python3.10/site-packages/pandas/util/_decorators.py\", line 207, in wrapper\n",
      "    return func(*args, **kwargs)\n",
      "  File \"/home/jared/.local/share/virtualenvs/stock-prediction-MOS0QyR2/lib/python3.10/site-packages/pandas_datareader/data.py\", line 379, in DataReader\n",
      "    ).read()\n",
      "  File \"/home/jared/.local/share/virtualenvs/stock-prediction-MOS0QyR2/lib/python3.10/site-packages/pandas_datareader/base.py\", line 253, in read\n",
      "    df = self._read_one_data(self.url, params=self._get_params(self.symbols))\n",
      "  File \"/home/jared/.local/share/virtualenvs/stock-prediction-MOS0QyR2/lib/python3.10/site-packages/pandas_datareader/yahoo/daily.py\", line 156, in _read_one_data\n",
      "    raise RemoteDataError(msg.format(symbol, self.__class__.__name__))\n",
      "pandas_datareader._utils.RemoteDataError: No data fetched for symbol ANTM using YahooDailyReader\n"
     ]
    },
    {
     "name": "stdout",
     "output_type": "stream",
     "text": [
      "Error downloading daily candlesticks for ANTM\n"
     ]
    },
    {
     "name": "stderr",
     "output_type": "stream",
     "text": [
      "Traceback (most recent call last):\n",
      "  File \"/home/jared/.local/share/virtualenvs/stock-prediction-MOS0QyR2/lib/python3.10/site-packages/pandas_datareader/yahoo/daily.py\", line 153, in _read_one_data\n",
      "    data = j[\"context\"][\"dispatcher\"][\"stores\"][\"HistoricalPriceStore\"]\n",
      "KeyError: 'HistoricalPriceStore'\n",
      "\n",
      "During handling of the above exception, another exception occurred:\n",
      "\n",
      "Traceback (most recent call last):\n",
      "  File \"/home/jared/workspace/market-diff/stock-prediction/notebooks/../src/datastore.py\", line 106, in download_daily_candlesticks\n",
      "    data = pdr.DataReader(\n",
      "  File \"/home/jared/.local/share/virtualenvs/stock-prediction-MOS0QyR2/lib/python3.10/site-packages/pandas/util/_decorators.py\", line 207, in wrapper\n",
      "    return func(*args, **kwargs)\n",
      "  File \"/home/jared/.local/share/virtualenvs/stock-prediction-MOS0QyR2/lib/python3.10/site-packages/pandas_datareader/data.py\", line 379, in DataReader\n",
      "    ).read()\n",
      "  File \"/home/jared/.local/share/virtualenvs/stock-prediction-MOS0QyR2/lib/python3.10/site-packages/pandas_datareader/base.py\", line 253, in read\n",
      "    df = self._read_one_data(self.url, params=self._get_params(self.symbols))\n",
      "  File \"/home/jared/.local/share/virtualenvs/stock-prediction-MOS0QyR2/lib/python3.10/site-packages/pandas_datareader/yahoo/daily.py\", line 156, in _read_one_data\n",
      "    raise RemoteDataError(msg.format(symbol, self.__class__.__name__))\n",
      "pandas_datareader._utils.RemoteDataError: No data fetched for symbol OAC using YahooDailyReader\n"
     ]
    },
    {
     "name": "stdout",
     "output_type": "stream",
     "text": [
      "Error downloading daily candlesticks for OAC\n"
     ]
    },
    {
     "name": "stderr",
     "output_type": "stream",
     "text": [
      "Traceback (most recent call last):\n",
      "  File \"/home/jared/.local/share/virtualenvs/stock-prediction-MOS0QyR2/lib/python3.10/site-packages/pandas_datareader/yahoo/daily.py\", line 153, in _read_one_data\n",
      "    data = j[\"context\"][\"dispatcher\"][\"stores\"][\"HistoricalPriceStore\"]\n",
      "KeyError: 'HistoricalPriceStore'\n",
      "\n",
      "During handling of the above exception, another exception occurred:\n",
      "\n",
      "Traceback (most recent call last):\n",
      "  File \"/home/jared/workspace/market-diff/stock-prediction/notebooks/../src/datastore.py\", line 106, in download_daily_candlesticks\n",
      "    data = pdr.DataReader(\n",
      "  File \"/home/jared/.local/share/virtualenvs/stock-prediction-MOS0QyR2/lib/python3.10/site-packages/pandas/util/_decorators.py\", line 207, in wrapper\n",
      "    return func(*args, **kwargs)\n",
      "  File \"/home/jared/.local/share/virtualenvs/stock-prediction-MOS0QyR2/lib/python3.10/site-packages/pandas_datareader/data.py\", line 379, in DataReader\n",
      "    ).read()\n",
      "  File \"/home/jared/.local/share/virtualenvs/stock-prediction-MOS0QyR2/lib/python3.10/site-packages/pandas_datareader/base.py\", line 253, in read\n",
      "    df = self._read_one_data(self.url, params=self._get_params(self.symbols))\n",
      "  File \"/home/jared/.local/share/virtualenvs/stock-prediction-MOS0QyR2/lib/python3.10/site-packages/pandas_datareader/yahoo/daily.py\", line 156, in _read_one_data\n",
      "    raise RemoteDataError(msg.format(symbol, self.__class__.__name__))\n",
      "pandas_datareader._utils.RemoteDataError: No data fetched for symbol CFX using YahooDailyReader\n"
     ]
    },
    {
     "name": "stdout",
     "output_type": "stream",
     "text": [
      "Error downloading daily candlesticks for CFX\n"
     ]
    },
    {
     "name": "stderr",
     "output_type": "stream",
     "text": [
      "Traceback (most recent call last):\n",
      "  File \"/home/jared/.local/share/virtualenvs/stock-prediction-MOS0QyR2/lib/python3.10/site-packages/pandas_datareader/yahoo/daily.py\", line 153, in _read_one_data\n",
      "    data = j[\"context\"][\"dispatcher\"][\"stores\"][\"HistoricalPriceStore\"]\n",
      "KeyError: 'HistoricalPriceStore'\n",
      "\n",
      "During handling of the above exception, another exception occurred:\n",
      "\n",
      "Traceback (most recent call last):\n",
      "  File \"/home/jared/workspace/market-diff/stock-prediction/notebooks/../src/datastore.py\", line 106, in download_daily_candlesticks\n",
      "    data = pdr.DataReader(\n",
      "  File \"/home/jared/.local/share/virtualenvs/stock-prediction-MOS0QyR2/lib/python3.10/site-packages/pandas/util/_decorators.py\", line 207, in wrapper\n",
      "    return func(*args, **kwargs)\n",
      "  File \"/home/jared/.local/share/virtualenvs/stock-prediction-MOS0QyR2/lib/python3.10/site-packages/pandas_datareader/data.py\", line 379, in DataReader\n",
      "    ).read()\n",
      "  File \"/home/jared/.local/share/virtualenvs/stock-prediction-MOS0QyR2/lib/python3.10/site-packages/pandas_datareader/base.py\", line 253, in read\n",
      "    df = self._read_one_data(self.url, params=self._get_params(self.symbols))\n",
      "  File \"/home/jared/.local/share/virtualenvs/stock-prediction-MOS0QyR2/lib/python3.10/site-packages/pandas_datareader/yahoo/daily.py\", line 156, in _read_one_data\n",
      "    raise RemoteDataError(msg.format(symbol, self.__class__.__name__))\n",
      "pandas_datareader._utils.RemoteDataError: No data fetched for symbol CRY using YahooDailyReader\n"
     ]
    },
    {
     "name": "stdout",
     "output_type": "stream",
     "text": [
      "Error downloading daily candlesticks for CRY\n"
     ]
    },
    {
     "name": "stderr",
     "output_type": "stream",
     "text": [
      "Traceback (most recent call last):\n",
      "  File \"/home/jared/.local/share/virtualenvs/stock-prediction-MOS0QyR2/lib/python3.10/site-packages/pandas_datareader/yahoo/daily.py\", line 153, in _read_one_data\n",
      "    data = j[\"context\"][\"dispatcher\"][\"stores\"][\"HistoricalPriceStore\"]\n",
      "KeyError: 'HistoricalPriceStore'\n",
      "\n",
      "During handling of the above exception, another exception occurred:\n",
      "\n",
      "Traceback (most recent call last):\n",
      "  File \"/home/jared/workspace/market-diff/stock-prediction/notebooks/../src/datastore.py\", line 106, in download_daily_candlesticks\n",
      "    data = pdr.DataReader(\n",
      "  File \"/home/jared/.local/share/virtualenvs/stock-prediction-MOS0QyR2/lib/python3.10/site-packages/pandas/util/_decorators.py\", line 207, in wrapper\n",
      "    return func(*args, **kwargs)\n",
      "  File \"/home/jared/.local/share/virtualenvs/stock-prediction-MOS0QyR2/lib/python3.10/site-packages/pandas_datareader/data.py\", line 379, in DataReader\n",
      "    ).read()\n",
      "  File \"/home/jared/.local/share/virtualenvs/stock-prediction-MOS0QyR2/lib/python3.10/site-packages/pandas_datareader/base.py\", line 253, in read\n",
      "    df = self._read_one_data(self.url, params=self._get_params(self.symbols))\n",
      "  File \"/home/jared/.local/share/virtualenvs/stock-prediction-MOS0QyR2/lib/python3.10/site-packages/pandas_datareader/yahoo/daily.py\", line 156, in _read_one_data\n",
      "    raise RemoteDataError(msg.format(symbol, self.__class__.__name__))\n",
      "pandas_datareader._utils.RemoteDataError: No data fetched for symbol GGO using YahooDailyReader\n"
     ]
    },
    {
     "name": "stdout",
     "output_type": "stream",
     "text": [
      "Error downloading daily candlesticks for GGO\n"
     ]
    },
    {
     "name": "stderr",
     "output_type": "stream",
     "text": [
      "Traceback (most recent call last):\n",
      "  File \"/home/jared/.local/share/virtualenvs/stock-prediction-MOS0QyR2/lib/python3.10/site-packages/pandas_datareader/yahoo/daily.py\", line 153, in _read_one_data\n",
      "    data = j[\"context\"][\"dispatcher\"][\"stores\"][\"HistoricalPriceStore\"]\n",
      "KeyError: 'HistoricalPriceStore'\n",
      "\n",
      "During handling of the above exception, another exception occurred:\n",
      "\n",
      "Traceback (most recent call last):\n",
      "  File \"/home/jared/workspace/market-diff/stock-prediction/notebooks/../src/datastore.py\", line 106, in download_daily_candlesticks\n",
      "    data = pdr.DataReader(\n",
      "  File \"/home/jared/.local/share/virtualenvs/stock-prediction-MOS0QyR2/lib/python3.10/site-packages/pandas/util/_decorators.py\", line 207, in wrapper\n",
      "    return func(*args, **kwargs)\n",
      "  File \"/home/jared/.local/share/virtualenvs/stock-prediction-MOS0QyR2/lib/python3.10/site-packages/pandas_datareader/data.py\", line 379, in DataReader\n",
      "    ).read()\n",
      "  File \"/home/jared/.local/share/virtualenvs/stock-prediction-MOS0QyR2/lib/python3.10/site-packages/pandas_datareader/base.py\", line 253, in read\n",
      "    df = self._read_one_data(self.url, params=self._get_params(self.symbols))\n",
      "  File \"/home/jared/.local/share/virtualenvs/stock-prediction-MOS0QyR2/lib/python3.10/site-packages/pandas_datareader/yahoo/daily.py\", line 156, in _read_one_data\n",
      "    raise RemoteDataError(msg.format(symbol, self.__class__.__name__))\n",
      "pandas_datareader._utils.RemoteDataError: No data fetched for symbol CTL using YahooDailyReader\n"
     ]
    },
    {
     "name": "stdout",
     "output_type": "stream",
     "text": [
      "Error downloading daily candlesticks for CTL\n"
     ]
    },
    {
     "name": "stderr",
     "output_type": "stream",
     "text": [
      "Traceback (most recent call last):\n",
      "  File \"/home/jared/.local/share/virtualenvs/stock-prediction-MOS0QyR2/lib/python3.10/site-packages/pandas_datareader/yahoo/daily.py\", line 153, in _read_one_data\n",
      "    data = j[\"context\"][\"dispatcher\"][\"stores\"][\"HistoricalPriceStore\"]\n",
      "KeyError: 'HistoricalPriceStore'\n",
      "\n",
      "During handling of the above exception, another exception occurred:\n",
      "\n",
      "Traceback (most recent call last):\n",
      "  File \"/home/jared/workspace/market-diff/stock-prediction/notebooks/../src/datastore.py\", line 106, in download_daily_candlesticks\n",
      "    data = pdr.DataReader(\n",
      "  File \"/home/jared/.local/share/virtualenvs/stock-prediction-MOS0QyR2/lib/python3.10/site-packages/pandas/util/_decorators.py\", line 207, in wrapper\n",
      "    return func(*args, **kwargs)\n",
      "  File \"/home/jared/.local/share/virtualenvs/stock-prediction-MOS0QyR2/lib/python3.10/site-packages/pandas_datareader/data.py\", line 379, in DataReader\n",
      "    ).read()\n",
      "  File \"/home/jared/.local/share/virtualenvs/stock-prediction-MOS0QyR2/lib/python3.10/site-packages/pandas_datareader/base.py\", line 253, in read\n",
      "    df = self._read_one_data(self.url, params=self._get_params(self.symbols))\n",
      "  File \"/home/jared/.local/share/virtualenvs/stock-prediction-MOS0QyR2/lib/python3.10/site-packages/pandas_datareader/yahoo/daily.py\", line 156, in _read_one_data\n",
      "    raise RemoteDataError(msg.format(symbol, self.__class__.__name__))\n",
      "pandas_datareader._utils.RemoteDataError: No data fetched for symbol WTRU using YahooDailyReader\n"
     ]
    },
    {
     "name": "stdout",
     "output_type": "stream",
     "text": [
      "Error downloading daily candlesticks for WTRU\n"
     ]
    },
    {
     "name": "stderr",
     "output_type": "stream",
     "text": [
      "Traceback (most recent call last):\n",
      "  File \"/home/jared/.local/share/virtualenvs/stock-prediction-MOS0QyR2/lib/python3.10/site-packages/pandas_datareader/yahoo/daily.py\", line 153, in _read_one_data\n",
      "    data = j[\"context\"][\"dispatcher\"][\"stores\"][\"HistoricalPriceStore\"]\n",
      "KeyError: 'HistoricalPriceStore'\n",
      "\n",
      "During handling of the above exception, another exception occurred:\n",
      "\n",
      "Traceback (most recent call last):\n",
      "  File \"/home/jared/workspace/market-diff/stock-prediction/notebooks/../src/datastore.py\", line 106, in download_daily_candlesticks\n",
      "    data = pdr.DataReader(\n",
      "  File \"/home/jared/.local/share/virtualenvs/stock-prediction-MOS0QyR2/lib/python3.10/site-packages/pandas/util/_decorators.py\", line 207, in wrapper\n",
      "    return func(*args, **kwargs)\n",
      "  File \"/home/jared/.local/share/virtualenvs/stock-prediction-MOS0QyR2/lib/python3.10/site-packages/pandas_datareader/data.py\", line 379, in DataReader\n",
      "    ).read()\n",
      "  File \"/home/jared/.local/share/virtualenvs/stock-prediction-MOS0QyR2/lib/python3.10/site-packages/pandas_datareader/base.py\", line 253, in read\n",
      "    df = self._read_one_data(self.url, params=self._get_params(self.symbols))\n",
      "  File \"/home/jared/.local/share/virtualenvs/stock-prediction-MOS0QyR2/lib/python3.10/site-packages/pandas_datareader/yahoo/daily.py\", line 156, in _read_one_data\n",
      "    raise RemoteDataError(msg.format(symbol, self.__class__.__name__))\n",
      "pandas_datareader._utils.RemoteDataError: No data fetched for symbol MBT using YahooDailyReader\n"
     ]
    },
    {
     "name": "stdout",
     "output_type": "stream",
     "text": [
      "Error downloading daily candlesticks for MBT\n"
     ]
    },
    {
     "name": "stderr",
     "output_type": "stream",
     "text": [
      "Traceback (most recent call last):\n",
      "  File \"/home/jared/.local/share/virtualenvs/stock-prediction-MOS0QyR2/lib/python3.10/site-packages/pandas_datareader/yahoo/daily.py\", line 153, in _read_one_data\n",
      "    data = j[\"context\"][\"dispatcher\"][\"stores\"][\"HistoricalPriceStore\"]\n",
      "KeyError: 'HistoricalPriceStore'\n",
      "\n",
      "During handling of the above exception, another exception occurred:\n",
      "\n",
      "Traceback (most recent call last):\n",
      "  File \"/home/jared/workspace/market-diff/stock-prediction/notebooks/../src/datastore.py\", line 106, in download_daily_candlesticks\n",
      "    data = pdr.DataReader(\n",
      "  File \"/home/jared/.local/share/virtualenvs/stock-prediction-MOS0QyR2/lib/python3.10/site-packages/pandas/util/_decorators.py\", line 207, in wrapper\n",
      "    return func(*args, **kwargs)\n",
      "  File \"/home/jared/.local/share/virtualenvs/stock-prediction-MOS0QyR2/lib/python3.10/site-packages/pandas_datareader/data.py\", line 379, in DataReader\n",
      "    ).read()\n",
      "  File \"/home/jared/.local/share/virtualenvs/stock-prediction-MOS0QyR2/lib/python3.10/site-packages/pandas_datareader/base.py\", line 253, in read\n",
      "    df = self._read_one_data(self.url, params=self._get_params(self.symbols))\n",
      "  File \"/home/jared/.local/share/virtualenvs/stock-prediction-MOS0QyR2/lib/python3.10/site-packages/pandas_datareader/yahoo/daily.py\", line 156, in _read_one_data\n",
      "    raise RemoteDataError(msg.format(symbol, self.__class__.__name__))\n",
      "pandas_datareader._utils.RemoteDataError: No data fetched for symbol ECC            using YahooDailyReader\n"
     ]
    },
    {
     "name": "stdout",
     "output_type": "stream",
     "text": [
      "Error downloading daily candlesticks for ECC           \n"
     ]
    },
    {
     "name": "stderr",
     "output_type": "stream",
     "text": [
      "Traceback (most recent call last):\n",
      "  File \"/home/jared/.local/share/virtualenvs/stock-prediction-MOS0QyR2/lib/python3.10/site-packages/pandas_datareader/yahoo/daily.py\", line 153, in _read_one_data\n",
      "    data = j[\"context\"][\"dispatcher\"][\"stores\"][\"HistoricalPriceStore\"]\n",
      "KeyError: 'HistoricalPriceStore'\n",
      "\n",
      "During handling of the above exception, another exception occurred:\n",
      "\n",
      "Traceback (most recent call last):\n",
      "  File \"/home/jared/workspace/market-diff/stock-prediction/notebooks/../src/datastore.py\", line 106, in download_daily_candlesticks\n",
      "    data = pdr.DataReader(\n",
      "  File \"/home/jared/.local/share/virtualenvs/stock-prediction-MOS0QyR2/lib/python3.10/site-packages/pandas/util/_decorators.py\", line 207, in wrapper\n",
      "    return func(*args, **kwargs)\n",
      "  File \"/home/jared/.local/share/virtualenvs/stock-prediction-MOS0QyR2/lib/python3.10/site-packages/pandas_datareader/data.py\", line 379, in DataReader\n",
      "    ).read()\n",
      "  File \"/home/jared/.local/share/virtualenvs/stock-prediction-MOS0QyR2/lib/python3.10/site-packages/pandas_datareader/base.py\", line 253, in read\n",
      "    df = self._read_one_data(self.url, params=self._get_params(self.symbols))\n",
      "  File \"/home/jared/.local/share/virtualenvs/stock-prediction-MOS0QyR2/lib/python3.10/site-packages/pandas_datareader/yahoo/daily.py\", line 156, in _read_one_data\n",
      "    raise RemoteDataError(msg.format(symbol, self.__class__.__name__))\n",
      "pandas_datareader._utils.RemoteDataError: No data fetched for symbol NTN using YahooDailyReader\n"
     ]
    },
    {
     "name": "stdout",
     "output_type": "stream",
     "text": [
      "Error downloading daily candlesticks for NTN\n"
     ]
    },
    {
     "name": "stderr",
     "output_type": "stream",
     "text": [
      "Traceback (most recent call last):\n",
      "  File \"/home/jared/.local/share/virtualenvs/stock-prediction-MOS0QyR2/lib/python3.10/site-packages/pandas/core/indexes/base.py\", line 3621, in get_loc\n",
      "    return self._engine.get_loc(casted_key)\n",
      "  File \"pandas/_libs/index.pyx\", line 136, in pandas._libs.index.IndexEngine.get_loc\n",
      "  File \"pandas/_libs/index.pyx\", line 163, in pandas._libs.index.IndexEngine.get_loc\n",
      "  File \"pandas/_libs/hashtable_class_helper.pxi\", line 5198, in pandas._libs.hashtable.PyObjectHashTable.get_item\n",
      "  File \"pandas/_libs/hashtable_class_helper.pxi\", line 5206, in pandas._libs.hashtable.PyObjectHashTable.get_item\n",
      "KeyError: 'Date'\n",
      "\n",
      "The above exception was the direct cause of the following exception:\n",
      "\n",
      "Traceback (most recent call last):\n",
      "  File \"/home/jared/workspace/market-diff/stock-prediction/notebooks/../src/datastore.py\", line 106, in download_daily_candlesticks\n",
      "    data = pdr.DataReader(\n",
      "  File \"/home/jared/.local/share/virtualenvs/stock-prediction-MOS0QyR2/lib/python3.10/site-packages/pandas/util/_decorators.py\", line 207, in wrapper\n",
      "    return func(*args, **kwargs)\n",
      "  File \"/home/jared/.local/share/virtualenvs/stock-prediction-MOS0QyR2/lib/python3.10/site-packages/pandas_datareader/data.py\", line 379, in DataReader\n",
      "    ).read()\n",
      "  File \"/home/jared/.local/share/virtualenvs/stock-prediction-MOS0QyR2/lib/python3.10/site-packages/pandas_datareader/base.py\", line 253, in read\n",
      "    df = self._read_one_data(self.url, params=self._get_params(self.symbols))\n",
      "  File \"/home/jared/.local/share/virtualenvs/stock-prediction-MOS0QyR2/lib/python3.10/site-packages/pandas_datareader/yahoo/daily.py\", line 161, in _read_one_data\n",
      "    prices[\"Date\"] = to_datetime(to_datetime(prices[\"Date\"], unit=\"s\").dt.date)\n",
      "  File \"/home/jared/.local/share/virtualenvs/stock-prediction-MOS0QyR2/lib/python3.10/site-packages/pandas/core/frame.py\", line 3505, in __getitem__\n",
      "    indexer = self.columns.get_loc(key)\n",
      "  File \"/home/jared/.local/share/virtualenvs/stock-prediction-MOS0QyR2/lib/python3.10/site-packages/pandas/core/indexes/base.py\", line 3623, in get_loc\n",
      "    raise KeyError(key) from err\n",
      "KeyError: 'Date'\n"
     ]
    },
    {
     "name": "stdout",
     "output_type": "stream",
     "text": [
      "Error downloading daily candlesticks for NTEST\n"
     ]
    },
    {
     "name": "stderr",
     "output_type": "stream",
     "text": [
      "Traceback (most recent call last):\n",
      "  File \"/home/jared/.local/share/virtualenvs/stock-prediction-MOS0QyR2/lib/python3.10/site-packages/pandas_datareader/yahoo/daily.py\", line 153, in _read_one_data\n",
      "    data = j[\"context\"][\"dispatcher\"][\"stores\"][\"HistoricalPriceStore\"]\n",
      "KeyError: 'HistoricalPriceStore'\n",
      "\n",
      "During handling of the above exception, another exception occurred:\n",
      "\n",
      "Traceback (most recent call last):\n",
      "  File \"/home/jared/workspace/market-diff/stock-prediction/notebooks/../src/datastore.py\", line 106, in download_daily_candlesticks\n",
      "    data = pdr.DataReader(\n",
      "  File \"/home/jared/.local/share/virtualenvs/stock-prediction-MOS0QyR2/lib/python3.10/site-packages/pandas/util/_decorators.py\", line 207, in wrapper\n",
      "    return func(*args, **kwargs)\n",
      "  File \"/home/jared/.local/share/virtualenvs/stock-prediction-MOS0QyR2/lib/python3.10/site-packages/pandas_datareader/data.py\", line 379, in DataReader\n",
      "    ).read()\n",
      "  File \"/home/jared/.local/share/virtualenvs/stock-prediction-MOS0QyR2/lib/python3.10/site-packages/pandas_datareader/base.py\", line 253, in read\n",
      "    df = self._read_one_data(self.url, params=self._get_params(self.symbols))\n",
      "  File \"/home/jared/.local/share/virtualenvs/stock-prediction-MOS0QyR2/lib/python3.10/site-packages/pandas_datareader/yahoo/daily.py\", line 156, in _read_one_data\n",
      "    raise RemoteDataError(msg.format(symbol, self.__class__.__name__))\n",
      "pandas_datareader._utils.RemoteDataError: No data fetched for symbol QEP using YahooDailyReader\n"
     ]
    },
    {
     "name": "stdout",
     "output_type": "stream",
     "text": [
      "Error downloading daily candlesticks for QEP\n"
     ]
    },
    {
     "name": "stderr",
     "output_type": "stream",
     "text": [
      "Traceback (most recent call last):\n",
      "  File \"/home/jared/.local/share/virtualenvs/stock-prediction-MOS0QyR2/lib/python3.10/site-packages/pandas_datareader/yahoo/daily.py\", line 153, in _read_one_data\n",
      "    data = j[\"context\"][\"dispatcher\"][\"stores\"][\"HistoricalPriceStore\"]\n",
      "KeyError: 'HistoricalPriceStore'\n",
      "\n",
      "During handling of the above exception, another exception occurred:\n",
      "\n",
      "Traceback (most recent call last):\n",
      "  File \"/home/jared/workspace/market-diff/stock-prediction/notebooks/../src/datastore.py\", line 106, in download_daily_candlesticks\n",
      "    data = pdr.DataReader(\n",
      "  File \"/home/jared/.local/share/virtualenvs/stock-prediction-MOS0QyR2/lib/python3.10/site-packages/pandas/util/_decorators.py\", line 207, in wrapper\n",
      "    return func(*args, **kwargs)\n",
      "  File \"/home/jared/.local/share/virtualenvs/stock-prediction-MOS0QyR2/lib/python3.10/site-packages/pandas_datareader/data.py\", line 379, in DataReader\n",
      "    ).read()\n",
      "  File \"/home/jared/.local/share/virtualenvs/stock-prediction-MOS0QyR2/lib/python3.10/site-packages/pandas_datareader/base.py\", line 253, in read\n",
      "    df = self._read_one_data(self.url, params=self._get_params(self.symbols))\n",
      "  File \"/home/jared/.local/share/virtualenvs/stock-prediction-MOS0QyR2/lib/python3.10/site-packages/pandas_datareader/yahoo/daily.py\", line 156, in _read_one_data\n",
      "    raise RemoteDataError(msg.format(symbol, self.__class__.__name__))\n",
      "pandas_datareader._utils.RemoteDataError: No data fetched for symbol ROYT using YahooDailyReader\n"
     ]
    },
    {
     "name": "stdout",
     "output_type": "stream",
     "text": [
      "Error downloading daily candlesticks for ROYT\n"
     ]
    },
    {
     "name": "stderr",
     "output_type": "stream",
     "text": [
      "Traceback (most recent call last):\n",
      "  File \"/home/jared/.local/share/virtualenvs/stock-prediction-MOS0QyR2/lib/python3.10/site-packages/pandas_datareader/yahoo/daily.py\", line 153, in _read_one_data\n",
      "    data = j[\"context\"][\"dispatcher\"][\"stores\"][\"HistoricalPriceStore\"]\n",
      "KeyError: 'HistoricalPriceStore'\n",
      "\n",
      "During handling of the above exception, another exception occurred:\n",
      "\n",
      "Traceback (most recent call last):\n",
      "  File \"/home/jared/workspace/market-diff/stock-prediction/notebooks/../src/datastore.py\", line 106, in download_daily_candlesticks\n",
      "    data = pdr.DataReader(\n",
      "  File \"/home/jared/.local/share/virtualenvs/stock-prediction-MOS0QyR2/lib/python3.10/site-packages/pandas/util/_decorators.py\", line 207, in wrapper\n",
      "    return func(*args, **kwargs)\n",
      "  File \"/home/jared/.local/share/virtualenvs/stock-prediction-MOS0QyR2/lib/python3.10/site-packages/pandas_datareader/data.py\", line 379, in DataReader\n",
      "    ).read()\n",
      "  File \"/home/jared/.local/share/virtualenvs/stock-prediction-MOS0QyR2/lib/python3.10/site-packages/pandas_datareader/base.py\", line 253, in read\n",
      "    df = self._read_one_data(self.url, params=self._get_params(self.symbols))\n",
      "  File \"/home/jared/.local/share/virtualenvs/stock-prediction-MOS0QyR2/lib/python3.10/site-packages/pandas_datareader/yahoo/daily.py\", line 156, in _read_one_data\n",
      "    raise RemoteDataError(msg.format(symbol, self.__class__.__name__))\n",
      "pandas_datareader._utils.RemoteDataError: No data fetched for symbol DUC using YahooDailyReader\n"
     ]
    },
    {
     "name": "stdout",
     "output_type": "stream",
     "text": [
      "Error downloading daily candlesticks for DUC\n"
     ]
    },
    {
     "name": "stderr",
     "output_type": "stream",
     "text": [
      "Traceback (most recent call last):\n",
      "  File \"/home/jared/.local/share/virtualenvs/stock-prediction-MOS0QyR2/lib/python3.10/site-packages/pandas_datareader/yahoo/daily.py\", line 153, in _read_one_data\n",
      "    data = j[\"context\"][\"dispatcher\"][\"stores\"][\"HistoricalPriceStore\"]\n",
      "KeyError: 'HistoricalPriceStore'\n",
      "\n",
      "During handling of the above exception, another exception occurred:\n",
      "\n",
      "Traceback (most recent call last):\n",
      "  File \"/home/jared/workspace/market-diff/stock-prediction/notebooks/../src/datastore.py\", line 106, in download_daily_candlesticks\n",
      "    data = pdr.DataReader(\n",
      "  File \"/home/jared/.local/share/virtualenvs/stock-prediction-MOS0QyR2/lib/python3.10/site-packages/pandas/util/_decorators.py\", line 207, in wrapper\n",
      "    return func(*args, **kwargs)\n",
      "  File \"/home/jared/.local/share/virtualenvs/stock-prediction-MOS0QyR2/lib/python3.10/site-packages/pandas_datareader/data.py\", line 379, in DataReader\n",
      "    ).read()\n",
      "  File \"/home/jared/.local/share/virtualenvs/stock-prediction-MOS0QyR2/lib/python3.10/site-packages/pandas_datareader/base.py\", line 253, in read\n",
      "    df = self._read_one_data(self.url, params=self._get_params(self.symbols))\n",
      "  File \"/home/jared/.local/share/virtualenvs/stock-prediction-MOS0QyR2/lib/python3.10/site-packages/pandas_datareader/yahoo/daily.py\", line 156, in _read_one_data\n",
      "    raise RemoteDataError(msg.format(symbol, self.__class__.__name__))\n",
      "pandas_datareader._utils.RemoteDataError: No data fetched for symbol PLT using YahooDailyReader\n"
     ]
    },
    {
     "name": "stdout",
     "output_type": "stream",
     "text": [
      "Error downloading daily candlesticks for PLT\n"
     ]
    },
    {
     "name": "stderr",
     "output_type": "stream",
     "text": [
      "Traceback (most recent call last):\n",
      "  File \"/home/jared/.local/share/virtualenvs/stock-prediction-MOS0QyR2/lib/python3.10/site-packages/pandas_datareader/yahoo/daily.py\", line 153, in _read_one_data\n",
      "    data = j[\"context\"][\"dispatcher\"][\"stores\"][\"HistoricalPriceStore\"]\n",
      "KeyError: 'HistoricalPriceStore'\n",
      "\n",
      "During handling of the above exception, another exception occurred:\n",
      "\n",
      "Traceback (most recent call last):\n",
      "  File \"/home/jared/workspace/market-diff/stock-prediction/notebooks/../src/datastore.py\", line 106, in download_daily_candlesticks\n",
      "    data = pdr.DataReader(\n",
      "  File \"/home/jared/.local/share/virtualenvs/stock-prediction-MOS0QyR2/lib/python3.10/site-packages/pandas/util/_decorators.py\", line 207, in wrapper\n",
      "    return func(*args, **kwargs)\n",
      "  File \"/home/jared/.local/share/virtualenvs/stock-prediction-MOS0QyR2/lib/python3.10/site-packages/pandas_datareader/data.py\", line 379, in DataReader\n",
      "    ).read()\n",
      "  File \"/home/jared/.local/share/virtualenvs/stock-prediction-MOS0QyR2/lib/python3.10/site-packages/pandas_datareader/base.py\", line 253, in read\n",
      "    df = self._read_one_data(self.url, params=self._get_params(self.symbols))\n",
      "  File \"/home/jared/.local/share/virtualenvs/stock-prediction-MOS0QyR2/lib/python3.10/site-packages/pandas_datareader/yahoo/daily.py\", line 156, in _read_one_data\n",
      "    raise RemoteDataError(msg.format(symbol, self.__class__.__name__))\n",
      "pandas_datareader._utils.RemoteDataError: No data fetched for symbol NNA using YahooDailyReader\n"
     ]
    },
    {
     "name": "stdout",
     "output_type": "stream",
     "text": [
      "Error downloading daily candlesticks for NNA\n"
     ]
    },
    {
     "name": "stderr",
     "output_type": "stream",
     "text": [
      "Traceback (most recent call last):\n",
      "  File \"/home/jared/.local/share/virtualenvs/stock-prediction-MOS0QyR2/lib/python3.10/site-packages/pandas_datareader/yahoo/daily.py\", line 153, in _read_one_data\n",
      "    data = j[\"context\"][\"dispatcher\"][\"stores\"][\"HistoricalPriceStore\"]\n",
      "KeyError: 'HistoricalPriceStore'\n",
      "\n",
      "During handling of the above exception, another exception occurred:\n",
      "\n",
      "Traceback (most recent call last):\n",
      "  File \"/home/jared/workspace/market-diff/stock-prediction/notebooks/../src/datastore.py\", line 106, in download_daily_candlesticks\n",
      "    data = pdr.DataReader(\n",
      "  File \"/home/jared/.local/share/virtualenvs/stock-prediction-MOS0QyR2/lib/python3.10/site-packages/pandas/util/_decorators.py\", line 207, in wrapper\n",
      "    return func(*args, **kwargs)\n",
      "  File \"/home/jared/.local/share/virtualenvs/stock-prediction-MOS0QyR2/lib/python3.10/site-packages/pandas_datareader/data.py\", line 379, in DataReader\n",
      "    ).read()\n",
      "  File \"/home/jared/.local/share/virtualenvs/stock-prediction-MOS0QyR2/lib/python3.10/site-packages/pandas_datareader/base.py\", line 253, in read\n",
      "    df = self._read_one_data(self.url, params=self._get_params(self.symbols))\n",
      "  File \"/home/jared/.local/share/virtualenvs/stock-prediction-MOS0QyR2/lib/python3.10/site-packages/pandas_datareader/yahoo/daily.py\", line 156, in _read_one_data\n",
      "    raise RemoteDataError(msg.format(symbol, self.__class__.__name__))\n",
      "pandas_datareader._utils.RemoteDataError: No data fetched for symbol HRC using YahooDailyReader\n"
     ]
    },
    {
     "name": "stdout",
     "output_type": "stream",
     "text": [
      "Error downloading daily candlesticks for HRC\n"
     ]
    },
    {
     "name": "stderr",
     "output_type": "stream",
     "text": [
      "Traceback (most recent call last):\n",
      "  File \"/home/jared/.local/share/virtualenvs/stock-prediction-MOS0QyR2/lib/python3.10/site-packages/pandas_datareader/yahoo/daily.py\", line 153, in _read_one_data\n",
      "    data = j[\"context\"][\"dispatcher\"][\"stores\"][\"HistoricalPriceStore\"]\n",
      "KeyError: 'HistoricalPriceStore'\n",
      "\n",
      "During handling of the above exception, another exception occurred:\n",
      "\n",
      "Traceback (most recent call last):\n",
      "  File \"/home/jared/workspace/market-diff/stock-prediction/notebooks/../src/datastore.py\", line 106, in download_daily_candlesticks\n",
      "    data = pdr.DataReader(\n",
      "  File \"/home/jared/.local/share/virtualenvs/stock-prediction-MOS0QyR2/lib/python3.10/site-packages/pandas/util/_decorators.py\", line 207, in wrapper\n",
      "    return func(*args, **kwargs)\n",
      "  File \"/home/jared/.local/share/virtualenvs/stock-prediction-MOS0QyR2/lib/python3.10/site-packages/pandas_datareader/data.py\", line 379, in DataReader\n",
      "    ).read()\n",
      "  File \"/home/jared/.local/share/virtualenvs/stock-prediction-MOS0QyR2/lib/python3.10/site-packages/pandas_datareader/base.py\", line 253, in read\n",
      "    df = self._read_one_data(self.url, params=self._get_params(self.symbols))\n",
      "  File \"/home/jared/.local/share/virtualenvs/stock-prediction-MOS0QyR2/lib/python3.10/site-packages/pandas_datareader/yahoo/daily.py\", line 156, in _read_one_data\n",
      "    raise RemoteDataError(msg.format(symbol, self.__class__.__name__))\n",
      "pandas_datareader._utils.RemoteDataError: No data fetched for symbol SPN using YahooDailyReader\n"
     ]
    },
    {
     "name": "stdout",
     "output_type": "stream",
     "text": [
      "Error downloading daily candlesticks for SPN\n"
     ]
    },
    {
     "name": "stderr",
     "output_type": "stream",
     "text": [
      "Traceback (most recent call last):\n",
      "  File \"/home/jared/.local/share/virtualenvs/stock-prediction-MOS0QyR2/lib/python3.10/site-packages/pandas_datareader/yahoo/daily.py\", line 153, in _read_one_data\n",
      "    data = j[\"context\"][\"dispatcher\"][\"stores\"][\"HistoricalPriceStore\"]\n",
      "KeyError: 'HistoricalPriceStore'\n",
      "\n",
      "During handling of the above exception, another exception occurred:\n",
      "\n",
      "Traceback (most recent call last):\n",
      "  File \"/home/jared/workspace/market-diff/stock-prediction/notebooks/../src/datastore.py\", line 106, in download_daily_candlesticks\n",
      "    data = pdr.DataReader(\n",
      "  File \"/home/jared/.local/share/virtualenvs/stock-prediction-MOS0QyR2/lib/python3.10/site-packages/pandas/util/_decorators.py\", line 207, in wrapper\n",
      "    return func(*args, **kwargs)\n",
      "  File \"/home/jared/.local/share/virtualenvs/stock-prediction-MOS0QyR2/lib/python3.10/site-packages/pandas_datareader/data.py\", line 379, in DataReader\n",
      "    ).read()\n",
      "  File \"/home/jared/.local/share/virtualenvs/stock-prediction-MOS0QyR2/lib/python3.10/site-packages/pandas_datareader/base.py\", line 253, in read\n",
      "    df = self._read_one_data(self.url, params=self._get_params(self.symbols))\n",
      "  File \"/home/jared/.local/share/virtualenvs/stock-prediction-MOS0QyR2/lib/python3.10/site-packages/pandas_datareader/yahoo/daily.py\", line 156, in _read_one_data\n",
      "    raise RemoteDataError(msg.format(symbol, self.__class__.__name__))\n",
      "pandas_datareader._utils.RemoteDataError: No data fetched for symbol WPG using YahooDailyReader\n"
     ]
    },
    {
     "name": "stdout",
     "output_type": "stream",
     "text": [
      "Error downloading daily candlesticks for WPG\n"
     ]
    },
    {
     "name": "stderr",
     "output_type": "stream",
     "text": [
      "Traceback (most recent call last):\n",
      "  File \"/home/jared/.local/share/virtualenvs/stock-prediction-MOS0QyR2/lib/python3.10/site-packages/pandas_datareader/yahoo/daily.py\", line 153, in _read_one_data\n",
      "    data = j[\"context\"][\"dispatcher\"][\"stores\"][\"HistoricalPriceStore\"]\n",
      "KeyError: 'HistoricalPriceStore'\n",
      "\n",
      "During handling of the above exception, another exception occurred:\n",
      "\n",
      "Traceback (most recent call last):\n",
      "  File \"/home/jared/workspace/market-diff/stock-prediction/notebooks/../src/datastore.py\", line 106, in download_daily_candlesticks\n",
      "    data = pdr.DataReader(\n",
      "  File \"/home/jared/.local/share/virtualenvs/stock-prediction-MOS0QyR2/lib/python3.10/site-packages/pandas/util/_decorators.py\", line 207, in wrapper\n",
      "    return func(*args, **kwargs)\n",
      "  File \"/home/jared/.local/share/virtualenvs/stock-prediction-MOS0QyR2/lib/python3.10/site-packages/pandas_datareader/data.py\", line 379, in DataReader\n",
      "    ).read()\n",
      "  File \"/home/jared/.local/share/virtualenvs/stock-prediction-MOS0QyR2/lib/python3.10/site-packages/pandas_datareader/base.py\", line 253, in read\n",
      "    df = self._read_one_data(self.url, params=self._get_params(self.symbols))\n",
      "  File \"/home/jared/.local/share/virtualenvs/stock-prediction-MOS0QyR2/lib/python3.10/site-packages/pandas_datareader/yahoo/daily.py\", line 156, in _read_one_data\n",
      "    raise RemoteDataError(msg.format(symbol, self.__class__.__name__))\n",
      "pandas_datareader._utils.RemoteDataError: No data fetched for symbol MYF using YahooDailyReader\n"
     ]
    },
    {
     "name": "stdout",
     "output_type": "stream",
     "text": [
      "Error downloading daily candlesticks for MYF\n"
     ]
    },
    {
     "name": "stderr",
     "output_type": "stream",
     "text": [
      "Traceback (most recent call last):\n",
      "  File \"/home/jared/.local/share/virtualenvs/stock-prediction-MOS0QyR2/lib/python3.10/site-packages/pandas/core/indexes/base.py\", line 3621, in get_loc\n",
      "    return self._engine.get_loc(casted_key)\n",
      "  File \"pandas/_libs/index.pyx\", line 136, in pandas._libs.index.IndexEngine.get_loc\n",
      "  File \"pandas/_libs/index.pyx\", line 163, in pandas._libs.index.IndexEngine.get_loc\n",
      "  File \"pandas/_libs/hashtable_class_helper.pxi\", line 5198, in pandas._libs.hashtable.PyObjectHashTable.get_item\n",
      "  File \"pandas/_libs/hashtable_class_helper.pxi\", line 5206, in pandas._libs.hashtable.PyObjectHashTable.get_item\n",
      "KeyError: 'Date'\n",
      "\n",
      "The above exception was the direct cause of the following exception:\n",
      "\n",
      "Traceback (most recent call last):\n",
      "  File \"/home/jared/workspace/market-diff/stock-prediction/notebooks/../src/datastore.py\", line 106, in download_daily_candlesticks\n",
      "    data = pdr.DataReader(\n",
      "  File \"/home/jared/.local/share/virtualenvs/stock-prediction-MOS0QyR2/lib/python3.10/site-packages/pandas/util/_decorators.py\", line 207, in wrapper\n",
      "    return func(*args, **kwargs)\n",
      "  File \"/home/jared/.local/share/virtualenvs/stock-prediction-MOS0QyR2/lib/python3.10/site-packages/pandas_datareader/data.py\", line 379, in DataReader\n",
      "    ).read()\n",
      "  File \"/home/jared/.local/share/virtualenvs/stock-prediction-MOS0QyR2/lib/python3.10/site-packages/pandas_datareader/base.py\", line 253, in read\n",
      "    df = self._read_one_data(self.url, params=self._get_params(self.symbols))\n",
      "  File \"/home/jared/.local/share/virtualenvs/stock-prediction-MOS0QyR2/lib/python3.10/site-packages/pandas_datareader/yahoo/daily.py\", line 161, in _read_one_data\n",
      "    prices[\"Date\"] = to_datetime(to_datetime(prices[\"Date\"], unit=\"s\").dt.date)\n",
      "  File \"/home/jared/.local/share/virtualenvs/stock-prediction-MOS0QyR2/lib/python3.10/site-packages/pandas/core/frame.py\", line 3505, in __getitem__\n",
      "    indexer = self.columns.get_loc(key)\n",
      "  File \"/home/jared/.local/share/virtualenvs/stock-prediction-MOS0QyR2/lib/python3.10/site-packages/pandas/core/indexes/base.py\", line 3623, in get_loc\n",
      "    raise KeyError(key) from err\n",
      "KeyError: 'Date'\n"
     ]
    },
    {
     "name": "stdout",
     "output_type": "stream",
     "text": [
      "Error downloading daily candlesticks for IBO\n"
     ]
    },
    {
     "name": "stderr",
     "output_type": "stream",
     "text": [
      "Traceback (most recent call last):\n",
      "  File \"/home/jared/.local/share/virtualenvs/stock-prediction-MOS0QyR2/lib/python3.10/site-packages/pandas_datareader/yahoo/daily.py\", line 153, in _read_one_data\n",
      "    data = j[\"context\"][\"dispatcher\"][\"stores\"][\"HistoricalPriceStore\"]\n",
      "KeyError: 'HistoricalPriceStore'\n",
      "\n",
      "During handling of the above exception, another exception occurred:\n",
      "\n",
      "Traceback (most recent call last):\n",
      "  File \"/home/jared/workspace/market-diff/stock-prediction/notebooks/../src/datastore.py\", line 106, in download_daily_candlesticks\n",
      "    data = pdr.DataReader(\n",
      "  File \"/home/jared/.local/share/virtualenvs/stock-prediction-MOS0QyR2/lib/python3.10/site-packages/pandas/util/_decorators.py\", line 207, in wrapper\n",
      "    return func(*args, **kwargs)\n",
      "  File \"/home/jared/.local/share/virtualenvs/stock-prediction-MOS0QyR2/lib/python3.10/site-packages/pandas_datareader/data.py\", line 379, in DataReader\n",
      "    ).read()\n",
      "  File \"/home/jared/.local/share/virtualenvs/stock-prediction-MOS0QyR2/lib/python3.10/site-packages/pandas_datareader/base.py\", line 253, in read\n",
      "    df = self._read_one_data(self.url, params=self._get_params(self.symbols))\n",
      "  File \"/home/jared/.local/share/virtualenvs/stock-prediction-MOS0QyR2/lib/python3.10/site-packages/pandas_datareader/yahoo/daily.py\", line 156, in _read_one_data\n",
      "    raise RemoteDataError(msg.format(symbol, self.__class__.__name__))\n",
      "pandas_datareader._utils.RemoteDataError: No data fetched for symbol GEN            using YahooDailyReader\n"
     ]
    },
    {
     "name": "stdout",
     "output_type": "stream",
     "text": [
      "Error downloading daily candlesticks for GEN           \n"
     ]
    },
    {
     "name": "stderr",
     "output_type": "stream",
     "text": [
      "Traceback (most recent call last):\n",
      "  File \"/home/jared/.local/share/virtualenvs/stock-prediction-MOS0QyR2/lib/python3.10/site-packages/pandas_datareader/yahoo/daily.py\", line 153, in _read_one_data\n",
      "    data = j[\"context\"][\"dispatcher\"][\"stores\"][\"HistoricalPriceStore\"]\n",
      "KeyError: 'HistoricalPriceStore'\n",
      "\n",
      "During handling of the above exception, another exception occurred:\n",
      "\n",
      "Traceback (most recent call last):\n",
      "  File \"/home/jared/workspace/market-diff/stock-prediction/notebooks/../src/datastore.py\", line 106, in download_daily_candlesticks\n",
      "    data = pdr.DataReader(\n",
      "  File \"/home/jared/.local/share/virtualenvs/stock-prediction-MOS0QyR2/lib/python3.10/site-packages/pandas/util/_decorators.py\", line 207, in wrapper\n",
      "    return func(*args, **kwargs)\n",
      "  File \"/home/jared/.local/share/virtualenvs/stock-prediction-MOS0QyR2/lib/python3.10/site-packages/pandas_datareader/data.py\", line 379, in DataReader\n",
      "    ).read()\n",
      "  File \"/home/jared/.local/share/virtualenvs/stock-prediction-MOS0QyR2/lib/python3.10/site-packages/pandas_datareader/base.py\", line 253, in read\n",
      "    df = self._read_one_data(self.url, params=self._get_params(self.symbols))\n",
      "  File \"/home/jared/.local/share/virtualenvs/stock-prediction-MOS0QyR2/lib/python3.10/site-packages/pandas_datareader/yahoo/daily.py\", line 156, in _read_one_data\n",
      "    raise RemoteDataError(msg.format(symbol, self.__class__.__name__))\n",
      "pandas_datareader._utils.RemoteDataError: No data fetched for symbol CBB using YahooDailyReader\n"
     ]
    },
    {
     "name": "stdout",
     "output_type": "stream",
     "text": [
      "Error downloading daily candlesticks for CBB\n"
     ]
    },
    {
     "name": "stderr",
     "output_type": "stream",
     "text": [
      "Traceback (most recent call last):\n",
      "  File \"/home/jared/.local/share/virtualenvs/stock-prediction-MOS0QyR2/lib/python3.10/site-packages/pandas_datareader/yahoo/daily.py\", line 153, in _read_one_data\n",
      "    data = j[\"context\"][\"dispatcher\"][\"stores\"][\"HistoricalPriceStore\"]\n",
      "KeyError: 'HistoricalPriceStore'\n",
      "\n",
      "During handling of the above exception, another exception occurred:\n",
      "\n",
      "Traceback (most recent call last):\n",
      "  File \"/home/jared/workspace/market-diff/stock-prediction/notebooks/../src/datastore.py\", line 106, in download_daily_candlesticks\n",
      "    data = pdr.DataReader(\n",
      "  File \"/home/jared/.local/share/virtualenvs/stock-prediction-MOS0QyR2/lib/python3.10/site-packages/pandas/util/_decorators.py\", line 207, in wrapper\n",
      "    return func(*args, **kwargs)\n",
      "  File \"/home/jared/.local/share/virtualenvs/stock-prediction-MOS0QyR2/lib/python3.10/site-packages/pandas_datareader/data.py\", line 379, in DataReader\n",
      "    ).read()\n",
      "  File \"/home/jared/.local/share/virtualenvs/stock-prediction-MOS0QyR2/lib/python3.10/site-packages/pandas_datareader/base.py\", line 253, in read\n",
      "    df = self._read_one_data(self.url, params=self._get_params(self.symbols))\n",
      "  File \"/home/jared/.local/share/virtualenvs/stock-prediction-MOS0QyR2/lib/python3.10/site-packages/pandas_datareader/yahoo/daily.py\", line 156, in _read_one_data\n",
      "    raise RemoteDataError(msg.format(symbol, self.__class__.__name__))\n",
      "pandas_datareader._utils.RemoteDataError: No data fetched for symbol UFS using YahooDailyReader\n"
     ]
    },
    {
     "name": "stdout",
     "output_type": "stream",
     "text": [
      "Error downloading daily candlesticks for UFS\n"
     ]
    },
    {
     "name": "stderr",
     "output_type": "stream",
     "text": [
      "Traceback (most recent call last):\n",
      "  File \"/home/jared/.local/share/virtualenvs/stock-prediction-MOS0QyR2/lib/python3.10/site-packages/pandas_datareader/yahoo/daily.py\", line 153, in _read_one_data\n",
      "    data = j[\"context\"][\"dispatcher\"][\"stores\"][\"HistoricalPriceStore\"]\n",
      "KeyError: 'HistoricalPriceStore'\n",
      "\n",
      "During handling of the above exception, another exception occurred:\n",
      "\n",
      "Traceback (most recent call last):\n",
      "  File \"/home/jared/workspace/market-diff/stock-prediction/notebooks/../src/datastore.py\", line 106, in download_daily_candlesticks\n",
      "    data = pdr.DataReader(\n",
      "  File \"/home/jared/.local/share/virtualenvs/stock-prediction-MOS0QyR2/lib/python3.10/site-packages/pandas/util/_decorators.py\", line 207, in wrapper\n",
      "    return func(*args, **kwargs)\n",
      "  File \"/home/jared/.local/share/virtualenvs/stock-prediction-MOS0QyR2/lib/python3.10/site-packages/pandas_datareader/data.py\", line 379, in DataReader\n",
      "    ).read()\n",
      "  File \"/home/jared/.local/share/virtualenvs/stock-prediction-MOS0QyR2/lib/python3.10/site-packages/pandas_datareader/base.py\", line 253, in read\n",
      "    df = self._read_one_data(self.url, params=self._get_params(self.symbols))\n",
      "  File \"/home/jared/.local/share/virtualenvs/stock-prediction-MOS0QyR2/lib/python3.10/site-packages/pandas_datareader/yahoo/daily.py\", line 156, in _read_one_data\n",
      "    raise RemoteDataError(msg.format(symbol, self.__class__.__name__))\n",
      "pandas_datareader._utils.RemoteDataError: No data fetched for symbol MVC using YahooDailyReader\n"
     ]
    },
    {
     "name": "stdout",
     "output_type": "stream",
     "text": [
      "Error downloading daily candlesticks for MVC\n"
     ]
    },
    {
     "name": "stderr",
     "output_type": "stream",
     "text": [
      "Traceback (most recent call last):\n",
      "  File \"/home/jared/.local/share/virtualenvs/stock-prediction-MOS0QyR2/lib/python3.10/site-packages/pandas_datareader/yahoo/daily.py\", line 153, in _read_one_data\n",
      "    data = j[\"context\"][\"dispatcher\"][\"stores\"][\"HistoricalPriceStore\"]\n",
      "KeyError: 'HistoricalPriceStore'\n",
      "\n",
      "During handling of the above exception, another exception occurred:\n",
      "\n",
      "Traceback (most recent call last):\n",
      "  File \"/home/jared/workspace/market-diff/stock-prediction/notebooks/../src/datastore.py\", line 106, in download_daily_candlesticks\n",
      "    data = pdr.DataReader(\n",
      "  File \"/home/jared/.local/share/virtualenvs/stock-prediction-MOS0QyR2/lib/python3.10/site-packages/pandas/util/_decorators.py\", line 207, in wrapper\n",
      "    return func(*args, **kwargs)\n",
      "  File \"/home/jared/.local/share/virtualenvs/stock-prediction-MOS0QyR2/lib/python3.10/site-packages/pandas_datareader/data.py\", line 379, in DataReader\n",
      "    ).read()\n",
      "  File \"/home/jared/.local/share/virtualenvs/stock-prediction-MOS0QyR2/lib/python3.10/site-packages/pandas_datareader/base.py\", line 253, in read\n",
      "    df = self._read_one_data(self.url, params=self._get_params(self.symbols))\n",
      "  File \"/home/jared/.local/share/virtualenvs/stock-prediction-MOS0QyR2/lib/python3.10/site-packages/pandas_datareader/yahoo/daily.py\", line 156, in _read_one_data\n",
      "    raise RemoteDataError(msg.format(symbol, self.__class__.__name__))\n",
      "pandas_datareader._utils.RemoteDataError: No data fetched for symbol ONDK using YahooDailyReader\n"
     ]
    },
    {
     "name": "stdout",
     "output_type": "stream",
     "text": [
      "Error downloading daily candlesticks for ONDK\n"
     ]
    },
    {
     "name": "stderr",
     "output_type": "stream",
     "text": [
      "Traceback (most recent call last):\n",
      "  File \"/home/jared/.local/share/virtualenvs/stock-prediction-MOS0QyR2/lib/python3.10/site-packages/pandas_datareader/yahoo/daily.py\", line 153, in _read_one_data\n",
      "    data = j[\"context\"][\"dispatcher\"][\"stores\"][\"HistoricalPriceStore\"]\n",
      "KeyError: 'HistoricalPriceStore'\n",
      "\n",
      "During handling of the above exception, another exception occurred:\n",
      "\n",
      "Traceback (most recent call last):\n",
      "  File \"/home/jared/workspace/market-diff/stock-prediction/notebooks/../src/datastore.py\", line 106, in download_daily_candlesticks\n",
      "    data = pdr.DataReader(\n",
      "  File \"/home/jared/.local/share/virtualenvs/stock-prediction-MOS0QyR2/lib/python3.10/site-packages/pandas/util/_decorators.py\", line 207, in wrapper\n",
      "    return func(*args, **kwargs)\n",
      "  File \"/home/jared/.local/share/virtualenvs/stock-prediction-MOS0QyR2/lib/python3.10/site-packages/pandas_datareader/data.py\", line 379, in DataReader\n",
      "    ).read()\n",
      "  File \"/home/jared/.local/share/virtualenvs/stock-prediction-MOS0QyR2/lib/python3.10/site-packages/pandas_datareader/base.py\", line 253, in read\n",
      "    df = self._read_one_data(self.url, params=self._get_params(self.symbols))\n",
      "  File \"/home/jared/.local/share/virtualenvs/stock-prediction-MOS0QyR2/lib/python3.10/site-packages/pandas_datareader/yahoo/daily.py\", line 156, in _read_one_data\n",
      "    raise RemoteDataError(msg.format(symbol, self.__class__.__name__))\n",
      "pandas_datareader._utils.RemoteDataError: No data fetched for symbol MUS using YahooDailyReader\n"
     ]
    },
    {
     "name": "stdout",
     "output_type": "stream",
     "text": [
      "Error downloading daily candlesticks for MUS\n"
     ]
    },
    {
     "name": "stderr",
     "output_type": "stream",
     "text": [
      "Traceback (most recent call last):\n",
      "  File \"/home/jared/.local/share/virtualenvs/stock-prediction-MOS0QyR2/lib/python3.10/site-packages/pandas_datareader/yahoo/daily.py\", line 153, in _read_one_data\n",
      "    data = j[\"context\"][\"dispatcher\"][\"stores\"][\"HistoricalPriceStore\"]\n",
      "KeyError: 'HistoricalPriceStore'\n",
      "\n",
      "During handling of the above exception, another exception occurred:\n",
      "\n",
      "Traceback (most recent call last):\n",
      "  File \"/home/jared/workspace/market-diff/stock-prediction/notebooks/../src/datastore.py\", line 106, in download_daily_candlesticks\n",
      "    data = pdr.DataReader(\n",
      "  File \"/home/jared/.local/share/virtualenvs/stock-prediction-MOS0QyR2/lib/python3.10/site-packages/pandas/util/_decorators.py\", line 207, in wrapper\n",
      "    return func(*args, **kwargs)\n",
      "  File \"/home/jared/.local/share/virtualenvs/stock-prediction-MOS0QyR2/lib/python3.10/site-packages/pandas_datareader/data.py\", line 379, in DataReader\n",
      "    ).read()\n",
      "  File \"/home/jared/.local/share/virtualenvs/stock-prediction-MOS0QyR2/lib/python3.10/site-packages/pandas_datareader/base.py\", line 253, in read\n",
      "    df = self._read_one_data(self.url, params=self._get_params(self.symbols))\n",
      "  File \"/home/jared/.local/share/virtualenvs/stock-prediction-MOS0QyR2/lib/python3.10/site-packages/pandas_datareader/yahoo/daily.py\", line 156, in _read_one_data\n",
      "    raise RemoteDataError(msg.format(symbol, self.__class__.__name__))\n",
      "pandas_datareader._utils.RemoteDataError: No data fetched for symbol BQH using YahooDailyReader\n"
     ]
    },
    {
     "name": "stdout",
     "output_type": "stream",
     "text": [
      "Error downloading daily candlesticks for BQH\n"
     ]
    },
    {
     "name": "stderr",
     "output_type": "stream",
     "text": [
      "Traceback (most recent call last):\n",
      "  File \"/home/jared/.local/share/virtualenvs/stock-prediction-MOS0QyR2/lib/python3.10/site-packages/pandas_datareader/yahoo/daily.py\", line 153, in _read_one_data\n",
      "    data = j[\"context\"][\"dispatcher\"][\"stores\"][\"HistoricalPriceStore\"]\n",
      "KeyError: 'HistoricalPriceStore'\n",
      "\n",
      "During handling of the above exception, another exception occurred:\n",
      "\n",
      "Traceback (most recent call last):\n",
      "  File \"/home/jared/workspace/market-diff/stock-prediction/notebooks/../src/datastore.py\", line 106, in download_daily_candlesticks\n",
      "    data = pdr.DataReader(\n",
      "  File \"/home/jared/.local/share/virtualenvs/stock-prediction-MOS0QyR2/lib/python3.10/site-packages/pandas/util/_decorators.py\", line 207, in wrapper\n",
      "    return func(*args, **kwargs)\n",
      "  File \"/home/jared/.local/share/virtualenvs/stock-prediction-MOS0QyR2/lib/python3.10/site-packages/pandas_datareader/data.py\", line 379, in DataReader\n",
      "    ).read()\n",
      "  File \"/home/jared/.local/share/virtualenvs/stock-prediction-MOS0QyR2/lib/python3.10/site-packages/pandas_datareader/base.py\", line 253, in read\n",
      "    df = self._read_one_data(self.url, params=self._get_params(self.symbols))\n",
      "  File \"/home/jared/.local/share/virtualenvs/stock-prediction-MOS0QyR2/lib/python3.10/site-packages/pandas_datareader/yahoo/daily.py\", line 156, in _read_one_data\n",
      "    raise RemoteDataError(msg.format(symbol, self.__class__.__name__))\n",
      "pandas_datareader._utils.RemoteDataError: No data fetched for symbol ACY using YahooDailyReader\n"
     ]
    },
    {
     "name": "stdout",
     "output_type": "stream",
     "text": [
      "Error downloading daily candlesticks for ACY\n"
     ]
    },
    {
     "name": "stderr",
     "output_type": "stream",
     "text": [
      "Traceback (most recent call last):\n",
      "  File \"/home/jared/.local/share/virtualenvs/stock-prediction-MOS0QyR2/lib/python3.10/site-packages/pandas_datareader/yahoo/daily.py\", line 153, in _read_one_data\n",
      "    data = j[\"context\"][\"dispatcher\"][\"stores\"][\"HistoricalPriceStore\"]\n",
      "KeyError: 'HistoricalPriceStore'\n",
      "\n",
      "During handling of the above exception, another exception occurred:\n",
      "\n",
      "Traceback (most recent call last):\n",
      "  File \"/home/jared/workspace/market-diff/stock-prediction/notebooks/../src/datastore.py\", line 106, in download_daily_candlesticks\n",
      "    data = pdr.DataReader(\n",
      "  File \"/home/jared/.local/share/virtualenvs/stock-prediction-MOS0QyR2/lib/python3.10/site-packages/pandas/util/_decorators.py\", line 207, in wrapper\n",
      "    return func(*args, **kwargs)\n",
      "  File \"/home/jared/.local/share/virtualenvs/stock-prediction-MOS0QyR2/lib/python3.10/site-packages/pandas_datareader/data.py\", line 379, in DataReader\n",
      "    ).read()\n",
      "  File \"/home/jared/.local/share/virtualenvs/stock-prediction-MOS0QyR2/lib/python3.10/site-packages/pandas_datareader/base.py\", line 253, in read\n",
      "    df = self._read_one_data(self.url, params=self._get_params(self.symbols))\n",
      "  File \"/home/jared/.local/share/virtualenvs/stock-prediction-MOS0QyR2/lib/python3.10/site-packages/pandas_datareader/yahoo/daily.py\", line 156, in _read_one_data\n",
      "    raise RemoteDataError(msg.format(symbol, self.__class__.__name__))\n",
      "pandas_datareader._utils.RemoteDataError: No data fetched for symbol CVA using YahooDailyReader\n"
     ]
    },
    {
     "name": "stdout",
     "output_type": "stream",
     "text": [
      "Error downloading daily candlesticks for CVA\n"
     ]
    },
    {
     "name": "stderr",
     "output_type": "stream",
     "text": [
      "Traceback (most recent call last):\n",
      "  File \"/home/jared/.local/share/virtualenvs/stock-prediction-MOS0QyR2/lib/python3.10/site-packages/pandas_datareader/yahoo/daily.py\", line 153, in _read_one_data\n",
      "    data = j[\"context\"][\"dispatcher\"][\"stores\"][\"HistoricalPriceStore\"]\n",
      "KeyError: 'HistoricalPriceStore'\n",
      "\n",
      "During handling of the above exception, another exception occurred:\n",
      "\n",
      "Traceback (most recent call last):\n",
      "  File \"/home/jared/workspace/market-diff/stock-prediction/notebooks/../src/datastore.py\", line 106, in download_daily_candlesticks\n",
      "    data = pdr.DataReader(\n",
      "  File \"/home/jared/.local/share/virtualenvs/stock-prediction-MOS0QyR2/lib/python3.10/site-packages/pandas/util/_decorators.py\", line 207, in wrapper\n",
      "    return func(*args, **kwargs)\n",
      "  File \"/home/jared/.local/share/virtualenvs/stock-prediction-MOS0QyR2/lib/python3.10/site-packages/pandas_datareader/data.py\", line 379, in DataReader\n",
      "    ).read()\n",
      "  File \"/home/jared/.local/share/virtualenvs/stock-prediction-MOS0QyR2/lib/python3.10/site-packages/pandas_datareader/base.py\", line 253, in read\n",
      "    df = self._read_one_data(self.url, params=self._get_params(self.symbols))\n",
      "  File \"/home/jared/.local/share/virtualenvs/stock-prediction-MOS0QyR2/lib/python3.10/site-packages/pandas_datareader/yahoo/daily.py\", line 156, in _read_one_data\n",
      "    raise RemoteDataError(msg.format(symbol, self.__class__.__name__))\n",
      "pandas_datareader._utils.RemoteDataError: No data fetched for symbol GPM using YahooDailyReader\n"
     ]
    },
    {
     "name": "stdout",
     "output_type": "stream",
     "text": [
      "Error downloading daily candlesticks for GPM\n"
     ]
    },
    {
     "name": "stderr",
     "output_type": "stream",
     "text": [
      "Traceback (most recent call last):\n",
      "  File \"/home/jared/.local/share/virtualenvs/stock-prediction-MOS0QyR2/lib/python3.10/site-packages/pandas_datareader/yahoo/daily.py\", line 153, in _read_one_data\n",
      "    data = j[\"context\"][\"dispatcher\"][\"stores\"][\"HistoricalPriceStore\"]\n",
      "KeyError: 'HistoricalPriceStore'\n",
      "\n",
      "During handling of the above exception, another exception occurred:\n",
      "\n",
      "Traceback (most recent call last):\n",
      "  File \"/home/jared/workspace/market-diff/stock-prediction/notebooks/../src/datastore.py\", line 106, in download_daily_candlesticks\n",
      "    data = pdr.DataReader(\n",
      "  File \"/home/jared/.local/share/virtualenvs/stock-prediction-MOS0QyR2/lib/python3.10/site-packages/pandas/util/_decorators.py\", line 207, in wrapper\n",
      "    return func(*args, **kwargs)\n",
      "  File \"/home/jared/.local/share/virtualenvs/stock-prediction-MOS0QyR2/lib/python3.10/site-packages/pandas_datareader/data.py\", line 379, in DataReader\n",
      "    ).read()\n",
      "  File \"/home/jared/.local/share/virtualenvs/stock-prediction-MOS0QyR2/lib/python3.10/site-packages/pandas_datareader/base.py\", line 253, in read\n",
      "    df = self._read_one_data(self.url, params=self._get_params(self.symbols))\n",
      "  File \"/home/jared/.local/share/virtualenvs/stock-prediction-MOS0QyR2/lib/python3.10/site-packages/pandas_datareader/yahoo/daily.py\", line 156, in _read_one_data\n",
      "    raise RemoteDataError(msg.format(symbol, self.__class__.__name__))\n",
      "pandas_datareader._utils.RemoteDataError: No data fetched for symbol FSKR using YahooDailyReader\n"
     ]
    },
    {
     "name": "stdout",
     "output_type": "stream",
     "text": [
      "Error downloading daily candlesticks for FSKR\n"
     ]
    },
    {
     "name": "stderr",
     "output_type": "stream",
     "text": [
      "Traceback (most recent call last):\n",
      "  File \"/home/jared/.local/share/virtualenvs/stock-prediction-MOS0QyR2/lib/python3.10/site-packages/pandas/core/indexes/base.py\", line 3621, in get_loc\n",
      "    return self._engine.get_loc(casted_key)\n",
      "  File \"pandas/_libs/index.pyx\", line 136, in pandas._libs.index.IndexEngine.get_loc\n",
      "  File \"pandas/_libs/index.pyx\", line 163, in pandas._libs.index.IndexEngine.get_loc\n",
      "  File \"pandas/_libs/hashtable_class_helper.pxi\", line 5198, in pandas._libs.hashtable.PyObjectHashTable.get_item\n",
      "  File \"pandas/_libs/hashtable_class_helper.pxi\", line 5206, in pandas._libs.hashtable.PyObjectHashTable.get_item\n",
      "KeyError: 'Date'\n",
      "\n",
      "The above exception was the direct cause of the following exception:\n",
      "\n",
      "Traceback (most recent call last):\n",
      "  File \"/home/jared/workspace/market-diff/stock-prediction/notebooks/../src/datastore.py\", line 106, in download_daily_candlesticks\n",
      "    data = pdr.DataReader(\n",
      "  File \"/home/jared/.local/share/virtualenvs/stock-prediction-MOS0QyR2/lib/python3.10/site-packages/pandas/util/_decorators.py\", line 207, in wrapper\n",
      "    return func(*args, **kwargs)\n",
      "  File \"/home/jared/.local/share/virtualenvs/stock-prediction-MOS0QyR2/lib/python3.10/site-packages/pandas_datareader/data.py\", line 379, in DataReader\n",
      "    ).read()\n",
      "  File \"/home/jared/.local/share/virtualenvs/stock-prediction-MOS0QyR2/lib/python3.10/site-packages/pandas_datareader/base.py\", line 253, in read\n",
      "    df = self._read_one_data(self.url, params=self._get_params(self.symbols))\n",
      "  File \"/home/jared/.local/share/virtualenvs/stock-prediction-MOS0QyR2/lib/python3.10/site-packages/pandas_datareader/yahoo/daily.py\", line 161, in _read_one_data\n",
      "    prices[\"Date\"] = to_datetime(to_datetime(prices[\"Date\"], unit=\"s\").dt.date)\n",
      "  File \"/home/jared/.local/share/virtualenvs/stock-prediction-MOS0QyR2/lib/python3.10/site-packages/pandas/core/frame.py\", line 3505, in __getitem__\n",
      "    indexer = self.columns.get_loc(key)\n",
      "  File \"/home/jared/.local/share/virtualenvs/stock-prediction-MOS0QyR2/lib/python3.10/site-packages/pandas/core/indexes/base.py\", line 3623, in get_loc\n",
      "    raise KeyError(key) from err\n",
      "KeyError: 'Date'\n"
     ]
    },
    {
     "name": "stdout",
     "output_type": "stream",
     "text": [
      "Error downloading daily candlesticks for SCA\n"
     ]
    },
    {
     "name": "stderr",
     "output_type": "stream",
     "text": [
      "Traceback (most recent call last):\n",
      "  File \"/home/jared/.local/share/virtualenvs/stock-prediction-MOS0QyR2/lib/python3.10/site-packages/pandas_datareader/yahoo/daily.py\", line 153, in _read_one_data\n",
      "    data = j[\"context\"][\"dispatcher\"][\"stores\"][\"HistoricalPriceStore\"]\n",
      "KeyError: 'HistoricalPriceStore'\n",
      "\n",
      "During handling of the above exception, another exception occurred:\n",
      "\n",
      "Traceback (most recent call last):\n",
      "  File \"/home/jared/workspace/market-diff/stock-prediction/notebooks/../src/datastore.py\", line 106, in download_daily_candlesticks\n",
      "    data = pdr.DataReader(\n",
      "  File \"/home/jared/.local/share/virtualenvs/stock-prediction-MOS0QyR2/lib/python3.10/site-packages/pandas/util/_decorators.py\", line 207, in wrapper\n",
      "    return func(*args, **kwargs)\n",
      "  File \"/home/jared/.local/share/virtualenvs/stock-prediction-MOS0QyR2/lib/python3.10/site-packages/pandas_datareader/data.py\", line 379, in DataReader\n",
      "    ).read()\n",
      "  File \"/home/jared/.local/share/virtualenvs/stock-prediction-MOS0QyR2/lib/python3.10/site-packages/pandas_datareader/base.py\", line 253, in read\n",
      "    df = self._read_one_data(self.url, params=self._get_params(self.symbols))\n",
      "  File \"/home/jared/.local/share/virtualenvs/stock-prediction-MOS0QyR2/lib/python3.10/site-packages/pandas_datareader/yahoo/daily.py\", line 156, in _read_one_data\n",
      "    raise RemoteDataError(msg.format(symbol, self.__class__.__name__))\n",
      "pandas_datareader._utils.RemoteDataError: No data fetched for symbol MR using YahooDailyReader\n"
     ]
    },
    {
     "name": "stdout",
     "output_type": "stream",
     "text": [
      "Error downloading daily candlesticks for MR\n"
     ]
    },
    {
     "name": "stderr",
     "output_type": "stream",
     "text": [
      "Traceback (most recent call last):\n",
      "  File \"/home/jared/.local/share/virtualenvs/stock-prediction-MOS0QyR2/lib/python3.10/site-packages/pandas_datareader/yahoo/daily.py\", line 153, in _read_one_data\n",
      "    data = j[\"context\"][\"dispatcher\"][\"stores\"][\"HistoricalPriceStore\"]\n",
      "KeyError: 'HistoricalPriceStore'\n",
      "\n",
      "During handling of the above exception, another exception occurred:\n",
      "\n",
      "Traceback (most recent call last):\n",
      "  File \"/home/jared/workspace/market-diff/stock-prediction/notebooks/../src/datastore.py\", line 106, in download_daily_candlesticks\n",
      "    data = pdr.DataReader(\n",
      "  File \"/home/jared/.local/share/virtualenvs/stock-prediction-MOS0QyR2/lib/python3.10/site-packages/pandas/util/_decorators.py\", line 207, in wrapper\n",
      "    return func(*args, **kwargs)\n",
      "  File \"/home/jared/.local/share/virtualenvs/stock-prediction-MOS0QyR2/lib/python3.10/site-packages/pandas_datareader/data.py\", line 379, in DataReader\n",
      "    ).read()\n",
      "  File \"/home/jared/.local/share/virtualenvs/stock-prediction-MOS0QyR2/lib/python3.10/site-packages/pandas_datareader/base.py\", line 253, in read\n",
      "    df = self._read_one_data(self.url, params=self._get_params(self.symbols))\n",
      "  File \"/home/jared/.local/share/virtualenvs/stock-prediction-MOS0QyR2/lib/python3.10/site-packages/pandas_datareader/yahoo/daily.py\", line 156, in _read_one_data\n",
      "    raise RemoteDataError(msg.format(symbol, self.__class__.__name__))\n",
      "pandas_datareader._utils.RemoteDataError: No data fetched for symbol RPAI using YahooDailyReader\n"
     ]
    },
    {
     "name": "stdout",
     "output_type": "stream",
     "text": [
      "Error downloading daily candlesticks for RPAI\n"
     ]
    },
    {
     "name": "stderr",
     "output_type": "stream",
     "text": [
      "Traceback (most recent call last):\n",
      "  File \"/home/jared/.local/share/virtualenvs/stock-prediction-MOS0QyR2/lib/python3.10/site-packages/pandas/core/indexes/base.py\", line 3621, in get_loc\n",
      "    return self._engine.get_loc(casted_key)\n",
      "  File \"pandas/_libs/index.pyx\", line 136, in pandas._libs.index.IndexEngine.get_loc\n",
      "  File \"pandas/_libs/index.pyx\", line 163, in pandas._libs.index.IndexEngine.get_loc\n",
      "  File \"pandas/_libs/hashtable_class_helper.pxi\", line 5198, in pandas._libs.hashtable.PyObjectHashTable.get_item\n",
      "  File \"pandas/_libs/hashtable_class_helper.pxi\", line 5206, in pandas._libs.hashtable.PyObjectHashTable.get_item\n",
      "KeyError: 'Date'\n",
      "\n",
      "The above exception was the direct cause of the following exception:\n",
      "\n",
      "Traceback (most recent call last):\n",
      "  File \"/home/jared/workspace/market-diff/stock-prediction/notebooks/../src/datastore.py\", line 106, in download_daily_candlesticks\n",
      "    data = pdr.DataReader(\n",
      "  File \"/home/jared/.local/share/virtualenvs/stock-prediction-MOS0QyR2/lib/python3.10/site-packages/pandas/util/_decorators.py\", line 207, in wrapper\n",
      "    return func(*args, **kwargs)\n",
      "  File \"/home/jared/.local/share/virtualenvs/stock-prediction-MOS0QyR2/lib/python3.10/site-packages/pandas_datareader/data.py\", line 379, in DataReader\n",
      "    ).read()\n",
      "  File \"/home/jared/.local/share/virtualenvs/stock-prediction-MOS0QyR2/lib/python3.10/site-packages/pandas_datareader/base.py\", line 253, in read\n",
      "    df = self._read_one_data(self.url, params=self._get_params(self.symbols))\n",
      "  File \"/home/jared/.local/share/virtualenvs/stock-prediction-MOS0QyR2/lib/python3.10/site-packages/pandas_datareader/yahoo/daily.py\", line 161, in _read_one_data\n",
      "    prices[\"Date\"] = to_datetime(to_datetime(prices[\"Date\"], unit=\"s\").dt.date)\n",
      "  File \"/home/jared/.local/share/virtualenvs/stock-prediction-MOS0QyR2/lib/python3.10/site-packages/pandas/core/frame.py\", line 3505, in __getitem__\n",
      "    indexer = self.columns.get_loc(key)\n",
      "  File \"/home/jared/.local/share/virtualenvs/stock-prediction-MOS0QyR2/lib/python3.10/site-packages/pandas/core/indexes/base.py\", line 3623, in get_loc\n",
      "    raise KeyError(key) from err\n",
      "KeyError: 'Date'\n"
     ]
    },
    {
     "name": "stdout",
     "output_type": "stream",
     "text": [
      "Error downloading daily candlesticks for EAI\n"
     ]
    },
    {
     "name": "stderr",
     "output_type": "stream",
     "text": [
      "Traceback (most recent call last):\n",
      "  File \"/home/jared/.local/share/virtualenvs/stock-prediction-MOS0QyR2/lib/python3.10/site-packages/pandas_datareader/yahoo/daily.py\", line 153, in _read_one_data\n",
      "    data = j[\"context\"][\"dispatcher\"][\"stores\"][\"HistoricalPriceStore\"]\n",
      "KeyError: 'HistoricalPriceStore'\n",
      "\n",
      "During handling of the above exception, another exception occurred:\n",
      "\n",
      "Traceback (most recent call last):\n",
      "  File \"/home/jared/workspace/market-diff/stock-prediction/notebooks/../src/datastore.py\", line 106, in download_daily_candlesticks\n",
      "    data = pdr.DataReader(\n",
      "  File \"/home/jared/.local/share/virtualenvs/stock-prediction-MOS0QyR2/lib/python3.10/site-packages/pandas/util/_decorators.py\", line 207, in wrapper\n",
      "    return func(*args, **kwargs)\n",
      "  File \"/home/jared/.local/share/virtualenvs/stock-prediction-MOS0QyR2/lib/python3.10/site-packages/pandas_datareader/data.py\", line 379, in DataReader\n",
      "    ).read()\n",
      "  File \"/home/jared/.local/share/virtualenvs/stock-prediction-MOS0QyR2/lib/python3.10/site-packages/pandas_datareader/base.py\", line 253, in read\n",
      "    df = self._read_one_data(self.url, params=self._get_params(self.symbols))\n",
      "  File \"/home/jared/.local/share/virtualenvs/stock-prediction-MOS0QyR2/lib/python3.10/site-packages/pandas_datareader/yahoo/daily.py\", line 156, in _read_one_data\n",
      "    raise RemoteDataError(msg.format(symbol, self.__class__.__name__))\n",
      "pandas_datareader._utils.RemoteDataError: No data fetched for symbol GSH using YahooDailyReader\n"
     ]
    },
    {
     "name": "stdout",
     "output_type": "stream",
     "text": [
      "Error downloading daily candlesticks for GSH\n"
     ]
    },
    {
     "name": "stderr",
     "output_type": "stream",
     "text": [
      "Traceback (most recent call last):\n",
      "  File \"/home/jared/.local/share/virtualenvs/stock-prediction-MOS0QyR2/lib/python3.10/site-packages/pandas_datareader/yahoo/daily.py\", line 153, in _read_one_data\n",
      "    data = j[\"context\"][\"dispatcher\"][\"stores\"][\"HistoricalPriceStore\"]\n",
      "KeyError: 'HistoricalPriceStore'\n",
      "\n",
      "During handling of the above exception, another exception occurred:\n",
      "\n",
      "Traceback (most recent call last):\n",
      "  File \"/home/jared/workspace/market-diff/stock-prediction/notebooks/../src/datastore.py\", line 106, in download_daily_candlesticks\n",
      "    data = pdr.DataReader(\n",
      "  File \"/home/jared/.local/share/virtualenvs/stock-prediction-MOS0QyR2/lib/python3.10/site-packages/pandas/util/_decorators.py\", line 207, in wrapper\n",
      "    return func(*args, **kwargs)\n",
      "  File \"/home/jared/.local/share/virtualenvs/stock-prediction-MOS0QyR2/lib/python3.10/site-packages/pandas_datareader/data.py\", line 379, in DataReader\n",
      "    ).read()\n",
      "  File \"/home/jared/.local/share/virtualenvs/stock-prediction-MOS0QyR2/lib/python3.10/site-packages/pandas_datareader/base.py\", line 253, in read\n",
      "    df = self._read_one_data(self.url, params=self._get_params(self.symbols))\n",
      "  File \"/home/jared/.local/share/virtualenvs/stock-prediction-MOS0QyR2/lib/python3.10/site-packages/pandas_datareader/yahoo/daily.py\", line 156, in _read_one_data\n",
      "    raise RemoteDataError(msg.format(symbol, self.__class__.__name__))\n",
      "pandas_datareader._utils.RemoteDataError: No data fetched for symbol SOAC using YahooDailyReader\n"
     ]
    },
    {
     "name": "stdout",
     "output_type": "stream",
     "text": [
      "Error downloading daily candlesticks for SOAC\n",
      "Error downloading daily candlesticks for BFY\n"
     ]
    },
    {
     "name": "stderr",
     "output_type": "stream",
     "text": [
      "Traceback (most recent call last):\n",
      "  File \"/home/jared/.local/share/virtualenvs/stock-prediction-MOS0QyR2/lib/python3.10/site-packages/pandas_datareader/yahoo/daily.py\", line 153, in _read_one_data\n",
      "    data = j[\"context\"][\"dispatcher\"][\"stores\"][\"HistoricalPriceStore\"]\n",
      "KeyError: 'HistoricalPriceStore'\n",
      "\n",
      "During handling of the above exception, another exception occurred:\n",
      "\n",
      "Traceback (most recent call last):\n",
      "  File \"/home/jared/workspace/market-diff/stock-prediction/notebooks/../src/datastore.py\", line 106, in download_daily_candlesticks\n",
      "    data = pdr.DataReader(\n",
      "  File \"/home/jared/.local/share/virtualenvs/stock-prediction-MOS0QyR2/lib/python3.10/site-packages/pandas/util/_decorators.py\", line 207, in wrapper\n",
      "    return func(*args, **kwargs)\n",
      "  File \"/home/jared/.local/share/virtualenvs/stock-prediction-MOS0QyR2/lib/python3.10/site-packages/pandas_datareader/data.py\", line 379, in DataReader\n",
      "    ).read()\n",
      "  File \"/home/jared/.local/share/virtualenvs/stock-prediction-MOS0QyR2/lib/python3.10/site-packages/pandas_datareader/base.py\", line 253, in read\n",
      "    df = self._read_one_data(self.url, params=self._get_params(self.symbols))\n",
      "  File \"/home/jared/.local/share/virtualenvs/stock-prediction-MOS0QyR2/lib/python3.10/site-packages/pandas_datareader/yahoo/daily.py\", line 156, in _read_one_data\n",
      "    raise RemoteDataError(msg.format(symbol, self.__class__.__name__))\n",
      "pandas_datareader._utils.RemoteDataError: No data fetched for symbol BFY using YahooDailyReader\n"
     ]
    }
   ],
   "source": [
    "ds.download_daily_candlesticks(tickers, start_date, end_date)"
   ]
  },
  {
   "cell_type": "markdown",
   "id": "fd1c271e",
   "metadata": {},
   "source": [
    "## Process Candlesticks into Signals"
   ]
  },
  {
   "cell_type": "code",
   "execution_count": 4,
   "id": "df9b06c8",
   "metadata": {},
   "outputs": [
    {
     "name": "stdout",
     "output_type": "stream",
     "text": [
      "Exception on BRK.B:\n",
      "'high'\n",
      "Exception on BF.B:\n",
      "'high'\n",
      "Exception on DISCA:\n",
      "'high'\n",
      "Exception on DISCK:\n",
      "'high'\n",
      "Exception on INFO:\n",
      "'high'\n",
      "Exception on KSU:\n",
      "'high'\n",
      "Exception on OGN:\n",
      "Found array with 0 sample(s) (shape=(0, 58)) while a minimum of 1 is required by StandardScaler.\n",
      "Exception on PBCT:\n",
      "'high'\n",
      "Exception on VIAC:\n",
      "'high'\n",
      "Exception on WLTW:\n",
      "'high'\n",
      "Exception on XLNX:\n",
      "'high'\n",
      "Exception on FTSI:\n",
      "'high'\n",
      "Exception on TOT:\n",
      "'high'\n",
      "Exception on TSU:\n",
      "'high'\n",
      "Exception on VMM:\n",
      "'high'\n",
      "Exception on FI:\n",
      "'high'\n",
      "Exception on CAI:\n",
      "'high'\n",
      "Exception on RST:\n",
      "'high'\n",
      "Exception on TPRE:\n",
      "'high'\n",
      "Exception on CZZ:\n",
      "'high'\n",
      "Exception on JE:\n",
      "'high'\n",
      "Exception on FCAU:\n",
      "'high'\n",
      "Exception on FVAC:\n",
      "'high'\n",
      "Exception on GRAM:\n",
      "'high'\n",
      "Exception on CRHM:\n",
      "'high'\n",
      "Exception on AT:\n",
      "'high'\n",
      "Exception on AXO:\n",
      "'high'\n",
      "Exception on ADSW:\n",
      "'high'\n",
      "Exception on IHC:\n",
      "'high'\n",
      "Exception on DSE:\n",
      "'high'\n",
      "Exception on NYV:\n",
      "'high'\n",
      "Exception on GRUB:\n",
      "'high'\n",
      "Exception on HKIB:\n",
      "'high'\n",
      "Exception on WPF:\n",
      "'high'\n",
      "Exception on XAN:\n",
      "'high'\n",
      "Exception on KNL:\n",
      "'high'\n",
      "Exception on MNK:\n",
      "'high'\n",
      "Exception on GV:\n",
      "'high'\n",
      "Exception on GTT:\n",
      "'high'\n",
      "Exception on CTK:\n",
      "'high'\n",
      "Exception on CFXA:\n",
      "'high'\n",
      "Exception on BAF:\n",
      "'high'\n",
      "Exception on PCI:\n",
      "'high'\n",
      "Exception on NWHM:\n",
      "'high'\n",
      "Exception on EROS:\n",
      "'high'\n",
      "Exception on PIC:\n",
      "'high'\n",
      "Exception on LGVW:\n",
      "'high'\n",
      "Exception on GTS:\n",
      "'high'\n",
      "Exception on DL:\n",
      "'high'\n",
      "Exception on CVU:\n",
      "'high'\n",
      "Exception on TLI:\n",
      "'high'\n",
      "Exception on RESI:\n",
      "Found array with 0 sample(s) (shape=(0, 58)) while a minimum of 1 is required by StandardScaler.\n",
      "Exception on SFUN:\n",
      "'high'\n",
      "Exception on PFNX:\n",
      "'high'\n",
      "Exception on ARD:\n",
      "'high'\n",
      "Exception on TREC:\n",
      "'high'\n",
      "Exception on BCEI:\n",
      "'high'\n",
      "Exception on GIX~:\n",
      "'high'\n",
      "Exception on CBL:\n",
      "Found array with 0 sample(s) (shape=(0, 58)) while a minimum of 1 is required by StandardScaler.\n",
      "Exception on IID:\n",
      "'high'\n",
      "Exception on COG:\n",
      "'high'\n",
      "Exception on BDR:\n",
      "'high'\n",
      "Exception on ELJ:\n",
      "'high'\n",
      "Exception on CCXX:\n",
      "'high'\n",
      "Exception on GIX:\n",
      "'high'\n",
      "Exception on MSGN:\n",
      "'high'\n",
      "Exception on CSPR:\n",
      "'high'\n",
      "Exception on BSA:\n",
      "'high'\n",
      "Exception on HFC:\n",
      "'high'\n",
      "Exception on RLH:\n",
      "'high'\n",
      "Exception on RVI:\n",
      "'high'\n",
      "Exception on LB:\n",
      "'high'\n",
      "Exception on IRR:\n",
      "'high'\n",
      "Exception on COR:\n",
      "'high'\n",
      "Exception on BBX:\n",
      "'high'\n",
      "Exception on SHLL:\n",
      "'high'\n",
      "Exception on SNR:\n",
      "'high'\n",
      "Exception on GSB:\n",
      "'high'\n",
      "Exception on LDL:\n",
      "'high'\n",
      "Exception on OSB:\n",
      "'high'\n",
      "Exception on RYB:\n",
      "'high'\n",
      "Exception on CHA:\n",
      "'high'\n",
      "Exception on FIT:\n",
      "'high'\n",
      "Exception on DTQ:\n",
      "'high'\n",
      "Exception on SAND          :\n",
      "'high'\n",
      "Exception on SOGO:\n",
      "'high'\n",
      "Exception on CPLG:\n",
      "'high'\n",
      "Exception on CCC:\n",
      "'high'\n",
      "Exception on SPB           :\n",
      "'high'\n",
      "Exception on IPOB:\n",
      "'high'\n",
      "Exception on THGA:\n",
      "'high'\n",
      "Exception on DPW:\n",
      "'high'\n",
      "Exception on SPAQ:\n",
      "'high'\n",
      "Exception on LGC:\n",
      "'high'\n",
      "Exception on ANH:\n",
      "'high'\n",
      "Exception on FLY:\n",
      "'high'\n",
      "Exception on CLI:\n",
      "'high'\n",
      "Exception on MFL:\n",
      "'high'\n",
      "Exception on CIT:\n",
      "'high'\n",
      "Exception on VEDL:\n",
      "'high'\n",
      "Exception on FFG:\n",
      "'high'\n",
      "Exception on CNXM:\n",
      "'high'\n",
      "Exception on PER:\n",
      "'high'\n",
      "Exception on DNI:\n",
      "'high'\n",
      "Exception on RPLA:\n",
      "'high'\n",
      "Exception on WRI:\n",
      "'high'\n",
      "Exception on JWS:\n",
      "'high'\n",
      "Exception on MCF:\n",
      "'high'\n",
      "Exception on ETX           :\n",
      "'high'\n",
      "Exception on OAC:\n",
      "'high'\n",
      "Exception on CFX:\n",
      "'high'\n",
      "Exception on CRY:\n",
      "'high'\n",
      "Exception on GGO:\n",
      "'high'\n",
      "Exception on CTL:\n",
      "'high'\n",
      "Exception on WTRU:\n",
      "'high'\n",
      "Exception on MBT:\n",
      "'high'\n",
      "Exception on ECC           :\n",
      "'high'\n",
      "Exception on NTN:\n",
      "'high'\n",
      "Exception on NTEST:\n",
      "'high'\n",
      "Exception on QEP:\n",
      "'high'\n",
      "Exception on ROYT:\n",
      "'high'\n",
      "Exception on DUC:\n",
      "'high'\n",
      "Exception on PLT:\n",
      "'high'\n",
      "Exception on NNA:\n",
      "'high'\n",
      "Exception on HRC:\n",
      "'high'\n",
      "Exception on SPN:\n",
      "'high'\n",
      "Exception on WPG:\n",
      "'high'\n",
      "Exception on MYF:\n",
      "'high'\n",
      "Exception on IBO:\n",
      "'high'\n",
      "Exception on GEN           :\n",
      "'high'\n",
      "Exception on CBB:\n",
      "'high'\n",
      "Exception on UFS:\n",
      "'high'\n",
      "Exception on MVC:\n",
      "'high'\n",
      "Exception on ONDK:\n",
      "'high'\n",
      "Exception on MUS:\n",
      "'high'\n",
      "Exception on BQH:\n",
      "'high'\n",
      "Exception on ACY:\n",
      "'high'\n",
      "Exception on CVA:\n",
      "'high'\n",
      "Exception on GPM:\n",
      "'high'\n",
      "Exception on FSKR:\n",
      "'high'\n",
      "Exception on SCA:\n",
      "'high'\n",
      "Exception on MR:\n",
      "'high'\n",
      "Exception on RPAI:\n",
      "'high'\n",
      "Exception on EAI:\n",
      "'high'\n",
      "Exception on GSH:\n",
      "'high'\n",
      "Exception on SOAC:\n",
      "'high'\n",
      "Exception on BFY:\n",
      "'high'\n"
     ]
    }
   ],
   "source": [
    "candlesticks = ds.get_daily_candlesticks(tickers, start_date, end_date)\n",
    "\n",
    "Xs = []\n",
    "ys = []\n",
    "\n",
    "for ticker in tickers:\n",
    "    try:\n",
    "        technical_sigs = TechnicalSignalSet(candlesticks[ticker], predict_window)\n",
    "        X, y, Xy_date = technical_sigs.to_xy()\n",
    "        Xs.append(X)\n",
    "        ys.append(y)\n",
    "    except Exception as ex:\n",
    "        print(f\"Exception on {ticker}:\")\n",
    "        print(ex)\n",
    "\n",
    "X = np.concatenate(Xs, axis=0)\n",
    "y = np.concatenate(ys, axis=0)\n",
    "\n",
    "X_train, X_test, y_train, y_test = train_test_split(X, y, test_size=0.05)"
   ]
  },
  {
   "cell_type": "markdown",
   "id": "b3cfbc58",
   "metadata": {},
   "source": [
    "## Process Signals for PyTorch"
   ]
  },
  {
   "cell_type": "code",
   "execution_count": 5,
   "id": "74642e6f",
   "metadata": {},
   "outputs": [
    {
     "name": "stdout",
     "output_type": "stream",
     "text": [
      "torch.Size([5282429, 58])\n",
      "Batch size: 846\n"
     ]
    },
    {
     "data": {
      "text/plain": [
       "0"
      ]
     },
     "execution_count": 5,
     "metadata": {},
     "output_type": "execute_result"
    }
   ],
   "source": [
    "import torch\n",
    "import torch.nn as nn\n",
    "import torch.nn.functional as F\n",
    "from torch.utils.data import DataLoader, TensorDataset\n",
    "import gc\n",
    "\n",
    "batch_size = util.round_batch_size(X_train.shape[0], 1024, leeway=200)\n",
    "n_features = X_train.shape[1]\n",
    "\n",
    "# Convert X, y to torch tensors\n",
    "X_train_tensor = torch.from_numpy(X_train).float()\n",
    "X_test_tensor = torch.from_numpy(X_test).float()\n",
    "y_train_tensor = torch.from_numpy(y_train.reshape(y_train.shape[0], 1)).float()\n",
    "y_test_tensor = torch.from_numpy(y_test.reshape(y_test.shape[0], 1)).float()\n",
    "\n",
    "print(X_train_tensor.shape)\n",
    "print('Batch size:', batch_size)\n",
    "\n",
    "# Generators\n",
    "training_set = TensorDataset(X_train_tensor, y_train_tensor)\n",
    "dataloader_train = DataLoader(training_set, shuffle=True, batch_size=batch_size)\n",
    "\n",
    "validation_set = TensorDataset(X_test_tensor, y_test_tensor)\n",
    "dataloader_test = DataLoader(validation_set, shuffle=True, batch_size=batch_size)\n",
    "\n",
    "# Release duplicated memory\n",
    "try:\n",
    "    del X\n",
    "    del y\n",
    "    del Xs\n",
    "    del ys\n",
    "    #del X_train\n",
    "    #del X_test\n",
    "    #del y_train\n",
    "    #del y_test\n",
    "    del X_train_tensor\n",
    "    del X_test_tensor\n",
    "    del y_train_tensor\n",
    "    del y_test_tensor\n",
    "except:\n",
    "    pass\n",
    "gc.collect()"
   ]
  },
  {
   "cell_type": "markdown",
   "id": "a3b79f88",
   "metadata": {},
   "source": [
    "## Create or Load PyTorch Model"
   ]
  },
  {
   "cell_type": "code",
   "execution_count": 6,
   "id": "d1996d71",
   "metadata": {},
   "outputs": [],
   "source": [
    "n_outputs = 1\n",
    "\n",
    "net = nn.Sequential(\n",
    "    nn.Linear(n_features, 256),\n",
    "    nn.ReLU(),\n",
    "    nn.Linear(256, 128),\n",
    "    nn.ReLU(),\n",
    "    nn.Linear(128, 32),\n",
    "    nn.ReLU(),\n",
    "    nn.Linear(32, 16),\n",
    "    nn.ReLU(),\n",
    "    nn.Linear(16, 8),\n",
    "    nn.ReLU(),\n",
    "    nn.Linear(8, n_outputs),\n",
    ")\n",
    "\n",
    "\n",
    "# LOAD PYTORCH MODEL FROM DB (HELL YEA)\n",
    "#model_env = ds.get_all_model_envs()[0]\n",
    "#model = model_env.hydrate_model()\n",
    "#net = model.model"
   ]
  },
  {
   "cell_type": "markdown",
   "id": "c151a2a2",
   "metadata": {},
   "source": [
    "## Training"
   ]
  },
  {
   "cell_type": "code",
   "execution_count": null,
   "id": "cd37d8e7",
   "metadata": {},
   "outputs": [
    {
     "name": "stdout",
     "output_type": "stream",
     "text": [
      "Wrong train batch size. Skipping batch.\n",
      "Throwing away 5 samples.\n",
      "Epoch 1 \t\t Training Loss: 0.6620444710012242 \t\t Validation Loss: 0.7065535685936368\n",
      "Wrong train batch size. Skipping batch.\n",
      "Throwing away 5 samples.\n",
      "Epoch 2 \t\t Training Loss: 0.6623072337684296 \t\t Validation Loss: 0.7044418658891347\n",
      "Wrong train batch size. Skipping batch.\n",
      "Throwing away 5 samples.\n",
      "Epoch 3 \t\t Training Loss: 0.6619803406602388 \t\t Validation Loss: 0.7069947190560106\n",
      "Wrong train batch size. Skipping batch.\n",
      "Throwing away 5 samples.\n",
      "Epoch 4 \t\t Training Loss: 0.6617957441304759 \t\t Validation Loss: 0.7041515756885331\n",
      "Wrong train batch size. Skipping batch.\n",
      "Throwing away 5 samples.\n",
      "Epoch 5 \t\t Training Loss: 0.661941577559762 \t\t Validation Loss: 0.7044685912349666\n",
      "Wrong train batch size. Skipping batch.\n",
      "Throwing away 5 samples.\n",
      "Epoch 6 \t\t Training Loss: 0.6617967525608927 \t\t Validation Loss: 0.7028274266190804\n",
      "Wrong train batch size. Skipping batch.\n",
      "Throwing away 5 samples.\n",
      "Epoch 7 \t\t Training Loss: 0.6616982174358719 \t\t Validation Loss: 0.7083786026685072\n",
      "Wrong train batch size. Skipping batch.\n",
      "Throwing away 5 samples.\n",
      "Epoch 8 \t\t Training Loss: 0.6617156913702349 \t\t Validation Loss: 0.7081077859756795\n",
      "Wrong train batch size. Skipping batch.\n",
      "Throwing away 5 samples.\n",
      "Epoch 9 \t\t Training Loss: 0.6616342616806611 \t\t Validation Loss: 0.7071552698735408\n",
      "Wrong train batch size. Skipping batch.\n",
      "Throwing away 5 samples.\n",
      "Epoch 10 \t\t Training Loss: 0.6617175519609566 \t\t Validation Loss: 0.7071011772996386\n",
      "Wrong train batch size. Skipping batch.\n",
      "Throwing away 5 samples.\n",
      "Epoch 11 \t\t Training Loss: 0.6617049513290747 \t\t Validation Loss: 0.7049423226107218\n",
      "Wrong train batch size. Skipping batch.\n",
      "Throwing away 5 samples.\n",
      "Epoch 12 \t\t Training Loss: 0.6619072463915193 \t\t Validation Loss: 0.7035445083600772\n",
      "Wrong train batch size. Skipping batch.\n",
      "Throwing away 5 samples.\n",
      "Epoch 13 \t\t Training Loss: 0.6615107344951126 \t\t Validation Loss: 0.7069433059735863\n",
      "Wrong train batch size. Skipping batch.\n",
      "Throwing away 5 samples.\n",
      "Epoch 14 \t\t Training Loss: 0.6614801280588222 \t\t Validation Loss: 0.7046073800162341\n",
      "Wrong train batch size. Skipping batch.\n",
      "Throwing away 5 samples.\n",
      "Epoch 15 \t\t Training Loss: 0.6613861665905142 \t\t Validation Loss: 0.7042488419538573\n",
      "Wrong train batch size. Skipping batch.\n",
      "Throwing away 5 samples.\n",
      "Epoch 16 \t\t Training Loss: 0.6614250347268782 \t\t Validation Loss: 0.7022897525036589\n",
      "Wrong train batch size. Skipping batch.\n",
      "Throwing away 5 samples.\n",
      "Epoch 17 \t\t Training Loss: 0.661245584335205 \t\t Validation Loss: 0.7115976355720798\n",
      "Wrong train batch size. Skipping batch.\n",
      "Throwing away 5 samples.\n",
      "Epoch 18 \t\t Training Loss: 0.6613845749317502 \t\t Validation Loss: 0.7056399500478727\n",
      "Wrong train batch size. Skipping batch.\n",
      "Throwing away 5 samples.\n",
      "Epoch 19 \t\t Training Loss: 0.6612816883240632 \t\t Validation Loss: 0.7086338400840759\n",
      "Wrong train batch size. Skipping batch.\n",
      "Throwing away 5 samples.\n",
      "Epoch 20 \t\t Training Loss: 0.6612737566017933 \t\t Validation Loss: 0.7040082377503346\n",
      "Wrong train batch size. Skipping batch.\n",
      "Throwing away 5 samples.\n",
      "Epoch 21 \t\t Training Loss: 0.6612516772947472 \t\t Validation Loss: 0.7091061385931577\n",
      "Wrong train batch size. Skipping batch.\n",
      "Throwing away 5 samples.\n",
      "Epoch 22 \t\t Training Loss: 0.6610736814091166 \t\t Validation Loss: 0.7046208907043318\n",
      "Wrong train batch size. Skipping batch.\n",
      "Throwing away 5 samples.\n",
      "Epoch 23 \t\t Training Loss: 0.6613225072168941 \t\t Validation Loss: 0.7081058918523934\n",
      "Wrong train batch size. Skipping batch.\n",
      "Throwing away 5 samples.\n",
      "Epoch 24 \t\t Training Loss: 0.6611860219720271 \t\t Validation Loss: 0.712542309587125\n",
      "Wrong train batch size. Skipping batch.\n",
      "Throwing away 5 samples.\n",
      "Epoch 25 \t\t Training Loss: 0.6608129866415258 \t\t Validation Loss: 0.7068365020592524\n",
      "Wrong train batch size. Skipping batch.\n",
      "Throwing away 5 samples.\n",
      "Epoch 26 \t\t Training Loss: 0.6612078074362872 \t\t Validation Loss: 0.7048987153815643\n",
      "Wrong train batch size. Skipping batch.\n",
      "Throwing away 5 samples.\n",
      "Epoch 27 \t\t Training Loss: 0.6608391699359548 \t\t Validation Loss: 0.7044979989709825\n",
      "Wrong train batch size. Skipping batch.\n",
      "Throwing away 5 samples.\n",
      "Epoch 28 \t\t Training Loss: 0.6608467722053619 \t\t Validation Loss: 0.7059221273135269\n",
      "Wrong train batch size. Skipping batch.\n",
      "Throwing away 5 samples.\n",
      "Epoch 29 \t\t Training Loss: 0.6607176971874589 \t\t Validation Loss: 0.7048506499423807\n",
      "Wrong train batch size. Skipping batch.\n",
      "Throwing away 5 samples.\n",
      "Epoch 30 \t\t Training Loss: 0.6607376696015473 \t\t Validation Loss: 0.7050986603400627\n",
      "Wrong train batch size. Skipping batch.\n",
      "Throwing away 5 samples.\n",
      "Epoch 31 \t\t Training Loss: 0.6607641160917626 \t\t Validation Loss: 0.7039792684436207\n",
      "Wrong train batch size. Skipping batch.\n",
      "Throwing away 5 samples.\n",
      "Epoch 32 \t\t Training Loss: 0.6608343923158699 \t\t Validation Loss: 0.708009876741102\n",
      "Wrong train batch size. Skipping batch.\n",
      "Throwing away 5 samples.\n",
      "Epoch 33 \t\t Training Loss: 0.6606709666401028 \t\t Validation Loss: 0.70427442194843\n",
      "Wrong train batch size. Skipping batch.\n",
      "Throwing away 5 samples.\n",
      "Epoch 34 \t\t Training Loss: 0.6605103045391788 \t\t Validation Loss: 0.7025954946196188\n",
      "Wrong train batch size. Skipping batch.\n",
      "Throwing away 5 samples.\n",
      "Epoch 35 \t\t Training Loss: 0.6605518634267766 \t\t Validation Loss: 0.703421780222455\n",
      "Wrong train batch size. Skipping batch.\n",
      "Throwing away 5 samples.\n",
      "Epoch 36 \t\t Training Loss: 0.6606436702420561 \t\t Validation Loss: 0.7034923742245034\n",
      "Wrong train batch size. Skipping batch.\n",
      "Throwing away 5 samples.\n",
      "Epoch 37 \t\t Training Loss: 0.6604620581822361 \t\t Validation Loss: 0.7041011449051483\n",
      "Wrong train batch size. Skipping batch.\n",
      "Throwing away 5 samples.\n",
      "Epoch 38 \t\t Training Loss: 0.6605269266854676 \t\t Validation Loss: 0.7051539812406871\n",
      "Wrong train batch size. Skipping batch.\n",
      "Throwing away 5 samples.\n",
      "Epoch 39 \t\t Training Loss: 0.6606385714249958 \t\t Validation Loss: 0.7048828266674262\n"
     ]
    }
   ],
   "source": [
    "device = torch.device(\"cuda\")\n",
    "\n",
    "# Set device for model\n",
    "net = net.to(device)\n",
    "\n",
    "# Select optimizerand loss criteria\n",
    "criterion = torch.nn.MSELoss() \n",
    "optimizer = torch.optim.Adam(net.parameters(), lr=0.001) \n",
    "\n",
    "# Training the model\n",
    "for epoch in range(100):\n",
    "    train_loss = 0.0\n",
    "    \n",
    "    # Training\n",
    "    net.train()\n",
    "    for local_batch, local_labels in dataloader_train:\n",
    "        if local_batch.shape[0] != batch_size:\n",
    "            print(f\"Wrong train batch size. Skipping batch.\\nThrowing away {local_batch.shape[0]} samples.\")\n",
    "            continue\n",
    "        local_batch, local_labels = local_batch.to(device), local_labels.to(device)\n",
    "        \n",
    "        # Forward pass: Compute predicted y by passing x to the model \n",
    "        y_pred = net(local_batch)\n",
    "        # Compute and print loss \n",
    "        loss = criterion(y_pred, local_labels)\n",
    "        # Zero gradients, perform a backward pass, update the weights. \n",
    "        optimizer.zero_grad() \n",
    "        loss.backward() \n",
    "        optimizer.step() \n",
    "        # Update loss\n",
    "        train_loss += loss.item()\n",
    "\n",
    "    # Validation\n",
    "    net.eval()\n",
    "    valid_loss = 0.0\n",
    "    for data, labels in dataloader_test:\n",
    "        if data.shape[0] != batch_size:\n",
    "            continue\n",
    "        data, labels = data.to(device), labels.to(device)\n",
    "        \n",
    "        target = net(data)\n",
    "        loss = criterion(target,labels)\n",
    "        valid_loss += loss.item()\n",
    "\n",
    "    print(f'Epoch {epoch+1} \\t\\t Training Loss: {train_loss / len(dataloader_train)} \\t\\t Validation Loss: {valid_loss / len(dataloader_test)}')"
   ]
  },
  {
   "cell_type": "markdown",
   "id": "aff4754e",
   "metadata": {},
   "source": [
    "## Backtest"
   ]
  },
  {
   "cell_type": "code",
   "execution_count": 8,
   "id": "68085b4e",
   "metadata": {},
   "outputs": [
    {
     "name": "stdout",
     "output_type": "stream",
     "text": [
      "The autoreload extension is already loaded. To reload it, use:\n",
      "  %reload_ext autoreload\n",
      "Ticker: HLT\n",
      "73 buy/sells performed - 3.3121597096188746% of the time\n",
      "Stock price change: 29.347823752991246%\n",
      "ROI: 21.38381093373265%\n",
      "{'cash': 9357.200035095215, 'assets': 11, 'latest_price': 131.08999633789062, 'total_value': 10799.189994812012, 'roi': 0.2138381093373265}\n"
     ]
    },
    {
     "data": {
      "image/png": "[encoded data removed]",
      "text/plain": [
       "<Figure size 640x480 with 1 Axes>"
      ]
     },
     "metadata": {},
     "output_type": "display_data"
    },
    {
     "data": {
      "image/png": "[encoded data removed]",
      "text/plain": [
       "<Figure size 640x480 with 1 Axes>"
      ]
     },
     "metadata": {},
     "output_type": "display_data"
    },
    {
     "data": {
      "image/png": "[encoded data removed]",
      "text/plain": [
       "<Figure size 640x480 with 1 Axes>"
      ]
     },
     "metadata": {},
     "output_type": "display_data"
    },
    {
     "name": "stdout",
     "output_type": "stream",
     "text": [
      "Ticker: TT\n",
      "279 buy/sells performed - 4.8844537815126055% of the time\n",
      "Stock price change: 139.94162108615734%\n",
      "ROI: 12.874857307338425%\n",
      "{'cash': 9173.951400756836, 'assets': 15, 'latest_price': 160.7899932861328, 'total_value': 11585.801300048828, 'roi': 0.12874857307338425}\n"
     ]
    },
    {
     "data": {
      "image/png": "[encoded data removed]",
      "text/plain": [
       "<Figure size 640x480 with 1 Axes>"
      ]
     },
     "metadata": {},
     "output_type": "display_data"
    },
    {
     "data": {
      "image/png": "[encoded data removed]",
      "text/plain": [
       "<Figure size 640x480 with 1 Axes>"
      ]
     },
     "metadata": {},
     "output_type": "display_data"
    },
    {
     "data": {
      "image/png": "[encoded data removed]",
      "text/plain": [
       "<Figure size 640x480 with 1 Axes>"
      ]
     },
     "metadata": {},
     "output_type": "display_data"
    },
    {
     "name": "stdout",
     "output_type": "stream",
     "text": [
      "Ticker: MSFT\n",
      "380 buy/sells performed - 6.652661064425771% of the time\n",
      "Stock price change: 170.77914932868708%\n",
      "ROI: 7.987614422620516%\n",
      "{'cash': 9022.125144958496, 'assets': 11, 'latest_price': 253.52999877929688, 'total_value': 11810.955131530762, 'roi': 0.07987614422620516}\n"
     ]
    },
    {
     "data": {
      "image/png": "[encoded data removed]",
      "text/plain": [
       "<Figure size 640x480 with 1 Axes>"
      ]
     },
     "metadata": {},
     "output_type": "display_data"
    },
    {
     "data": {
      "image/png": "[encoded data removed]",
      "text/plain": [
       "<Figure size 640x480 with 1 Axes>"
      ]
     },
     "metadata": {},
     "output_type": "display_data"
    },
    {
     "data": {
      "image/png": "[encoded data removed]",
      "text/plain": [
       "<Figure size 640x480 with 1 Axes>"
      ]
     },
     "metadata": {},
     "output_type": "display_data"
    },
    {
     "data": {
      "text/plain": [
       "{'average_gainloss': 1398.6488087972004,\n",
       " 'results': {'HLT': {'cash': 9357.200035095215,\n",
       "   'assets': 11,\n",
       "   'latest_price': 131.08999633789062,\n",
       "   'total_value': 10799.189994812012,\n",
       "   'roi': 0.2138381093373265},\n",
       "  'TT': {'cash': 9173.951400756836,\n",
       "   'assets': 15,\n",
       "   'latest_price': 160.7899932861328,\n",
       "   'total_value': 11585.801300048828,\n",
       "   'roi': 0.12874857307338425},\n",
       "  'MSFT': {'cash': 9022.125144958496,\n",
       "   'assets': 11,\n",
       "   'latest_price': 253.52999877929688,\n",
       "   'total_value': 11810.955131530762,\n",
       "   'roi': 0.07987614422620516}}}"
      ]
     },
     "execution_count": 8,
     "metadata": {},
     "output_type": "execute_result"
    }
   ],
   "source": [
    "%load_ext autoreload\n",
    "%reload_ext autoreload\n",
    "%autoreload 2\n",
    "import backtest as bt\n",
    "from strategy import PretrainedModelStrategy, SignalModelStrategy\n",
    "from technical_signals import TechnicalSignalSet\n",
    "\n",
    "random.shuffle(spy_constituents)\n",
    "\n",
    "# XXX temporary - need to rework concurrency to be suitable for CUDA\n",
    "# (Must use `spawn` as opposed to `fork` based concurrency I believe - separate OS processes?)\n",
    "net = net.to(torch.device('cpu'))\n",
    "\n",
    "def predict(net):\n",
    "    return lambda X:\\\n",
    "        net(torch.from_numpy(X).float().cpu()).detach().numpy()\n",
    "\n",
    "def df_to_signal_set(df):\n",
    "    return TechnicalSignalSet(df, predict_window=predict_window)\n",
    "\n",
    "strategy = PretrainedModelStrategy(predict(net), df_to_signal_set, cutoff=4., bias=0.)\n",
    "bt.comprehensive_backtest(strategy, spy_constituents[:5], \"2000-01-01\", \"2025-01-01\", plot=True, train_test_ratio=0.8)"
   ]
  },
  {
   "cell_type": "markdown",
   "id": "42166970",
   "metadata": {},
   "source": [
    "## Save Model"
   ]
  },
  {
   "cell_type": "code",
   "execution_count": null,
   "id": "cd525561",
   "metadata": {},
   "outputs": [],
   "source": [
    "from predictive_model import PredictiveModel\n",
    "from datetime import datetime\n",
    "from model_env import ModelEnv\n",
    "\n",
    "net = net.to(torch.device('cpu'))\n",
    "\n",
    "def df_to_signal_set(df):\n",
    "    return TechnicalSignalSet(df, predict_window=predict_window)\n",
    "\n",
    "model = PredictiveModel(net, \"TorchMATI-1k_spy_watch-450\", predict_window, datetime.now())\n",
    "model.save()\n",
    "\n",
    "model_env = ModelEnv.from_model(model, 'My First Test', [{'id': 'rsi'}], technical_sigs.X_scaler, technical_sigs.y_scaler, model_code=f\"\"\"\n",
    "import torch.nn as nn\n",
    "\n",
    "model = nn.Sequential(\n",
    "    nn.Linear({n_features}, 256),\n",
    "    nn.ReLU(),\n",
    "    nn.Linear(256, 128),\n",
    "    nn.ReLU(),\n",
    "    nn.Linear(128, 32),\n",
    "    nn.ReLU(),\n",
    "    nn.Linear(32, 16),\n",
    "    nn.ReLU(),\n",
    "    nn.Linear(16, 8),\n",
    "    nn.ReLU(),\n",
    "    nn.Linear(8, 1),\n",
    ")\n",
    "\"\"\")\n",
    "\n",
    "ds.save_model_envs([model_env])"
   ]
  },
  {
   "cell_type": "code",
   "execution_count": null,
   "id": "9e44bc6d",
   "metadata": {},
   "outputs": [],
   "source": []
  }
 ],
 "metadata": {
  "kernelspec": {
   "display_name": "Python 3 (ipykernel)",
   "language": "python",
   "name": "python3"
  },
  "language_info": {
   "codemirror_mode": {
    "name": "ipython",
    "version": 3
   },
   "file_extension": ".py",
   "mimetype": "text/x-python",
   "name": "python",
   "nbconvert_exporter": "python",
   "pygments_lexer": "ipython3",
   "version": "3.10.7"
  }
 },
 "nbformat": 4,
 "nbformat_minor": 5
}
