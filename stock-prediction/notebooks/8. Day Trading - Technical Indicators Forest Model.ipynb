{
 "cells": [
  {
   "cell_type": "markdown",
   "id": "170ad9e4",
   "metadata": {},
   "source": [
    "# Day Trading - Technical Indicators - Forest Model\n",
    "\n",
    "We had good results in notebook \\#2 with momentum / trend trading, and some success with fundamentals / value trading, but day trading seems like the optimal use of this technology. This will also allow for a quicker testing loop.\n",
    "\n",
    "We will use the Random Forest model which worked well for momentum trading - the inputs will be technical indicators like RSI, MACD, etc, as before.\n",
    "\n",
    "\n",
    "**Implementation Steps**\n",
    "\n",
    "1. Dowload raw data\n",
    "  - Daemon constantly downloading samples\n",
    "2. Normalize data\n",
    "  - Normalize duration between samples - fill in unknown values by approximating\n",
    "3. Create technical indicators from normalized data\n",
    "4. Train & test Forest Model"
   ]
  },
  {
   "cell_type": "code",
   "execution_count": null,
   "id": "e2857b0f",
   "metadata": {},
   "outputs": [],
   "source": []
  }
 ],
 "metadata": {
  "kernelspec": {
   "display_name": "Python 3 (ipykernel)",
   "language": "python",
   "name": "python3"
  },
  "language_info": {
   "codemirror_mode": {
    "name": "ipython",
    "version": 3
   },
   "file_extension": ".py",
   "mimetype": "text/x-python",
   "name": "python",
   "nbconvert_exporter": "python",
   "pygments_lexer": "ipython3",
   "version": "3.10.5"
  }
 },
 "nbformat": 4,
 "nbformat_minor": 5
}
