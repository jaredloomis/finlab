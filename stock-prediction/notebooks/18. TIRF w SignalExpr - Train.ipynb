{
 "cells": [
  {
   "cell_type": "code",
   "execution_count": 1,
   "id": "eb3d0328",
   "metadata": {},
   "outputs": [],
   "source": [
    "# Auto reload local files\n",
    "%load_ext autoreload\n",
    "%reload_ext autoreload\n",
    "%autoreload 2\n",
    "# Make files in src/ available to notebook\n",
    "import sys\n",
    "if '../src' not in sys.path:\n",
    "    sys.path.insert(0, '../src')"
   ]
  },
  {
   "cell_type": "code",
   "execution_count": 2,
   "id": "80a258c8",
   "metadata": {},
   "outputs": [],
   "source": [
    "import numpy as np\n",
    "import pandas as pd\n",
    "import matplotlib.pyplot as plt\n",
    "import random\n",
    "from datetime import datetime, timedelta\n",
    "\n",
    "# Suppress ta warnings\n",
    "import warnings\n",
    "warnings.filterwarnings(\"ignore\")"
   ]
  },
  {
   "cell_type": "code",
   "execution_count": 3,
   "id": "140f055f",
   "metadata": {},
   "outputs": [],
   "source": [
    "# Read SPY csv, define config\n",
    "watchlist = list(pd.read_csv('../data/watchlist.csv', header=0)['symbol'])\n",
    "spy_constituents = list(pd.read_csv('../../data/spy_constituents.csv', header=0)['Symbol'])\n",
    "random.shuffle(spy_constituents)\n",
    "\n",
    "# Current tickers we have in database\n",
    "tickers = [\"A\",\"AAL\",\"AAP\",\"AAPL\",\"ABBV\",\"ABC\",\"ACN\",\"ADBE\",\"ADI\",\"ADP\",\"ADSK\",\"ADX\",\"AEE\",\"AEP\",\"AES\",\"AFL\",\"AG\",\"AIV\",\"AIZ\",\"AJG\",\"AJRD\",\"AJX\",\"AJXA\",\"AKAM\",\"AL\",\"ALB\",\"ALGN\",\"ALK\",\"ALL\",\"ALLE\",\"AMAT\",\"AMCR\",\"AMD\",\"AME\",\"AMGN\",\"AMN\",\"AMP\",\"AMT\",\"ANET\",\"ANSS\",\"AON\",\"AOS\",\"APA\",\"APD\",\"APH\",\"APT\",\"APTV\",\"ARA\",\"ARE\",\"ASX\",\"ATGE\",\"ATO\",\"ATUS\",\"ATVI\",\"AU\",\"AUY\",\"AVGO\",\"AVY\",\"AWK\",\"AXP\",\"AZO\",\"AZZ\",\"BA\",\"BABA\",\"BB\",\"BBWI\",\"BBY\",\"BEN\",\"BIIB\",\"BK\",\"BKI\",\"BKN\",\"BKNG\",\"BKR\",\"BLK\",\"BMY\",\"BR\",\"BRO\",\"BSIG\",\"BSL\",\"BSX\",\"BWA\",\"BYM\",\"BZH\",\"C\",\"CAAP\",\"CAG\",\"CARR\",\"CAT\",\"CBOE\",\"CBRE\",\"CBT\",\"CCI\",\"CCL\",\"CDNS\",\"CDW\",\"CE\",\"CERN\",\"CF\",\"CFG\",\"CHD\",\"CHRW\",\"CHT\",\"CHTR\",\"CI\",\"CIA\",\"CINF\",\"CL\",\"CLPR\",\"CLX\",\"CMA\",\"CMCSA\",\"CME\",\"CMG\",\"CMI\",\"CMO\",\"CMS\",\"CNC\",\"CNR\",\"COF\",\"COP\",\"COST\",\"COTY\",\"CP\",\"CPB\",\"CPRT\",\"CRL\",\"CRM\",\"CSCO\",\"CSX\",\"CTAS\",\"CTLT\",\"CTRA\",\"CTSH\",\"CTVA\",\"CUK\",\"CULP\",\"CURO\",\"CUZ\",\"CVA\",\"CVEO\",\"CVS\",\"CVX\",\"CWH\",\"CYD\",\"CZR\",\"DAL\",\"DAVA\",\"DCI\",\"DD\",\"DDS\",\"DEI\",\"DFS\",\"DG\",\"DGX\",\"DHI\",\"DHR\",\"DHY\",\"DIS\",\"DISCA\",\"DISCK\",\"DISH\",\"DLTR\",\"DNB\",\"DNOW\",\"DOV\",\"DOW\",\"DPW\",\"DPZ\",\"DRE\",\"DRI\",\"DRQ\",\"DS\",\"DTE\",\"DUK\",\"DVA\",\"DVN\",\"DXC\",\"DXCM\",\"DXF\",\"ECL\",\"ED\",\"EEX\",\"EFL\",\"EFX\",\"EIX\",\"EL\",\"ELC\",\"ELLO\",\"EMN\",\"EMR\",\"ENPH\",\"EOG\",\"EPAM\",\"EQR\",\"ES\",\"ESS\",\"ETB\",\"ETN\",\"ETR\",\"ETSY\",\"EVA\",\"EVM\",\"EVRG\",\"EW\",\"EXC\",\"EXPD\",\"EXR\",\"F\",\"FANG\",\"FAST\",\"FBC\",\"FBHS\",\"FCX\",\"FDX\",\"FE\",\"FFC\",\"FFIV\",\"FISV\",\"FLC\",\"FLT\",\"FMC\",\"FOX\",\"FPAC\",\"FRC\",\"FRT\",\"FTV\",\"GE\",\"GEF\",\"GEO\",\"GILD\",\"GIS\",\"GL\",\"GLU\",\"GLW\",\"GM\",\"GME\",\"GNRC\",\"GOOG\",\"GOOGL\",\"GPC\",\"GPM\",\"GPN\",\"GPS\",\"GRMN\",\"GS\",\"GWW\",\"HAL\",\"HAS\",\"HASI\",\"HBAN\",\"HCA\",\"HD\",\"HES\",\"HESM\",\"HIG\",\"HOLX\",\"HON\",\"HOV\",\"HPE\",\"HPP\",\"HPQ\",\"HQL\",\"HRI\",\"HRL\",\"HST\",\"HSY\",\"HTD\",\"HUBB\",\"HUM\",\"HUN\",\"HUYA\",\"HWM\",\"IBM\",\"ICE\",\"IDXX\",\"IEX\",\"IFF\",\"IGA\",\"IIM\",\"INFO\",\"INTC\",\"INTU\",\"IP\",\"IPG\",\"IPGP\",\"IQV\",\"IR\",\"IRM\",\"ISD\",\"ISRG\",\"IT\",\"ITW\",\"IVZ\",\"J\",\"JAX\",\"JBHT\",\"JBT\",\"JCI\",\"JDD\",\"JHB\",\"JKHY\",\"JLL\",\"JMM\",\"JMP\",\"JNJ\",\"JPM\",\"JT\",\"K\",\"KEY\",\"KEYS\",\"KHC\",\"KIM\",\"KLAC\",\"KMB\",\"KMI\",\"KMPR\",\"KMX\",\"KO\",\"KRO\",\"KSU\",\"LDOS\",\"LEN\",\"LH\",\"LHX\",\"LIN\",\"LLY\",\"LNC\",\"LND\",\"LNT\",\"LOW\",\"LRCX\",\"LUMN\",\"LUV\",\"LVS\",\"LYV\",\"M\",\"MA\",\"MAA\",\"MAC\",\"MAN\",\"MANU\",\"MAR\",\"MAS\",\"MAXR\",\"MC\",\"MCD\",\"MCHP\",\"MCR\",\"MDLZ\",\"MDT\",\"MEG\",\"MET\",\"MFA\",\"MGM\",\"MHK\",\"MKC\",\"MLM\",\"MMI\",\"MMM\",\"MNR\",\"MO\",\"MPC\",\"MPWR\",\"MRK\",\"MRO\",\"MS\",\"MSC\",\"MSCI\",\"MSFT\",\"MSGE\",\"MSGS\",\"MSI\",\"MSM\",\"MTB\",\"MTCH\",\"MTD\",\"MTOR\",\"MVT\",\"MYN\",\"NAD\",\"NAN\",\"NAVB\",\"NBB\",\"NCV\",\"NEE\",\"NEM\",\"NFJ\",\"NFLX\",\"NHS\",\"NI\",\"NJV\",\"NLOK\",\"NLSN\",\"NML\",\"NNA\",\"NOC\",\"NOW\",\"NRG\",\"NRT\",\"NSC\",\"NTAP\",\"NTIP\",\"NTP\",\"NUE\",\"NVDA\",\"NVR\",\"NWL\",\"NWS\",\"NWSA\",\"NXPI\",\"NXRT\",\"NYV\",\"O\",\"OCFT\",\"ODFL\",\"OGN\",\"OKE\",\"OMC\",\"OOMA\",\"ORA\",\"ORLY\",\"OTIS\",\"OXY\",\"PAA\",\"PAYC\",\"PAYX\",\"PBCT\",\"PBI\",\"PBY\",\"PCAR\",\"PE\",\"PEAK\",\"PEG\",\"PEN\",\"PENN\",\"PFE\",\"PFG\",\"PG\",\"PGR\",\"PGTI\",\"PH\",\"PHM\",\"PHX\",\"PKG\",\"PKI\",\"PLYM\",\"PNC\",\"PNR\",\"PNW\",\"POOL\",\"POR\",\"PPG\",\"PPL\",\"PRU\",\"PSX\",\"PUMP\",\"PVH\",\"PWR\",\"PXD\",\"PYPL\",\"PYS\",\"QCOM\",\"QRVO\",\"RCA\",\"RCL\",\"RCUS\",\"REG\",\"REGN\",\"RELX\",\"REXR\",\"RF\",\"RHI\",\"RIO\",\"RJF\",\"RL\",\"RMD\",\"ROK\",\"ROL\",\"ROP\",\"ROST\",\"RSG\",\"SBAC\",\"SCHW\",\"SEE\",\"SHW\",\"SIVB\",\"SLB\",\"SLCA\",\"SMLP\",\"SMTS\",\"SNA\",\"SNPS\",\"SO\",\"SOR\",\"SPG\",\"SPGI\",\"SPH\",\"SPY\",\"SRE\",\"SRL\",\"STE\",\"STG\",\"STL\",\"STT\",\"STZ\",\"SUP\",\"SWK\",\"SWKS\",\"SWZ\",\"SYY\",\"T\",\"TAP\",\"TBC\",\"TDG\",\"TDS\",\"TDY\",\"TECH\",\"TEL\",\"TEN\",\"TER\",\"TFC\",\"TFX\",\"TGB\",\"THC\",\"THO\",\"TJX\",\"TMO\",\"TMQ\",\"TNK\",\"TPR\",\"TPVG\",\"TPX\",\"TRMB\",\"TROW\",\"TRV\",\"TSCO\",\"TSLA\",\"TSN\",\"TT\",\"TTM\",\"TTWO\",\"TVC\",\"TWTR\",\"TX\",\"TXN\",\"TXT\",\"TY\",\"TYL\",\"UA\",\"UAA\",\"UAL\",\"UBP\",\"UBS\",\"UDR\",\"ULTA\",\"UNF\",\"UNH\",\"UNP\",\"UPS\",\"URI\",\"USB\",\"UTL\",\"UZC\",\"V\",\"VCIF\",\"VCV\",\"VFC\",\"VLO\",\"VMC\",\"VMM\",\"VNO\",\"VPV\",\"VRSK\",\"VRSN\",\"VRTX\",\"VTI\",\"VTR\",\"VTRS\",\"VZ\",\"WAB\",\"WAT\",\"WBA\",\"WDC\",\"WEA\",\"WEC\",\"WELL\",\"WFC\",\"WHR\",\"WIT\",\"WM\",\"WMB\",\"WMK\",\"WMT\",\"WRB\",\"WRK\",\"WST\",\"WU\",\"WY\",\"WYNN\",\"XLNX\",\"XOM\",\"XPO\",\"XRAY\",\"XTNT\",\"XYL\",\"YCBD\",\"YEXT\",\"YUM\",\"YUMC\",\"ZBH\",\"ZBRA\",\"ZION\",\"ZNH\",\"ZTR\",\"ZTS\"]\n",
    "random.shuffle(tickers)\n",
    "tickers = tickers[:100]\n",
    "train_start = pd.to_datetime(\"2022-06-01\")\n",
    "test_start = pd.to_datetime('2022-09-01')\n",
    "end_time = datetime.now()\n",
    "predict_window = 288  # = 24 hours"
   ]
  },
  {
   "cell_type": "code",
   "execution_count": 4,
   "id": "b70b5993",
   "metadata": {},
   "outputs": [],
   "source": [
    "from model import Model, SignalExpr, TorchBackend, SklearnBackend\n",
    "from sklearn.preprocessing import StandardScaler\n",
    "from sklearn.ensemble import RandomForestRegressor\n",
    "import torch\n",
    "import torch.nn as nn\n",
    "\n",
    "feature_exprs = [\n",
    "    # RSI\n",
    "    SignalExpr('rsi', {'window': 14, 'base': SignalExpr('candles_5min', {}, select='close')}),\n",
    "    SignalExpr('rsi', {'window': 30, 'base': SignalExpr('candles_5min', {}, select='close')}),\n",
    "    SignalExpr('rsi', {'window': 60, 'base': SignalExpr('candles_5min', {}, select='close')}),\n",
    "    SignalExpr('rsi', {'window': 120, 'base': SignalExpr('candles_5min', {}, select='close')}),\n",
    "    SignalExpr('rsi', {'window': 240, 'base': SignalExpr('candles_5min', {}, select='close')}),\n",
    "    #SignalExpr('rsi', {'window': 480, 'base': SignalExpr('candles_5min', {}, select='close')}),\n",
    "    #SignalExpr('rsi', {'window': 960, 'base': SignalExpr('candles_5min', {}, select='close')}),\n",
    "    #SignalExpr('rsi', {'window': 1920, 'base': SignalExpr('candles_5min', {}, select='close')}),\n",
    "    # KAMA\n",
    "    SignalExpr('kama', {'window': 14, 'base': SignalExpr('candles_5min', {}, select='close')}),\n",
    "    SignalExpr('kama', {'window': 30, 'base': SignalExpr('candles_5min', {}, select='close')}),\n",
    "    SignalExpr('kama', {'window': 60, 'base': SignalExpr('candles_5min', {}, select='close')}),\n",
    "    SignalExpr('kama', {'window': 120, 'base': SignalExpr('candles_5min', {}, select='close')}),\n",
    "    SignalExpr('kama', {'window': 240, 'base': SignalExpr('candles_5min', {}, select='close')}),\n",
    "    SignalExpr('kama', {'window': 480, 'base': SignalExpr('candles_5min', {}, select='close')}),\n",
    "    SignalExpr('kama', {'window': 960, 'base': SignalExpr('candles_5min', {}, select='close')}),\n",
    "    #SignalExpr('kama', {'window': 1920, 'base': SignalExpr('candles_5min', {}, select='close')}),\n",
    "    # MACD\n",
    "    SignalExpr('macd', {'window': 14, 'base': SignalExpr('candles_5min', {}, select='close')}),\n",
    "    SignalExpr('macd', {'window': 30, 'base': SignalExpr('candles_5min', {}, select='close')}),\n",
    "    SignalExpr('macd', {'window': 60, 'base': SignalExpr('candles_5min', {}, select='close')}),\n",
    "    SignalExpr('macd', {'window': 120, 'base': SignalExpr('candles_5min', {}, select='close')}),\n",
    "    SignalExpr('macd', {'window': 240, 'base': SignalExpr('candles_5min', {}, select='close')}),\n",
    "    SignalExpr('macd', {'window': 480, 'base': SignalExpr('candles_5min', {}, select='close')}),\n",
    "    SignalExpr('macd', {'window': 960, 'base': SignalExpr('candles_5min', {}, select='close')}),\n",
    "    #SignalExpr('macd', {'window': 1920, 'base': SignalExpr('candles_5min', {}, select='close')}),\n",
    "    # % Change\n",
    "    SignalExpr('percent_change', {'window': -14, 'base': SignalExpr('candles_5min', {}, select='close')}),\n",
    "    SignalExpr('percent_change', {'window': -30, 'base': SignalExpr('candles_5min', {}, select='close')}),\n",
    "    SignalExpr('percent_change', {'window': -60, 'base': SignalExpr('candles_5min', {}, select='close')}),\n",
    "    SignalExpr('percent_change', {'window': -120, 'base': SignalExpr('candles_5min', {}, select='close')}),\n",
    "    SignalExpr('percent_change', {'window': -240, 'base': SignalExpr('candles_5min', {}, select='close')}),\n",
    "    SignalExpr('percent_change', {'window': -480, 'base': SignalExpr('candles_5min', {}, select='close')}),\n",
    "    SignalExpr('percent_change', {'window': -960, 'base': SignalExpr('candles_5min', {}, select='close')}),\n",
    "    #SignalExpr('percent_change', {'window': -1920, 'base': SignalExpr('candles_5min', {}, select='close')}),\n",
    "]\n",
    "\n",
    "label_exprs = [\n",
    "    SignalExpr('percent_change', {'window': predict_window, 'base': SignalExpr('candles_5min', {}, select='close')})\n",
    "]\n",
    "\n",
    "\"\"\"\n",
    "n_outputs = 1\n",
    "\n",
    "net = nn.Sequential(\n",
    "    nn.LazyLinear(256),\n",
    "    nn.ReLU(),\n",
    "    nn.Linear(256, 128),\n",
    "    nn.ReLU(),\n",
    "    nn.Linear(128, 32),\n",
    "    nn.ReLU(),\n",
    "    nn.Linear(32, 16),\n",
    "    nn.ReLU(),\n",
    "    nn.Linear(16, 8),\n",
    "    nn.ReLU(),\n",
    "    nn.Linear(8, n_outputs),\n",
    ")\n",
    "\n",
    "model = Model(\n",
    "    'TorchTI-SignalExpr-1', 'Test',\n",
    "    TorchBackend(net, '''\n",
    "        import torch.nn as nn\n",
    "        net = nn.Sequential(\n",
    "            nn.LazyLinear(256),\n",
    "            nn.ReLU(),\n",
    "            nn.Linear(256, 128),\n",
    "            nn.ReLU(),\n",
    "            nn.Linear(128, 32),\n",
    "            nn.ReLU(),\n",
    "            nn.Linear(32, 16),\n",
    "            nn.ReLU(),\n",
    "            nn.Linear(16, 8),\n",
    "            nn.ReLU(),\n",
    "            nn.Linear(8, n_outputs),\n",
    "        )\n",
    "    '''),\n",
    "    feature_exprs, label_exprs,\n",
    "    StandardScaler(), StandardScaler()\n",
    ")\n",
    "\"\"\"\n",
    "\n",
    "model = Model(\n",
    "    'TIRF-test', 'TIRF Test',\n",
    "    SklearnBackend(RandomForestRegressor(warm_start=True)),\n",
    "    feature_exprs, label_exprs,\n",
    "    StandardScaler(), StandardScaler()\n",
    ")"
   ]
  },
  {
   "cell_type": "code",
   "execution_count": null,
   "id": "6c4a356b",
   "metadata": {},
   "outputs": [],
   "source": [
    "from signal_library import FetchOptions\n",
    "from model import TrainOptions\n",
    "\n",
    "model.train(FetchOptions(tickers, (train_start, test_start)), TrainOptions(epochs=1))"
   ]
  },
  {
   "cell_type": "code",
   "execution_count": null,
   "id": "cfe2fa37",
   "metadata": {},
   "outputs": [],
   "source": [
    "model.eval(FetchOptions(tickers, (pd.to_datetime('2022-06-06'), datetime.now())))"
   ]
  },
  {
   "cell_type": "code",
   "execution_count": null,
   "id": "a67d19b8",
   "metadata": {},
   "outputs": [],
   "source": [
    "importances = model.backend.model.feature_importances_\n",
    "for name, imp in sorted(zip(list(model.features), importances), key=lambda x: x[1]):\n",
    "    print(name.qualified_id(), '=', imp)"
   ]
  },
  {
   "cell_type": "code",
   "execution_count": null,
   "id": "137b1b1c",
   "metadata": {},
   "outputs": [],
   "source": [
    "from strategy import ModelStrategy\n",
    "\n",
    "strategy = ModelStrategy(model, 0.4, 0., share_count=lambda x: x*100)"
   ]
  },
  {
   "cell_type": "code",
   "execution_count": null,
   "id": "f3ba4527",
   "metadata": {},
   "outputs": [],
   "source": [
    "import backtest as bt\n",
    "from importlib import reload\n",
    "reload(bt)\n",
    "\n",
    "random.shuffle(tickers)\n",
    "bt.comprehensive_backtest(strategy, tickers[:5], (test_start, datetime.now()), processes=1)"
   ]
  },
  {
   "cell_type": "code",
   "execution_count": null,
   "id": "89689998",
   "metadata": {},
   "outputs": [],
   "source": []
  }
 ],
 "metadata": {
  "kernelspec": {
   "display_name": "Python 3 (ipykernel)",
   "language": "python",
   "name": "python3"
  },
  "language_info": {
   "codemirror_mode": {
    "name": "ipython",
    "version": 3
   },
   "file_extension": ".py",
   "mimetype": "text/x-python",
   "name": "python",
   "nbconvert_exporter": "python",
   "pygments_lexer": "ipython3",
   "version": "3.10.7"
  }
 },
 "nbformat": 4,
 "nbformat_minor": 5
}
