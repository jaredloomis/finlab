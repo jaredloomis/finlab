{
 "cells": [
  {
   "cell_type": "markdown",
   "id": "55086b0d",
   "metadata": {},
   "source": [
    "# Pricing Model\n",
    "\n",
    "In this notebook, we will try to create a model which is able to predict the price of a house, given a set of features (beds, bath, sqftage)."
   ]
  },
  {
   "cell_type": "code",
   "execution_count": 1,
   "id": "c0c03956",
   "metadata": {},
   "outputs": [],
   "source": [
    "import numpy as np\n",
    "import pandas as pd"
   ]
  },
  {
   "cell_type": "markdown",
   "id": "8911feb5",
   "metadata": {},
   "source": [
    "## Pulling the data from PostgreSQL"
   ]
  },
  {
   "cell_type": "code",
   "execution_count": 263,
   "id": "3a2d249b",
   "metadata": {},
   "outputs": [
    {
     "name": "stdout",
     "output_type": "stream",
     "text": [
      "Opened database successfully\n"
     ]
    },
    {
     "data": {
      "text/html": [
       "<div>\n",
       "<style scoped>\n",
       "    .dataframe tbody tr th:only-of-type {\n",
       "        vertical-align: middle;\n",
       "    }\n",
       "\n",
       "    .dataframe tbody tr th {\n",
       "        vertical-align: top;\n",
       "    }\n",
       "\n",
       "    .dataframe thead th {\n",
       "        text-align: right;\n",
       "    }\n",
       "</style>\n",
       "<table border=\"1\" class=\"dataframe\">\n",
       "  <thead>\n",
       "    <tr style=\"text-align: right;\">\n",
       "      <th></th>\n",
       "      <th>id</th>\n",
       "      <th>price</th>\n",
       "      <th>beds</th>\n",
       "      <th>baths</th>\n",
       "      <th>squarefootage</th>\n",
       "      <th>listeddate</th>\n",
       "      <th>url</th>\n",
       "      <th>address</th>\n",
       "      <th>images</th>\n",
       "      <th>propertytype</th>\n",
       "      <th>attrs</th>\n",
       "    </tr>\n",
       "  </thead>\n",
       "  <tbody>\n",
       "    <tr>\n",
       "      <th>0</th>\n",
       "      <td>1</td>\n",
       "      <td>45000000</td>\n",
       "      <td>2.0</td>\n",
       "      <td>2.0</td>\n",
       "      <td>1344.0</td>\n",
       "      <td>2022-06-10</td>\n",
       "      <td>https://www.zillow.com/homedetails/4375-Cascad...</td>\n",
       "      <td>4375 Cascade Way, Heritage Ranch, CA 93446</td>\n",
       "      <td>[]</td>\n",
       "      <td>MANUFACTURED</td>\n",
       "      <td>{}</td>\n",
       "    </tr>\n",
       "    <tr>\n",
       "      <th>1</th>\n",
       "      <td>2</td>\n",
       "      <td>63000000</td>\n",
       "      <td>3.0</td>\n",
       "      <td>2.0</td>\n",
       "      <td>1265.0</td>\n",
       "      <td>2022-06-09</td>\n",
       "      <td>https://www.zillow.com/homedetails/4545-Yerba-...</td>\n",
       "      <td>4545 Yerba Ave, Atascadero, CA 93422</td>\n",
       "      <td>[]</td>\n",
       "      <td>LAND</td>\n",
       "      <td>{}</td>\n",
       "    </tr>\n",
       "    <tr>\n",
       "      <th>2</th>\n",
       "      <td>3</td>\n",
       "      <td>270000000</td>\n",
       "      <td>5.0</td>\n",
       "      <td>4.0</td>\n",
       "      <td>3138.0</td>\n",
       "      <td>2022-06-10</td>\n",
       "      <td>https://www.zillow.com/homedetails/4015-Almond...</td>\n",
       "      <td>4015 Almond Dr, Templeton, CA 93465</td>\n",
       "      <td>[]</td>\n",
       "      <td>LAND</td>\n",
       "      <td>{}</td>\n",
       "    </tr>\n",
       "    <tr>\n",
       "      <th>3</th>\n",
       "      <td>4</td>\n",
       "      <td>75900000</td>\n",
       "      <td>3.0</td>\n",
       "      <td>2.0</td>\n",
       "      <td>958.0</td>\n",
       "      <td>2022-04-27</td>\n",
       "      <td>https://www.zillow.com/homedetails/1925-Sandow...</td>\n",
       "      <td>1925 Sandown Pl, Cambria, CA 93428</td>\n",
       "      <td>[]</td>\n",
       "      <td>LAND</td>\n",
       "      <td>{}</td>\n",
       "    </tr>\n",
       "    <tr>\n",
       "      <th>4</th>\n",
       "      <td>5</td>\n",
       "      <td>130000000</td>\n",
       "      <td>4.0</td>\n",
       "      <td>3.0</td>\n",
       "      <td>2631.0</td>\n",
       "      <td>2022-06-10</td>\n",
       "      <td>https://www.zillow.com/homedetails/545-Maple-S...</td>\n",
       "      <td>545 Maple St, Paso Robles, CA 93446</td>\n",
       "      <td>[]</td>\n",
       "      <td>LAND</td>\n",
       "      <td>{}</td>\n",
       "    </tr>\n",
       "    <tr>\n",
       "      <th>...</th>\n",
       "      <td>...</td>\n",
       "      <td>...</td>\n",
       "      <td>...</td>\n",
       "      <td>...</td>\n",
       "      <td>...</td>\n",
       "      <td>...</td>\n",
       "      <td>...</td>\n",
       "      <td>...</td>\n",
       "      <td>...</td>\n",
       "      <td>...</td>\n",
       "      <td>...</td>\n",
       "    </tr>\n",
       "    <tr>\n",
       "      <th>3222</th>\n",
       "      <td>3223</td>\n",
       "      <td>36000000</td>\n",
       "      <td>1.0</td>\n",
       "      <td>1.0</td>\n",
       "      <td>728.0</td>\n",
       "      <td>2022-03-21</td>\n",
       "      <td>https://www.zillow.com/homedetails/49-Ice-Hous...</td>\n",
       "      <td>49 Ice House Cyn, Mt Baldy, CA 91759</td>\n",
       "      <td>[]</td>\n",
       "      <td>LAND</td>\n",
       "      <td>{facts=Facts and features\\nSingle family resid...</td>\n",
       "    </tr>\n",
       "    <tr>\n",
       "      <th>3223</th>\n",
       "      <td>3224</td>\n",
       "      <td>48000000</td>\n",
       "      <td>3.0</td>\n",
       "      <td>2.0</td>\n",
       "      <td>1900.0</td>\n",
       "      <td>2022-06-04</td>\n",
       "      <td>https://www.zillow.com/homedetails/1686-Blackb...</td>\n",
       "      <td>1686 Blackbird Rd, Wrightwood, CA 92397</td>\n",
       "      <td>[]</td>\n",
       "      <td>HOUSE</td>\n",
       "      <td>{facts=Facts and features\\nSingle family resid...</td>\n",
       "    </tr>\n",
       "    <tr>\n",
       "      <th>3224</th>\n",
       "      <td>3225</td>\n",
       "      <td>53900000</td>\n",
       "      <td>3.0</td>\n",
       "      <td>2.0</td>\n",
       "      <td>2160.0</td>\n",
       "      <td>2022-05-13</td>\n",
       "      <td>https://www.zillow.com/homedetails/5230-Lone-P...</td>\n",
       "      <td>5230 Lone Pine Canyon Rd, Wrightwood, CA 92397</td>\n",
       "      <td>[]</td>\n",
       "      <td>HOUSE</td>\n",
       "      <td>{facts=Facts and features\\nSingle family resid...</td>\n",
       "    </tr>\n",
       "    <tr>\n",
       "      <th>3225</th>\n",
       "      <td>3226</td>\n",
       "      <td>52000000</td>\n",
       "      <td>3.0</td>\n",
       "      <td>3.0</td>\n",
       "      <td>1816.0</td>\n",
       "      <td>2022-02-02</td>\n",
       "      <td>https://www.zillow.com/homedetails/1793-Sparro...</td>\n",
       "      <td>1793 Sparrow Rd, Wrightwood, CA 92397</td>\n",
       "      <td>[]</td>\n",
       "      <td>HOUSE</td>\n",
       "      <td>{facts=Facts and features\\nSingle family resid...</td>\n",
       "    </tr>\n",
       "    <tr>\n",
       "      <th>3226</th>\n",
       "      <td>3227</td>\n",
       "      <td>54000000</td>\n",
       "      <td>4.0</td>\n",
       "      <td>2.0</td>\n",
       "      <td>2000.0</td>\n",
       "      <td>2022-06-03</td>\n",
       "      <td>https://www.zillow.com/homedetails/5409-Zurich...</td>\n",
       "      <td>5409 Zurich Dr, Wrightwood, CA 92397</td>\n",
       "      <td>[]</td>\n",
       "      <td>HOUSE</td>\n",
       "      <td>{facts=Facts and features\\nSingle family resid...</td>\n",
       "    </tr>\n",
       "  </tbody>\n",
       "</table>\n",
       "<p>3227 rows × 11 columns</p>\n",
       "</div>"
      ],
      "text/plain": [
       "        id      price  beds  baths  squarefootage  listeddate  \\\n",
       "0        1   45000000   2.0    2.0         1344.0  2022-06-10   \n",
       "1        2   63000000   3.0    2.0         1265.0  2022-06-09   \n",
       "2        3  270000000   5.0    4.0         3138.0  2022-06-10   \n",
       "3        4   75900000   3.0    2.0          958.0  2022-04-27   \n",
       "4        5  130000000   4.0    3.0         2631.0  2022-06-10   \n",
       "...    ...        ...   ...    ...            ...         ...   \n",
       "3222  3223   36000000   1.0    1.0          728.0  2022-03-21   \n",
       "3223  3224   48000000   3.0    2.0         1900.0  2022-06-04   \n",
       "3224  3225   53900000   3.0    2.0         2160.0  2022-05-13   \n",
       "3225  3226   52000000   3.0    3.0         1816.0  2022-02-02   \n",
       "3226  3227   54000000   4.0    2.0         2000.0  2022-06-03   \n",
       "\n",
       "                                                    url  \\\n",
       "0     https://www.zillow.com/homedetails/4375-Cascad...   \n",
       "1     https://www.zillow.com/homedetails/4545-Yerba-...   \n",
       "2     https://www.zillow.com/homedetails/4015-Almond...   \n",
       "3     https://www.zillow.com/homedetails/1925-Sandow...   \n",
       "4     https://www.zillow.com/homedetails/545-Maple-S...   \n",
       "...                                                 ...   \n",
       "3222  https://www.zillow.com/homedetails/49-Ice-Hous...   \n",
       "3223  https://www.zillow.com/homedetails/1686-Blackb...   \n",
       "3224  https://www.zillow.com/homedetails/5230-Lone-P...   \n",
       "3225  https://www.zillow.com/homedetails/1793-Sparro...   \n",
       "3226  https://www.zillow.com/homedetails/5409-Zurich...   \n",
       "\n",
       "                                             address images  propertytype  \\\n",
       "0         4375 Cascade Way, Heritage Ranch, CA 93446     []  MANUFACTURED   \n",
       "1               4545 Yerba Ave, Atascadero, CA 93422     []          LAND   \n",
       "2                4015 Almond Dr, Templeton, CA 93465     []          LAND   \n",
       "3                 1925 Sandown Pl, Cambria, CA 93428     []          LAND   \n",
       "4                545 Maple St, Paso Robles, CA 93446     []          LAND   \n",
       "...                                              ...    ...           ...   \n",
       "3222            49 Ice House Cyn, Mt Baldy, CA 91759     []          LAND   \n",
       "3223         1686 Blackbird Rd, Wrightwood, CA 92397     []         HOUSE   \n",
       "3224  5230 Lone Pine Canyon Rd, Wrightwood, CA 92397     []         HOUSE   \n",
       "3225           1793 Sparrow Rd, Wrightwood, CA 92397     []         HOUSE   \n",
       "3226            5409 Zurich Dr, Wrightwood, CA 92397     []         HOUSE   \n",
       "\n",
       "                                                  attrs  \n",
       "0                                                    {}  \n",
       "1                                                    {}  \n",
       "2                                                    {}  \n",
       "3                                                    {}  \n",
       "4                                                    {}  \n",
       "...                                                 ...  \n",
       "3222  {facts=Facts and features\\nSingle family resid...  \n",
       "3223  {facts=Facts and features\\nSingle family resid...  \n",
       "3224  {facts=Facts and features\\nSingle family resid...  \n",
       "3225  {facts=Facts and features\\nSingle family resid...  \n",
       "3226  {facts=Facts and features\\nSingle family resid...  \n",
       "\n",
       "[3227 rows x 11 columns]"
      ]
     },
     "execution_count": 263,
     "metadata": {},
     "output_type": "execute_result"
    }
   ],
   "source": [
    "import psycopg2\n",
    "\n",
    "conn = psycopg2.connect(database = \"market_analysis\", user = \"postgres\", password = \"\", host = \"127.0.0.1\", port = \"5432\")\n",
    "print(\"Opened database successfully\")\n",
    "\n",
    "cur = conn.cursor()\n",
    "\n",
    "cur.execute(\"SELECT column_name FROM information_schema.columns WHERE table_name = 'real_estate_listings'\")\n",
    "columns = list(map(lambda x: x[0], cur.fetchall()))\n",
    "columns_str = ', '.join(columns)\n",
    "cur.execute(f\"SELECT {columns_str} from real_estate_listings\")\n",
    "size_limit = 20000\n",
    "listings = pd.DataFrame(cur.fetchmany(size_limit), columns=columns)\n",
    "\n",
    "conn.close()\n",
    "listings"
   ]
  },
  {
   "cell_type": "markdown",
   "id": "e06c1176",
   "metadata": {},
   "source": [
    "## Data Exploration & Cleaning"
   ]
  },
  {
   "cell_type": "code",
   "execution_count": 264,
   "id": "7196a5db",
   "metadata": {},
   "outputs": [
    {
     "name": "stdout",
     "output_type": "stream",
     "text": [
      "1214 samples\n"
     ]
    },
    {
     "data": {
      "image/png": "[encoded data removed]",
      "text/plain": [
       "<Figure size 432x288 with 1 Axes>"
      ]
     },
     "metadata": {
      "needs_background": "light"
     },
     "output_type": "display_data"
    },
    {
     "data": {
      "image/png": "[encoded data removed]",
      "text/plain": [
       "<Figure size 432x288 with 1 Axes>"
      ]
     },
     "metadata": {
      "needs_background": "light"
     },
     "output_type": "display_data"
    },
    {
     "data": {
      "image/png": "[encoded data removed]",
      "text/plain": [
       "<Figure size 432x288 with 1 Axes>"
      ]
     },
     "metadata": {
      "needs_background": "light"
     },
     "output_type": "display_data"
    }
   ],
   "source": [
    "%matplotlib inline\n",
    "import matplotlib.pyplot as plt\n",
    "import scipy.stats as stats\n",
    "from sklearn.preprocessing import MinMaxScaler\n",
    "from sklearn.model_selection import train_test_split\n",
    " \n",
    "# Transform data into format for sklearn\n",
    "features = [\"beds\", \"baths\", \"squarefootage\"]\n",
    "pred = \"price\"\n",
    "houses = listings[listings[\"propertytype\"] == \"HOUSE\"][features + [\"url\", pred]].dropna()\n",
    "\n",
    "X = np.array(houses[features], dtype=np.float64)\n",
    "y = np.array(houses[pred], dtype=np.float64) / 100\n",
    "\n",
    "# Remove outliers\n",
    "X_outliers_mask = (np.abs(stats.zscore(X)) < 3).all(axis=1)\n",
    "y_outliers_mask = (np.abs(stats.zscore(y)) < 3)\n",
    "outliers_mask = X_outliers_mask & y_outliers_mask\n",
    "X = X[outliers_mask]\n",
    "y = y[outliers_mask]\n",
    "\n",
    "print(f'{len(X)} samples')\n",
    "\n",
    "# Plot the data\n",
    "plt.xlabel(\"sqft\")\n",
    "plt.ylabel(\"price\")\n",
    "plt.scatter(X[:, 2], y)\n",
    "plt.show()\n",
    "\n",
    "plt.xlabel(\"beds\")\n",
    "plt.ylabel(\"price\")\n",
    "plt.scatter(X[:, 0], y)\n",
    "plt.show()\n",
    "\n",
    "plt.xlabel(\"baths\")\n",
    "plt.ylabel(\"price\")\n",
    "plt.scatter(X[:, 1], y)\n",
    "plt.show()\n",
    "\n",
    "def clean_data(data):\n",
    "    X = np.array(data[features], dtype=np.float64)\n",
    "    y = np.array(data[pred], dtype=np.float64) / 100\n",
    "\n",
    "    # Remove outliers\n",
    "    X_outliers_mask = (np.abs(stats.zscore(X)) < 3).all(axis=1)\n",
    "    y_outliers_mask = (np.abs(stats.zscore(y)) < 3)\n",
    "    outliers_mask = X_outliers_mask & y_outliers_mask\n",
    "    X = X[outliers_mask]\n",
    "    y = y[outliers_mask]\n",
    "\n",
    "    # Normalize features to 0..1\n",
    "    X_scaler = MinMaxScaler()\n",
    "    X = X_scaler.fit_transform(X)\n",
    "    y_scaler = MinMaxScaler()\n",
    "    y = y_scaler.fit_transform(y.reshape(-1, 1))[:, 0]\n",
    "\n",
    "    # Split into train, test\n",
    "    return train_test_split(X, y, test_size=0.33)\n",
    "\n",
    "X_train, X_test, y_train, y_test = clean_data(houses)"
   ]
  },
  {
   "cell_type": "markdown",
   "id": "0115db92",
   "metadata": {},
   "source": [
    "## Attemping prediction using sklearn models"
   ]
  },
  {
   "cell_type": "code",
   "execution_count": 269,
   "id": "d3aab11f",
   "metadata": {},
   "outputs": [
    {
     "name": "stdout",
     "output_type": "stream",
     "text": [
      "MSE Loss: 0.012948480326845117\n",
      "mean --- y_test: 0.13335406717686216, y_predicted: 0.1517241638901264\n",
      "Std dev --- y_test: 0.1288906219905649, y_predicted: 0.04520375326473124\n",
      "[820360.71830643 912287.45335154]\n"
     ]
    },
    {
     "data": {
      "image/png": "[encoded data removed]",
      "text/plain": [
       "<Figure size 432x288 with 1 Axes>"
      ]
     },
     "metadata": {
      "needs_background": "light"
     },
     "output_type": "display_data"
    }
   ],
   "source": [
    "from sklearn import svm\n",
    "\n",
    "# Create support vector machine regression model, train, predict.\n",
    "clf = svm.SVR(kernel='rbf', gamma=1)\n",
    "clf.fit(X_train, y_train)\n",
    "y_predicted = clf.predict(X_test).astype(np.float64)\n",
    "\n",
    "# Compute loss\n",
    "mse_loss = np.mean(np.square(y_predicted - y_test))\n",
    "print(f\"MSE Loss: {mse_loss}\")\n",
    "# Compute mean\n",
    "print(f'mean --- y_test: {np.mean(y_test)}, y_predicted: {np.mean(y_predicted)}')\n",
    "# Compute std dev\n",
    "print(f'Std dev --- y_test: {np.std(y_test)}, y_predicted: {np.std(y_predicted)}')\n",
    "\n",
    "# Test with some made up data\n",
    "print(y_scaler.inverse_transform(clf.predict(X_scaler.transform([[2, 2, 1000], [3, 2, 2000]])).reshape((-1, 1)))[:, 0])\n",
    "\n",
    "plt.scatter(X_test[:, 2], y_test, label=\"Actual\")\n",
    "plt.scatter(X_test[:, 2], y_predicted, label=\"Predicted\")\n",
    "plt.xlabel(\"square footage\")\n",
    "plt.ylabel(\"price\")\n",
    "plt.legend()\n",
    "plt.show()"
   ]
  },
  {
   "cell_type": "markdown",
   "id": "448e2aa8",
   "metadata": {},
   "source": [
    "SVR model is yielding a densely clustered set of results, as indicated by its stddev and mean. The values seem reasonable."
   ]
  },
  {
   "cell_type": "code",
   "execution_count": 270,
   "id": "98f66145",
   "metadata": {},
   "outputs": [
    {
     "name": "stdout",
     "output_type": "stream",
     "text": [
      "MSE Loss: 0.01226483189255812\n",
      "mean --- y_test: 0.13335406717686216, y_predicted: 0.13104389165759117\n",
      "Std dev -- y_test: 0.1288906219905649, y_predicted: 0.05670416929793003\n",
      "[603951.63018169 875501.18392361]\n"
     ]
    },
    {
     "data": {
      "image/png": "[encoded data removed]",
      "text/plain": [
       "<Figure size 432x288 with 1 Axes>"
      ]
     },
     "metadata": {
      "needs_background": "light"
     },
     "output_type": "display_data"
    }
   ],
   "source": [
    "from sklearn.linear_model import SGDRegressor\n",
    "\n",
    "# Create stochastic gradient descent model, train, predict.\n",
    "sgd = SGDRegressor(max_iter=1000000, tol=1e-8, alpha=0.0001)\n",
    "sgd.fit(X_train, y_train)\n",
    "y_predicted = sgd.predict(X_test).astype(np.float64)\n",
    "\n",
    "# Compute loss\n",
    "mse_loss = np.mean(np.square(y_predicted - y_test))\n",
    "print(f\"MSE Loss: {mse_loss}\")\n",
    "# Compute mean\n",
    "print(f'mean --- y_test: {np.mean(y_test)}, y_predicted: {np.mean(y_predicted)}')\n",
    "# Compute std dev\n",
    "print(f'Std dev -- y_test: {np.std(y_test)}, y_predicted: {np.std(y_predicted)}')\n",
    "\n",
    "# Test with some made up data\n",
    "print(y_scaler.inverse_transform(sgd.predict(X_scaler.transform([[2, 2, 1000], [3, 2, 2000]])).reshape((-1, 1)))[:, 0])\n",
    "\n",
    "plt.scatter(X_test[:, 2], y_test, label=\"Actual\")\n",
    "plt.scatter(X_test[:, 2], y_predicted, label=\"Predicted\")\n",
    "plt.xlabel(\"square footage\")\n",
    "plt.ylabel(\"price\")\n",
    "plt.legend()\n",
    "plt.show()"
   ]
  },
  {
   "cell_type": "code",
   "execution_count": 271,
   "id": "6f196490",
   "metadata": {},
   "outputs": [
    {
     "name": "stdout",
     "output_type": "stream",
     "text": [
      "MSE Loss: 0.018010020141476287\n",
      "mean --- y_test: 0.13335406717686216, y_predicted: 0.12279899140194946\n",
      "Std dev -- y_test: 0.1288906219905649, y_predicted: 0.11005965968649596\n",
      "[407692.30769231 349038.46153846]\n"
     ]
    },
    {
     "data": {
      "image/png": "[encoded data removed]",
      "text/plain": [
       "<Figure size 432x288 with 1 Axes>"
      ]
     },
     "metadata": {
      "needs_background": "light"
     },
     "output_type": "display_data"
    }
   ],
   "source": [
    "from sklearn.tree import DecisionTreeRegressor\n",
    "\n",
    "# Create stochastic gradient descent model, train, predict.\n",
    "dtr = DecisionTreeRegressor()\n",
    "dtr.fit(X_train, y_train)\n",
    "y_predicted = dtr.predict(X_test).astype(np.float64)\n",
    "\n",
    "# Compute loss\n",
    "mse_loss = np.mean(np.square(y_predicted - y_test))\n",
    "print(f\"MSE Loss: {mse_loss}\")\n",
    "# Compute mean\n",
    "print(f'mean --- y_test: {np.mean(y_test)}, y_predicted: {np.mean(y_predicted)}')\n",
    "# Compute std dev\n",
    "print(f'Std dev -- y_test: {np.std(y_test)}, y_predicted: {np.std(y_predicted)}')\n",
    "\n",
    "# Test with some made up data\n",
    "print(y_scaler.inverse_transform(dtr.predict(X_scaler.transform([[2, 2, 1000], [3, 2, 2000]])).reshape((-1, 1)))[:, 0])\n",
    "\n",
    "plt.scatter(X_test[:, 2], y_test, label=\"Actual\")\n",
    "plt.scatter(X_test[:, 2], y_predicted, label=\"Predicted\")\n",
    "plt.xlabel(\"square footage\")\n",
    "plt.ylabel(\"price\")\n",
    "plt.legend()\n",
    "plt.show()"
   ]
  },
  {
   "cell_type": "code",
   "execution_count": 272,
   "id": "5495e15d",
   "metadata": {},
   "outputs": [
    {
     "name": "stdout",
     "output_type": "stream",
     "text": [
      "MSE Loss: 0.012166880794342947\n",
      "mean --- y_test: 0.13335406717686216, y_predicted: 0.13494335439517371\n",
      "Std dev -- y_test: 0.1288906219905649, y_predicted: 0.0619013435473975\n",
      "[607081.9253036  713838.20948164]\n"
     ]
    },
    {
     "data": {
      "image/png": "[encoded data removed]",
      "text/plain": [
       "<Figure size 432x288 with 1 Axes>"
      ]
     },
     "metadata": {
      "needs_background": "light"
     },
     "output_type": "display_data"
    }
   ],
   "source": [
    "from sklearn.ensemble import VotingRegressor\n",
    "\n",
    "# Create stochastic gradient descent model, train, predict.\n",
    "vote = VotingRegressor(estimators=[('dt', dtr), ('sgd', sgd), ('svm', clf)])\n",
    "vote.fit(X_train, y_train)\n",
    "y_predicted = vote.predict(X_test).astype(np.float64)\n",
    "\n",
    "# Compute loss\n",
    "mse_loss = np.mean(np.square(y_predicted - y_test))\n",
    "print(f\"MSE Loss: {mse_loss}\")\n",
    "# Compute mean\n",
    "print(f'mean --- y_test: {np.mean(y_test)}, y_predicted: {np.mean(y_predicted)}')\n",
    "# Compute std dev\n",
    "print(f'Std dev -- y_test: {np.std(y_test)}, y_predicted: {np.std(y_predicted)}')\n",
    "\n",
    "# Test with some made up data\n",
    "print(y_scaler.inverse_transform(vote.predict(X_scaler.transform([[2, 2, 1000], [3, 2, 2000]])).reshape((-1, 1)))[:, 0])\n",
    "\n",
    "plt.scatter(X_test[:, 2], y_test, label=\"Actual\")\n",
    "plt.scatter(X_test[:, 2], y_predicted, label=\"Predicted\")\n",
    "plt.xlabel(\"square footage\")\n",
    "plt.ylabel(\"price\")\n",
    "plt.legend()\n",
    "plt.show()"
   ]
  },
  {
   "cell_type": "markdown",
   "id": "8d6c98b8",
   "metadata": {},
   "source": [
    "### Results\n",
    "\n",
    "Price predictions using stochastic gradient descent, decision trees, and SVM have comparable accuracy. Results are reasonably accurate in most cases, though more features are needed to account for regional differences in price. Using a final voting regressor to average results slightly reduced total loss. Along with a regional ranking value (or average price for the region, some sort of baseline), results could be useful enough to aid decision making."
   ]
  },
  {
   "cell_type": "markdown",
   "id": "7df62947",
   "metadata": {},
   "source": [
    "## PyTorch Model"
   ]
  },
  {
   "cell_type": "code",
   "execution_count": 151,
   "id": "a3a611cd",
   "metadata": {},
   "outputs": [
    {
     "name": "stdout",
     "output_type": "stream",
     "text": [
      "tensor(0.0910)\n"
     ]
    }
   ],
   "source": [
    "import torch\n",
    "from torch import Tensor\n",
    "from torch.autograd import Variable\n",
    "\n",
    "class SimpleNet(torch.nn.Module):\n",
    "   def __init__(self, n_features, n_outputs):\n",
    "       super(SimpleNet, self).__init__()\n",
    "       self.layer = torch.nn.Linear(n_features, n_outputs)\n",
    "\n",
    "   def forward(self, x):\n",
    "       x = self.layer(x)      \n",
    "       return x\n",
    "\n",
    "# Initialize, set up loss & optimizer\n",
    "net = SimpleNet(len(features), 1)\n",
    "loss_func = torch.nn.MSELoss()\n",
    "optimizer = torch.optim.SGD(net.parameters(), lr = 1e-8, momentum=0.9)\n",
    "\n",
    "# Train\n",
    "inputs = Variable(torch.from_numpy(X_train.astype(np.float32)))\n",
    "outputs = Variable(torch.from_numpy(y_train.astype(np.float32)))\n",
    "for i in range(10000):\n",
    "    prediction = net(inputs)\n",
    "    loss = loss_func(prediction, outputs)\n",
    "    optimizer.zero_grad()\n",
    "    loss.backward()\n",
    "    optimizer.step()\n",
    "    \n",
    "# Test\n",
    "with torch.no_grad():\n",
    "    out = net(torch.from_numpy(X_test.astype(np.float32)))\n",
    "    loss = loss_func(out, torch.from_numpy(y_test.astype(np.float32)))\n",
    "    print(loss)\n",
    "\n",
    "plt.show()"
   ]
  },
  {
   "cell_type": "markdown",
   "id": "fa87b67d",
   "metadata": {},
   "source": [
    "### Result\n",
    "\n",
    "Not great - this function is simply too linear and has too few features to warrant a network, even this simple network."
   ]
  },
  {
   "cell_type": "code",
   "execution_count": null,
   "id": "fe9efd7e",
   "metadata": {},
   "outputs": [],
   "source": []
  }
 ],
 "metadata": {
  "kernelspec": {
   "display_name": "Python 3 (ipykernel)",
   "language": "python",
   "name": "python3"
  },
  "language_info": {
   "codemirror_mode": {
    "name": "ipython",
    "version": 3
   },
   "file_extension": ".py",
   "mimetype": "text/x-python",
   "name": "python",
   "nbconvert_exporter": "python",
   "pygments_lexer": "ipython3",
   "version": "3.10.4"
  }
 },
 "nbformat": 4,
 "nbformat_minor": 5
}
