{
 "cells": [
  {
   "cell_type": "code",
   "execution_count": null,
   "id": "66e40797",
   "metadata": {},
   "outputs": [],
   "source": [
    "# Add local file path, auto reload\n",
    "%load_ext autoreload\n",
    "%autoreload 2\n",
    "import sys\n",
    "if 'src' not in sys.path:\n",
    "    sys.path.insert(0, 'src')\n",
    "\n",
    "import numpy as np\n",
    "import pandas as pd\n",
    "import xgboost as xg\n",
    "\n",
    "from sklearn.model_selection import train_test_split\n",
    "\n",
    "from technical_signals import TechnicalSignals, percent_change\n",
    "import datastore as ds\n",
    "\n",
    "spy_constituents = pd.read_csv('../../data/spy_constituents.csv', header=0)\n",
    "\n",
    "def create_dmatrix(X, y):\n",
    "    return xgb.DMatrix(data=X,label=y)\n",
    "    \n",
    "# TODO multiprocessing - https://docs.python.org/3/library/multiprocessing.html\n",
    "predictions = {}\n",
    "for ticker in spy_constituents['Symbol']:\n",
    "    #try:\n",
    "        \"\"\" TODO tune XGBoost\n",
    "        import xgboost as xgb\n",
    "        # read in data\n",
    "        dtrain = xgb.DMatrix('demo/data/agaricus.txt.train')\n",
    "        dtest = xgb.DMatrix('demo/data/agaricus.txt.test')\n",
    "        # specify parameters via map\n",
    "        param = {'max_depth':2, 'eta':1, 'objective':'binary:logistic' }\n",
    "        num_round = 2\n",
    "        bst = xgb.train(param, dtrain, num_round)\n",
    "        # make prediction\n",
    "        preds = bst.predict(dtest)\n",
    "        \"\"\"\n",
    "        xg_reg = xgb.XGBRegressor(objective ='reg:linear', colsample_bytree = 0.3, learning_rate = 0.1,\n",
    "                max_depth = 5, alpha = 10, n_estimators = 10)\n",
    "        print('Ticker:', ticker)\n",
    "        # Download data\n",
    "        #ds.download_daily_candlesticks([ticker], \"2000-01-01\", \"2023-05-07\")\n",
    "        # Load data\n",
    "        data = ds.get_daily_candlesticks([ticker], \"2000-01-01\", \"2023-06-06\")[ticker]\n",
    "        #print(data)\n",
    "        strategy = technical_indicators_model_strategy(model, transform_Xy=)\n",
    "        print(backtest(strategy, data))\n",
    "        break\n",
    "    #except:\n",
    "    #    pass"
   ]
  }
 ],
 "metadata": {
  "kernelspec": {
   "display_name": "Python 3 (ipykernel)",
   "language": "python",
   "name": "python3"
  },
  "language_info": {
   "codemirror_mode": {
    "name": "ipython",
    "version": 3
   },
   "file_extension": ".py",
   "mimetype": "text/x-python",
   "name": "python",
   "nbconvert_exporter": "python",
   "pygments_lexer": "ipython3",
   "version": "3.10.5"
  }
 },
 "nbformat": 4,
 "nbformat_minor": 5
}
